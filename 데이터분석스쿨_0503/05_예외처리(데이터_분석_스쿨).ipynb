{
  "nbformat": 4,
  "nbformat_minor": 0,
  "metadata": {
    "colab": {
      "provenance": []
    },
    "kernelspec": {
      "name": "python3",
      "display_name": "Python 3"
    },
    "language_info": {
      "name": "python"
    }
  },
  "cells": [
    {
      "cell_type": "markdown",
      "source": [
        "# 05. 예외처리\n",
        "\n",
        "오류가 나면 파이썬은 에러가 나서 -> 수행이 중지가 됩니다.\n",
        "1. 중지 되지 않고 수행\n",
        "2. 예외적인 부분이나 에러를 좀더 효과적으로\n",
        "3. 기타\n",
        "\n",
        "[오류의 종류]\n",
        "* 프로그램 실행 전에 발생\n",
        "* 프로그램 실행 중에 발생\n",
        "\n",
        "[예시]\n",
        "* ML 모델 돌리는데 데이터에 Null값이 있을때 \n",
        "* 크롤링시에 URL주소를 잘못 입력했을때\n",
        "* 숫자형 대신에 누군가 문자형을 입력했을때\n"
      ],
      "metadata": {
        "id": "DY-XfuejWZpz"
      }
    },
    {
      "cell_type": "markdown",
      "source": [
        "## 05-1 Try - except문"
      ],
      "metadata": {
        "id": "7VNt5a7kXBlE"
      }
    },
    {
      "cell_type": "code",
      "source": [
        "# Try except문 예제\n",
        "\n",
        "try:\n",
        "  명령\n",
        "except:\n",
        "  예외 처리 명령"
      ],
      "metadata": {
        "id": "MxqHjvJ2Womp"
      },
      "execution_count": null,
      "outputs": []
    },
    {
      "cell_type": "code",
      "source": [
        "# Try except문 예제\n",
        "try: # 꼭 실행되어야 할 구문\n",
        "  num = int(input('숫자를 입력해주세요'))\n",
        "except: # try가 실행되지 않았을때 except 실행\n",
        "  print(\"숫자 외에 자료형이 입력되었어요\")"
      ],
      "metadata": {
        "colab": {
          "base_uri": "https://localhost:8080/"
        },
        "id": "zsohbMl0XPCR",
        "outputId": "c616bebe-be91-4bcd-caab-06d117ec49c1"
      },
      "execution_count": null,
      "outputs": [
        {
          "output_type": "stream",
          "name": "stdout",
          "text": [
            "숫자를 입력해주세요열\n",
            "숫자 외에 자료형이 입력되었어요\n"
          ]
        }
      ]
    },
    {
      "cell_type": "code",
      "source": [
        "# Try except문 예제\n",
        "try: # 꼭 실행되어야 할 구문\n",
        "  num = int(input('숫자를 입력해주세요'))\n",
        "except ValueError: # try가 실행되지 않았을때 except 실행\n",
        "  print(\"숫자 외에 자료형이 입력되었어요\")"
      ],
      "metadata": {
        "colab": {
          "base_uri": "https://localhost:8080/"
        },
        "id": "DfbCJQ9GXguu",
        "outputId": "03461b0f-b2ce-4248-f815-becebe75cca0"
      },
      "execution_count": null,
      "outputs": [
        {
          "output_type": "stream",
          "name": "stdout",
          "text": [
            "숫자를 입력해주세요열\n",
            "숫자 외에 자료형이 입력되었어요\n"
          ]
        }
      ]
    },
    {
      "cell_type": "code",
      "source": [
        "# 예외 발생\n",
        "def div_num(a,b):\n",
        "  '''나눗셈 결과를 print하는 함수'''\n",
        "  val = a / b\n",
        "  print(val)"
      ],
      "metadata": {
        "id": "KHzjAu-yXs6_"
      },
      "execution_count": null,
      "outputs": []
    },
    {
      "cell_type": "code",
      "source": [
        "def div_num(a,b):\n",
        "  try:\n",
        "    val = a / b\n",
        "    print(val)\n",
        "  except ZeroDivisionError:\n",
        "    print(\"나눗셈의 분모가 0일때는 처리할 수 없습니다.\")"
      ],
      "metadata": {
        "id": "4ciRQ7D5YQFI"
      },
      "execution_count": null,
      "outputs": []
    },
    {
      "cell_type": "code",
      "source": [
        "div_num(3, 0)"
      ],
      "metadata": {
        "colab": {
          "base_uri": "https://localhost:8080/"
        },
        "id": "J9_RTw-IYEf5",
        "outputId": "34c8f53b-fbd0-48cb-f2c6-d90e8e6bedcb"
      },
      "execution_count": null,
      "outputs": [
        {
          "output_type": "stream",
          "name": "stdout",
          "text": [
            "나눗셈의 분모가 0일때는 처리할 수 없습니다.\n"
          ]
        }
      ]
    },
    {
      "cell_type": "markdown",
      "source": [
        "[예외 종류]\n",
        "* AttributeError - 존재하지 않는 속성 지정\n",
        "* IndexError - 존재하지 않는 범위의 인덱스 지정\n",
        "* KeyError - 존재하지 않는 키를 지정\n",
        "* TypeError - 올바르지 않는 타입 지정\n",
        "* ValueError - 올바르지 않는 값 지정\n",
        "* ZeroDivisionError - 0으로 나눔"
      ],
      "metadata": {
        "id": "b5808YCFYgRh"
      }
    },
    {
      "cell_type": "code",
      "source": [
        "def div_num(a,b):\n",
        "  try:\n",
        "    val = a / b\n",
        "    print(val)\n",
        "  except ZeroDivisionError:\n",
        "    print(\"나눗셈의 분모가 0일때는 처리할 수 없습니다.\")\n",
        "  except TypeError:\n",
        "    print(\"연산할수 없는 인수를 지정했습니다. 그래서 처리할 수 없습니다.\")\n",
        "  except Exception:\n",
        "    print(\"알수없는 예외가 발생했습니다.\")"
      ],
      "metadata": {
        "id": "sPaNRIjGYGHd"
      },
      "execution_count": null,
      "outputs": []
    },
    {
      "cell_type": "code",
      "source": [
        "div_num(\"abcdefg\", 2)"
      ],
      "metadata": {
        "colab": {
          "base_uri": "https://localhost:8080/"
        },
        "id": "n4WBsTZ6ZI63",
        "outputId": "7c7df186-d48a-4c5f-eb48-933099e139a9"
      },
      "execution_count": null,
      "outputs": [
        {
          "output_type": "stream",
          "name": "stdout",
          "text": [
            "연산할수 없는 인수를 지정했습니다. 그래서 처리할 수 없습니다.\n"
          ]
        }
      ]
    },
    {
      "cell_type": "code",
      "source": [
        "div_num(7, 0)"
      ],
      "metadata": {
        "colab": {
          "base_uri": "https://localhost:8080/"
        },
        "id": "jDxa-JWjZJOA",
        "outputId": "cb129674-7cb9-4d5b-c0f7-2e55e913d2be"
      },
      "execution_count": null,
      "outputs": [
        {
          "output_type": "stream",
          "name": "stdout",
          "text": [
            "나눗셈의 분모가 0일때는 처리할 수 없습니다.\n"
          ]
        }
      ]
    },
    {
      "cell_type": "code",
      "source": [
        "def div_num(a,b):\n",
        "  try:\n",
        "    val = a / b\n",
        "    print(val)\n",
        "  except ZeroDivisionError as zero:\n",
        "    print(f\"{zero}가 발생했습니다.\")"
      ],
      "metadata": {
        "id": "gL2vhEmhZVJv"
      },
      "execution_count": null,
      "outputs": []
    },
    {
      "cell_type": "code",
      "source": [
        "div_num(7, 0)"
      ],
      "metadata": {
        "colab": {
          "base_uri": "https://localhost:8080/"
        },
        "id": "G5muARFUZmjV",
        "outputId": "7d9b8139-1767-487d-c23c-9aefed589426"
      },
      "execution_count": null,
      "outputs": [
        {
          "output_type": "stream",
          "name": "stdout",
          "text": [
            "division by zero가 발생했습니다.\n"
          ]
        }
      ]
    },
    {
      "cell_type": "markdown",
      "source": [
        "## 06-2 Try-Except-Pass문"
      ],
      "metadata": {
        "id": "KlbaqQMiZ0sv"
      }
    },
    {
      "cell_type": "code",
      "source": [
        "list_1 = [100, \"이백\", 300]\n",
        "\n",
        "list_num = []\n",
        "\n",
        "for i in list_1:\n",
        "  try:\n",
        "    float(i)\n",
        "    list_num.append(i)\n",
        "  except:\n",
        "    pass\n",
        "\n",
        "print(list_1)\n",
        "print(list_num)"
      ],
      "metadata": {
        "colab": {
          "base_uri": "https://localhost:8080/"
        },
        "id": "V09iiu41Zn4e",
        "outputId": "6893ba80-8ad3-4955-bd1d-da102f1a4ad2"
      },
      "execution_count": null,
      "outputs": [
        {
          "output_type": "stream",
          "name": "stdout",
          "text": [
            "[100, '이백', 300]\n",
            "[100, 300]\n"
          ]
        }
      ]
    },
    {
      "cell_type": "code",
      "source": [
        "float(\"이백\")"
      ],
      "metadata": {
        "colab": {
          "base_uri": "https://localhost:8080/",
          "height": 170
        },
        "id": "lcESrn3QaLnw",
        "outputId": "5357bbff-6b1b-4b2b-e5b4-4e91b9d518dc"
      },
      "execution_count": null,
      "outputs": [
        {
          "output_type": "error",
          "ename": "ValueError",
          "evalue": "ignored",
          "traceback": [
            "\u001b[0;31m---------------------------------------------------------------------------\u001b[0m",
            "\u001b[0;31mValueError\u001b[0m                                Traceback (most recent call last)",
            "\u001b[0;32m<ipython-input-18-9fe26fbd0587>\u001b[0m in \u001b[0;36m<cell line: 1>\u001b[0;34m()\u001b[0m\n\u001b[0;32m----> 1\u001b[0;31m \u001b[0mfloat\u001b[0m\u001b[0;34m(\u001b[0m\u001b[0;34m\"이백\"\u001b[0m\u001b[0;34m)\u001b[0m\u001b[0;34m\u001b[0m\u001b[0;34m\u001b[0m\u001b[0m\n\u001b[0m",
            "\u001b[0;31mValueError\u001b[0m: could not convert string to float: '이백'"
          ]
        }
      ]
    },
    {
      "cell_type": "markdown",
      "source": [
        "# 06-3 Try except else문"
      ],
      "metadata": {
        "id": "QKC2aX8baWpB"
      }
    },
    {
      "cell_type": "code",
      "source": [
        "try: #예외가 발생할것 같은 구문\n",
        "  num = int(input(\"숫자를 입력해주세요\"))\n",
        "\n",
        "except: #예외가 발생했을때 출력하는 구문\n",
        "  print(\"숫자가 입력되지 않았습니다.\")\n",
        "\n",
        "else: #예외가 발생하지 않았을때 문장 실행\n",
        "  print(f\"입력된 숫자는 {num} 입니다.\")"
      ],
      "metadata": {
        "colab": {
          "base_uri": "https://localhost:8080/"
        },
        "id": "E1JYveY1aQSC",
        "outputId": "7ee98528-1ab2-49ba-9ca0-09cc8bd519c9"
      },
      "execution_count": null,
      "outputs": [
        {
          "output_type": "stream",
          "name": "stdout",
          "text": [
            "숫자를 입력해주세요10\n",
            "입력된 숫자는 10 입니다.\n"
          ]
        }
      ]
    },
    {
      "cell_type": "markdown",
      "source": [
        "# 06-4 Try-except-else-finally문"
      ],
      "metadata": {
        "id": "AS-mJCaga61g"
      }
    },
    {
      "cell_type": "code",
      "source": [
        "try: #예외가 발생할것 같은 구문\n",
        "  num = int(input(\"숫자를 입력해주세요\"))\n",
        "\n",
        "except: #예외가 발생했을때 출력하는 구문\n",
        "  print(\"숫자가 입력되지 않았습니다.\")\n",
        "\n",
        "else: #예외가 발생하지 않았을때 문장 실행\n",
        "  print(f\"입력된 숫자는 {num} 입니다.\")\n",
        "\n",
        "finally: #무조건 실행\n",
        "  print(\"이 구문은 무조건 실행됩니다.\")"
      ],
      "metadata": {
        "colab": {
          "base_uri": "https://localhost:8080/"
        },
        "id": "mrHXqmX1amlM",
        "outputId": "bd8d5c88-d3b7-416f-f256-efe068e8411d"
      },
      "execution_count": null,
      "outputs": [
        {
          "output_type": "stream",
          "name": "stdout",
          "text": [
            "숫자를 입력해주세요백\n",
            "숫자가 입력되지 않았습니다.\n",
            "이 구문은 무조건 실행됩니다.\n"
          ]
        }
      ]
    },
    {
      "cell_type": "code",
      "source": [
        "def div_num(a, b):\n",
        "  val = a / b\n",
        "  rint(\"나눗셈 결과: {}\".format(val))"
      ],
      "metadata": {
        "id": "91qXWOtKbVS4"
      },
      "execution_count": null,
      "outputs": []
    },
    {
      "cell_type": "code",
      "source": [
        "def div_num(a, b):\n",
        "    try:\n",
        "        val = a / b\n",
        "        print(\"나눗셈 결과: {}\".format(val))\n",
        "    except:\n",
        "        print(\"예외가 발생했습니다.\")\n",
        "    else:\n",
        "        print(\"처리를 정상 종료했습니다.\")\n",
        "    finally:\n",
        "        print(\"처리를 종료했습니다.\")\n",
        "\n",
        "\n",
        "print('----- 정상 처리 시 -----')\n",
        "div_num(4, 2)\n",
        "print('----- 예외 발생 시 -----')\n",
        "div_num(10, 0)"
      ],
      "metadata": {
        "id": "DPcKBroTbE6l"
      },
      "execution_count": null,
      "outputs": []
    },
    {
      "cell_type": "markdown",
      "source": [
        "#05-5 사용자 정의 예외처리하기"
      ],
      "metadata": {
        "id": "JK2qoYoDbk8D"
      }
    },
    {
      "cell_type": "code",
      "source": [
        "class MyError(Exception): #새로운 오류를 정의하려면 Exception을 상속해야함\n",
        "  pass\n",
        "\n",
        "try: #예외가 발생할거같은 구문\n",
        "  num = int(input(\"숫자를 입력해주세요\"))\n",
        "except: #예외가 발생했을때\n",
        "  print(\"숫자가 입력되지 않았습니다.\")\n",
        "  raise MyError\n",
        "except MyError:\n",
        "  print(\"숫자가 입력되지 않아 MyError 호출 하였습니다.\")\n",
        "else: #예외가 발생되지 않았을때 문장 실행\n",
        "  print(\"입력된 숫자는\", num, \"입니다\")\n",
        "finally:\n",
        "  print(\"이 구문은 무조건 실행됩니다.\")"
      ],
      "metadata": {
        "id": "IBgwpgNsbotg"
      },
      "execution_count": null,
      "outputs": []
    },
    {
      "cell_type": "markdown",
      "source": [
        "# 05-6 raise 구문"
      ],
      "metadata": {
        "id": "pUD9nW-ub0Hr"
      }
    },
    {
      "cell_type": "code",
      "source": [
        "import numbers\n",
        "\n",
        "def caltime(num):\n",
        "  if not isinstance(num, numbers.Number):\n",
        "    raise TypeError(\"파라미터가 올바르지 않습니다.\")\n",
        "\n",
        "  return num * 10\n",
        "\n",
        "val = caltime(\"백\")\n",
        "print(val)"
      ],
      "metadata": {
        "colab": {
          "base_uri": "https://localhost:8080/",
          "height": 351
        },
        "id": "-nH6esg5bzc1",
        "outputId": "34d6be9b-e74a-4825-db56-176989d68e44"
      },
      "execution_count": null,
      "outputs": [
        {
          "output_type": "error",
          "ename": "TypeError",
          "evalue": "ignored",
          "traceback": [
            "\u001b[0;31m---------------------------------------------------------------------------\u001b[0m",
            "\u001b[0;31mTypeError\u001b[0m                                 Traceback (most recent call last)",
            "\u001b[0;32m<ipython-input-25-16e3287c31f5>\u001b[0m in \u001b[0;36m<cell line: 9>\u001b[0;34m()\u001b[0m\n\u001b[1;32m      7\u001b[0m   \u001b[0;32mreturn\u001b[0m \u001b[0mnum\u001b[0m \u001b[0;34m*\u001b[0m \u001b[0;36m10\u001b[0m\u001b[0;34m\u001b[0m\u001b[0;34m\u001b[0m\u001b[0m\n\u001b[1;32m      8\u001b[0m \u001b[0;34m\u001b[0m\u001b[0m\n\u001b[0;32m----> 9\u001b[0;31m \u001b[0mval\u001b[0m \u001b[0;34m=\u001b[0m \u001b[0mcaltime\u001b[0m\u001b[0;34m(\u001b[0m\u001b[0;34m\"백\"\u001b[0m\u001b[0;34m)\u001b[0m\u001b[0;34m\u001b[0m\u001b[0;34m\u001b[0m\u001b[0m\n\u001b[0m\u001b[1;32m     10\u001b[0m \u001b[0mprint\u001b[0m\u001b[0;34m(\u001b[0m\u001b[0mval\u001b[0m\u001b[0;34m)\u001b[0m\u001b[0;34m\u001b[0m\u001b[0;34m\u001b[0m\u001b[0m\n",
            "\u001b[0;32m<ipython-input-25-16e3287c31f5>\u001b[0m in \u001b[0;36mcaltime\u001b[0;34m(num)\u001b[0m\n\u001b[1;32m      3\u001b[0m \u001b[0;32mdef\u001b[0m \u001b[0mcaltime\u001b[0m\u001b[0;34m(\u001b[0m\u001b[0mnum\u001b[0m\u001b[0;34m)\u001b[0m\u001b[0;34m:\u001b[0m\u001b[0;34m\u001b[0m\u001b[0;34m\u001b[0m\u001b[0m\n\u001b[1;32m      4\u001b[0m   \u001b[0;32mif\u001b[0m \u001b[0;32mnot\u001b[0m \u001b[0misinstance\u001b[0m\u001b[0;34m(\u001b[0m\u001b[0mnum\u001b[0m\u001b[0;34m,\u001b[0m \u001b[0mnumbers\u001b[0m\u001b[0;34m.\u001b[0m\u001b[0mNumber\u001b[0m\u001b[0;34m)\u001b[0m\u001b[0;34m:\u001b[0m\u001b[0;34m\u001b[0m\u001b[0;34m\u001b[0m\u001b[0m\n\u001b[0;32m----> 5\u001b[0;31m     \u001b[0;32mraise\u001b[0m \u001b[0mTypeError\u001b[0m\u001b[0;34m(\u001b[0m\u001b[0;34m\"파라미터가 올바르지 않습니다.\"\u001b[0m\u001b[0;34m)\u001b[0m\u001b[0;34m\u001b[0m\u001b[0;34m\u001b[0m\u001b[0m\n\u001b[0m\u001b[1;32m      6\u001b[0m \u001b[0;34m\u001b[0m\u001b[0m\n\u001b[1;32m      7\u001b[0m   \u001b[0;32mreturn\u001b[0m \u001b[0mnum\u001b[0m \u001b[0;34m*\u001b[0m \u001b[0;36m10\u001b[0m\u001b[0;34m\u001b[0m\u001b[0;34m\u001b[0m\u001b[0m\n",
            "\u001b[0;31mTypeError\u001b[0m: 파라미터가 올바르지 않습니다."
          ]
        }
      ]
    },
    {
      "cell_type": "markdown",
      "source": [
        "## 05-7 맛집 관리 연습문제\n",
        "\n",
        "예외처리에 익숙해 진다는것에 의의를 두고 작성\n",
        "\n",
        "* 예외처리1 - 손님이 주문할 수 있는 최대 주문량은 2개 2개를 넘으면 최대 주문 에러 출력\n",
        "* 예외처리2 - 1보다 작거나 숫자가 아닌값이 들어오면 정수가 들어오지 않았습니다 값 에러 출력\n",
        "* 예외처리3 - 케이크가 다 떨어지면 Sold Out 에러 **출력**"
      ],
      "metadata": {
        "id": "1hN38BHScmFw"
      }
    },
    {
      "cell_type": "code",
      "source": [
        "cake = 4\n",
        "waiting = 1\n",
        "i = 0\n",
        "\n",
        "while i < 20:\n",
        "  try:\n",
        "    print(\"남은 케이크는\", cake, \"입니다\")\n",
        "    order = int(input(\"손님 케이크 몇개 주문하시나요?\"))\n",
        "    if order > cake: #케이크가 주문된것보다 갯수가 적을때 \n",
        "      print(\"손님 남은 케익이\", cake,\"라서 주문이 불가하세요\")\n",
        "    \n",
        "    elif order <= 0: #값이 음수거나 주문하지않은 0개일때는 Value Error 산출하고 빠져나옴(break)\n",
        "      raise ValueError\n",
        "      break\n",
        "\n",
        "    elif cake == 0:\n",
        "      raise SoldOutError\n",
        "      break\n",
        "\n",
        "    elif order >= 3:\n",
        "      raise MaxOrderError\n",
        "      break\n",
        "\n",
        "    else:\n",
        "      print(\"케익\", cake,\"개 포장해주세요\")\n",
        "      waiting += 1\n",
        "      cake -= order #주문 수 만큼 케이스 감소\n",
        "      i += order\n",
        "\n",
        "  except ValueError:\n",
        "    print(\"잘못된 값을 입력했습니다.\")\n",
        "    break"
      ],
      "metadata": {
        "colab": {
          "base_uri": "https://localhost:8080/",
          "height": 279
        },
        "id": "p-loDQjZcOGi",
        "outputId": "23dac0cc-4e94-4256-c2ee-c2d3825fc044"
      },
      "execution_count": null,
      "outputs": [
        {
          "name": "stdout",
          "output_type": "stream",
          "text": [
            "남은 케이크는 4 입니다\n",
            "손님 케이크 몇개 주문하시나요?3\n"
          ]
        },
        {
          "output_type": "error",
          "ename": "NameError",
          "evalue": "ignored",
          "traceback": [
            "\u001b[0;31m---------------------------------------------------------------------------\u001b[0m",
            "\u001b[0;31mNameError\u001b[0m                                 Traceback (most recent call last)",
            "\u001b[0;32m<ipython-input-39-deaa34f6256e>\u001b[0m in \u001b[0;36m<cell line: 5>\u001b[0;34m()\u001b[0m\n\u001b[1;32m     19\u001b[0m \u001b[0;34m\u001b[0m\u001b[0m\n\u001b[1;32m     20\u001b[0m     \u001b[0;32melif\u001b[0m \u001b[0morder\u001b[0m \u001b[0;34m>=\u001b[0m \u001b[0;36m3\u001b[0m\u001b[0;34m:\u001b[0m\u001b[0;34m\u001b[0m\u001b[0;34m\u001b[0m\u001b[0m\n\u001b[0;32m---> 21\u001b[0;31m       \u001b[0;32mraise\u001b[0m \u001b[0mMaxOrderError\u001b[0m\u001b[0;34m\u001b[0m\u001b[0;34m\u001b[0m\u001b[0m\n\u001b[0m\u001b[1;32m     22\u001b[0m       \u001b[0;32mbreak\u001b[0m\u001b[0;34m\u001b[0m\u001b[0;34m\u001b[0m\u001b[0m\n\u001b[1;32m     23\u001b[0m \u001b[0;34m\u001b[0m\u001b[0m\n",
            "\u001b[0;31mNameError\u001b[0m: name 'MaxOrderError' is not defined"
          ]
        }
      ]
    },
    {
      "cell_type": "code",
      "source": [
        "cake = 20\n",
        "waiting = 1\n",
        "i = 0\n",
        "\n",
        "while i < 20:\n",
        "  try:\n",
        "    print(\"남은 케이크는\", cake, \"입니다\")\n",
        "    order = int(input(\"손님 케이크 몇개 주문하시나요?\"))\n",
        "    \n",
        "    if order > cake:\n",
        "      print(\"손님 남은 케익이\", cake,\"라서 주문이 불가하세요\")\n",
        "    \n",
        "    elif order <= 0: #값이 음수거나 주문하지 않은 0개일때때\n",
        "      raise ValueError\n",
        "      break\n",
        "    \n",
        "    elif cake == 0:\n",
        "      raise SoldOutError\n",
        "      break\n",
        "\n",
        "    elif order >= 3:\n",
        "      raise MaxOrderError\n",
        "      break\n",
        "\n",
        "    else:\n",
        "      print(\"케익\", cake,\"개 포장해주세요\")\n",
        "      waiting += 1\n",
        "      cake -= order #주문 수 만큼 케이스 감소\n",
        "      i += order\n",
        "  except ValueError:\n",
        "    print('잘못된 값을 입력했습니다다')"
      ],
      "metadata": {
        "colab": {
          "base_uri": "https://localhost:8080/",
          "height": 279
        },
        "id": "77pczQqgczV0",
        "outputId": "401204d2-c56c-489e-b27f-422492c5ca2b"
      },
      "execution_count": null,
      "outputs": [
        {
          "name": "stdout",
          "output_type": "stream",
          "text": [
            "남은 케이크는 20 입니다\n",
            "손님 케이크 몇개 주문하시나요?3\n"
          ]
        },
        {
          "output_type": "error",
          "ename": "NameError",
          "evalue": "ignored",
          "traceback": [
            "\u001b[0;31m---------------------------------------------------------------------------\u001b[0m",
            "\u001b[0;31mNameError\u001b[0m                                 Traceback (most recent call last)",
            "\u001b[0;32m<ipython-input-38-d00ca5d393df>\u001b[0m in \u001b[0;36m<cell line: 5>\u001b[0;34m()\u001b[0m\n\u001b[1;32m     20\u001b[0m \u001b[0;34m\u001b[0m\u001b[0m\n\u001b[1;32m     21\u001b[0m     \u001b[0;32melif\u001b[0m \u001b[0morder\u001b[0m \u001b[0;34m>=\u001b[0m \u001b[0;36m3\u001b[0m\u001b[0;34m:\u001b[0m\u001b[0;34m\u001b[0m\u001b[0;34m\u001b[0m\u001b[0m\n\u001b[0;32m---> 22\u001b[0;31m       \u001b[0;32mraise\u001b[0m \u001b[0mMaxOrderError\u001b[0m\u001b[0;34m\u001b[0m\u001b[0;34m\u001b[0m\u001b[0m\n\u001b[0m\u001b[1;32m     23\u001b[0m       \u001b[0;32mbreak\u001b[0m\u001b[0;34m\u001b[0m\u001b[0;34m\u001b[0m\u001b[0m\n\u001b[1;32m     24\u001b[0m \u001b[0;34m\u001b[0m\u001b[0m\n",
            "\u001b[0;31mNameError\u001b[0m: name 'MaxOrderError' is not defined"
          ]
        }
      ]
    },
    {
      "cell_type": "code",
      "source": [
        "# 연습문제 1. 실행결과로 가장 마지막에 출력되는 값은?\n",
        "\n",
        "sentence = list(\"hello world\")\n",
        "\n",
        "while (len(sentence) + 1):\n",
        "  try:\n",
        "    print(sentence.pop(0))\n",
        "  except Exception as e:\n",
        "    print(e)\n",
        "    break\n",
        "\n",
        "#1. h\n",
        "#2. o\n",
        "#3. 공백\n",
        "#4. error\n",
        "#5. dlrow olleh"
      ],
      "metadata": {
        "colab": {
          "base_uri": "https://localhost:8080/"
        },
        "id": "OHcywR6chTPN",
        "outputId": "eb6e35ad-3d0b-48f5-88a8-18f75c40bab4"
      },
      "execution_count": null,
      "outputs": [
        {
          "output_type": "stream",
          "name": "stdout",
          "text": [
            "h\n",
            "e\n",
            "l\n",
            "l\n",
            "o\n",
            " \n",
            "w\n",
            "o\n",
            "r\n",
            "l\n",
            "d\n",
            "pop from empty list\n"
          ]
        }
      ]
    },
    {
      "cell_type": "markdown",
      "source": [
        "pop from empty list는 IndexError 예외 메시지의 일부분으로, pop() 메서드가 빈 리스트에서 값을 꺼낼 때 발생하는 예외를 의미합니다.\n",
        "\n",
        "따라서 위 코드에서 sentence.pop(0)를 호출할 때, sentence 리스트가 빈 리스트가 되면 pop() 메서드는 IndexError 예외를 발생시키고, 이 예외 메시지가 except 블록에서 출력됩니다.\n",
        "\n",
        "즉, pop from empty list는 IndexError 예외 메시지의 일부로, sentence 리스트가 빈 리스트가 되면 마지막으로 출력되는 메시지입니다."
      ],
      "metadata": {
        "id": "-8GH8LpZzyVQ"
      }
    },
    {
      "cell_type": "code",
      "source": [
        "# 연습문제 2. 다음실행결과는?\n",
        "# 1) try 안에 있는 문장이 어떻게 실행되는가?\n",
        "# 2) try가 아닌경우 어떤 문장/예외처리가 실행되는가\n",
        "#   2-1) except\n",
        "#.  2-2) finally\n",
        "\n",
        "try:\n",
        "  for i in range(1,7):\n",
        "    result = 7 // i # 나눗셈 결과 int # 7 3 2 1 1 1\n",
        "    print(result)\n",
        "except ZeroDivisionError:\n",
        "  print(\"Not divided by 0\")\n",
        "finally: # 위의 문장 상관없이 무조건 실행된다.\n",
        "  print(\"종료되었습니다.\")\n",
        "\n",
        "# 1. 7 3 2 1 1 1\n",
        "# 2. 7 3 2 1 1 1 Not divided by 0\n",
        "# 3. 7 3 2 1 1 1 종료되었습니다.\n",
        "# 4. 7 3 2 1 1 1 Not divided by 0 종료되었습니다.\n",
        "# 5. Not divided by 0 종료되었습니다."
      ],
      "metadata": {
        "colab": {
          "base_uri": "https://localhost:8080/"
        },
        "id": "SF153o7DzyqF",
        "outputId": "40f97232-2d07-4d16-a202-b1a2a05e1bbd"
      },
      "execution_count": null,
      "outputs": [
        {
          "output_type": "stream",
          "name": "stdout",
          "text": [
            "7\n",
            "3\n",
            "2\n",
            "1\n",
            "1\n",
            "1\n",
            "종료되었습니다.\n"
          ]
        }
      ]
    },
    {
      "cell_type": "code",
      "source": [
        "# 연습문제 3\n",
        "import random\n",
        "\banswer = random.randint(1, 10)\n",
        "\n",
        "def guess_number(answer):\n",
        "  try:\n",
        "    guess = int(input(\"숫자를 넣어주세요 : \"))\n",
        "    if answer == guess:\n",
        "      print(\"정답 !\")\n",
        "    else:\n",
        "      print(\"오답 !\")\n",
        "  except ValueError:\n",
        "    print(\"숫자가 아닙니다.\")\n",
        "\n",
        "guess_number(answer) #hello를 입력한다면?\n",
        "\n",
        "#1. 정답!\n",
        "#2. 오답!\n",
        "#3. 숫자가 아닙니다\n",
        "#4. NameError\n",
        "#5. ValueError"
      ],
      "metadata": {
        "colab": {
          "base_uri": "https://localhost:8080/",
          "height": 134
        },
        "id": "Tn0xr_Rf0yqt",
        "outputId": "f55c9679-e59a-43ee-93fb-0d52206e2d67"
      },
      "execution_count": null,
      "outputs": [
        {
          "output_type": "error",
          "ename": "SyntaxError",
          "evalue": "ignored",
          "traceback": [
            "\u001b[0;36m  File \u001b[0;32m\"<ipython-input-42-e82db30e8e98>\"\u001b[0;36m, line \u001b[0;32m3\u001b[0m\n\u001b[0;31m    \banswer = random.randint(1, 10)\u001b[0m\n\u001b[0m    ^\u001b[0m\n\u001b[0;31mSyntaxError\u001b[0m\u001b[0;31m:\u001b[0m invalid syntax\n"
          ]
        }
      ]
    },
    {
      "cell_type": "code",
      "source": [
        "import random\n",
        "\banswer = random.randint(1, 10)\n",
        "\n",
        "def guess_number(answer):\n",
        "  try:\n",
        "    guess = int(input(\"숫자를 넣어주세요 : \"))\n",
        "    if answer == guess:\n",
        "      print(\"정답 !\")\n",
        "    else:\n",
        "      print(\"오답 !\")\n",
        "  except ValueError:\n",
        "    print(\"숫자가 아닙니다.\")\n",
        "\n",
        "guess_number(answer)"
      ],
      "metadata": {
        "colab": {
          "base_uri": "https://localhost:8080/",
          "height": 134
        },
        "id": "Bid8Xk1p1iG1",
        "outputId": "4adfd70c-299d-4fe2-f730-1ae460ccd2bf"
      },
      "execution_count": null,
      "outputs": [
        {
          "output_type": "error",
          "ename": "SyntaxError",
          "evalue": "ignored",
          "traceback": [
            "\u001b[0;36m  File \u001b[0;32m\"<ipython-input-43-c0d1ded34098>\"\u001b[0;36m, line \u001b[0;32m1\u001b[0m\n\u001b[0;31m    import random from randint\u001b[0m\n\u001b[0m                  ^\u001b[0m\n\u001b[0;31mSyntaxError\u001b[0m\u001b[0;31m:\u001b[0m invalid syntax\n"
          ]
        }
      ]
    },
    {
      "cell_type": "code",
      "source": [
        "# 연습문제 4 실행결과로 알맞은 것은?\n",
        "\n",
        "for i in range(3):\n",
        "  try:\n",
        "    print(i, 3//i)\n",
        "  except ZeroDivisionError:\n",
        "    print(\"Not divided by 0\")\n",
        "\n",
        "#1. 1 3\n",
        "#   2 1\n",
        "\n",
        "#2. Not divided by 0\n",
        "#   1 3\n",
        "#   2 1\n",
        "\n",
        "#3. 0 0\n",
        "\n",
        "#4. Not divided by 0\n",
        "\n",
        "#5. 0 0\n",
        "#   1 3\n",
        "#   2 1\n"
      ],
      "metadata": {
        "id": "-8dvlm2T1cd_"
      },
      "execution_count": null,
      "outputs": []
    }
  ]
}