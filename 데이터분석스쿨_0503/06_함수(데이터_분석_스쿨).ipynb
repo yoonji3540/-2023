{
  "nbformat": 4,
  "nbformat_minor": 0,
  "metadata": {
    "colab": {
      "provenance": []
    },
    "kernelspec": {
      "name": "python3",
      "display_name": "Python 3"
    },
    "language_info": {
      "name": "python"
    }
  },
  "cells": [
    {
      "cell_type": "markdown",
      "source": [
        "# 1. 함수 복습\n",
        "\n",
        "함수를 복습해봅시다. \n",
        "\n",
        "함수부터는 데이터 분석, 특히 머신러닝과 딥러닝을 활용할때에 많이 사용되므로 다시 복습해보면서 제대로 배워 나가도록 하겠습니다. \n",
        " \n",
        " * 코드의 재사용\n",
        " * 코드의 용도 구분\n",
        " * 실수 최소화\n"
      ],
      "metadata": {
        "id": "c70bScff2wMA"
      }
    },
    {
      "cell_type": "code",
      "execution_count": null,
      "metadata": {
        "id": "InD-IOdt2aRC"
      },
      "outputs": [],
      "source": [
        "# 함수 예제 1 - 함수 생성\n",
        "\n",
        "def print_coin():\n",
        "  print(\"비트코인\")"
      ]
    },
    {
      "cell_type": "code",
      "source": [
        "# 함수 예제 1 - 함수 호출\n",
        "\n",
        "print_coin() # => \"비트코인\""
      ],
      "metadata": {
        "colab": {
          "base_uri": "https://localhost:8080/"
        },
        "id": "SFcQa6r43XSn",
        "outputId": "83f161f8-ebad-42a9-8a91-93a90c2e9974"
      },
      "execution_count": null,
      "outputs": [
        {
          "output_type": "stream",
          "name": "stdout",
          "text": [
            "비트코인\n"
          ]
        }
      ]
    },
    {
      "cell_type": "code",
      "source": [
        "# 함수 예제 2 - 함수 반복\n",
        "\n",
        "for i in range(100):\n",
        "  print_coin()"
      ],
      "metadata": {
        "colab": {
          "base_uri": "https://localhost:8080/"
        },
        "id": "LIF8NoPf3h7J",
        "outputId": "1d42ddda-7824-4ccc-f11c-0372eb2daa54"
      },
      "execution_count": null,
      "outputs": [
        {
          "output_type": "stream",
          "name": "stdout",
          "text": [
            "비트코인\n",
            "비트코인\n",
            "비트코인\n",
            "비트코인\n",
            "비트코인\n",
            "비트코인\n",
            "비트코인\n",
            "비트코인\n",
            "비트코인\n",
            "비트코인\n",
            "비트코인\n",
            "비트코인\n",
            "비트코인\n",
            "비트코인\n",
            "비트코인\n",
            "비트코인\n",
            "비트코인\n",
            "비트코인\n",
            "비트코인\n",
            "비트코인\n",
            "비트코인\n",
            "비트코인\n",
            "비트코인\n",
            "비트코인\n",
            "비트코인\n",
            "비트코인\n",
            "비트코인\n",
            "비트코인\n",
            "비트코인\n",
            "비트코인\n",
            "비트코인\n",
            "비트코인\n",
            "비트코인\n",
            "비트코인\n",
            "비트코인\n",
            "비트코인\n",
            "비트코인\n",
            "비트코인\n",
            "비트코인\n",
            "비트코인\n",
            "비트코인\n",
            "비트코인\n",
            "비트코인\n",
            "비트코인\n",
            "비트코인\n",
            "비트코인\n",
            "비트코인\n",
            "비트코인\n",
            "비트코인\n",
            "비트코인\n",
            "비트코인\n",
            "비트코인\n",
            "비트코인\n",
            "비트코인\n",
            "비트코인\n",
            "비트코인\n",
            "비트코인\n",
            "비트코인\n",
            "비트코인\n",
            "비트코인\n",
            "비트코인\n",
            "비트코인\n",
            "비트코인\n",
            "비트코인\n",
            "비트코인\n",
            "비트코인\n",
            "비트코인\n",
            "비트코인\n",
            "비트코인\n",
            "비트코인\n",
            "비트코인\n",
            "비트코인\n",
            "비트코인\n",
            "비트코인\n",
            "비트코인\n",
            "비트코인\n",
            "비트코인\n",
            "비트코인\n",
            "비트코인\n",
            "비트코인\n",
            "비트코인\n",
            "비트코인\n",
            "비트코인\n",
            "비트코인\n",
            "비트코인\n",
            "비트코인\n",
            "비트코인\n",
            "비트코인\n",
            "비트코인\n",
            "비트코인\n",
            "비트코인\n",
            "비트코인\n",
            "비트코인\n",
            "비트코인\n",
            "비트코인\n",
            "비트코인\n",
            "비트코인\n",
            "비트코인\n",
            "비트코인\n",
            "비트코인\n"
          ]
        }
      ]
    },
    {
      "cell_type": "code",
      "source": [
        "# 함수 예제 3 - 함수를 호출할때 위치\n",
        "\n",
        "print_coin_2()\n",
        "\n",
        "def print_coin_2():\n",
        "  print(\"비트코인 2개\")"
      ],
      "metadata": {
        "colab": {
          "base_uri": "https://localhost:8080/",
          "height": 236
        },
        "id": "I0u3zs7C31Nz",
        "outputId": "b48617e9-83ce-472a-9a1d-067ec67436d4"
      },
      "execution_count": null,
      "outputs": [
        {
          "output_type": "error",
          "ename": "NameError",
          "evalue": "ignored",
          "traceback": [
            "\u001b[0;31m---------------------------------------------------------------------------\u001b[0m",
            "\u001b[0;31mNameError\u001b[0m                                 Traceback (most recent call last)",
            "\u001b[0;32m<ipython-input-6-413e3661ac83>\u001b[0m in \u001b[0;36m<cell line: 3>\u001b[0;34m()\u001b[0m\n\u001b[1;32m      1\u001b[0m \u001b[0;31m# 함수 예제 3 - 함수를 호출할때 위치\u001b[0m\u001b[0;34m\u001b[0m\u001b[0;34m\u001b[0m\u001b[0m\n\u001b[1;32m      2\u001b[0m \u001b[0;34m\u001b[0m\u001b[0m\n\u001b[0;32m----> 3\u001b[0;31m \u001b[0mprint_coin_2\u001b[0m\u001b[0;34m(\u001b[0m\u001b[0;34m)\u001b[0m\u001b[0;34m\u001b[0m\u001b[0;34m\u001b[0m\u001b[0m\n\u001b[0m\u001b[1;32m      4\u001b[0m \u001b[0;34m\u001b[0m\u001b[0m\n\u001b[1;32m      5\u001b[0m \u001b[0;32mdef\u001b[0m \u001b[0mprint_coin_2\u001b[0m\u001b[0;34m(\u001b[0m\u001b[0;34m)\u001b[0m\u001b[0;34m:\u001b[0m\u001b[0;34m\u001b[0m\u001b[0;34m\u001b[0m\u001b[0m\n",
            "\u001b[0;31mNameError\u001b[0m: name 'print_coin_2' is not defined"
          ]
        }
      ]
    },
    {
      "cell_type": "code",
      "source": [
        "# 함수 예제 4 - 연습 문제 1\n",
        "\n",
        "def message():\n",
        "  print('A')\n",
        "  print('B')\n",
        "\n",
        "message()  # A, B\n",
        "print('C') # C\n",
        "message()  # A, B\n",
        "\n"
      ],
      "metadata": {
        "colab": {
          "base_uri": "https://localhost:8080/"
        },
        "id": "F15Vu4Px4RjM",
        "outputId": "602c6a2d-0687-4493-f3fe-084d75d63dfe"
      },
      "execution_count": null,
      "outputs": [
        {
          "output_type": "stream",
          "name": "stdout",
          "text": [
            "A\n",
            "B\n",
            "C\n",
            "A\n",
            "B\n"
          ]
        }
      ]
    },
    {
      "cell_type": "code",
      "source": [
        "# 함수 예제 5 - 연습 문제 2\n",
        "# 이렇게 사용하면 함수가 헷갈리게 됨\n",
        "\n",
        "print('A') #1\n",
        "\n",
        "def message():\n",
        "  print(\"B\")\n",
        "\n",
        "print('C') #2\n",
        " \n",
        "message()  #3"
      ],
      "metadata": {
        "id": "J7d8MAX-498K"
      },
      "execution_count": null,
      "outputs": []
    },
    {
      "cell_type": "code",
      "source": [
        "# 함수 예제 6 - 연습 문제 3\n",
        "\n",
        "print('A')\n",
        "\n",
        "def message1():\n",
        "  print('B')\n",
        "\n",
        "print('C')\n",
        "\n",
        "def message2():\n",
        "  print(\"D\")\n",
        "\n",
        "message1()\n",
        "print('E')\n",
        "message2()"
      ],
      "metadata": {
        "colab": {
          "base_uri": "https://localhost:8080/"
        },
        "id": "KZxRzoMZ52xQ",
        "outputId": "05ad6efa-1fea-4493-f1ff-0da9032649f7"
      },
      "execution_count": null,
      "outputs": [
        {
          "output_type": "stream",
          "name": "stdout",
          "text": [
            "A\n",
            "C\n",
            "B\n",
            "E\n",
            "D\n"
          ]
        }
      ]
    },
    {
      "cell_type": "code",
      "source": [
        "# 함수 예제 7 - 연습 문제 4\n",
        "\n",
        "def message1():\n",
        "  print('A')\n",
        "\n",
        "def message2():\n",
        "  print('B')\n",
        "  message1() # -> print('A')\n",
        "\n",
        "message2()"
      ],
      "metadata": {
        "colab": {
          "base_uri": "https://localhost:8080/"
        },
        "id": "-oUP-Oo_6Or8",
        "outputId": "07713638-0f8d-4429-d056-8024ea79a7b7"
      },
      "execution_count": null,
      "outputs": [
        {
          "output_type": "stream",
          "name": "stdout",
          "text": [
            "B\n",
            "A\n"
          ]
        }
      ]
    },
    {
      "cell_type": "code",
      "source": [
        "# 함수 예제 8 - 연습 문제 5\n",
        "\n",
        "def message1():\n",
        "  print('A')\n",
        "\n",
        "def message2():\n",
        "  print('B')\n",
        "\n",
        "def message3():\n",
        "  for i in range(3):\n",
        "    message2() # print('B')\n",
        "    print('C')\n",
        "  message1() # print('A')\n",
        "\n",
        "message3()"
      ],
      "metadata": {
        "colab": {
          "base_uri": "https://localhost:8080/"
        },
        "id": "5pm8wNO46znB",
        "outputId": "039013d6-764b-4456-94c6-10b3c21e0e8c"
      },
      "execution_count": null,
      "outputs": [
        {
          "output_type": "stream",
          "name": "stdout",
          "text": [
            "B\n",
            "C\n",
            "B\n",
            "C\n",
            "B\n",
            "C\n",
            "A\n"
          ]
        }
      ]
    },
    {
      "cell_type": "code",
      "source": [
        "# 함수 예제 9 - 숫자형 연습\n",
        "# 함수안에 있는 변수는 바깥에서 사용할 수가 없다는 것을 !!!\n",
        "\n",
        "def num(a, b): # a, b를 활용하는 함수 num\n",
        "  print(a + b) # 위에서 언급한 a, b는 밑에서 사용해 주셔야 합니다."
      ],
      "metadata": {
        "id": "YhtoK78h77h_"
      },
      "execution_count": null,
      "outputs": []
    },
    {
      "cell_type": "code",
      "source": [
        "#num(a, b)\n",
        "num(3, 4)"
      ],
      "metadata": {
        "colab": {
          "base_uri": "https://localhost:8080/"
        },
        "id": "haMyYOFY8XHd",
        "outputId": "39c4a83b-fd47-42d4-b876-0dc734ed1f0a"
      },
      "execution_count": null,
      "outputs": [
        {
          "output_type": "stream",
          "name": "stdout",
          "text": [
            "7\n"
          ]
        }
      ]
    },
    {
      "cell_type": "code",
      "source": [
        "# 함수 예제 10 - 숫자형 문자형 같이 사용했을때\n",
        "\n",
        "def num_str(a, b):\n",
        "  print(a + b)\n",
        "\n",
        "num_str(\"안녕\", 3)"
      ],
      "metadata": {
        "colab": {
          "base_uri": "https://localhost:8080/",
          "height": 323
        },
        "id": "SzLPz0vu8QbV",
        "outputId": "66d4c15b-3df0-47aa-a17f-e2c3602ad88a"
      },
      "execution_count": null,
      "outputs": [
        {
          "output_type": "error",
          "ename": "TypeError",
          "evalue": "ignored",
          "traceback": [
            "\u001b[0;31m---------------------------------------------------------------------------\u001b[0m",
            "\u001b[0;31mTypeError\u001b[0m                                 Traceback (most recent call last)",
            "\u001b[0;32m<ipython-input-15-78a1d82a3f57>\u001b[0m in \u001b[0;36m<cell line: 6>\u001b[0;34m()\u001b[0m\n\u001b[1;32m      4\u001b[0m   \u001b[0mprint\u001b[0m\u001b[0;34m(\u001b[0m\u001b[0ma\u001b[0m \u001b[0;34m+\u001b[0m \u001b[0mb\u001b[0m\u001b[0;34m)\u001b[0m\u001b[0;34m\u001b[0m\u001b[0;34m\u001b[0m\u001b[0m\n\u001b[1;32m      5\u001b[0m \u001b[0;34m\u001b[0m\u001b[0m\n\u001b[0;32m----> 6\u001b[0;31m \u001b[0mnum_str\u001b[0m\u001b[0;34m(\u001b[0m\u001b[0;34m\"안녕\"\u001b[0m\u001b[0;34m,\u001b[0m \u001b[0;36m3\u001b[0m\u001b[0;34m)\u001b[0m\u001b[0;34m\u001b[0m\u001b[0;34m\u001b[0m\u001b[0m\n\u001b[0m",
            "\u001b[0;32m<ipython-input-15-78a1d82a3f57>\u001b[0m in \u001b[0;36mnum_str\u001b[0;34m(a, b)\u001b[0m\n\u001b[1;32m      2\u001b[0m \u001b[0;34m\u001b[0m\u001b[0m\n\u001b[1;32m      3\u001b[0m \u001b[0;32mdef\u001b[0m \u001b[0mnum_str\u001b[0m\u001b[0;34m(\u001b[0m\u001b[0ma\u001b[0m\u001b[0;34m,\u001b[0m \u001b[0mb\u001b[0m\u001b[0;34m)\u001b[0m\u001b[0;34m:\u001b[0m\u001b[0;34m\u001b[0m\u001b[0;34m\u001b[0m\u001b[0m\n\u001b[0;32m----> 4\u001b[0;31m   \u001b[0mprint\u001b[0m\u001b[0;34m(\u001b[0m\u001b[0ma\u001b[0m \u001b[0;34m+\u001b[0m \u001b[0mb\u001b[0m\u001b[0;34m)\u001b[0m\u001b[0;34m\u001b[0m\u001b[0;34m\u001b[0m\u001b[0m\n\u001b[0m\u001b[1;32m      5\u001b[0m \u001b[0;34m\u001b[0m\u001b[0m\n\u001b[1;32m      6\u001b[0m \u001b[0mnum_str\u001b[0m\u001b[0;34m(\u001b[0m\u001b[0;34m\"안녕\"\u001b[0m\u001b[0;34m,\u001b[0m \u001b[0;36m3\u001b[0m\u001b[0;34m)\u001b[0m\u001b[0;34m\u001b[0m\u001b[0;34m\u001b[0m\u001b[0m\n",
            "\u001b[0;31mTypeError\u001b[0m: can only concatenate str (not \"int\") to str"
          ]
        }
      ]
    },
    {
      "cell_type": "code",
      "source": [
        "# 함수 예제 11 - 문자형 입력받는 경우\n",
        "def print_with_smile(string):\n",
        "  print(string + \":)\")\n",
        "\n",
        "print_with_smile(\"안녕하세요\")"
      ],
      "metadata": {
        "colab": {
          "base_uri": "https://localhost:8080/"
        },
        "id": "nLBzoGFMAY1e",
        "outputId": "db58fd91-77e2-46da-fa88-2e6a068dbbe9"
      },
      "execution_count": null,
      "outputs": [
        {
          "output_type": "stream",
          "name": "stdout",
          "text": [
            "안녕하세요:)\n"
          ]
        }
      ]
    },
    {
      "cell_type": "code",
      "source": [
        "# 함수 예제 12 - 덧셈 \n",
        "def print_upper_price(price):\n",
        "  print(price * 1.3)\n",
        "\n",
        "print_upper_price(300)"
      ],
      "metadata": {
        "colab": {
          "base_uri": "https://localhost:8080/"
        },
        "id": "R0NfvUjJA1WJ",
        "outputId": "f7c1cc02-1863-4efb-cc67-9ce2d84a6a2b"
      },
      "execution_count": null,
      "outputs": [
        {
          "output_type": "stream",
          "name": "stdout",
          "text": [
            "390.0\n"
          ]
        }
      ]
    },
    {
      "cell_type": "code",
      "source": [
        "# 함수 예제 13 - 두수의 합/차이/곱셈/나눗셈 을 출력하는 함수\n",
        "\n",
        "def ex_13(a,b):\n",
        "  print(a + b)\n",
        "  print(a - b)\n",
        "  print(a * b)\n",
        "  print(a / b)"
      ],
      "metadata": {
        "id": "aFmSUhV9BCe9"
      },
      "execution_count": null,
      "outputs": []
    },
    {
      "cell_type": "code",
      "source": [
        "ex_13(3,4)"
      ],
      "metadata": {
        "colab": {
          "base_uri": "https://localhost:8080/"
        },
        "id": "3u69AXtqBzU2",
        "outputId": "367b73b4-4abd-4421-e986-1427ae914d9c"
      },
      "execution_count": null,
      "outputs": [
        {
          "output_type": "stream",
          "name": "stdout",
          "text": [
            "7\n",
            "-1\n",
            "12\n",
            "0.75\n"
          ]
        }
      ]
    },
    {
      "cell_type": "code",
      "source": [
        "# 함수 예제 14 - 세 개의 숫자를 입력받아 가장 큰 수를 출력하는 print_max 함수를 정의하라. \n",
        "# 단, if문을 사용해서 수를 비교하시오\n",
        "\n",
        "def print_max(a,b,c):\n",
        "  max_val = 0\n",
        "\n",
        "  if a > max_val: # 0보다 큰 값을 받기를 원함\n",
        "    max_val = a\n",
        "\n",
        "  if b > max_val: # max_val = a\n",
        "    max_val = b\n",
        "\n",
        "  if c > max_val:\n",
        "    max_val = c\n",
        "\n",
        "  print(max_val)"
      ],
      "metadata": {
        "id": "QsuBg9w7B0SO"
      },
      "execution_count": null,
      "outputs": []
    },
    {
      "cell_type": "code",
      "source": [
        "# 함수 예제 15 - 입력된 문자열을 역순으로 출력하는 reverse 함수\n",
        "\n",
        "def print_reverse(string_a):\n",
        "  print(string_a[::-1])\n",
        "\n",
        "print_reverse('python')"
      ],
      "metadata": {
        "colab": {
          "base_uri": "https://localhost:8080/"
        },
        "id": "rku5YeqEEWh6",
        "outputId": "8740dd53-decc-46c0-fbbd-f12c7216a3a2"
      },
      "execution_count": null,
      "outputs": [
        {
          "output_type": "stream",
          "name": "stdout",
          "text": [
            "nohtyp\n"
          ]
        }
      ]
    },
    {
      "cell_type": "code",
      "source": [
        "# 함수 예제 16 - 평균을 출력하는 함수\n",
        "\n",
        "def print_score(score_list):\n",
        "  print(sum(score_list) / len(score_list))"
      ],
      "metadata": {
        "id": "5uiro4b1EYT3"
      },
      "execution_count": null,
      "outputs": []
    },
    {
      "cell_type": "code",
      "source": [
        "print_score([1,2,3])"
      ],
      "metadata": {
        "colab": {
          "base_uri": "https://localhost:8080/"
        },
        "id": "I9iQhsgGFFhS",
        "outputId": "9c805a99-e06f-4235-9660-b886a4b83511"
      },
      "execution_count": null,
      "outputs": [
        {
          "output_type": "stream",
          "name": "stdout",
          "text": [
            "2.0\n"
          ]
        }
      ]
    },
    {
      "cell_type": "code",
      "source": [
        "# 함수 예제 17 - 하나의 리스트를 입력받아서 짝수만 출력하는 함수를 만들어 보세요.\n",
        "\n",
        "def print_even(print_list):\n",
        "  for v in print_list:\n",
        "    if v % 2 == 0:\n",
        "      print(v)"
      ],
      "metadata": {
        "id": "RRHBF3UEFFdD"
      },
      "execution_count": null,
      "outputs": []
    },
    {
      "cell_type": "code",
      "source": [
        "print_even([1, 3, 2, 10, 12, 11, 15])\n"
      ],
      "metadata": {
        "colab": {
          "base_uri": "https://localhost:8080/"
        },
        "id": "vroSQGMwHJLs",
        "outputId": "59be5030-946a-4a5a-f953-9b4e56792c50"
      },
      "execution_count": null,
      "outputs": [
        {
          "output_type": "stream",
          "name": "stdout",
          "text": [
            "2\n",
            "10\n",
            "12\n"
          ]
        }
      ]
    },
    {
      "cell_type": "code",
      "source": [
        "# 함수 예제 18\n",
        "def print_dic(my_dict):\n",
        "  print(my_dict)"
      ],
      "metadata": {
        "id": "aBGLp-dBHOnX"
      },
      "execution_count": null,
      "outputs": []
    },
    {
      "cell_type": "code",
      "source": [
        "print_dic({\"이름\" : \"홍길동\", \"나이\" : 30, \"직업\" : \"의적\"})"
      ],
      "metadata": {
        "colab": {
          "base_uri": "https://localhost:8080/"
        },
        "id": "g6_GJgXTHcyQ",
        "outputId": "165c735f-90a4-4378-92d0-43e4ecaa40cf"
      },
      "execution_count": null,
      "outputs": [
        {
          "output_type": "stream",
          "name": "stdout",
          "text": [
            "{'이름': '홍길동', '나이': 30, '직업': '의적'}\n"
          ]
        }
      ]
    },
    {
      "cell_type": "code",
      "source": [
        "# 함수 예제 19 - 함수 내부의 결과는 접근이 불가합니다.\n",
        "\n",
        "def n_plus(n):\n",
        "  result = n + 1\n",
        "  return result"
      ],
      "metadata": {
        "id": "0EtSktYDHmp5"
      },
      "execution_count": null,
      "outputs": []
    },
    {
      "cell_type": "code",
      "source": [
        "# 함수 예제 20 - 문자열 하나를 입력받아서 인터넷 주소를 반환하는 함수를 만들어라\n",
        "def make_url(string):\n",
        "  url = \"www.\" + string + \".com\"\n",
        "  return url\n",
        "\n",
        "make_url(\"naver\")"
      ],
      "metadata": {
        "colab": {
          "base_uri": "https://localhost:8080/",
          "height": 36
        },
        "id": "AmcKrGtGI1Ps",
        "outputId": "a80358e9-c9cc-4557-beab-a1997a7b3e5a"
      },
      "execution_count": null,
      "outputs": [
        {
          "output_type": "execute_result",
          "data": {
            "text/plain": [
              "'www.naver.com'"
            ],
            "application/vnd.google.colaboratory.intrinsic+json": {
              "type": "string"
            }
          },
          "metadata": {},
          "execution_count": 42
        }
      ]
    },
    {
      "cell_type": "code",
      "source": [
        "# 함수 예제 21 - 문자열 하나씩 입력받아서 리스트 화\n",
        "\n",
        "def make_list(string):\n",
        "  my_list = []\n",
        "  for i in string:\n",
        "    my_list.append(i)\n",
        "  return my_list\n",
        "\n",
        "make_list(\"abcd\")"
      ],
      "metadata": {
        "colab": {
          "base_uri": "https://localhost:8080/"
        },
        "id": "cwYg-5p1IinD",
        "outputId": "97ccd8c8-6156-4f27-ff8e-7c06c25e2adb"
      },
      "execution_count": null,
      "outputs": [
        {
          "output_type": "execute_result",
          "data": {
            "text/plain": [
              "['a', 'b', 'c', 'd']"
            ]
          },
          "metadata": {},
          "execution_count": 43
        }
      ]
    },
    {
      "cell_type": "code",
      "source": [
        "# 함수 예제 22 - 문자열 대체\n",
        "\n",
        "def convert_int(string):\n",
        "  return int(string.replace(',',''))\n",
        "\n",
        "# replace ',' -> '' 으로 변경\n",
        "\n",
        "convert_int('123,456')"
      ],
      "metadata": {
        "colab": {
          "base_uri": "https://localhost:8080/"
        },
        "id": "m2peLP6OJvJ2",
        "outputId": "6bec4dba-7881-4cff-c2df-826beffe3c89"
      },
      "execution_count": null,
      "outputs": [
        {
          "output_type": "execute_result",
          "data": {
            "text/plain": [
              "123456"
            ]
          },
          "metadata": {},
          "execution_count": 44
        }
      ]
    },
    {
      "cell_type": "code",
      "source": [
        "# 함수 예제 23\n",
        "\n",
        "def number_1(num):\n",
        "  return num + 4\n",
        "\n",
        "a = number_1(10)\n",
        "b = number_1(a)\n",
        "c = number_1(b)\n",
        "\n",
        "print(c)"
      ],
      "metadata": {
        "colab": {
          "base_uri": "https://localhost:8080/"
        },
        "id": "MBUwvTmrKF_w",
        "outputId": "29bee44c-c904-4f94-adc6-b0d06096afff"
      },
      "execution_count": null,
      "outputs": [
        {
          "output_type": "stream",
          "name": "stdout",
          "text": [
            "22\n"
          ]
        }
      ]
    },
    {
      "cell_type": "code",
      "source": [
        "c = number_1(number_1(number_1(10)))"
      ],
      "metadata": {
        "id": "RUoPiMtrNZO0"
      },
      "execution_count": null,
      "outputs": []
    },
    {
      "cell_type": "code",
      "source": [
        "print(c)"
      ],
      "metadata": {
        "colab": {
          "base_uri": "https://localhost:8080/"
        },
        "id": "SDqDIYifNvVr",
        "outputId": "e0329857-609f-4086-e7ed-cde8402020b8"
      },
      "execution_count": null,
      "outputs": [
        {
          "output_type": "stream",
          "name": "stdout",
          "text": [
            "22\n"
          ]
        }
      ]
    },
    {
      "cell_type": "code",
      "source": [
        "# 함수 예제 24\n",
        "\n",
        "def def_1(12):\n",
        "  return 12 + 4 # 16\n",
        "\n",
        "def def_2(10):\n",
        "  12 = 10 + 2 #num = 12\n",
        "  return def_1(12)\n",
        "\n",
        "c = def_2(10)\n",
        "print(c)\n"
      ],
      "metadata": {
        "id": "phKThBOJNwcU"
      },
      "execution_count": null,
      "outputs": []
    },
    {
      "cell_type": "code",
      "source": [
        "# 함수 예제 25\n",
        "def def_1(14):\n",
        "  return 14 * 2 # 28\n",
        "\n",
        "def def_2(12):\n",
        "  return def_1(12 + 2) #def_1(14)\n",
        "\n",
        "def def_3(2):\n",
        "  num = 2 + 10 # num 12\n",
        "  return def_2(12)\n",
        "\n",
        "c = def_3(2)\n",
        "print(c)"
      ],
      "metadata": {
        "id": "1ZHIzefSOjAh"
      },
      "execution_count": null,
      "outputs": []
    },
    {
      "cell_type": "code",
      "source": [
        "# 함수 예제 26\n",
        "\n",
        "def double(x):\n",
        "  y = x\n",
        "  x = 10\n",
        "  return y * y\n",
        "\n",
        "x = 3\n",
        "\n",
        "#1번\n",
        "print(double(x))\n",
        "#2번\n",
        "print(x)"
      ],
      "metadata": {
        "id": "o5GDYzKjPOuu"
      },
      "execution_count": null,
      "outputs": []
    },
    {
      "cell_type": "code",
      "source": [
        "# 함수 예제 27\n",
        "# return에 매개변수 없이 출력이 되면 함수 내 문장과 상관없이 그 값을 빠져나옵니다.\n",
        "\n",
        "def test_01(a):\n",
        "  if a == 10:\n",
        "    return #pass\n",
        "  else:\n",
        "    print(\"10이 아닙니다.\")\n",
        "  \n",
        "test_01(10)"
      ],
      "metadata": {
        "id": "5g2x3WfcP0v_"
      },
      "execution_count": null,
      "outputs": []
    },
    {
      "cell_type": "code",
      "source": [
        "# 함수 예제 28 - 함수의 호출 과정(키워드 인수)\n",
        "# 위치인수는 호출할때 함수의 정의와 인수 순서가 같은 순서로 지정!!\n",
        "# 위치가 틀어지면 값이 완전히 바뀔수 있다.\n",
        "\n",
        "def billing(unit_prices, units, fees, tax_rate):\n",
        "  return (unit_prices * units + fees) * tax_rate\n",
        "  \n",
        "x = billing(1000, 10, 500, 1.1)\n",
        "print(x)"
      ],
      "metadata": {
        "colab": {
          "base_uri": "https://localhost:8080/"
        },
        "id": "x7RD7zz0QVmS",
        "outputId": "0d6ff3c3-5c6c-4a1f-a744-c34cd3a2b6d4"
      },
      "execution_count": null,
      "outputs": [
        {
          "output_type": "stream",
          "name": "stdout",
          "text": [
            "11550.000000000002\n"
          ]
        }
      ]
    },
    {
      "cell_type": "code",
      "source": [
        "y = billing(10, 1000, 1.1, 500)\n",
        "print(y)"
      ],
      "metadata": {
        "colab": {
          "base_uri": "https://localhost:8080/"
        },
        "id": "RfTOnuU5Q7SP",
        "outputId": "03628b5a-9415-4b1f-ed54-e7c89173d2b2"
      },
      "execution_count": null,
      "outputs": [
        {
          "output_type": "stream",
          "name": "stdout",
          "text": [
            "5000550.0\n"
          ]
        }
      ]
    },
    {
      "cell_type": "code",
      "source": [
        "def billing(unit_prices, units, fees, tax_rate):\n",
        "  return (unit_prices * units + fees) * tax_rate\n",
        "\n",
        "x = billing(\n",
        "            unit_prices = 1000, \n",
        "            units = 10, \n",
        "            fees = 500, \n",
        "            tax_rate = 1.1\n",
        "            )"
      ],
      "metadata": {
        "id": "glid9eCTRdfC"
      },
      "execution_count": null,
      "outputs": []
    },
    {
      "cell_type": "code",
      "source": [
        "print(x)"
      ],
      "metadata": {
        "colab": {
          "base_uri": "https://localhost:8080/"
        },
        "id": "fmR9hDNkRw1d",
        "outputId": "74d09be1-9a20-46b1-910f-8820749bd5b9"
      },
      "execution_count": null,
      "outputs": [
        {
          "output_type": "stream",
          "name": "stdout",
          "text": [
            "11550.000000000002\n"
          ]
        }
      ]
    },
    {
      "cell_type": "code",
      "source": [
        "y = billing(units = 10, unit_prices = 1000, tax_rate = 1.1, fees = 500)"
      ],
      "metadata": {
        "id": "vOV9xLZtRx82"
      },
      "execution_count": null,
      "outputs": []
    },
    {
      "cell_type": "code",
      "source": [],
      "metadata": {
        "id": "4vItWR9qSMfD"
      },
      "execution_count": null,
      "outputs": []
    },
    {
      "cell_type": "code",
      "source": [
        "print(y)"
      ],
      "metadata": {
        "colab": {
          "base_uri": "https://localhost:8080/"
        },
        "id": "NK5_uiIyR3ZP",
        "outputId": "bb689bbd-bfe1-4747-ee75-0be6b53a1d3e"
      },
      "execution_count": null,
      "outputs": [
        {
          "output_type": "stream",
          "name": "stdout",
          "text": [
            "11550.000000000002\n"
          ]
        }
      ]
    },
    {
      "cell_type": "code",
      "source": [
        "# 키워드 + 위치인수\n",
        "\n",
        "x2 = billing(1000, 10, fees = 500, 1.1)\n",
        "print(x2)"
      ],
      "metadata": {
        "colab": {
          "base_uri": "https://localhost:8080/",
          "height": 132
        },
        "id": "DT4QloZMR5le",
        "outputId": "068c07fb-dd32-44fb-a193-84ffc9a07b5c"
      },
      "execution_count": null,
      "outputs": [
        {
          "output_type": "error",
          "ename": "SyntaxError",
          "evalue": "ignored",
          "traceback": [
            "\u001b[0;36m  File \u001b[0;32m\"<ipython-input-58-67d4c09a1c76>\"\u001b[0;36m, line \u001b[0;32m3\u001b[0m\n\u001b[0;31m    x2 = billing(1000, 10, fees = 500, 1.1)\u001b[0m\n\u001b[0m                                          ^\u001b[0m\n\u001b[0;31mSyntaxError\u001b[0m\u001b[0;31m:\u001b[0m positional argument follows keyword argument\n"
          ]
        }
      ]
    },
    {
      "cell_type": "code",
      "source": [
        "# 연습문제 1. 출력 결과를 말씀해주세요\n",
        "\n",
        "def print_hi():\n",
        "  print(\"Hi\")\n",
        "\n",
        "# 1. Hi\n",
        "# 2. NameError\n",
        "# 3. print_hi()\n",
        "# 4. ValueError\n",
        "# 5. 출력값 없음"
      ],
      "metadata": {
        "id": "KV3y55tlSTM2"
      },
      "execution_count": null,
      "outputs": []
    },
    {
      "cell_type": "code",
      "source": [
        "# 연습문제 2. 출력 결과를 말씀해주세요\n",
        "\n",
        "def test(k):\n",
        "  print(f\"Input is {k}\")\n",
        "\n",
        "k = 1000\n",
        "test(k)\n",
        "\n",
        "#1 Input is 1000\n",
        "#2 NameError\n",
        "#3 IndexError\n",
        "#4 ValueError\n",
        "#5 None"
      ],
      "metadata": {
        "colab": {
          "base_uri": "https://localhost:8080/"
        },
        "id": "qmAwDkquS0o5",
        "outputId": "4d6bffe6-7032-41c6-eff8-33dd550a3ec2"
      },
      "execution_count": null,
      "outputs": [
        {
          "output_type": "stream",
          "name": "stdout",
          "text": [
            "Input is 1000\n"
          ]
        }
      ]
    },
    {
      "cell_type": "code",
      "source": [
        "# 연습문제 3 - 출력 결과를 말씀해주세요\n",
        "def f(x):\n",
        "  y = x\n",
        "  x = 7\n",
        "  return y * x\n",
        "\n",
        "x = 4\n",
        "print(f(3))\n",
        "print(x)\n",
        "\n",
        "# 1. 21\n",
        "#    4\n",
        "# 2. 9\n",
        "#    3\n",
        "# 3. 21\n",
        "#    4\n",
        "# 4. 49\n",
        "#    3\n",
        "# 5. 21\n",
        "#    7"
      ],
      "metadata": {
        "colab": {
          "base_uri": "https://localhost:8080/"
        },
        "id": "0fwojrr9TNsL",
        "outputId": "e49f408a-42ba-4f35-8e9d-f065c6abda0b"
      },
      "execution_count": null,
      "outputs": [
        {
          "output_type": "stream",
          "name": "stdout",
          "text": [
            "21\n",
            "4\n"
          ]
        }
      ]
    },
    {
      "cell_type": "code",
      "source": [
        "# 연습문제 4\n",
        "name = 'jinho'\n",
        "\n",
        "def call_my_name():\n",
        "  print(name)\n",
        "  name = 'sehoon'\n",
        "\n",
        "call_my_name()\n",
        "\n",
        "# 1. 'Jinho'\n",
        "# 2. 'sehoon'\n",
        "# 3. None\n",
        "# 4. error\n",
        "# 5. 'call_my_name'"
      ],
      "metadata": {
        "colab": {
          "base_uri": "https://localhost:8080/",
          "height": 357
        },
        "id": "6JNuly0iTp4t",
        "outputId": "f3c4b566-809b-497e-a886-0b454785ec9e"
      },
      "execution_count": null,
      "outputs": [
        {
          "output_type": "error",
          "ename": "UnboundLocalError",
          "evalue": "ignored",
          "traceback": [
            "\u001b[0;31m---------------------------------------------------------------------------\u001b[0m",
            "\u001b[0;31mUnboundLocalError\u001b[0m                         Traceback (most recent call last)",
            "\u001b[0;32m<ipython-input-62-aa1b32cf6a7b>\u001b[0m in \u001b[0;36m<cell line: 8>\u001b[0;34m()\u001b[0m\n\u001b[1;32m      6\u001b[0m   \u001b[0mname\u001b[0m \u001b[0;34m=\u001b[0m \u001b[0;34m'sehoon'\u001b[0m\u001b[0;34m\u001b[0m\u001b[0;34m\u001b[0m\u001b[0m\n\u001b[1;32m      7\u001b[0m \u001b[0;34m\u001b[0m\u001b[0m\n\u001b[0;32m----> 8\u001b[0;31m \u001b[0mcall_my_name\u001b[0m\u001b[0;34m(\u001b[0m\u001b[0;34m)\u001b[0m\u001b[0;34m\u001b[0m\u001b[0;34m\u001b[0m\u001b[0m\n\u001b[0m\u001b[1;32m      9\u001b[0m \u001b[0;34m\u001b[0m\u001b[0m\n\u001b[1;32m     10\u001b[0m \u001b[0;31m# 1. 'Jinho'\u001b[0m\u001b[0;34m\u001b[0m\u001b[0;34m\u001b[0m\u001b[0m\n",
            "\u001b[0;32m<ipython-input-62-aa1b32cf6a7b>\u001b[0m in \u001b[0;36mcall_my_name\u001b[0;34m()\u001b[0m\n\u001b[1;32m      3\u001b[0m \u001b[0;34m\u001b[0m\u001b[0m\n\u001b[1;32m      4\u001b[0m \u001b[0;32mdef\u001b[0m \u001b[0mcall_my_name\u001b[0m\u001b[0;34m(\u001b[0m\u001b[0;34m)\u001b[0m\u001b[0;34m:\u001b[0m\u001b[0;34m\u001b[0m\u001b[0;34m\u001b[0m\u001b[0m\n\u001b[0;32m----> 5\u001b[0;31m   \u001b[0mprint\u001b[0m\u001b[0;34m(\u001b[0m\u001b[0mname\u001b[0m\u001b[0;34m)\u001b[0m\u001b[0;34m\u001b[0m\u001b[0;34m\u001b[0m\u001b[0m\n\u001b[0m\u001b[1;32m      6\u001b[0m   \u001b[0mname\u001b[0m \u001b[0;34m=\u001b[0m \u001b[0;34m'sehoon'\u001b[0m\u001b[0;34m\u001b[0m\u001b[0;34m\u001b[0m\u001b[0m\n\u001b[1;32m      7\u001b[0m \u001b[0;34m\u001b[0m\u001b[0m\n",
            "\u001b[0;31mUnboundLocalError\u001b[0m: local variable 'name' referenced before assignment"
          ]
        }
      ]
    },
    {
      "cell_type": "code",
      "source": [
        "# 연습문제 5\n",
        "def say_myself(name, old, woman = True):\n",
        "  print(f\"나의 이름은 {name}입니다.\")\n",
        "  print(f\"나의 나이는 {old}입니다.\")\n",
        "  if \bwoman:\n",
        "    print(\"여성입니다.\")\n",
        "  else:\n",
        "    print(\"남성입니다.\")\n",
        "\n",
        "say_myself(\"최주영\", \"35\")\n",
        "\n",
        "#1. 나의 이름은 최주영입니다.\n",
        "#   나의 나이는 35입니다.\n",
        "#   여성입니다.\n",
        "#2. 나의 이름은 최주영입니다.\n",
        "#   남성입니다.\n",
        "#   나이는 35살 입니다.\n",
        "#3. 나의 이름은 최주영입니다.\n",
        "#   여성입니다.\n",
        "#   나이는 35살 입니다.\n",
        "#4. 나의 이름은 최주영입니다.\n",
        "#   나의 나이는 35입니다.\n",
        "#   남자입니다.\n",
        "#5. 나의 이름은 최주영입니다.\n",
        "#   여성입니다."
      ],
      "metadata": {
        "id": "1_Jvvvw_UMKJ"
      },
      "execution_count": null,
      "outputs": []
    },
    {
      "cell_type": "code",
      "source": [
        "# 연습문제 6 실행된 값을 무엇일까요?\n",
        "\n",
        "def exam_func():\n",
        "  x = 10\n",
        "  print(f\"Value: {x}\")\n",
        "\n",
        "x = 20\n",
        "exam_func()\n",
        "print(f\"Value: {x}\")"
      ],
      "metadata": {
        "colab": {
          "base_uri": "https://localhost:8080/"
        },
        "id": "vh6JTzRoVGKl",
        "outputId": "418946b8-d55d-4f00-c81e-3bc4247699c5"
      },
      "execution_count": null,
      "outputs": [
        {
          "output_type": "stream",
          "name": "stdout",
          "text": [
            "Value: 10\n",
            "Value: 20\n"
          ]
        }
      ]
    },
    {
      "cell_type": "code",
      "source": [
        "# 연습문제 7 실행된 함수가 어떤값을 가질지 맞춰주세요\n",
        "\n",
        "def get_abbr(data_list):\n",
        "  result = []\n",
        "\n",
        "  for x in data_list:\n",
        "    result.append(x)\n",
        "\n",
        "  return result\n",
        "\n",
        "get_abbr(['Seoul', 'Anyang', 'Incheon', 'Jeju'])\n",
        "\n",
        "#1. ['Seoul', 'Anyang', 'Incheon', 'Jeju']\n",
        "#2. ['Seoul', 'Anyang', 'Incheon']\n",
        "#3. ['Seo', 'Any', 'Inc', 'Jej']\n",
        "#4. ['Seo']\n",
        "#5. error"
      ],
      "metadata": {
        "colab": {
          "base_uri": "https://localhost:8080/"
        },
        "id": "W54TWXY-Vnxb",
        "outputId": "c00847df-8f54-4826-ace9-40d202bceceb"
      },
      "execution_count": null,
      "outputs": [
        {
          "output_type": "execute_result",
          "data": {
            "text/plain": [
              "['Seoul', 'Anyang', 'Incheon', 'Jeju']"
            ]
          },
          "metadata": {},
          "execution_count": 64
        }
      ]
    },
    {
      "cell_type": "code",
      "source": [
        "# 연습문제 8 \n",
        "\n",
        "test_data = 3\n",
        "def hi(a):\n",
        "  b = a*3\n",
        "  return b\n",
        "\n",
        "print(hi(test_data))\n",
        "\n",
        "#1. TypeError\n",
        "#2. 9\n",
        "#3. 3\n",
        "#4. None\n",
        "#5. ValueError"
      ],
      "metadata": {
        "id": "QjfocPzzWdZX"
      },
      "execution_count": null,
      "outputs": []
    },
    {
      "cell_type": "code",
      "source": [
        "# 연습문제 9\n",
        "a = 111\n",
        "b = 222\n",
        "\n",
        "def function_1():\n",
        "  print(a)\n",
        "  print(b)\n",
        "\n",
        "def function_2():\n",
        "  a = 333\n",
        "  print(b)\n",
        "  print(a)\n",
        "\n",
        "function_1()\n",
        "function_2()\n",
        "\n",
        "#1. 111 222 222 333\n",
        "#2. 222 333 111 222\n",
        "#3. 222 111 222 333\n",
        "#4. 111 222 333 444\n",
        "#5. 333 222 222 111"
      ],
      "metadata": {
        "colab": {
          "base_uri": "https://localhost:8080/"
        },
        "id": "brWZD37NW5Ak",
        "outputId": "8ae1dba5-66a5-4367-b826-960bfa1cb812"
      },
      "execution_count": null,
      "outputs": [
        {
          "output_type": "stream",
          "name": "stdout",
          "text": [
            "111\n",
            "222\n",
            "222\n",
            "333\n"
          ]
        }
      ]
    },
    {
      "cell_type": "code",
      "source": [],
      "metadata": {
        "id": "I07WEHxEXUMD"
      },
      "execution_count": null,
      "outputs": []
    }
  ]
}