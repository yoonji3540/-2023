{
  "nbformat": 4,
  "nbformat_minor": 0,
  "metadata": {
    "colab": {
      "provenance": []
    },
    "kernelspec": {
      "name": "python3",
      "display_name": "Python 3"
    },
    "language_info": {
      "name": "python"
    }
  },
  "cells": [
    {
      "cell_type": "markdown",
      "source": [
        "# 1. 텍스트 파일 가공하기"
      ],
      "metadata": {
        "id": "MZ2d6EDVLUXq"
      }
    },
    {
      "cell_type": "code",
      "source": [
        "# 파일 입출력 복습\n",
        "\n",
        "# 우리는 파일을 읽고 쓰는거 없이 데이터 분석을 할수 없습니다.\n",
        "# 당연히 코딩을 하기 위해서는 데이터를 불러와야하고, 데이터를 분석한 후에는 결과물을 저장 해야합니다.\n",
        "# 예를 들어 문서가 어디에 있는지, 텍스트 파일이냐 CSV파일이냐에 따라 읽어드리는 방식이 다르고,\n",
        "# 저장하는 방식에 따라 향후 데이터를 또 어떻게 불어와야할지가 다릅니다.\n",
        "# 다른 사람이 저장해놓은 것을 그대로 읽을수도 있습니다.\n",
        "\n",
        "# 이런 일련과정을 파일 입출력이라고 합니다."
      ],
      "metadata": {
        "id": "zQh7SzMJLpV-"
      },
      "execution_count": null,
      "outputs": []
    },
    {
      "cell_type": "code",
      "source": [
        "# 파일의 현재 위치 확인\n",
        "# 작업을 하다보면 input / output\n",
        "\n",
        "import os\n",
        "os.getcwd()"
      ],
      "metadata": {
        "colab": {
          "base_uri": "https://localhost:8080/",
          "height": 35
        },
        "id": "4h7RoOwUL3xA",
        "outputId": "d4a41951-3ef9-4456-f62e-fa596e9ee86a"
      },
      "execution_count": null,
      "outputs": [
        {
          "output_type": "execute_result",
          "data": {
            "text/plain": [
              "'/content'"
            ],
            "application/vnd.google.colaboratory.intrinsic+json": {
              "type": "string"
            }
          },
          "metadata": {},
          "execution_count": 2
        }
      ]
    },
    {
      "cell_type": "code",
      "source": [
        "# 폴더(경로)이동하기\n",
        "\n",
        "os.chdir('/content/sample_data')"
      ],
      "metadata": {
        "id": "uJPfeDJlMAmG"
      },
      "execution_count": null,
      "outputs": []
    },
    {
      "cell_type": "code",
      "source": [
        "# 확인하고, 안에 있는 파일 확인하기\n",
        "\n",
        "os.getcwd()"
      ],
      "metadata": {
        "colab": {
          "base_uri": "https://localhost:8080/",
          "height": 35
        },
        "id": "Dk5Jc5teM9De",
        "outputId": "179d053a-9566-4adf-e942-3d278373c0d7"
      },
      "execution_count": null,
      "outputs": [
        {
          "output_type": "execute_result",
          "data": {
            "text/plain": [
              "'/content/sample_data'"
            ],
            "application/vnd.google.colaboratory.intrinsic+json": {
              "type": "string"
            }
          },
          "metadata": {},
          "execution_count": 4
        }
      ]
    },
    {
      "cell_type": "code",
      "source": [
        "# 폴더안에 파일이 어떤게 있는지 확인하기\n",
        "os.listdir()"
      ],
      "metadata": {
        "colab": {
          "base_uri": "https://localhost:8080/"
        },
        "id": "nfJeVeJmNFIN",
        "outputId": "9a7706e4-3b8c-4576-f057-0f095c2a577a"
      },
      "execution_count": null,
      "outputs": [
        {
          "output_type": "execute_result",
          "data": {
            "text/plain": [
              "['README.md',\n",
              " 'anscombe.json',\n",
              " 'mnist_test.csv',\n",
              " 'california_housing_test.csv',\n",
              " 'california_housing_train.csv',\n",
              " 'mnist_train_small.csv']"
            ]
          },
          "metadata": {},
          "execution_count": 5
        }
      ]
    },
    {
      "cell_type": "code",
      "source": [
        "list_dir = os.listdir()\n",
        "print(list_dir)"
      ],
      "metadata": {
        "colab": {
          "base_uri": "https://localhost:8080/"
        },
        "id": "KLpMUW9YNM90",
        "outputId": "35960e23-05c0-4ace-c093-25c403ad0cc9"
      },
      "execution_count": null,
      "outputs": [
        {
          "output_type": "stream",
          "name": "stdout",
          "text": [
            "['README.md', 'anscombe.json', 'mnist_test.csv', 'california_housing_test.csv', 'california_housing_train.csv', 'mnist_train_small.csv']\n"
          ]
        }
      ]
    },
    {
      "cell_type": "code",
      "source": [
        "# 파일 열고 쓰고\n",
        "# 파일 열기\n",
        "\n",
        "f = open('a.txt', 'w')"
      ],
      "metadata": {
        "id": "fwupzE12NWm2"
      },
      "execution_count": null,
      "outputs": []
    },
    {
      "cell_type": "code",
      "source": [
        "f.close()"
      ],
      "metadata": {
        "id": "sd6zZu8tNkdK"
      },
      "execution_count": null,
      "outputs": []
    },
    {
      "cell_type": "code",
      "source": [
        "# w모드 예시\n",
        "\n",
        "f = open('a.txt', 'w')\n",
        "f.write('안녕하세요')"
      ],
      "metadata": {
        "colab": {
          "base_uri": "https://localhost:8080/"
        },
        "id": "P_Tjp_SxNoyB",
        "outputId": "03197854-7848-4f15-df65-0a76328ee0fc"
      },
      "execution_count": null,
      "outputs": [
        {
          "output_type": "execute_result",
          "data": {
            "text/plain": [
              "5"
            ]
          },
          "metadata": {},
          "execution_count": 9
        }
      ]
    },
    {
      "cell_type": "code",
      "source": [
        "f.close()"
      ],
      "metadata": {
        "id": "qsVIKRj8NwBg"
      },
      "execution_count": null,
      "outputs": []
    },
    {
      "cell_type": "code",
      "source": [
        "# 읽기 모드 활용\n",
        "\n",
        "f = open('a.txt', 'r')\n",
        "f.read()"
      ],
      "metadata": {
        "colab": {
          "base_uri": "https://localhost:8080/",
          "height": 35
        },
        "id": "FBaPq4LqNyJw",
        "outputId": "a10050df-e985-4432-df49-679e7d335a88"
      },
      "execution_count": null,
      "outputs": [
        {
          "output_type": "execute_result",
          "data": {
            "text/plain": [
              "'안녕하세요'"
            ],
            "application/vnd.google.colaboratory.intrinsic+json": {
              "type": "string"
            }
          },
          "metadata": {},
          "execution_count": 11
        }
      ]
    },
    {
      "cell_type": "code",
      "source": [
        "f.read() # 커서가 다음으로 가있어서 아무것도 나오지 않음"
      ],
      "metadata": {
        "colab": {
          "base_uri": "https://localhost:8080/",
          "height": 35
        },
        "id": "YYGRW1WEN5-c",
        "outputId": "f05e6e14-c765-496d-fc29-cfcb46d83fba"
      },
      "execution_count": null,
      "outputs": [
        {
          "output_type": "execute_result",
          "data": {
            "text/plain": [
              "''"
            ],
            "application/vnd.google.colaboratory.intrinsic+json": {
              "type": "string"
            }
          },
          "metadata": {},
          "execution_count": 15
        }
      ]
    },
    {
      "cell_type": "code",
      "source": [
        "f.seek(0) # 커서를 초기화 해서 0번째 가져오는것"
      ],
      "metadata": {
        "colab": {
          "base_uri": "https://localhost:8080/"
        },
        "id": "7O0k_GQ1N92K",
        "outputId": "926cbc27-1781-47fa-f8cd-ceaf79085cc6"
      },
      "execution_count": null,
      "outputs": [
        {
          "output_type": "execute_result",
          "data": {
            "text/plain": [
              "0"
            ]
          },
          "metadata": {},
          "execution_count": 16
        }
      ]
    },
    {
      "cell_type": "code",
      "source": [
        "f.read() # 커서가 다음으로 가있어서 아무것도 나오지 않음"
      ],
      "metadata": {
        "colab": {
          "base_uri": "https://localhost:8080/",
          "height": 35
        },
        "id": "4hYFgdnpOIJu",
        "outputId": "c3b80482-ba89-4d84-93d0-0bbd201c2a2a"
      },
      "execution_count": null,
      "outputs": [
        {
          "output_type": "execute_result",
          "data": {
            "text/plain": [
              "'안녕하세요'"
            ],
            "application/vnd.google.colaboratory.intrinsic+json": {
              "type": "string"
            }
          },
          "metadata": {},
          "execution_count": 17
        }
      ]
    },
    {
      "cell_type": "code",
      "source": [
        "f.close()"
      ],
      "metadata": {
        "id": "cup-Pl4kOJMe"
      },
      "execution_count": null,
      "outputs": []
    },
    {
      "cell_type": "code",
      "source": [
        "# 만약에 읽기모드로 없는 파일을 생성하려고 한다면?\n",
        "f = open('b.txt', 'r')\n",
        "# 읽는다는것은 이미 있다는 것을 전제로 한다."
      ],
      "metadata": {
        "colab": {
          "base_uri": "https://localhost:8080/",
          "height": 237
        },
        "id": "s1g4DTG2OMqU",
        "outputId": "b54e8e4e-d106-4cde-d808-0968a38ed306"
      },
      "execution_count": null,
      "outputs": [
        {
          "output_type": "error",
          "ename": "FileNotFoundError",
          "evalue": "ignored",
          "traceback": [
            "\u001b[0;31m---------------------------------------------------------------------------\u001b[0m",
            "\u001b[0;31mFileNotFoundError\u001b[0m                         Traceback (most recent call last)",
            "\u001b[0;32m<ipython-input-19-31eca9fac5b0>\u001b[0m in \u001b[0;36m<cell line: 2>\u001b[0;34m()\u001b[0m\n\u001b[1;32m      1\u001b[0m \u001b[0;31m# 만약에 읽기모드로 없는 파일을 생성하려고 한다면?\u001b[0m\u001b[0;34m\u001b[0m\u001b[0;34m\u001b[0m\u001b[0m\n\u001b[0;32m----> 2\u001b[0;31m \u001b[0mf\u001b[0m \u001b[0;34m=\u001b[0m \u001b[0mopen\u001b[0m\u001b[0;34m(\u001b[0m\u001b[0;34m'b.txt'\u001b[0m\u001b[0;34m,\u001b[0m \u001b[0;34m'r'\u001b[0m\u001b[0;34m)\u001b[0m\u001b[0;34m\u001b[0m\u001b[0;34m\u001b[0m\u001b[0m\n\u001b[0m\u001b[1;32m      3\u001b[0m \u001b[0;31m# 읽는다는것은 이미 있다는 것을 전제로 한다.\u001b[0m\u001b[0;34m\u001b[0m\u001b[0;34m\u001b[0m\u001b[0m\n",
            "\u001b[0;31mFileNotFoundError\u001b[0m: [Errno 2] No such file or directory: 'b.txt'"
          ]
        }
      ]
    },
    {
      "cell_type": "code",
      "source": [
        "f = open('a.txt', 'a') # 텍스트 추가 모드\n",
        "f.write('추가되는 문장이에요')\n",
        "f.close()"
      ],
      "metadata": {
        "id": "LJ-YMIt7OTn6"
      },
      "execution_count": null,
      "outputs": []
    },
    {
      "cell_type": "code",
      "source": [
        "f = open('a.txt', 'r')\n",
        "f.read()"
      ],
      "metadata": {
        "colab": {
          "base_uri": "https://localhost:8080/",
          "height": 35
        },
        "id": "d8KlPoyIOmEH",
        "outputId": "2c0ceb00-c274-4832-c88a-167b560060a0"
      },
      "execution_count": null,
      "outputs": [
        {
          "output_type": "execute_result",
          "data": {
            "text/plain": [
              "'안녕하세요추가되는 문장이에요'"
            ],
            "application/vnd.google.colaboratory.intrinsic+json": {
              "type": "string"
            }
          },
          "metadata": {},
          "execution_count": 21
        }
      ]
    },
    {
      "cell_type": "code",
      "source": [
        "f.close()"
      ],
      "metadata": {
        "id": "o7Ey9Lk9OvON"
      },
      "execution_count": null,
      "outputs": []
    },
    {
      "cell_type": "code",
      "source": [
        "# with문으로 객체를 만들지 않고 파일 출력하기\n",
        "\n",
        "f = open('abcde.txt', 'w')\n",
        "f.write('abcde')\n",
        "\n",
        "# 파일을 지우려고 하면 파일이 열려있어 꼭 close로 닫은 후에 지워야함\n",
        "# 계속 열고닫고 하면 번거로울수 있음\n",
        "\n",
        "f.close()"
      ],
      "metadata": {
        "id": "1ITUnH7_Oxp8"
      },
      "execution_count": null,
      "outputs": []
    },
    {
      "cell_type": "code",
      "source": [
        "# 그래서 사용하는 방법이 with문의 사용\n",
        "\n",
        "with open(파일 이름, 파일 열기모드) as f:\n",
        "  f에 수행할 명령"
      ],
      "metadata": {
        "id": "f4VVHK-RO9sR"
      },
      "execution_count": null,
      "outputs": []
    },
    {
      "cell_type": "code",
      "source": [
        "with open('test.txt', 'w') as f:\n",
        "  f.write('테스트 중입니다.')"
      ],
      "metadata": {
        "id": "zzauOm6WPFRE"
      },
      "execution_count": null,
      "outputs": []
    },
    {
      "cell_type": "code",
      "source": [
        "# 한글파일의 사용은 약간 자제하기는 하지만 사용할때가 종종 있습니다.\n",
        "\n",
        "import os, re\n",
        "f = open('한글_테스트.txt', 'w')\n",
        "f.close()"
      ],
      "metadata": {
        "id": "RjiyDfNsPHyF"
      },
      "execution_count": null,
      "outputs": []
    },
    {
      "cell_type": "code",
      "source": [
        "# 만약 한글 파일로 된 오류가 떳을때나 인코딩오류가 났을때\n",
        "\n",
        "import codecs \n",
        "f = codecs.open('한글파일.txt', 'r', 'utf-8')\n",
        "f.read()"
      ],
      "metadata": {
        "id": "p5Au-k1kPP6H"
      },
      "execution_count": null,
      "outputs": []
    },
    {
      "cell_type": "markdown",
      "source": [
        "# 2. 문자열 복습 / 처리"
      ],
      "metadata": {
        "id": "tMl7jsrMPO-l"
      }
    },
    {
      "cell_type": "markdown",
      "source": [
        "# 문자열 연결 - Join\n",
        "\n",
        "* \"구분 문자\".join([문자열1, 문자열2, 문자열3])\n",
        "\n",
        "* 문자열에서는 문자열 리스트를 특정한 문자로 연결하는 join 메서드를 제공합니다.\n",
        "\n",
        "* 공백으로 연결하거나, 쉼표로 연결할 수 있어요"
      ],
      "metadata": {
        "id": "aGnyFgqZQBsV"
      }
    },
    {
      "cell_type": "code",
      "source": [
        "# join 예제 1\n",
        "text_list = ['Hello', 'World', 'Python']\n",
        "test1 = ''.join(text_list)\n",
        "print(test1)"
      ],
      "metadata": {
        "colab": {
          "base_uri": "https://localhost:8080/"
        },
        "id": "QOmjxGqjP9WM",
        "outputId": "31d84aea-140b-44c6-c964-318eaf79393d"
      },
      "execution_count": null,
      "outputs": [
        {
          "output_type": "stream",
          "name": "stdout",
          "text": [
            "HelloWorldPython\n"
          ]
        }
      ]
    },
    {
      "cell_type": "code",
      "source": [
        "test1 = ''.join(text_list)\n",
        "print(test1)"
      ],
      "metadata": {
        "colab": {
          "base_uri": "https://localhost:8080/"
        },
        "id": "7KIKomxEQWjC",
        "outputId": "05b74ea3-829b-48f7-e6a8-2008f69283f1"
      },
      "execution_count": null,
      "outputs": [
        {
          "output_type": "stream",
          "name": "stdout",
          "text": [
            "HelloWorldPython\n"
          ]
        }
      ]
    },
    {
      "cell_type": "markdown",
      "source": [
        "# f-string\n",
        "\n",
        "* 파이썬 3.6부터 포맷 지정 문자열인 f string이 지원된다.\n",
        "* 일반적인 문자열 앞에 f를 붙이고 중괄호로 둘러쌓아 텍스트 및 변수를 받는다."
      ],
      "metadata": {
        "id": "kH9u8ACKQw3p"
      }
    },
    {
      "cell_type": "code",
      "source": [
        "a = 10 \n",
        "b = '홍길동'\n",
        "print(f'제 이름은 {b}입니다. 나이는 {a}입니다.')"
      ],
      "metadata": {
        "colab": {
          "base_uri": "https://localhost:8080/"
        },
        "id": "tavUvTYmQwqM",
        "outputId": "798bf09d-2b78-4a23-d40c-47e03f53fec8"
      },
      "execution_count": null,
      "outputs": [
        {
          "output_type": "stream",
          "name": "stdout",
          "text": [
            "제 이름은 홍길동입니다. 나이는 10입니다.\n"
          ]
        }
      ]
    },
    {
      "cell_type": "code",
      "source": [
        "name = '홍길동'\n",
        "age = 10 \n",
        "test = f'제 이름은 {b}입니다. 나이는 {a}입니다.'\n",
        "print(test)"
      ],
      "metadata": {
        "colab": {
          "base_uri": "https://localhost:8080/"
        },
        "id": "I6Y2Gg_HQc4h",
        "outputId": "dae5e0b9-1df6-43e5-9412-2d78139c814f"
      },
      "execution_count": null,
      "outputs": [
        {
          "output_type": "stream",
          "name": "stdout",
          "text": [
            "제 이름은 홍길동입니다. 나이는 10입니다.\n"
          ]
        }
      ]
    },
    {
      "cell_type": "markdown",
      "source": [
        "# 문자열 치환하기 - replace\n",
        "\n",
        "문자열에는 replace라는 치환 메서드가 있습니다."
      ],
      "metadata": {
        "id": "1BLwSZzyRVZ9"
      }
    },
    {
      "cell_type": "code",
      "source": [
        "text1 = 'Simple is Best'\n",
        "# 공백을 없애는 replace문\n",
        "text2 = text1.replace(' ','') #제거할것 / 변경할것\n",
        "print(text1)\n",
        "print(text2)"
      ],
      "metadata": {
        "colab": {
          "base_uri": "https://localhost:8080/"
        },
        "id": "u6vxE3HJROFb",
        "outputId": "165b4016-8245-4f54-f5cf-c29d5101214b"
      },
      "execution_count": null,
      "outputs": [
        {
          "output_type": "stream",
          "name": "stdout",
          "text": [
            "Simple is Best\n",
            "SimpleisBest\n"
          ]
        }
      ]
    },
    {
      "cell_type": "code",
      "source": [
        "text1 = 'Simple is Best Plan'\n",
        "# 공백을 없애는 replace문\n",
        "text2 = text1.replace('','__',1) \n",
        "print(text1)\n",
        "print(text2)"
      ],
      "metadata": {
        "colab": {
          "base_uri": "https://localhost:8080/"
        },
        "id": "SrMr1tSTRp14",
        "outputId": "4389bf6e-29ef-44a2-acd7-dccd2070a65b"
      },
      "execution_count": null,
      "outputs": [
        {
          "output_type": "stream",
          "name": "stdout",
          "text": [
            "Simple is Best Plan\n",
            "Simple__is Best Plan\n"
          ]
        }
      ]
    },
    {
      "cell_type": "markdown",
      "source": [
        "# 문자열 포함 여부 확인\n",
        "\n",
        "* in은 리스트나 set에 특정요소가 포함되었는지를 판정합니다. \n",
        "* 문자열에서 사용하면 특정 문자열의 포함여부를 판정할 수 있고 bool로 반환합니다.\n",
        "* 이때 영문인 경우 대소문자를 꼭 점검해야합니다."
      ],
      "metadata": {
        "id": "OjsbNFmxSIh0"
      }
    },
    {
      "cell_type": "code",
      "source": [
        "text = \"Simple is Best\"\n",
        "contains = \"book\" in text\n",
        "print(contains)"
      ],
      "metadata": {
        "colab": {
          "base_uri": "https://localhost:8080/"
        },
        "id": "sEDl1gQjR1-p",
        "outputId": "64dc8ed4-5f0d-4dda-f7ea-524b3aa1907a"
      },
      "execution_count": null,
      "outputs": [
        {
          "output_type": "stream",
          "name": "stdout",
          "text": [
            "False\n"
          ]
        }
      ]
    },
    {
      "cell_type": "code",
      "source": [
        "text = \"Simple is Best\"\n",
        "contains = \"Simple\" in text\n",
        "print(contains)"
      ],
      "metadata": {
        "colab": {
          "base_uri": "https://localhost:8080/"
        },
        "id": "7kk4ECWIXFNG",
        "outputId": "f4c02d43-5159-4f6f-f2ef-2793dc7aabd1"
      },
      "execution_count": null,
      "outputs": [
        {
          "output_type": "stream",
          "name": "stdout",
          "text": [
            "True\n"
          ]
        }
      ]
    },
    {
      "cell_type": "code",
      "source": [
        "text = \"Simple is Best\"\n",
        "contains = \"is\" in text\n",
        "print(contains)"
      ],
      "metadata": {
        "colab": {
          "base_uri": "https://localhost:8080/"
        },
        "id": "sthAf1rZXJRX",
        "outputId": "6f363486-e4d6-404c-c5ee-0baf4d8b62b3"
      },
      "execution_count": null,
      "outputs": [
        {
          "output_type": "stream",
          "name": "stdout",
          "text": [
            "True\n"
          ]
        }
      ]
    },
    {
      "cell_type": "code",
      "source": [
        "# 공백은 텍스트일까? 포함되는건가?\n",
        "text = \"Simple is Best\"\n",
        "contains = \" \" in text\n",
        "print(contains)"
      ],
      "metadata": {
        "colab": {
          "base_uri": "https://localhost:8080/"
        },
        "id": "z_thDalvXLdj",
        "outputId": "37f04634-0fd0-47e6-a134-4c8548c09811"
      },
      "execution_count": null,
      "outputs": [
        {
          "output_type": "stream",
          "name": "stdout",
          "text": [
            "True\n"
          ]
        }
      ]
    },
    {
      "cell_type": "code",
      "source": [
        "# 영문 Kim Korea\n",
        "text = \"Simple is Best\"\n",
        "#lower() -> 대문자 -> 소문자\n",
        "contains = \"SIMPLE\".lower() in text.lower()"
      ],
      "metadata": {
        "id": "4_XnDsAfXTL6"
      },
      "execution_count": null,
      "outputs": []
    },
    {
      "cell_type": "code",
      "source": [
        "print(contains)\n",
        "#simple"
      ],
      "metadata": {
        "colab": {
          "base_uri": "https://localhost:8080/"
        },
        "id": "d1P1SruNX2GE",
        "outputId": "07eb2575-2ace-40ca-e9ad-2eb676521c50"
      },
      "execution_count": null,
      "outputs": [
        {
          "output_type": "stream",
          "name": "stdout",
          "text": [
            "True\n"
          ]
        }
      ]
    },
    {
      "cell_type": "markdown",
      "source": [
        "# 문자열 일부 추출\n",
        "\n",
        "* 문자열은 시퀀스 이므로 인덱스를 지정해 문자를 추출할 수 있습니다.\n",
        "* 이때 가장 마지막 문자는 -1로 불러올 수 있습니다."
      ],
      "metadata": {
        "id": "Xw1H1xL7YAiQ"
      }
    },
    {
      "cell_type": "code",
      "source": [
        "text = 'abcdefg'\n",
        "x1 = text[0]\n",
        "x2 = text[3]\n",
        "x3 = text[-1]\n",
        "print(x1, x2, x3)"
      ],
      "metadata": {
        "colab": {
          "base_uri": "https://localhost:8080/"
        },
        "id": "X6Va-ZmAX44I",
        "outputId": "5d7d7371-e94e-4071-bc29-873aac31b798"
      },
      "execution_count": null,
      "outputs": [
        {
          "output_type": "stream",
          "name": "stdout",
          "text": [
            "a d g\n"
          ]
        }
      ]
    },
    {
      "cell_type": "code",
      "source": [
        "text = 'abcdefg'\n",
        "x1 = text[3:6]\n",
        "print(x1)"
      ],
      "metadata": {
        "colab": {
          "base_uri": "https://localhost:8080/"
        },
        "id": "XgRQNmKWYMG0",
        "outputId": "5642889f-932a-4d9f-9199-78c4ffc47c5e"
      },
      "execution_count": null,
      "outputs": [
        {
          "output_type": "stream",
          "name": "stdout",
          "text": [
            "def\n"
          ]
        }
      ]
    },
    {
      "cell_type": "markdown",
      "source": [
        "# 문자열 공백 처리\n",
        "\n",
        "* strip함수를 사용하여 공백을 제거할 수 있습니다.\n",
        "* 앞뒤의 공백을 제거할 수 있습니다."
      ],
      "metadata": {
        "id": "EO_pR3-XYQ1P"
      }
    },
    {
      "cell_type": "code",
      "source": [
        "# 문자열 공백처리 예제 \n",
        "\n",
        "text = ' abcsdefd '\n",
        "stripped = text.strip()\n",
        "print('*'+ stripped +'*')"
      ],
      "metadata": {
        "colab": {
          "base_uri": "https://localhost:8080/"
        },
        "id": "dtdVd1rdYN8l",
        "outputId": "10ec84e1-2325-4d97-a327-8ae91945a0d4"
      },
      "execution_count": null,
      "outputs": [
        {
          "output_type": "stream",
          "name": "stdout",
          "text": [
            "*abcsdefd*\n"
          ]
        }
      ]
    },
    {
      "cell_type": "code",
      "source": [
        "text = ' abcsdefd '\n",
        "print('*'+ text +'*')"
      ],
      "metadata": {
        "colab": {
          "base_uri": "https://localhost:8080/"
        },
        "id": "Bif0LC6WYlTb",
        "outputId": "fb443533-0b21-4c1e-bb23-69c3918b4396"
      },
      "execution_count": null,
      "outputs": [
        {
          "output_type": "stream",
          "name": "stdout",
          "text": [
            "* abcsdefd *\n"
          ]
        }
      ]
    },
    {
      "cell_type": "code",
      "source": [
        "text = ' abcdefg '\n",
        "\n",
        "#오른쪽 공백 제거 \n",
        "r_stripped = text.rstrip()\n",
        "print(r_stripped)\n",
        "\n",
        "#왼쪽 공백 제거 \n",
        "l_stripped = text.lstrip()\n",
        "print(l_stripped)"
      ],
      "metadata": {
        "colab": {
          "base_uri": "https://localhost:8080/"
        },
        "id": "n8FaSsBjYoG5",
        "outputId": "3beeef34-ba8a-44f0-c16d-f3fa233e71d0"
      },
      "execution_count": null,
      "outputs": [
        {
          "output_type": "stream",
          "name": "stdout",
          "text": [
            " abcdefg\n",
            "abcdefg \n"
          ]
        }
      ]
    },
    {
      "cell_type": "markdown",
      "source": [
        "# 대소문자 구분 변환"
      ],
      "metadata": {
        "id": "fur3e0fCY6ql"
      }
    },
    {
      "cell_type": "code",
      "source": [
        "# 대문자 변환\n",
        "text = 'abdEDfghr'\n",
        "upper_text = text.upper()\n",
        "print(upper_text)"
      ],
      "metadata": {
        "colab": {
          "base_uri": "https://localhost:8080/"
        },
        "id": "znel7xJcYwVD",
        "outputId": "a38ae355-5d66-4083-89b9-b163e995523b"
      },
      "execution_count": null,
      "outputs": [
        {
          "output_type": "stream",
          "name": "stdout",
          "text": [
            "ABDEDFGHR\n"
          ]
        }
      ]
    },
    {
      "cell_type": "code",
      "source": [
        "# 소문자 변환\n",
        "text = 'abdEDfghr'\n",
        "lower_text = text.lower()\n",
        "print(lower_text)"
      ],
      "metadata": {
        "colab": {
          "base_uri": "https://localhost:8080/"
        },
        "id": "wWOreWq5Y9jS",
        "outputId": "8efbac84-89c6-4eed-b560-f90e23802df3"
      },
      "execution_count": null,
      "outputs": [
        {
          "output_type": "stream",
          "name": "stdout",
          "text": [
            "abdedfghr\n"
          ]
        }
      ]
    },
    {
      "cell_type": "markdown",
      "source": [
        "# 문자열을 구분자로 분리하기\n",
        "\n",
        "split - 을 사용하면 지정한 구분 문자로 문자열을 분할한 리스트를 얻을 수 있습니다."
      ],
      "metadata": {
        "id": "OyoYb0-gZDdm"
      }
    },
    {
      "cell_type": "code",
      "source": [
        "# 문장에 있는 모든 단어를 가져오고 싶을때\n",
        "\n",
        "text = \"Time is Zero. Simple is Best\"\n",
        "l = text.split(\" \")\n",
        "print(l)"
      ],
      "metadata": {
        "colab": {
          "base_uri": "https://localhost:8080/"
        },
        "id": "rrn7XUBfZB5Z",
        "outputId": "9620d05f-7e34-4fe5-cce9-e07a1723ed48"
      },
      "execution_count": null,
      "outputs": [
        {
          "output_type": "stream",
          "name": "stdout",
          "text": [
            "['Time', 'is', 'Zero.', 'Simple', 'is', 'Best']\n"
          ]
        }
      ]
    },
    {
      "cell_type": "code",
      "source": [
        "# 문장에 있는 모든 단어를 가져오고 싶을때\n",
        "\n",
        "text = \"Time,is,Zero.,Simple,is,Best\"\n",
        "l = text.split(\",\")\n",
        "print(l)"
      ],
      "metadata": {
        "colab": {
          "base_uri": "https://localhost:8080/"
        },
        "id": "g_96lVfIZSXh",
        "outputId": "e393ad33-d740-401f-e9a7-bcfe289d6314"
      },
      "execution_count": null,
      "outputs": [
        {
          "output_type": "stream",
          "name": "stdout",
          "text": [
            "['Time', 'is', 'Zero.', 'Simple', 'is', 'Best']\n"
          ]
        }
      ]
    },
    {
      "cell_type": "markdown",
      "source": [
        "# 문자열을 0으로 채우기\n",
        "\n",
        "zfill 메서드를 사용하면 인수로 지정한 길이가 되도록 0으로 채웁니다."
      ],
      "metadata": {
        "id": "uI3tD5_HZgTd"
      }
    },
    {
      "cell_type": "code",
      "source": [
        "# CSV 데이터를 읽어들일때;; 문자 -> 숫자 -> 문자로 받을때의 문제점\n",
        "\n",
        "# 고객식별자 / 고객정보 / Key\n",
        "# '00000092' -> 92 김진환 - '00000092' 데이터 분석가\n",
        "\n",
        "# SQL / Python -> CSV\n",
        "\n",
        "num = 00000092\n",
        "num_str = \"92\"\n",
        "zfilled = num_str.zfill(8)\n",
        "print(zfilled, type(zfilled))\n"
      ],
      "metadata": {
        "colab": {
          "base_uri": "https://localhost:8080/"
        },
        "id": "ZmnbIucVZWuh",
        "outputId": "e83bad76-6016-4cc6-9551-b1ccef05708d"
      },
      "execution_count": null,
      "outputs": [
        {
          "output_type": "stream",
          "name": "stdout",
          "text": [
            "00000092 <class 'str'>\n"
          ]
        }
      ]
    },
    {
      "cell_type": "code",
      "source": [
        "num = 92 \n",
        "\n",
        "# DUP -> 키값이 중복된다.\n",
        "\n",
        "# 150만 ~200만\n",
        "\n",
        "# A table      B table            -> 구매데이터 \n",
        "# 92 김진환      92 김진환 기저귀          92 김진환 기저귀 \n",
        "#                                    92 김진환 맥주\n",
        "#             92 김진환 맥주"
      ],
      "metadata": {
        "colab": {
          "base_uri": "https://localhost:8080/",
          "height": 149
        },
        "id": "E3UOfWvqame5",
        "outputId": "28fbaaa9-dd36-47a7-e1e9-a9a90ee76b9e"
      },
      "execution_count": null,
      "outputs": [
        {
          "output_type": "error",
          "ename": "SyntaxError",
          "evalue": "ignored",
          "traceback": [
            "\u001b[0;36m  File \u001b[0;32m\"<ipython-input-61-fbf8e064f671>\"\u001b[0;36m, line \u001b[0;32m1\u001b[0m\n\u001b[0;31m    num = 00000092\u001b[0m\n\u001b[0m          ^\u001b[0m\n\u001b[0;31mSyntaxError\u001b[0m\u001b[0;31m:\u001b[0m leading zeros in decimal integer literals are not permitted; use an 0o prefix for octal integers\n"
          ]
        }
      ]
    },
    {
      "cell_type": "code",
      "source": [
        "#          기저귀 구매.  맥주 구매\n",
        "# 92 김진환       1         1"
      ],
      "metadata": {
        "id": "VV1kKMUqb9Zu"
      },
      "execution_count": null,
      "outputs": []
    },
    {
      "cell_type": "markdown",
      "source": [
        "# 특정 문자열 포함 행만 추출하기\n",
        "\n",
        "문자열의 split과 리스트 컴프리핸션을 사용하면 특정 문자열을 포함하는 행만 추출 가능\n",
        "\n",
        "1. split을 사용하여 텍스트를 줄바꿈, 1행씩 리스트로 얻을 수 있음\n",
        "2. 리스트 컴프리핸션을 사용하여 특정 문자열을 포함하는 행 추출\n",
        "3. 원래 텍스트로부터 특정한 문자열을 포함하는 행만 추출한 텍스트를 만들 수 있다."
      ],
      "metadata": {
        "id": "mNc2lHKccqTW"
      }
    },
    {
      "cell_type": "code",
      "source": [
        "# 미션 - 데이터가 있는 행을 찾고 싶다.\n",
        "\n",
        "text = \"\"\"저는 김철수 입니다.\n",
        "        반갑습니다. 저는 데이터 분석가 입니다.\n",
        "        데이터로 일하는 것은 즐거운 일인데\n",
        "        더 열심히 배우겟습니다. 감사합니다. \"\"\"\n",
        "\n",
        "# 한줄씩 리스트로 생성\n",
        "lines = text.split(\"\\n\") #enter\n",
        "# 라인에서 \"데이터\" 단어가 있는 라인만 가져오기\n",
        "line_list = [line for line in lines if \"데이터\" in line]\n",
        "# 문자열 리스트로 연결하기\n",
        "# enter로 연결하여 출력\n",
        "new_text = \"\\n\".join(line_list)\n",
        "print(new_text)\n"
      ],
      "metadata": {
        "colab": {
          "base_uri": "https://localhost:8080/"
        },
        "id": "XVYbGGgFbEIt",
        "outputId": "ccbb890f-8119-4211-965d-dc31169e39d4"
      },
      "execution_count": null,
      "outputs": [
        {
          "output_type": "stream",
          "name": "stdout",
          "text": [
            "        반갑습니다. 저는 데이터 분석가 입니다.\n",
            "        데이터로 일하는 것은 즐거운 일인데\n"
          ]
        }
      ]
    },
    {
      "cell_type": "code",
      "source": [
        "text = \"\"\"저는 김철수 입니다.\n",
        "        반갑습니다. 저는 데이터 분석가 입니다.\n",
        "        데이터로 일하는 것은 즐거운 일인데\n",
        "        더 열심히 배우겟습니다. 감사합니다. \"\"\"\n",
        "\n",
        "# 한줄씩 리스트로 생성\n",
        "lines = text.split(\"\\n\") #enter"
      ],
      "metadata": {
        "id": "0MAR_SNjdKZk"
      },
      "execution_count": null,
      "outputs": []
    },
    {
      "cell_type": "code",
      "source": [
        "line_list = [line for line in lines if \"데이터\" in line]"
      ],
      "metadata": {
        "id": "z5jSMgnzdMdj"
      },
      "execution_count": null,
      "outputs": []
    },
    {
      "cell_type": "code",
      "source": [
        "line_list"
      ],
      "metadata": {
        "colab": {
          "base_uri": "https://localhost:8080/"
        },
        "id": "VXsKkEEEdh9b",
        "outputId": "5f3cbc29-d4e1-4957-8fac-fe6dc3d9892c"
      },
      "execution_count": null,
      "outputs": [
        {
          "output_type": "execute_result",
          "data": {
            "text/plain": [
              "['        반갑습니다. 저는 데이터 분석가 입니다.', '        데이터로 일하는 것은 즐거운 일인데']"
            ]
          },
          "metadata": {},
          "execution_count": 65
        }
      ]
    },
    {
      "cell_type": "markdown",
      "source": [
        "# 텍스트의 빈 행 삭제하기"
      ],
      "metadata": {
        "id": "qQKpJosyeCEz"
      }
    },
    {
      "cell_type": "code",
      "source": [
        "text = \"\"\"저는 김철수 입니다.\n",
        "\n",
        "        반갑습니다. 저는 데이터 분석가 입니다.\n",
        "\n",
        "        데이터로 일하는 것은 즐거운 일인데\n",
        "        \n",
        "        더 열심히 배우겟습니다. 감사합니다. \"\"\""
      ],
      "metadata": {
        "id": "BWwL-nspdhW9"
      },
      "execution_count": null,
      "outputs": []
    },
    {
      "cell_type": "code",
      "source": [
        "lines = text.split(\"\\n\")"
      ],
      "metadata": {
        "id": "9XwDQTTceE3v"
      },
      "execution_count": null,
      "outputs": []
    },
    {
      "cell_type": "code",
      "source": [
        "line_list = [line for line in lines if line.strip() != \"\"] # = 같다 != 다르다."
      ],
      "metadata": {
        "id": "3ZI0I32deUE9"
      },
      "execution_count": null,
      "outputs": []
    },
    {
      "cell_type": "code",
      "source": [
        "new_text = '\\n'.join(line_list)"
      ],
      "metadata": {
        "id": "Y-y_3WILeKTf"
      },
      "execution_count": null,
      "outputs": []
    },
    {
      "cell_type": "code",
      "source": [
        "new_text"
      ],
      "metadata": {
        "colab": {
          "base_uri": "https://localhost:8080/",
          "height": 53
        },
        "id": "LHaAXhMZfBNy",
        "outputId": "b3c43e5e-f2c6-410b-c1f6-ecf1e6c5bd01"
      },
      "execution_count": null,
      "outputs": [
        {
          "output_type": "execute_result",
          "data": {
            "text/plain": [
              "'저는 김철수 입니다.\\n        반갑습니다. 저는 데이터 분석가 입니다.\\n        데이터로 일하는 것은 즐거운 일인데\\n        더 열심히 배우겟습니다. 감사합니다. '"
            ],
            "application/vnd.google.colaboratory.intrinsic+json": {
              "type": "string"
            }
          },
          "metadata": {},
          "execution_count": 92
        }
      ]
    },
    {
      "cell_type": "code",
      "source": [
        "print(new_text)"
      ],
      "metadata": {
        "colab": {
          "base_uri": "https://localhost:8080/"
        },
        "id": "EF6s24LNfGx_",
        "outputId": "5a943d86-75f9-4259-9674-d86d397d3e5a"
      },
      "execution_count": null,
      "outputs": [
        {
          "output_type": "stream",
          "name": "stdout",
          "text": [
            "저는 김철수 입니다.\n",
            "        반갑습니다. 저는 데이터 분석가 입니다.\n",
            "        데이터로 일하는 것은 즐거운 일인데\n",
            "        더 열심히 배우겟습니다. 감사합니다. \n"
          ]
        }
      ]
    },
    {
      "cell_type": "code",
      "source": [
        "print(new_text.replace(\" \",\"\"))\n",
        "\n"
      ],
      "metadata": {
        "colab": {
          "base_uri": "https://localhost:8080/"
        },
        "id": "X51SYT5uehPK",
        "outputId": "3086480c-5ec1-44e9-db70-9d7d21258c30"
      },
      "execution_count": null,
      "outputs": [
        {
          "output_type": "stream",
          "name": "stdout",
          "text": [
            "저는김철수입니다.\n",
            "반갑습니다.저는데이터분석가입니다.\n",
            "데이터로일하는것은즐거운일인데\n",
            "더열심히배우겟습니다.감사합니다.\n"
          ]
        }
      ]
    },
    {
      "cell_type": "markdown",
      "source": [
        "# 무작위로 문자열 생성하기"
      ],
      "metadata": {
        "id": "nI4Vcdv8lQc4"
      }
    },
    {
      "cell_type": "code",
      "source": [
        "import random \n",
        "\n",
        "letters = 'abcdefg'\n",
        "rl = random.choices(letters, k = 4)\n",
        "print(rl)\n"
      ],
      "metadata": {
        "colab": {
          "base_uri": "https://localhost:8080/"
        },
        "id": "616wbEjkeiqx",
        "outputId": "78e9ed78-057f-4566-a1b3-ebe8bfbc917c"
      },
      "execution_count": null,
      "outputs": [
        {
          "output_type": "stream",
          "name": "stdout",
          "text": [
            "['d', 'f', 'd', 'e']\n"
          ]
        }
      ]
    },
    {
      "cell_type": "markdown",
      "source": [
        "# 정규표현식 "
      ],
      "metadata": {
        "id": "X0d3aps5lc6p"
      }
    },
    {
      "cell_type": "code",
      "source": [
        "# 정규표현식 사용하기\n",
        "\n",
        "import re\n",
        "\n",
        "# 정규표현식 함수\n",
        "findall : 일치하는 문자열을 리스트로 반환\n",
        "split : 일치하는 문자열로 원래 문자열을 분할한 리스트로 반환\n",
        "sub : 일치하는 문자열을 치환한 문자열을 반환\n",
        "search : 일치하는 문자열이 있으면 Match 객체를 반환\n",
        "\n",
        "# 정규표현식\n",
        "# Chapter1\n",
        ". 줄바꿈 이외의 임의의 모든 문자\n",
        "... 줄바꿈 이외의 임의의 3문자 \n",
        "^ 문자열의 시작\n",
        "^... 문자열 시작에서 3문자 \n",
        "$ 문자열의 끝\n",
        "...$ 문자열 끝에서 3문자 \n",
        "* 직전 정규표현식을 0회이상 반복\n",
        "ab*c abc또는 ac에 일치\n",
        "+ 직전 정규표현식을 1회이상 반복\n",
        "ab+c abc에 일치\n",
        "? 직전 정규표현식이 0~1회 존재\n",
        "abcd? abc또는 abcd에 일치\n",
        "| 둘중 하나\n",
        "ab|cd ab또는 cd에 일치\n",
        "\n",
        "# Chapter2\n",
        "(...) 소괄호 안을 그루핑\n",
        "\n",
        "[...] 대괄호 안의 문자 중 하나\n",
        "[^...] 대괄호 안의 문자 중 하나도 없음\n",
        "\n",
        "x(ab|cd) x로 시작해 ab또는 cd에 일치 (ab|cd 그룹)\n",
        "\n",
        "\\ 직후 정규표션식 기호 무시\n",
        "\\\\ \\에 일치\n",
        "\n",
        "{n} 직전 정규표현식의 반복 횟수\n",
        "{n,} 직전 정규표현식의 최소 반복 횟수\n",
        "{n,m} 직전 정규표현식의 반복 횟수 범위\n",
        "\n",
        "A{3} A가 3회 반복되면 일치\n",
        "A{3, }A가 3회 이상 반복되면 일치\n",
        "A{3, 6}A가 3~6회 이상 반복되면 일치"
      ],
      "metadata": {
        "id": "lDjmNvLulU3k"
      },
      "execution_count": null,
      "outputs": []
    },
    {
      "cell_type": "markdown",
      "source": [
        "# findall 함수"
      ],
      "metadata": {
        "id": "Gwyxi_AnoL_m"
      }
    },
    {
      "cell_type": "code",
      "source": [
        "# findall 함수를 사용하면 지정한 조건에 일치하는 문자열을 리스트로 얻을 수 있다.\n",
        "\n",
        "# re.함수(r) -> raw문자열이라고 \n",
        "# 이스케이프가 필요한 메타 문자를 무시하는 효과가 있음\n",
        "# 사용할때는 앞에 r을 붙이는것이 좋음"
      ],
      "metadata": {
        "id": "uvk6sF_roKnT"
      },
      "execution_count": null,
      "outputs": []
    },
    {
      "cell_type": "code",
      "source": [
        "import re\n",
        "\n",
        "text1 = \"In the face of ambiguity, refuse the temptation to guess\"\n",
        "text2 = \"tx ti tp te t1 t2\"\n",
        "match_list = re.findall(r\"t.\", text1)"
      ],
      "metadata": {
        "id": "sSdYjX9woWRb"
      },
      "execution_count": null,
      "outputs": []
    },
    {
      "cell_type": "code",
      "source": [
        "print(match_list)"
      ],
      "metadata": {
        "colab": {
          "base_uri": "https://localhost:8080/"
        },
        "id": "PMq1FSzTosHZ",
        "outputId": "dec8a379-6163-4551-ed0d-4a89b203118d"
      },
      "execution_count": null,
      "outputs": [
        {
          "output_type": "stream",
          "name": "stdout",
          "text": [
            "['th', 'ty', 'th', 'te', 'ta', 'ti', 'to']\n"
          ]
        }
      ]
    },
    {
      "cell_type": "code",
      "source": [
        "text2 = \"tx ti tp te t1 t2 t# t- t~\"\n",
        "match_list = re.findall(r\"t.\", text2)\n",
        "print(match_list)"
      ],
      "metadata": {
        "colab": {
          "base_uri": "https://localhost:8080/"
        },
        "id": "0_V5GrSYox_x",
        "outputId": "8f0da1ea-6bcc-4870-cd4a-eb13fe05a1a3"
      },
      "execution_count": null,
      "outputs": [
        {
          "output_type": "stream",
          "name": "stdout",
          "text": [
            "['tx', 'ti', 'tp', 'te', 't1', 't2', 't#', 't-', 't~']\n"
          ]
        }
      ]
    },
    {
      "cell_type": "markdown",
      "source": [
        "# sub함수"
      ],
      "metadata": {
        "id": "yrq7XNqkpB7S"
      }
    },
    {
      "cell_type": "code",
      "source": [
        "# 정규표현식으로 치환하기\n",
        "\n",
        "# sub함수를 사용하면 정규표현식으로 치환할 수 있습니다.\n",
        "\n",
        "import re\n",
        "\n",
        "text = \"Beautiful is better than ugly\"\n",
        "#sub(대체 해야할 문자 / 대체 할 문자 / 데이터)\n",
        "replaced = re.sub(r\" a-zA-Z\", \"_\", text) #공백문자는 \\s로도 쓰입니다.\n",
        "print(replaced)"
      ],
      "metadata": {
        "colab": {
          "base_uri": "https://localhost:8080/"
        },
        "id": "hmTB4HXZo0uL",
        "outputId": "781fc92e-25ae-42d7-be9e-30763bd1f8ba"
      },
      "execution_count": null,
      "outputs": [
        {
          "output_type": "stream",
          "name": "stdout",
          "text": [
            "Beautiful_is_better_than_ugly\n"
          ]
        }
      ]
    },
    {
      "cell_type": "code",
      "source": [
        "# 정규표현식으로 치환하기\n",
        "\n",
        "# sub함수를 사용하면 정규표현식으로 치환할 수 있습니다.\n",
        "\n",
        "import re\n",
        "\n",
        "text = \"Beautiful is better than ugly\"\n",
        "#sub(대체 해야할 문자 / 대체 할 문자 / 데이터)\n",
        "replaced = re.sub(r\"\\s\", \"_\", text) #공백문자는 \\s로도 쓰입니다.\n",
        "print(replaced)"
      ],
      "metadata": {
        "colab": {
          "base_uri": "https://localhost:8080/"
        },
        "id": "QXY3wbCgqFbD",
        "outputId": "f07dbd44-a6d8-4f61-d3ff-cdc0a819fec8"
      },
      "execution_count": null,
      "outputs": [
        {
          "output_type": "stream",
          "name": "stdout",
          "text": [
            "Beautiful_is_better_than_ugly\n"
          ]
        }
      ]
    },
    {
      "cell_type": "markdown",
      "source": [
        "# 텍스트 분할 하기"
      ],
      "metadata": {
        "id": "ouEFrplVqtxF"
      }
    },
    {
      "cell_type": "code",
      "source": [
        "# 정규표현식으로 텍스트 분할하기\n",
        "\n",
        "# split함수를 사용하면 정규 표현식에 일치한 위치에서 분할한 문자열 리스트를 얻을 수 있습니다.\n",
        "\n",
        "text = 'Simple is Best'\n",
        "# ^ -> 문자의 시작 \n",
        "# + 직전 정규표현식을 1회이상 반복\n",
        "replaced = re.split((r\"[^a-zA-Z]+\"), text)\n",
        "print(replaced)\n",
        "\n",
        "#[^a-zA-Z0-9]+는 정규 표현식(regular expression)에서 사용되는 특수한 패턴으로, \n",
        "#알파벳 대소문자와 숫자가 아닌 문자들이 하나 이상 연속해서 나타나는 경우를 의미합니다.\n",
        "# 결국 공백을 구분자로 해서 분리"
      ],
      "metadata": {
        "colab": {
          "base_uri": "https://localhost:8080/"
        },
        "id": "OW3krmkuqK-1",
        "outputId": "154ed732-188b-4ce0-fe75-4939c8bb5e03"
      },
      "execution_count": null,
      "outputs": [
        {
          "output_type": "stream",
          "name": "stdout",
          "text": [
            "['Simple', 'is', 'Best']\n"
          ]
        }
      ]
    },
    {
      "cell_type": "markdown",
      "source": [
        "# 정규표현식에서 그룹 이용하기"
      ],
      "metadata": {
        "id": "mAgN5t8UrxgY"
      }
    },
    {
      "cell_type": "code",
      "source": [
        "# 정규표현식의 그룹은 데이터 분석 할때 자주 사용하는 기능으로\n",
        "# 원하는 객체를 그루핑할 수 있다라는 장점이 있습니다.\n",
        "\n",
        "# 제품 -> [0-9]+\n",
        "# 카탈로그 코드 [0-9A-Z]+\n",
        "# 제품명 .*\n",
        "# 구분 문자 공백\n",
        "\n",
        "# ([0-9]+) +([ 0-9 A-Z]+) +(.*)\n",
        "\n",
        "#홈쇼핑#\n",
        "text = \"\"\"\n",
        "101 CF001 커피 \n",
        "102 CF002 커피(대용량)\n",
        "201 TE01 홍차\n",
        "202 TE02 홍차(대용량)\n",
        "\"\"\"\n",
        "#group 1 \n",
        "#group 2\n",
        "#group 3\n",
        "items = re.findall(r'([0-9]+) +([ 0-9 A-Z]+) +(.*)', text)\n",
        "print(items)"
      ],
      "metadata": {
        "colab": {
          "base_uri": "https://localhost:8080/"
        },
        "id": "47DZ6dstrESx",
        "outputId": "2cc77ec0-bf22-4ddb-c536-e15a2a36bb87"
      },
      "execution_count": null,
      "outputs": [
        {
          "output_type": "stream",
          "name": "stdout",
          "text": [
            "[('101', 'CF001', '커피 '), ('102', 'CF002', '커피(대용량)'), ('201', 'TE01', '홍차'), ('202', 'TE02', '홍차(대용량)')]\n"
          ]
        }
      ]
    },
    {
      "cell_type": "markdown",
      "source": [
        "# 정규표현식에서 일치하는 부분 확인"
      ],
      "metadata": {
        "id": "9271fIjVCC41"
      }
    },
    {
      "cell_type": "code",
      "source": [
        "# 정규표현식과 일치하는 부분 확인\n",
        "\n",
        "# re 모듈의 serach함수는 정규표현식과 일치하는 첫 번째 위치 정보가 저장된 Match 객체를 반환\n",
        "# Match 객체를 사용하면 일치하는 위치의 문자열과 함께 시작 및 종료 위치 정보 확보 가능\n",
        "\n",
        "# match객체\n",
        "# start , end , group, groups 튜플 그룹\n",
        "\n",
        "import re\n",
        "\n",
        "text = 'Error should never pass silently'\n",
        "\n",
        "m_obj = re.search(r\"p...\", text)\n",
        "\n",
        "print(m_obj.group()) # 일치 문자열 ()로 묶인 것인 없음\n",
        "print(m_obj.start()) # 시작 인덱스\n",
        "print(m_obj.end()) # 끝 인덱스"
      ],
      "metadata": {
        "colab": {
          "base_uri": "https://localhost:8080/"
        },
        "id": "gNaaKsR9B2u8",
        "outputId": "4eed5c84-5995-434e-d82c-94bfb1578218"
      },
      "execution_count": null,
      "outputs": [
        {
          "output_type": "stream",
          "name": "stdout",
          "text": [
            "pass\n",
            "19\n",
            "23\n"
          ]
        }
      ]
    },
    {
      "cell_type": "code",
      "source": [
        "import re\n",
        "\n",
        "text = 'Errors should never pass silently'\n",
        "# 1번 그룹 - n.... n다음에 4글자가 아무거나\n",
        "# 2번 그룹 - P... n다음에 3글자가 아무거나\n",
        "\n",
        "m_obj = re.search(r\"(n....) (p...)\", text)\n",
        "print(m_obj.group())\n",
        "print(m_obj.groups())"
      ],
      "metadata": {
        "colab": {
          "base_uri": "https://localhost:8080/"
        },
        "id": "Z-WdbFGFCipj",
        "outputId": "d7102723-ea59-46ee-f1e0-1314c394a3a3"
      },
      "execution_count": null,
      "outputs": [
        {
          "output_type": "stream",
          "name": "stdout",
          "text": [
            "never pass\n",
            "('never', 'pass')\n"
          ]
        }
      ]
    },
    {
      "cell_type": "code",
      "source": [
        "print(m_obj.start()) # 시작 인덱스\n",
        "print(m_obj.end()) # 끝 인덱스"
      ],
      "metadata": {
        "colab": {
          "base_uri": "https://localhost:8080/"
        },
        "id": "-p23TJACDnZF",
        "outputId": "c0aee1cb-5d54-416e-d3f2-7d00ce11b933"
      },
      "execution_count": null,
      "outputs": [
        {
          "output_type": "stream",
          "name": "stdout",
          "text": [
            "14\n",
            "24\n"
          ]
        }
      ]
    },
    {
      "cell_type": "markdown",
      "source": [
        "# Greedy, Lazy 개념"
      ],
      "metadata": {
        "id": "BrFH4XBqDKxT"
      }
    },
    {
      "cell_type": "code",
      "source": [
        "# Greedy, Lazy 사용하기\n",
        "# 정규표현식이 패턴에 일치하는 문자열을 추출할때\n",
        "# 일치하는 최대한의 범위를 추출하는 상태를 greedy(탐욕)이라고 한다.\n",
        "\n",
        "# 최소한은  Lazy라고 하는데 파이썬은 기본적으로 greedy하지만\n",
        "# ?를 붙이는 순간 Lazy해진다. \n",
        "\n",
        "import re\n",
        "\n",
        "text = 'In the face of ambiguity, refuse the temptation to guess'\n",
        "\n",
        "match_list = re.findall(r\"t.*\\s\", text) # t에서 아무문자나 해서 직전까지 0번 반복되어 공백까지\n",
        "print(match_list)\n",
        "\n",
        "# ?를 붙이면 t에서 가장 가까운 공백까지만 일치하는 것을 찾는 것을 볼 수 있음"
      ],
      "metadata": {
        "colab": {
          "base_uri": "https://localhost:8080/"
        },
        "id": "J7vY1w3EDKQP",
        "outputId": "3872ed02-cecc-497e-c390-8ab63d835006"
      },
      "execution_count": null,
      "outputs": [
        {
          "output_type": "stream",
          "name": "stdout",
          "text": [
            "['the face of ambiguity, refuse the temptation to ']\n"
          ]
        }
      ]
    },
    {
      "cell_type": "code",
      "source": [
        "import re\n",
        "\n",
        "text = 'In the face of ambiguity, refuse the temptation to guess'\n",
        "\n",
        "match_list = re.findall(r\"t.*?\\s\", text) # t에서 아무문자나 해서 직전까지 0번 반복되어 공백까지\n",
        "print(match_list)"
      ],
      "metadata": {
        "colab": {
          "base_uri": "https://localhost:8080/"
        },
        "id": "lcoQxTPOC_nF",
        "outputId": "e10e74d3-a54c-4922-a389-59e78f739461"
      },
      "execution_count": null,
      "outputs": [
        {
          "output_type": "stream",
          "name": "stdout",
          "text": [
            "['the ', 'ty, ', 'the ', 'temptation ', 'to ']\n"
          ]
        }
      ]
    },
    {
      "cell_type": "markdown",
      "source": [
        "# 정규표현식 실습\n",
        "\n",
        "[우리가 자주 사용할 함수]\n",
        "\n",
        "* findall - 일치하는 문자열을 리스트로 반환\n",
        "* split - 일치하는 문자열로 원래 문자열을 분할한 리스트로 반환\n",
        "* sub - 일치하는 문자열을 치환한 문자열을 반환\n",
        "* search - 일치하는 문자열이 있으면 match 객체를 반환\n",
        "\n",
        "[대표적인 정규표현식]\n",
        "\n",
        "* . 줄바꿈 이외의 임의의 문자\n",
        "* ^ 문자열 시작\n",
        "* $ 문자열의 끝, 또는 문자열 끝 줄바꿈 직전\n",
        "* * 직전 정규표현식은 0회 이상 반복\n",
        "* + 직전 정규표현식을 1회 이상 반복\n",
        "* ? 직전 정규표현식이 0회 또는 1회 존재\n",
        "\n",
        "[자주 사용하는 문자 클래스]\n",
        "# 꼭 기억해야할 정규표현식\n",
        "* \\d 숫자와 매치 [0-9]와 같다.\n",
        "* \\D 숫자가 아닌것과 매치 [^0-9]와 같다.\n",
        "\n",
        "* \\s whitespace문자와 매치 [ \\t\\n\\r\\f\\v]와 같음. 맨앞의 빈칸은 공백을 의미\n",
        "* \\S whitespace문자가 아닌것과 매치 [^ \\t\\n\\r\\f\\v]와 같음.\n",
        "\n",
        "* \\w 문자+숫자와 매치 [a-zA-Z0-9_]와 같습니다.\n",
        "* \\W 문자+숫자가 아닌 문자와 매치 [^a-zA-Z0-9_]와 같습니다.\n",
        "\n",
        "* \\\\ 메타 문자가 아닌 일반 문자 역슬래시와 매치. 매타 문자 앞에 W를 붙이면 일반문자를 위미\n",
        "\n"
      ],
      "metadata": {
        "id": "RXuwOan9GO92"
      }
    },
    {
      "cell_type": "code",
      "source": [
        "# 주소록입니다. 이후 강의에서 모두 이 search_target을 사용합니다.\n",
        "search_target = '''\n",
        "hello world\n",
        "hello  world\n",
        "hello, world\n",
        "Hello World\n",
        "\n",
        "hello world hello\n",
        "\n",
        "hello\n",
        "hallo\n",
        "hollo\n",
        "heallo\n",
        "yellow\n",
        "\n",
        "Monday Tuesday Wednesday Thursday Friday Saturday Sunday\n",
        "\n",
        "abcdefghijklmnopqrstuvwxyzABCDEFGHIJKLMNOPQRSTUVWXYZ01234567891011121314151617181920\n",
        "aaabbcaaabbcabcabc\n",
        "aaa bb c aaa bb c a b c a b c\n",
        "aaa1bb2c3aaa4bb5c6\n",
        "\n",
        "[123456]\n",
        "123[456]789\n",
        "abc[def]ghij\n",
        "\n",
        "010-9091-5491\n",
        "010-5043-2901\n",
        "010-5050-40409\n",
        "010-49492-3131\n",
        "010 2913 3132\n",
        "01019133829\n",
        "064-721-3213\n",
        "010.1913.3829\n",
        "\n",
        "\n",
        "paul-korea@naver.com\n",
        "paul@naver.com\n",
        "leehojun@gmail.com\n",
        "hojun.lee@gmail.com\n",
        "test.test@go.go.go\n",
        "\n",
        "\n",
        "https://github.com/LiveCoronaDetector/livecod\n",
        "github.com/LiveCoronaDetector/livecod\n",
        "https://github.com/LiveCoronaDetector\n",
        "\n",
        "I never dreamed about success, I worked for it.\n",
        "Do not be afraid to give up the good to go for the great.\n",
        "\n",
        "hello (hello world) hello\n",
        "hello \\\\hello world// hello\n",
        "^^\n",
        ":)\n",
        "\n",
        "[(name, leehojun), (age, 10), (height, 180), (email, paul-lab@naver.com)]\n",
        "{name : leehojun, age : 10, height : 180, email : paul-lab@naver.com}\n",
        "\n",
        "가나다라마바사아자차카타파하\n",
        "ㄱㄴㄷㄹㅁㅂㅅㅇㅈㅊㅋㅌㅍㅎ\n",
        "안녕_하세요\n",
        "안녕-하세요\n",
        "수사\n",
        "수박\n",
        "수상\n",
        "동해 물과 백두산이 마르고 닳도록 하느님이 보호하사 우리나라 만세\n",
        "'''"
      ],
      "metadata": {
        "id": "95azhqKiEYWM"
      },
      "execution_count": null,
      "outputs": []
    },
    {
      "cell_type": "code",
      "source": [
        "print(search_target)"
      ],
      "metadata": {
        "colab": {
          "base_uri": "https://localhost:8080/"
        },
        "id": "9m4zA365HR3L",
        "outputId": "442706d7-8f2d-437a-e5f3-6cd5876d902a"
      },
      "execution_count": null,
      "outputs": [
        {
          "output_type": "stream",
          "name": "stdout",
          "text": [
            "\n",
            "hello world\n",
            "hello  world\n",
            "hello, world\n",
            "Hello World\n",
            "\n",
            "hello world hello\n",
            "\n",
            "hello\n",
            "hallo\n",
            "hollo\n",
            "heallo\n",
            "yellow\n",
            "\n",
            "Monday Tuesday Wednesday Thursday Friday Saturday Sunday\n",
            "\n",
            "abcdefghijklmnopqrstuvwxyzABCDEFGHIJKLMNOPQRSTUVWXYZ01234567891011121314151617181920\n",
            "aaabbcaaabbcabcabc\n",
            "aaa bb c aaa bb c a b c a b c\n",
            "aaa1bb2c3aaa4bb5c6\n",
            "\n",
            "[123456]\n",
            "123[456]789\n",
            "abc[def]ghij\n",
            "\n",
            "010-9091-5491\n",
            "010-5043-2901\n",
            "010-5050-40409\n",
            "010-49492-3131\n",
            "010 2913 3132\n",
            "01019133829\n",
            "064-721-3213\n",
            "010.1913.3829\n",
            "\n",
            "\n",
            "paul-korea@naver.com\n",
            "paul@naver.com\n",
            "leehojun@gmail.com\n",
            "hojun.lee@gmail.com\n",
            "test.test@go.go.go\n",
            "\n",
            "\n",
            "https://github.com/LiveCoronaDetector/livecod\n",
            "github.com/LiveCoronaDetector/livecod\n",
            "https://github.com/LiveCoronaDetector\n",
            "\n",
            "I never dreamed about success, I worked for it.\n",
            "Do not be afraid to give up the good to go for the great.\n",
            "\n",
            "hello (hello world) hello\n",
            "hello \\hello world// hello\n",
            "^^\n",
            ":)\n",
            "\n",
            "[(name, leehojun), (age, 10), (height, 180), (email, paul-lab@naver.com)]\n",
            "{name : leehojun, age : 10, height : 180, email : paul-lab@naver.com}\n",
            "\n",
            "가나다라마바사아자차카타파하\n",
            "ㄱㄴㄷㄹㅁㅂㅅㅇㅈㅊㅋㅌㅍㅎ\n",
            "안녕_하세요\n",
            "안녕-하세요\n",
            "수사\n",
            "수박\n",
            "수상\n",
            "동해 물과 백두산이 마르고 닳도록 하느님이 보호하사 우리나라 만세\n",
            "\n"
          ]
        }
      ]
    },
    {
      "cell_type": "code",
      "source": [
        "# 숫자 대표 정규표현식\n",
        "regex = r'\\d'\n",
        "\n",
        "# 글자 / 숫자 대표 정규표현식\n",
        "regex = r'\\w'\n",
        "\n",
        "# 정규표현식과 일치하는 부분을 모두 찾아주는 파이썬 코드입니다.\n",
        "import re\n",
        "result = re.findall(regex, search_target)\n",
        "print(\"\\n\".join(result))"
      ],
      "metadata": {
        "colab": {
          "base_uri": "https://localhost:8080/"
        },
        "id": "5iPqkyz0HTtj",
        "outputId": "4b04067a-3055-482a-f246-250452ab9e98"
      },
      "execution_count": null,
      "outputs": [
        {
          "output_type": "stream",
          "name": "stdout",
          "text": [
            "h\n",
            "e\n",
            "l\n",
            "l\n",
            "o\n",
            "w\n",
            "o\n",
            "r\n",
            "l\n",
            "d\n",
            "h\n",
            "e\n",
            "l\n",
            "l\n",
            "o\n",
            "w\n",
            "o\n",
            "r\n",
            "l\n",
            "d\n",
            "h\n",
            "e\n",
            "l\n",
            "l\n",
            "o\n",
            "w\n",
            "o\n",
            "r\n",
            "l\n",
            "d\n",
            "H\n",
            "e\n",
            "l\n",
            "l\n",
            "o\n",
            "W\n",
            "o\n",
            "r\n",
            "l\n",
            "d\n",
            "h\n",
            "e\n",
            "l\n",
            "l\n",
            "o\n",
            "w\n",
            "o\n",
            "r\n",
            "l\n",
            "d\n",
            "h\n",
            "e\n",
            "l\n",
            "l\n",
            "o\n",
            "h\n",
            "e\n",
            "l\n",
            "l\n",
            "o\n",
            "h\n",
            "a\n",
            "l\n",
            "l\n",
            "o\n",
            "h\n",
            "o\n",
            "l\n",
            "l\n",
            "o\n",
            "h\n",
            "e\n",
            "a\n",
            "l\n",
            "l\n",
            "o\n",
            "y\n",
            "e\n",
            "l\n",
            "l\n",
            "o\n",
            "w\n",
            "M\n",
            "o\n",
            "n\n",
            "d\n",
            "a\n",
            "y\n",
            "T\n",
            "u\n",
            "e\n",
            "s\n",
            "d\n",
            "a\n",
            "y\n",
            "W\n",
            "e\n",
            "d\n",
            "n\n",
            "e\n",
            "s\n",
            "d\n",
            "a\n",
            "y\n",
            "T\n",
            "h\n",
            "u\n",
            "r\n",
            "s\n",
            "d\n",
            "a\n",
            "y\n",
            "F\n",
            "r\n",
            "i\n",
            "d\n",
            "a\n",
            "y\n",
            "S\n",
            "a\n",
            "t\n",
            "u\n",
            "r\n",
            "d\n",
            "a\n",
            "y\n",
            "S\n",
            "u\n",
            "n\n",
            "d\n",
            "a\n",
            "y\n",
            "a\n",
            "b\n",
            "c\n",
            "d\n",
            "e\n",
            "f\n",
            "g\n",
            "h\n",
            "i\n",
            "j\n",
            "k\n",
            "l\n",
            "m\n",
            "n\n",
            "o\n",
            "p\n",
            "q\n",
            "r\n",
            "s\n",
            "t\n",
            "u\n",
            "v\n",
            "w\n",
            "x\n",
            "y\n",
            "z\n",
            "A\n",
            "B\n",
            "C\n",
            "D\n",
            "E\n",
            "F\n",
            "G\n",
            "H\n",
            "I\n",
            "J\n",
            "K\n",
            "L\n",
            "M\n",
            "N\n",
            "O\n",
            "P\n",
            "Q\n",
            "R\n",
            "S\n",
            "T\n",
            "U\n",
            "V\n",
            "W\n",
            "X\n",
            "Y\n",
            "Z\n",
            "0\n",
            "1\n",
            "2\n",
            "3\n",
            "4\n",
            "5\n",
            "6\n",
            "7\n",
            "8\n",
            "9\n",
            "1\n",
            "0\n",
            "1\n",
            "1\n",
            "1\n",
            "2\n",
            "1\n",
            "3\n",
            "1\n",
            "4\n",
            "1\n",
            "5\n",
            "1\n",
            "6\n",
            "1\n",
            "7\n",
            "1\n",
            "8\n",
            "1\n",
            "9\n",
            "2\n",
            "0\n",
            "a\n",
            "a\n",
            "a\n",
            "b\n",
            "b\n",
            "c\n",
            "a\n",
            "a\n",
            "a\n",
            "b\n",
            "b\n",
            "c\n",
            "a\n",
            "b\n",
            "c\n",
            "a\n",
            "b\n",
            "c\n",
            "a\n",
            "a\n",
            "a\n",
            "b\n",
            "b\n",
            "c\n",
            "a\n",
            "a\n",
            "a\n",
            "b\n",
            "b\n",
            "c\n",
            "a\n",
            "b\n",
            "c\n",
            "a\n",
            "b\n",
            "c\n",
            "a\n",
            "a\n",
            "a\n",
            "1\n",
            "b\n",
            "b\n",
            "2\n",
            "c\n",
            "3\n",
            "a\n",
            "a\n",
            "a\n",
            "4\n",
            "b\n",
            "b\n",
            "5\n",
            "c\n",
            "6\n",
            "1\n",
            "2\n",
            "3\n",
            "4\n",
            "5\n",
            "6\n",
            "1\n",
            "2\n",
            "3\n",
            "4\n",
            "5\n",
            "6\n",
            "7\n",
            "8\n",
            "9\n",
            "a\n",
            "b\n",
            "c\n",
            "d\n",
            "e\n",
            "f\n",
            "g\n",
            "h\n",
            "i\n",
            "j\n",
            "0\n",
            "1\n",
            "0\n",
            "9\n",
            "0\n",
            "9\n",
            "1\n",
            "5\n",
            "4\n",
            "9\n",
            "1\n",
            "0\n",
            "1\n",
            "0\n",
            "5\n",
            "0\n",
            "4\n",
            "3\n",
            "2\n",
            "9\n",
            "0\n",
            "1\n",
            "0\n",
            "1\n",
            "0\n",
            "5\n",
            "0\n",
            "5\n",
            "0\n",
            "4\n",
            "0\n",
            "4\n",
            "0\n",
            "9\n",
            "0\n",
            "1\n",
            "0\n",
            "4\n",
            "9\n",
            "4\n",
            "9\n",
            "2\n",
            "3\n",
            "1\n",
            "3\n",
            "1\n",
            "0\n",
            "1\n",
            "0\n",
            "2\n",
            "9\n",
            "1\n",
            "3\n",
            "3\n",
            "1\n",
            "3\n",
            "2\n",
            "0\n",
            "1\n",
            "0\n",
            "1\n",
            "9\n",
            "1\n",
            "3\n",
            "3\n",
            "8\n",
            "2\n",
            "9\n",
            "0\n",
            "6\n",
            "4\n",
            "7\n",
            "2\n",
            "1\n",
            "3\n",
            "2\n",
            "1\n",
            "3\n",
            "0\n",
            "1\n",
            "0\n",
            "1\n",
            "9\n",
            "1\n",
            "3\n",
            "3\n",
            "8\n",
            "2\n",
            "9\n",
            "p\n",
            "a\n",
            "u\n",
            "l\n",
            "k\n",
            "o\n",
            "r\n",
            "e\n",
            "a\n",
            "n\n",
            "a\n",
            "v\n",
            "e\n",
            "r\n",
            "c\n",
            "o\n",
            "m\n",
            "p\n",
            "a\n",
            "u\n",
            "l\n",
            "n\n",
            "a\n",
            "v\n",
            "e\n",
            "r\n",
            "c\n",
            "o\n",
            "m\n",
            "l\n",
            "e\n",
            "e\n",
            "h\n",
            "o\n",
            "j\n",
            "u\n",
            "n\n",
            "g\n",
            "m\n",
            "a\n",
            "i\n",
            "l\n",
            "c\n",
            "o\n",
            "m\n",
            "h\n",
            "o\n",
            "j\n",
            "u\n",
            "n\n",
            "l\n",
            "e\n",
            "e\n",
            "g\n",
            "m\n",
            "a\n",
            "i\n",
            "l\n",
            "c\n",
            "o\n",
            "m\n",
            "t\n",
            "e\n",
            "s\n",
            "t\n",
            "t\n",
            "e\n",
            "s\n",
            "t\n",
            "g\n",
            "o\n",
            "g\n",
            "o\n",
            "g\n",
            "o\n",
            "h\n",
            "t\n",
            "t\n",
            "p\n",
            "s\n",
            "g\n",
            "i\n",
            "t\n",
            "h\n",
            "u\n",
            "b\n",
            "c\n",
            "o\n",
            "m\n",
            "L\n",
            "i\n",
            "v\n",
            "e\n",
            "C\n",
            "o\n",
            "r\n",
            "o\n",
            "n\n",
            "a\n",
            "D\n",
            "e\n",
            "t\n",
            "e\n",
            "c\n",
            "t\n",
            "o\n",
            "r\n",
            "l\n",
            "i\n",
            "v\n",
            "e\n",
            "c\n",
            "o\n",
            "d\n",
            "g\n",
            "i\n",
            "t\n",
            "h\n",
            "u\n",
            "b\n",
            "c\n",
            "o\n",
            "m\n",
            "L\n",
            "i\n",
            "v\n",
            "e\n",
            "C\n",
            "o\n",
            "r\n",
            "o\n",
            "n\n",
            "a\n",
            "D\n",
            "e\n",
            "t\n",
            "e\n",
            "c\n",
            "t\n",
            "o\n",
            "r\n",
            "l\n",
            "i\n",
            "v\n",
            "e\n",
            "c\n",
            "o\n",
            "d\n",
            "h\n",
            "t\n",
            "t\n",
            "p\n",
            "s\n",
            "g\n",
            "i\n",
            "t\n",
            "h\n",
            "u\n",
            "b\n",
            "c\n",
            "o\n",
            "m\n",
            "L\n",
            "i\n",
            "v\n",
            "e\n",
            "C\n",
            "o\n",
            "r\n",
            "o\n",
            "n\n",
            "a\n",
            "D\n",
            "e\n",
            "t\n",
            "e\n",
            "c\n",
            "t\n",
            "o\n",
            "r\n",
            "I\n",
            "n\n",
            "e\n",
            "v\n",
            "e\n",
            "r\n",
            "d\n",
            "r\n",
            "e\n",
            "a\n",
            "m\n",
            "e\n",
            "d\n",
            "a\n",
            "b\n",
            "o\n",
            "u\n",
            "t\n",
            "s\n",
            "u\n",
            "c\n",
            "c\n",
            "e\n",
            "s\n",
            "s\n",
            "I\n",
            "w\n",
            "o\n",
            "r\n",
            "k\n",
            "e\n",
            "d\n",
            "f\n",
            "o\n",
            "r\n",
            "i\n",
            "t\n",
            "D\n",
            "o\n",
            "n\n",
            "o\n",
            "t\n",
            "b\n",
            "e\n",
            "a\n",
            "f\n",
            "r\n",
            "a\n",
            "i\n",
            "d\n",
            "t\n",
            "o\n",
            "g\n",
            "i\n",
            "v\n",
            "e\n",
            "u\n",
            "p\n",
            "t\n",
            "h\n",
            "e\n",
            "g\n",
            "o\n",
            "o\n",
            "d\n",
            "t\n",
            "o\n",
            "g\n",
            "o\n",
            "f\n",
            "o\n",
            "r\n",
            "t\n",
            "h\n",
            "e\n",
            "g\n",
            "r\n",
            "e\n",
            "a\n",
            "t\n",
            "h\n",
            "e\n",
            "l\n",
            "l\n",
            "o\n",
            "h\n",
            "e\n",
            "l\n",
            "l\n",
            "o\n",
            "w\n",
            "o\n",
            "r\n",
            "l\n",
            "d\n",
            "h\n",
            "e\n",
            "l\n",
            "l\n",
            "o\n",
            "h\n",
            "e\n",
            "l\n",
            "l\n",
            "o\n",
            "h\n",
            "e\n",
            "l\n",
            "l\n",
            "o\n",
            "w\n",
            "o\n",
            "r\n",
            "l\n",
            "d\n",
            "h\n",
            "e\n",
            "l\n",
            "l\n",
            "o\n",
            "n\n",
            "a\n",
            "m\n",
            "e\n",
            "l\n",
            "e\n",
            "e\n",
            "h\n",
            "o\n",
            "j\n",
            "u\n",
            "n\n",
            "a\n",
            "g\n",
            "e\n",
            "1\n",
            "0\n",
            "h\n",
            "e\n",
            "i\n",
            "g\n",
            "h\n",
            "t\n",
            "1\n",
            "8\n",
            "0\n",
            "e\n",
            "m\n",
            "a\n",
            "i\n",
            "l\n",
            "p\n",
            "a\n",
            "u\n",
            "l\n",
            "l\n",
            "a\n",
            "b\n",
            "n\n",
            "a\n",
            "v\n",
            "e\n",
            "r\n",
            "c\n",
            "o\n",
            "m\n",
            "n\n",
            "a\n",
            "m\n",
            "e\n",
            "l\n",
            "e\n",
            "e\n",
            "h\n",
            "o\n",
            "j\n",
            "u\n",
            "n\n",
            "a\n",
            "g\n",
            "e\n",
            "1\n",
            "0\n",
            "h\n",
            "e\n",
            "i\n",
            "g\n",
            "h\n",
            "t\n",
            "1\n",
            "8\n",
            "0\n",
            "e\n",
            "m\n",
            "a\n",
            "i\n",
            "l\n",
            "p\n",
            "a\n",
            "u\n",
            "l\n",
            "l\n",
            "a\n",
            "b\n",
            "n\n",
            "a\n",
            "v\n",
            "e\n",
            "r\n",
            "c\n",
            "o\n",
            "m\n",
            "가\n",
            "나\n",
            "다\n",
            "라\n",
            "마\n",
            "바\n",
            "사\n",
            "아\n",
            "자\n",
            "차\n",
            "카\n",
            "타\n",
            "파\n",
            "하\n",
            "ㄱ\n",
            "ㄴ\n",
            "ㄷ\n",
            "ㄹ\n",
            "ㅁ\n",
            "ㅂ\n",
            "ㅅ\n",
            "ㅇ\n",
            "ㅈ\n",
            "ㅊ\n",
            "ㅋ\n",
            "ㅌ\n",
            "ㅍ\n",
            "ㅎ\n",
            "안\n",
            "녕\n",
            "_\n",
            "하\n",
            "세\n",
            "요\n",
            "안\n",
            "녕\n",
            "하\n",
            "세\n",
            "요\n",
            "수\n",
            "사\n",
            "수\n",
            "박\n",
            "수\n",
            "상\n",
            "동\n",
            "해\n",
            "물\n",
            "과\n",
            "백\n",
            "두\n",
            "산\n",
            "이\n",
            "마\n",
            "르\n",
            "고\n",
            "닳\n",
            "도\n",
            "록\n",
            "하\n",
            "느\n",
            "님\n",
            "이\n",
            "보\n",
            "호\n",
            "하\n",
            "사\n",
            "우\n",
            "리\n",
            "나\n",
            "라\n",
            "만\n",
            "세\n"
          ]
        }
      ]
    },
    {
      "cell_type": "code",
      "source": [
        "# Hello 단어를 검색봅시다.\n",
        "regex = r'hello'\n",
        "\n",
        "# 정규표현식과 일치하는 부분을 모두 찾아주는 파이썬 코드입니다.\n",
        "import re\n",
        "result = re.findall(regex, search_target)\n",
        "print(\"\\n\".join(result))"
      ],
      "metadata": {
        "colab": {
          "base_uri": "https://localhost:8080/"
        },
        "id": "wJuvi4KUIJ2z",
        "outputId": "d453f2ee-3b9a-46be-a1bc-cca126ef42da"
      },
      "execution_count": null,
      "outputs": [
        {
          "output_type": "stream",
          "name": "stdout",
          "text": [
            "hello\n",
            "hello\n",
            "hello\n",
            "hello\n",
            "hello\n",
            "hello\n",
            "hello\n",
            "hello\n",
            "hello\n",
            "hello\n",
            "hello\n",
            "hello\n"
          ]
        }
      ]
    },
    {
      "cell_type": "code",
      "source": [
        "# 맨처음에 와야하는 것 ^\n",
        "m1 = re.findall(\"^Life\", \"Life is too short\")\n",
        "print(\"m1 결과 : \", m1)"
      ],
      "metadata": {
        "colab": {
          "base_uri": "https://localhost:8080/"
        },
        "id": "t6vlEUxSMa1Y",
        "outputId": "ca761c37-0a9e-4299-96b8-dbec3ae217b0"
      },
      "execution_count": null,
      "outputs": [
        {
          "output_type": "stream",
          "name": "stdout",
          "text": [
            "m1 결과 :  ['Life']\n"
          ]
        }
      ]
    },
    {
      "cell_type": "code",
      "source": [
        "# 맨처음에 와야하는 것 ^\n",
        "m2 = re.findall(\"^is\", \"Life is too short\")\n",
        "print(\"m2 결과 : \", m2)"
      ],
      "metadata": {
        "colab": {
          "base_uri": "https://localhost:8080/"
        },
        "id": "LJzv228cMav0",
        "outputId": "99a055f8-31fd-42ee-d397-d5d510a7874c"
      },
      "execution_count": null,
      "outputs": [
        {
          "output_type": "stream",
          "name": "stdout",
          "text": [
            "m2 결과 :  []\n"
          ]
        }
      ]
    },
    {
      "cell_type": "code",
      "source": [
        "# 맨 마지막에 와야하는 것\n",
        "m1 = re.findall(\"short$\", \"Life is too short\")\n",
        "m2 = re.findall(\"short$\", \"Life is too short. So what?\")\n",
        " \n",
        "print(\"m1 결과 : \", m1)\n",
        "print(\"m2 결과 : \", m2)"
      ],
      "metadata": {
        "colab": {
          "base_uri": "https://localhost:8080/"
        },
        "id": "qjytsgcQMap5",
        "outputId": "9a789323-63d6-48fa-ddd3-92bc041f678c"
      },
      "execution_count": null,
      "outputs": [
        {
          "output_type": "stream",
          "name": "stdout",
          "text": [
            "m1 결과 :  ['short']\n",
            "m2 결과 :  []\n"
          ]
        }
      ]
    },
    {
      "cell_type": "code",
      "source": [
        "# 특정문자 1개 . \n",
        "import re\n",
        "regex = re.compile('ema.l')\n",
        "\n",
        "# 정규표현식과 일치하는 부분을 모두 찾아주는 파이썬 코드입니다.\n",
        "import re\n",
        "result = re.findall(regex, search_target)\n",
        "print(\"\\n\".join(result))"
      ],
      "metadata": {
        "colab": {
          "base_uri": "https://localhost:8080/"
        },
        "id": "_6c6XP1qMOfG",
        "outputId": "e88418c1-9d73-4bb9-b31d-bff2eca42425"
      },
      "execution_count": null,
      "outputs": [
        {
          "output_type": "stream",
          "name": "stdout",
          "text": [
            "email\n",
            "email\n"
          ]
        }
      ]
    },
    {
      "cell_type": "code",
      "source": [
        "# 특정문자 6개 .(공백포함) \n",
        "import re\n",
        "regex = re.compile('......')\n",
        "\n",
        "# 정규표현식과 일치하는 부분을 모두 찾아주는 파이썬 코드입니다.\n",
        "import re\n",
        "result = re.findall(regex, search_target)\n",
        "print(\"\\n\".join(result))"
      ],
      "metadata": {
        "colab": {
          "base_uri": "https://localhost:8080/"
        },
        "id": "WKcAEWt5NYYq",
        "outputId": "87ae3757-1464-4d58-ae44-495ef2450aef"
      },
      "execution_count": null,
      "outputs": [
        {
          "output_type": "stream",
          "name": "stdout",
          "text": [
            "hello \n",
            "hello \n",
            " world\n",
            "hello,\n",
            " world\n",
            "Hello \n",
            "hello \n",
            "world \n",
            "heallo\n",
            "yellow\n",
            "Monday\n",
            " Tuesd\n",
            "ay Wed\n",
            "nesday\n",
            " Thurs\n",
            "day Fr\n",
            "iday S\n",
            "aturda\n",
            "y Sund\n",
            "abcdef\n",
            "ghijkl\n",
            "mnopqr\n",
            "stuvwx\n",
            "yzABCD\n",
            "EFGHIJ\n",
            "KLMNOP\n",
            "QRSTUV\n",
            "WXYZ01\n",
            "234567\n",
            "891011\n",
            "121314\n",
            "151617\n",
            "181920\n",
            "aaabbc\n",
            "aaabbc\n",
            "abcabc\n",
            "aaa bb\n",
            " c aaa\n",
            " bb c \n",
            "a b c \n",
            "aaa1bb\n",
            "2c3aaa\n",
            "4bb5c6\n",
            "[12345\n",
            "123[45\n",
            "abc[de\n",
            "f]ghij\n",
            "010-90\n",
            "91-549\n",
            "010-50\n",
            "43-290\n",
            "010-50\n",
            "50-404\n",
            "010-49\n",
            "492-31\n",
            "010 29\n",
            "13 313\n",
            "010191\n",
            "064-72\n",
            "1-3213\n",
            "010.19\n",
            "13.382\n",
            "paul-k\n",
            "orea@n\n",
            "aver.c\n",
            "paul@n\n",
            "aver.c\n",
            "leehoj\n",
            "un@gma\n",
            "il.com\n",
            "hojun.\n",
            "lee@gm\n",
            "ail.co\n",
            "test.t\n",
            "est@go\n",
            ".go.go\n",
            "https:\n",
            "//gith\n",
            "ub.com\n",
            "/LiveC\n",
            "oronaD\n",
            "etecto\n",
            "r/live\n",
            "github\n",
            ".com/L\n",
            "iveCor\n",
            "onaDet\n",
            "ector/\n",
            "liveco\n",
            "https:\n",
            "//gith\n",
            "ub.com\n",
            "/LiveC\n",
            "oronaD\n",
            "etecto\n",
            "I neve\n",
            "r drea\n",
            "med ab\n",
            "out su\n",
            "ccess,\n",
            " I wor\n",
            "ked fo\n",
            "Do not\n",
            " be af\n",
            "raid t\n",
            "o give\n",
            " up th\n",
            "e good\n",
            " to go\n",
            " for t\n",
            "he gre\n",
            "hello \n",
            "(hello\n",
            " world\n",
            ") hell\n",
            "hello \n",
            "\\hello\n",
            " world\n",
            "// hel\n",
            "[(name\n",
            ", leeh\n",
            "ojun),\n",
            " (age,\n",
            " 10), \n",
            "(heigh\n",
            "t, 180\n",
            "), (em\n",
            "ail, p\n",
            "aul-la\n",
            "b@nave\n",
            "r.com)\n",
            "{name \n",
            ": leeh\n",
            "ojun, \n",
            "age : \n",
            "10, he\n",
            "ight :\n",
            " 180, \n",
            "email \n",
            ": paul\n",
            "-lab@n\n",
            "aver.c\n",
            "가나다라마바\n",
            "사아자차카타\n",
            "ㄱㄴㄷㄹㅁㅂ\n",
            "ㅅㅇㅈㅊㅋㅌ\n",
            "안녕_하세요\n",
            "안녕-하세요\n",
            "동해 물과 \n",
            "백두산이 마\n",
            "르고 닳도록\n",
            " 하느님이 \n",
            "보호하사 우\n",
            "리나라 만세\n"
          ]
        }
      ]
    },
    {
      "cell_type": "code",
      "source": [
        "# 여러가지 중에 택 1해서 찾기\n",
        "\n",
        "regex = re.compile(r'h[aeyo]llo')\n",
        "\n",
        "# 정규표현식과 일치하는 부분을 모두 찾아주는 파이썬 코드입니다.\n",
        "import re\n",
        "result = re.findall(regex, search_target)\n",
        "print(\"\\n\".join(result))"
      ],
      "metadata": {
        "colab": {
          "base_uri": "https://localhost:8080/"
        },
        "id": "qKUneNdsNxV5",
        "outputId": "b1f26f40-17b4-4e45-f667-2cfb9c435d5a"
      },
      "execution_count": null,
      "outputs": [
        {
          "output_type": "stream",
          "name": "stdout",
          "text": [
            "hello\n",
            "hello\n",
            "hello\n",
            "hello\n",
            "hello\n",
            "hello\n",
            "hallo\n",
            "hollo\n",
            "hello\n",
            "hello\n",
            "hello\n",
            "hello\n",
            "hello\n",
            "hello\n"
          ]
        }
      ]
    },
    {
      "cell_type": "code",
      "source": [
        "# 여러가지 중에 택 1해서 찾기\n",
        "\n",
        "regex = re.compile(r'h[aeyo]l..')\n",
        "\n",
        "# 정규표현식과 일치하는 부분을 모두 찾아주는 파이썬 코드입니다.\n",
        "import re\n",
        "result = re.findall(regex, search_target)\n",
        "print(\"\\n\".join(result))"
      ],
      "metadata": {
        "colab": {
          "base_uri": "https://localhost:8080/"
        },
        "id": "t2ZsPF0UOUQ_",
        "outputId": "d45c943a-ce64-416b-8c3f-7b13a31743a4"
      },
      "execution_count": null,
      "outputs": [
        {
          "output_type": "stream",
          "name": "stdout",
          "text": [
            "hello\n",
            "hello\n",
            "hello\n",
            "hello\n",
            "hello\n",
            "hello\n",
            "hallo\n",
            "hollo\n",
            "hello\n",
            "hello\n",
            "hello\n",
            "hello\n",
            "hello\n",
            "hello\n"
          ]
        }
      ]
    },
    {
      "cell_type": "code",
      "source": [
        "# 여러가지 중에 택 1해서 찾기 - 대문자\n",
        "\n",
        "regex = re.compile(r'h[aeyo]l..', re.I) # I 대소문자 구분 X\n",
        "\n",
        "# 정규표현식과 일치하는 부분을 모두 찾아주는 파이썬 코드입니다.\n",
        "import re\n",
        "result = re.findall(regex, search_target)\n",
        "print(\"\\n\".join(result))"
      ],
      "metadata": {
        "colab": {
          "base_uri": "https://localhost:8080/"
        },
        "id": "HmnHYrl7OrJF",
        "outputId": "222aeaaf-3870-4ce6-918f-ab5eddfe72d8"
      },
      "execution_count": null,
      "outputs": [
        {
          "output_type": "stream",
          "name": "stdout",
          "text": [
            "hello\n",
            "hello\n",
            "hello\n",
            "Hello\n",
            "hello\n",
            "hello\n",
            "hello\n",
            "hallo\n",
            "hollo\n",
            "hello\n",
            "hello\n",
            "hello\n",
            "hello\n",
            "hello\n",
            "hello\n"
          ]
        }
      ]
    },
    {
      "cell_type": "code",
      "source": [
        "# 여러가지 중에 택 1해서 찾기 - 대문자\n",
        "\n",
        "regex = re.compile(r'h[a-f]l..') # a-f사이 중에 1개\n",
        "\n",
        "# 정규표현식과 일치하는 부분을 모두 찾아주는 파이썬 코드입니다.\n",
        "import re\n",
        "result = re.findall(regex, search_target)\n",
        "print(\"\\n\".join(result))"
      ],
      "metadata": {
        "colab": {
          "base_uri": "https://localhost:8080/"
        },
        "id": "DDwvLbpHO6CQ",
        "outputId": "28d87246-7b94-466b-d01b-03cf0cf12c12"
      },
      "execution_count": null,
      "outputs": [
        {
          "output_type": "stream",
          "name": "stdout",
          "text": [
            "hello\n",
            "hello\n",
            "hello\n",
            "hello\n",
            "hello\n",
            "hello\n",
            "hallo\n",
            "hello\n",
            "hello\n",
            "hello\n",
            "hello\n",
            "hello\n",
            "hello\n"
          ]
        }
      ]
    },
    {
      "cell_type": "code",
      "source": [
        "# 여러가지 중에 택 1해서 찾기 - 대문자\n",
        "\n",
        "regex = re.compile(r'[a-zA-Z0-9가-힣]') # a-f사이 중에 1개\n",
        "\n",
        "# 정규표현식과 일치하는 부분을 모두 찾아주는 파이썬 코드입니다.\n",
        "import re\n",
        "result = re.findall(regex, search_target)\n",
        "print(\"\\n\".join(result))"
      ],
      "metadata": {
        "colab": {
          "base_uri": "https://localhost:8080/"
        },
        "id": "AgAz7Bb1PIT3",
        "outputId": "b225b53e-c134-4b40-a99e-2c37c3964bfc"
      },
      "execution_count": null,
      "outputs": [
        {
          "output_type": "stream",
          "name": "stdout",
          "text": [
            "h\n",
            "e\n",
            "l\n",
            "l\n",
            "o\n",
            "w\n",
            "o\n",
            "r\n",
            "l\n",
            "d\n",
            "h\n",
            "e\n",
            "l\n",
            "l\n",
            "o\n",
            "w\n",
            "o\n",
            "r\n",
            "l\n",
            "d\n",
            "h\n",
            "e\n",
            "l\n",
            "l\n",
            "o\n",
            "w\n",
            "o\n",
            "r\n",
            "l\n",
            "d\n",
            "H\n",
            "e\n",
            "l\n",
            "l\n",
            "o\n",
            "W\n",
            "o\n",
            "r\n",
            "l\n",
            "d\n",
            "h\n",
            "e\n",
            "l\n",
            "l\n",
            "o\n",
            "w\n",
            "o\n",
            "r\n",
            "l\n",
            "d\n",
            "h\n",
            "e\n",
            "l\n",
            "l\n",
            "o\n",
            "h\n",
            "e\n",
            "l\n",
            "l\n",
            "o\n",
            "h\n",
            "a\n",
            "l\n",
            "l\n",
            "o\n",
            "h\n",
            "o\n",
            "l\n",
            "l\n",
            "o\n",
            "h\n",
            "e\n",
            "a\n",
            "l\n",
            "l\n",
            "o\n",
            "y\n",
            "e\n",
            "l\n",
            "l\n",
            "o\n",
            "w\n",
            "M\n",
            "o\n",
            "n\n",
            "d\n",
            "a\n",
            "y\n",
            "T\n",
            "u\n",
            "e\n",
            "s\n",
            "d\n",
            "a\n",
            "y\n",
            "W\n",
            "e\n",
            "d\n",
            "n\n",
            "e\n",
            "s\n",
            "d\n",
            "a\n",
            "y\n",
            "T\n",
            "h\n",
            "u\n",
            "r\n",
            "s\n",
            "d\n",
            "a\n",
            "y\n",
            "F\n",
            "r\n",
            "i\n",
            "d\n",
            "a\n",
            "y\n",
            "S\n",
            "a\n",
            "t\n",
            "u\n",
            "r\n",
            "d\n",
            "a\n",
            "y\n",
            "S\n",
            "u\n",
            "n\n",
            "d\n",
            "a\n",
            "y\n",
            "a\n",
            "b\n",
            "c\n",
            "d\n",
            "e\n",
            "f\n",
            "g\n",
            "h\n",
            "i\n",
            "j\n",
            "k\n",
            "l\n",
            "m\n",
            "n\n",
            "o\n",
            "p\n",
            "q\n",
            "r\n",
            "s\n",
            "t\n",
            "u\n",
            "v\n",
            "w\n",
            "x\n",
            "y\n",
            "z\n",
            "A\n",
            "B\n",
            "C\n",
            "D\n",
            "E\n",
            "F\n",
            "G\n",
            "H\n",
            "I\n",
            "J\n",
            "K\n",
            "L\n",
            "M\n",
            "N\n",
            "O\n",
            "P\n",
            "Q\n",
            "R\n",
            "S\n",
            "T\n",
            "U\n",
            "V\n",
            "W\n",
            "X\n",
            "Y\n",
            "Z\n",
            "0\n",
            "1\n",
            "2\n",
            "3\n",
            "4\n",
            "5\n",
            "6\n",
            "7\n",
            "8\n",
            "9\n",
            "1\n",
            "0\n",
            "1\n",
            "1\n",
            "1\n",
            "2\n",
            "1\n",
            "3\n",
            "1\n",
            "4\n",
            "1\n",
            "5\n",
            "1\n",
            "6\n",
            "1\n",
            "7\n",
            "1\n",
            "8\n",
            "1\n",
            "9\n",
            "2\n",
            "0\n",
            "a\n",
            "a\n",
            "a\n",
            "b\n",
            "b\n",
            "c\n",
            "a\n",
            "a\n",
            "a\n",
            "b\n",
            "b\n",
            "c\n",
            "a\n",
            "b\n",
            "c\n",
            "a\n",
            "b\n",
            "c\n",
            "a\n",
            "a\n",
            "a\n",
            "b\n",
            "b\n",
            "c\n",
            "a\n",
            "a\n",
            "a\n",
            "b\n",
            "b\n",
            "c\n",
            "a\n",
            "b\n",
            "c\n",
            "a\n",
            "b\n",
            "c\n",
            "a\n",
            "a\n",
            "a\n",
            "1\n",
            "b\n",
            "b\n",
            "2\n",
            "c\n",
            "3\n",
            "a\n",
            "a\n",
            "a\n",
            "4\n",
            "b\n",
            "b\n",
            "5\n",
            "c\n",
            "6\n",
            "1\n",
            "2\n",
            "3\n",
            "4\n",
            "5\n",
            "6\n",
            "1\n",
            "2\n",
            "3\n",
            "4\n",
            "5\n",
            "6\n",
            "7\n",
            "8\n",
            "9\n",
            "a\n",
            "b\n",
            "c\n",
            "d\n",
            "e\n",
            "f\n",
            "g\n",
            "h\n",
            "i\n",
            "j\n",
            "0\n",
            "1\n",
            "0\n",
            "9\n",
            "0\n",
            "9\n",
            "1\n",
            "5\n",
            "4\n",
            "9\n",
            "1\n",
            "0\n",
            "1\n",
            "0\n",
            "5\n",
            "0\n",
            "4\n",
            "3\n",
            "2\n",
            "9\n",
            "0\n",
            "1\n",
            "0\n",
            "1\n",
            "0\n",
            "5\n",
            "0\n",
            "5\n",
            "0\n",
            "4\n",
            "0\n",
            "4\n",
            "0\n",
            "9\n",
            "0\n",
            "1\n",
            "0\n",
            "4\n",
            "9\n",
            "4\n",
            "9\n",
            "2\n",
            "3\n",
            "1\n",
            "3\n",
            "1\n",
            "0\n",
            "1\n",
            "0\n",
            "2\n",
            "9\n",
            "1\n",
            "3\n",
            "3\n",
            "1\n",
            "3\n",
            "2\n",
            "0\n",
            "1\n",
            "0\n",
            "1\n",
            "9\n",
            "1\n",
            "3\n",
            "3\n",
            "8\n",
            "2\n",
            "9\n",
            "0\n",
            "6\n",
            "4\n",
            "7\n",
            "2\n",
            "1\n",
            "3\n",
            "2\n",
            "1\n",
            "3\n",
            "0\n",
            "1\n",
            "0\n",
            "1\n",
            "9\n",
            "1\n",
            "3\n",
            "3\n",
            "8\n",
            "2\n",
            "9\n",
            "p\n",
            "a\n",
            "u\n",
            "l\n",
            "k\n",
            "o\n",
            "r\n",
            "e\n",
            "a\n",
            "n\n",
            "a\n",
            "v\n",
            "e\n",
            "r\n",
            "c\n",
            "o\n",
            "m\n",
            "p\n",
            "a\n",
            "u\n",
            "l\n",
            "n\n",
            "a\n",
            "v\n",
            "e\n",
            "r\n",
            "c\n",
            "o\n",
            "m\n",
            "l\n",
            "e\n",
            "e\n",
            "h\n",
            "o\n",
            "j\n",
            "u\n",
            "n\n",
            "g\n",
            "m\n",
            "a\n",
            "i\n",
            "l\n",
            "c\n",
            "o\n",
            "m\n",
            "h\n",
            "o\n",
            "j\n",
            "u\n",
            "n\n",
            "l\n",
            "e\n",
            "e\n",
            "g\n",
            "m\n",
            "a\n",
            "i\n",
            "l\n",
            "c\n",
            "o\n",
            "m\n",
            "t\n",
            "e\n",
            "s\n",
            "t\n",
            "t\n",
            "e\n",
            "s\n",
            "t\n",
            "g\n",
            "o\n",
            "g\n",
            "o\n",
            "g\n",
            "o\n",
            "h\n",
            "t\n",
            "t\n",
            "p\n",
            "s\n",
            "g\n",
            "i\n",
            "t\n",
            "h\n",
            "u\n",
            "b\n",
            "c\n",
            "o\n",
            "m\n",
            "L\n",
            "i\n",
            "v\n",
            "e\n",
            "C\n",
            "o\n",
            "r\n",
            "o\n",
            "n\n",
            "a\n",
            "D\n",
            "e\n",
            "t\n",
            "e\n",
            "c\n",
            "t\n",
            "o\n",
            "r\n",
            "l\n",
            "i\n",
            "v\n",
            "e\n",
            "c\n",
            "o\n",
            "d\n",
            "g\n",
            "i\n",
            "t\n",
            "h\n",
            "u\n",
            "b\n",
            "c\n",
            "o\n",
            "m\n",
            "L\n",
            "i\n",
            "v\n",
            "e\n",
            "C\n",
            "o\n",
            "r\n",
            "o\n",
            "n\n",
            "a\n",
            "D\n",
            "e\n",
            "t\n",
            "e\n",
            "c\n",
            "t\n",
            "o\n",
            "r\n",
            "l\n",
            "i\n",
            "v\n",
            "e\n",
            "c\n",
            "o\n",
            "d\n",
            "h\n",
            "t\n",
            "t\n",
            "p\n",
            "s\n",
            "g\n",
            "i\n",
            "t\n",
            "h\n",
            "u\n",
            "b\n",
            "c\n",
            "o\n",
            "m\n",
            "L\n",
            "i\n",
            "v\n",
            "e\n",
            "C\n",
            "o\n",
            "r\n",
            "o\n",
            "n\n",
            "a\n",
            "D\n",
            "e\n",
            "t\n",
            "e\n",
            "c\n",
            "t\n",
            "o\n",
            "r\n",
            "I\n",
            "n\n",
            "e\n",
            "v\n",
            "e\n",
            "r\n",
            "d\n",
            "r\n",
            "e\n",
            "a\n",
            "m\n",
            "e\n",
            "d\n",
            "a\n",
            "b\n",
            "o\n",
            "u\n",
            "t\n",
            "s\n",
            "u\n",
            "c\n",
            "c\n",
            "e\n",
            "s\n",
            "s\n",
            "I\n",
            "w\n",
            "o\n",
            "r\n",
            "k\n",
            "e\n",
            "d\n",
            "f\n",
            "o\n",
            "r\n",
            "i\n",
            "t\n",
            "D\n",
            "o\n",
            "n\n",
            "o\n",
            "t\n",
            "b\n",
            "e\n",
            "a\n",
            "f\n",
            "r\n",
            "a\n",
            "i\n",
            "d\n",
            "t\n",
            "o\n",
            "g\n",
            "i\n",
            "v\n",
            "e\n",
            "u\n",
            "p\n",
            "t\n",
            "h\n",
            "e\n",
            "g\n",
            "o\n",
            "o\n",
            "d\n",
            "t\n",
            "o\n",
            "g\n",
            "o\n",
            "f\n",
            "o\n",
            "r\n",
            "t\n",
            "h\n",
            "e\n",
            "g\n",
            "r\n",
            "e\n",
            "a\n",
            "t\n",
            "h\n",
            "e\n",
            "l\n",
            "l\n",
            "o\n",
            "h\n",
            "e\n",
            "l\n",
            "l\n",
            "o\n",
            "w\n",
            "o\n",
            "r\n",
            "l\n",
            "d\n",
            "h\n",
            "e\n",
            "l\n",
            "l\n",
            "o\n",
            "h\n",
            "e\n",
            "l\n",
            "l\n",
            "o\n",
            "h\n",
            "e\n",
            "l\n",
            "l\n",
            "o\n",
            "w\n",
            "o\n",
            "r\n",
            "l\n",
            "d\n",
            "h\n",
            "e\n",
            "l\n",
            "l\n",
            "o\n",
            "n\n",
            "a\n",
            "m\n",
            "e\n",
            "l\n",
            "e\n",
            "e\n",
            "h\n",
            "o\n",
            "j\n",
            "u\n",
            "n\n",
            "a\n",
            "g\n",
            "e\n",
            "1\n",
            "0\n",
            "h\n",
            "e\n",
            "i\n",
            "g\n",
            "h\n",
            "t\n",
            "1\n",
            "8\n",
            "0\n",
            "e\n",
            "m\n",
            "a\n",
            "i\n",
            "l\n",
            "p\n",
            "a\n",
            "u\n",
            "l\n",
            "l\n",
            "a\n",
            "b\n",
            "n\n",
            "a\n",
            "v\n",
            "e\n",
            "r\n",
            "c\n",
            "o\n",
            "m\n",
            "n\n",
            "a\n",
            "m\n",
            "e\n",
            "l\n",
            "e\n",
            "e\n",
            "h\n",
            "o\n",
            "j\n",
            "u\n",
            "n\n",
            "a\n",
            "g\n",
            "e\n",
            "1\n",
            "0\n",
            "h\n",
            "e\n",
            "i\n",
            "g\n",
            "h\n",
            "t\n",
            "1\n",
            "8\n",
            "0\n",
            "e\n",
            "m\n",
            "a\n",
            "i\n",
            "l\n",
            "p\n",
            "a\n",
            "u\n",
            "l\n",
            "l\n",
            "a\n",
            "b\n",
            "n\n",
            "a\n",
            "v\n",
            "e\n",
            "r\n",
            "c\n",
            "o\n",
            "m\n"
          ]
        }
      ]
    },
    {
      "cell_type": "code",
      "source": [
        "# 여러가지 중에 택 1해서 찾기 - 대문자\n",
        "\n",
        "regex = re.compile(r'[^a-zA-Z0-9가-힣]') # a-f사이 중에 1개\n",
        "\n",
        "# 정규표현식과 일치하는 부분을 모두 찾아주는 파이썬 코드입니다.\n",
        "import re\n",
        "result = re.findall(regex, search_target)\n",
        "print(\"\\n\".join(result))"
      ],
      "metadata": {
        "colab": {
          "base_uri": "https://localhost:8080/"
        },
        "id": "pHb37cBYPrGg",
        "outputId": "083c066e-83d7-4438-a126-2838d999b7a7"
      },
      "execution_count": null,
      "outputs": [
        {
          "output_type": "stream",
          "name": "stdout",
          "text": [
            "\n",
            "\n",
            " \n",
            "\n",
            "\n",
            " \n",
            " \n",
            "\n",
            "\n",
            ",\n",
            " \n",
            "\n",
            "\n",
            " \n",
            "\n",
            "\n",
            "\n",
            "\n",
            " \n",
            " \n",
            "\n",
            "\n",
            "\n",
            "\n",
            "\n",
            "\n",
            "\n",
            "\n",
            "\n",
            "\n",
            "\n",
            "\n",
            "\n",
            "\n",
            "\n",
            "\n",
            " \n",
            " \n",
            " \n",
            " \n",
            " \n",
            " \n",
            "\n",
            "\n",
            "\n",
            "\n",
            "\n",
            "\n",
            "\n",
            "\n",
            " \n",
            " \n",
            " \n",
            " \n",
            " \n",
            " \n",
            " \n",
            " \n",
            " \n",
            " \n",
            " \n",
            "\n",
            "\n",
            "\n",
            "\n",
            "\n",
            "\n",
            "[\n",
            "]\n",
            "\n",
            "\n",
            "[\n",
            "]\n",
            "\n",
            "\n",
            "[\n",
            "]\n",
            "\n",
            "\n",
            "\n",
            "\n",
            "-\n",
            "-\n",
            "\n",
            "\n",
            "-\n",
            "-\n",
            "\n",
            "\n",
            "-\n",
            "-\n",
            "\n",
            "\n",
            "-\n",
            "-\n",
            "\n",
            "\n",
            " \n",
            " \n",
            "\n",
            "\n",
            "\n",
            "\n",
            "-\n",
            "-\n",
            "\n",
            "\n",
            ".\n",
            ".\n",
            "\n",
            "\n",
            "\n",
            "\n",
            "\n",
            "\n",
            "-\n",
            "@\n",
            ".\n",
            "\n",
            "\n",
            "@\n",
            ".\n",
            "\n",
            "\n",
            "@\n",
            ".\n",
            "\n",
            "\n",
            ".\n",
            "@\n",
            ".\n",
            "\n",
            "\n",
            ".\n",
            "@\n",
            ".\n",
            ".\n",
            "\n",
            "\n",
            "\n",
            "\n",
            "\n",
            "\n",
            ":\n",
            "/\n",
            "/\n",
            ".\n",
            "/\n",
            "/\n",
            "\n",
            "\n",
            ".\n",
            "/\n",
            "/\n",
            "\n",
            "\n",
            ":\n",
            "/\n",
            "/\n",
            ".\n",
            "/\n",
            "\n",
            "\n",
            "\n",
            "\n",
            " \n",
            " \n",
            " \n",
            " \n",
            ",\n",
            " \n",
            " \n",
            " \n",
            " \n",
            ".\n",
            "\n",
            "\n",
            " \n",
            " \n",
            " \n",
            " \n",
            " \n",
            " \n",
            " \n",
            " \n",
            " \n",
            " \n",
            " \n",
            " \n",
            " \n",
            ".\n",
            "\n",
            "\n",
            "\n",
            "\n",
            " \n",
            "(\n",
            " \n",
            ")\n",
            " \n",
            "\n",
            "\n",
            " \n",
            "\\\n",
            " \n",
            "/\n",
            "/\n",
            " \n",
            "\n",
            "\n",
            "^\n",
            "^\n",
            "\n",
            "\n",
            ":\n",
            ")\n",
            "\n",
            "\n",
            "\n",
            "\n",
            "[\n",
            "(\n",
            ",\n",
            " \n",
            ")\n",
            ",\n",
            " \n",
            "(\n",
            ",\n",
            " \n",
            ")\n",
            ",\n",
            " \n",
            "(\n",
            ",\n",
            " \n",
            ")\n",
            ",\n",
            " \n",
            "(\n",
            ",\n",
            " \n",
            "-\n",
            "@\n",
            ".\n",
            ")\n",
            "]\n",
            "\n",
            "\n",
            "{\n",
            " \n",
            ":\n",
            " \n",
            ",\n",
            " \n",
            " \n",
            ":\n",
            " \n",
            ",\n",
            " \n",
            " \n",
            ":\n",
            " \n",
            ",\n",
            " \n",
            " \n",
            ":\n",
            " \n",
            "-\n",
            "@\n",
            ".\n",
            "}\n",
            "\n",
            "\n",
            "\n",
            "\n",
            "\n",
            "\n",
            "ㄱ\n",
            "ㄴ\n",
            "ㄷ\n",
            "ㄹ\n",
            "ㅁ\n",
            "ㅂ\n",
            "ㅅ\n",
            "ㅇ\n",
            "ㅈ\n",
            "ㅊ\n",
            "ㅋ\n",
            "ㅌ\n",
            "ㅍ\n",
            "ㅎ\n",
            "\n",
            "\n",
            "_\n",
            "\n",
            "\n",
            "-\n",
            "\n",
            "\n",
            "\n",
            "\n",
            "\n",
            "\n",
            "\n",
            "\n",
            " \n",
            " \n",
            " \n",
            " \n",
            " \n",
            " \n",
            " \n",
            " \n",
            "\n",
            "\n"
          ]
        }
      ]
    },
    {
      "cell_type": "code",
      "source": [
        "# 서브패턴\n",
        "\n",
        "# 소괄호를 사용하면 정규식 일부 패턴을 그룹화 할 수 있습니다.\n",
        "# 이 정규식 그룹은 그룹 캡처기능이라고 불리는데\n",
        "# 정규식 그룹은 번호가 매겨진 캡처그룹을 생성하고, 괄호안에 정규식 부분과\n",
        "# 일치하는 문자열을 찾고, 저장합니다.\n",
        "# 그 캡처 번호를 사용하여 문자열 부분을 불러와 사용할 수 있습니다.\n",
        "\n",
        "# 주의할점은 캡처에 정규식 패턴이 저장된다고 착각할 수 잇지만\n",
        "# 캡처는 패턴으로 찾은 문자열을 저장한다.\n",
        " \n",
        "# ?:는 그룹이지만 캡처를 저장하지 않음 \n",
        "\n",
        "# 빈칸에 정규표현식을 적습니다.\n",
        "regex = re.compile('(on|ues|rida)') #그룹 1로 3개 중 1개 매칭되는 패턴\n",
        "\n",
        "# 그룹 안에 매칭이 된 것만 출력이 되는 형태\n",
        "\n",
        "# 정규표현식과 일치하는 부분을 모두 찾아주는 파이썬 코드입니다.\n",
        "import re\n",
        "result = re.findall(regex, search_target)\n",
        "print(\"\\n\".join(result))"
      ],
      "metadata": {
        "colab": {
          "base_uri": "https://localhost:8080/"
        },
        "id": "PlawZqrDQLYk",
        "outputId": "b86c6bf9-662f-4123-d5d4-8531f2cff9ef"
      },
      "execution_count": null,
      "outputs": [
        {
          "output_type": "stream",
          "name": "stdout",
          "text": [
            "on\n",
            "ues\n",
            "rida\n",
            "on\n",
            "on\n",
            "on\n"
          ]
        }
      ]
    },
    {
      "cell_type": "code",
      "source": [
        "# 서브패턴\n",
        "\n",
        "# 빈칸에 정규표현식을 적습니다.\n",
        "regex = re.compile('(Mon|Tues|Fri)day') #그룹 1로 3개 중 매칭되는 패턴\n",
        "\n",
        "# 정규표현식과 일치하는 부분을 모두 찾아주는 파이썬 코드입니다.\n",
        "import re\n",
        "result = re.findall(regex, search_target)\n",
        "print(\"\\n\".join(result))"
      ],
      "metadata": {
        "colab": {
          "base_uri": "https://localhost:8080/"
        },
        "id": "Ikz-CJs8RSb2",
        "outputId": "a2b298ac-bdf9-4ae6-9897-5ee3a603a998"
      },
      "execution_count": null,
      "outputs": [
        {
          "output_type": "stream",
          "name": "stdout",
          "text": [
            "Mon\n",
            "Tues\n",
            "Fri\n"
          ]
        }
      ]
    },
    {
      "cell_type": "code",
      "source": [
        "# 서브패턴\n",
        "\n",
        "# 빈칸에 정규표현식을 적습니다.\n",
        "regex = re.compile('(?:Mon|Tues|Fri)day') #그룹 1로 3개 중 매칭되는 패턴\n",
        "\n",
        "# 정규표현식과 일치하는 부분을 모두 찾아주는 파이썬 코드입니다.\n",
        "import re\n",
        "result = re.findall(regex, search_target)\n",
        "print(\"\\n\".join(result))"
      ],
      "metadata": {
        "id": "uaeeWoZ4Ri0r"
      },
      "execution_count": null,
      "outputs": []
    },
    {
      "cell_type": "code",
      "source": [
        "# 서브패턴 \n",
        "\n",
        "import re\n",
        "\n",
        "text = \"tomato potato\"\n",
        "\n",
        "p1 = \"(tom|pot)ato\"    # 그룹으로 묶인건 그 단어 (tom|pot)을 출력\n",
        "p2 = \"(?:tom|pot)ato\"  # 그룹으로 묶이지 않은것은 캡처하지 않겠다고 매칭 tomato와 potato가 출력\n",
        "\n",
        "m1 = re.findall(p1, text)\n",
        "m2 = re.findall(p2, text)\n",
        "\n",
        "print(\"m1 결과 : \", m1)\n",
        "print(\"m2 결과 : \", m2)"
      ],
      "metadata": {
        "colab": {
          "base_uri": "https://localhost:8080/"
        },
        "id": "wUX2a63bU6Zs",
        "outputId": "da7f8e69-4938-4670-9a7c-4ccc339f54f2"
      },
      "execution_count": null,
      "outputs": [
        {
          "output_type": "stream",
          "name": "stdout",
          "text": [
            "m1 결과 :  ['tom', 'pot']\n",
            "m2 결과 :  ['tomato', 'potato']\n"
          ]
        }
      ]
    },
    {
      "cell_type": "code",
      "source": [
        "# 수량자 휴대폰 번호 입력하기\n",
        "\n",
        "# 빈칸에 정규표현식을 적습니다.\n",
        "regex = re.compile('[0-9]{2,3}[-.* ][0-9]{3,4}[-.* ][0-9]{4,5}') \n",
        "#hello 뒤에 world가 오는 것\n",
        "\n",
        "# 1. [0에서 9까지]{2,3개}[- 나 . 앞에 있는 문자 0~N개]\n",
        "# 2. [0에서 9까지]{4개}[- 나 . 앞에 있는 문자 0~N개]\n",
        "# 3. [0에서 9까지]{4개}[- 나 .]\n",
        "\n",
        "# 정규표현식과 일치하는 부분을 모두 찾아주는 파이썬 코드입니다.\n",
        "import re\n",
        "result = re.findall(regex, search_target)\n",
        "print(\"\\n\".join(result))"
      ],
      "metadata": {
        "colab": {
          "base_uri": "https://localhost:8080/"
        },
        "id": "5c0AAoAoVRyc",
        "outputId": "335474fe-2990-4007-c140-154fa7ea8e97"
      },
      "execution_count": null,
      "outputs": [
        {
          "output_type": "stream",
          "name": "stdout",
          "text": [
            "012345678910\n",
            "111213141516\n",
            "01019133829\n"
          ]
        }
      ]
    },
    {
      "cell_type": "code",
      "source": [
        "# 수량자\n",
        "\n",
        "# 빈칸에 정규표현식을 적습니다.\n",
        "regex = re.compile('[0-9a-zA-Z]{2,3}[-. *][0-9]{3,4}[-. *][0-9]{4}') #\bhello 뒤에 world가 오는 것\n",
        "\n",
        "# 1. [0에서 9까지]{2~3개}[- 나 . 앞에 있는 문자 0~N개]\n",
        "# 2. [0에서 9까지]{3~4개}[- 나 . 앞에 있는 문자 0~N개]\n",
        "# 3. [0에서 9까지]{4개}\n",
        "\n",
        "# 정규표현식과 일치하는 부분을 모두 찾아주는 파이썬 코드입니다.\n",
        "import re\n",
        "result = re.findall(regex, search_target)\n",
        "print(\"\\n\".join(result))"
      ],
      "metadata": {
        "id": "3DTik5OVaAWX"
      },
      "execution_count": null,
      "outputs": []
    },
    {
      "cell_type": "code",
      "source": [
        "# 수량자\n",
        "\n",
        "# 빈칸에 정규표현식을 적습니다.\n",
        "regex = re.compile('[0-9a-zA-Z]+@[0-9a-zA-Z]+.[a-zA-Z]+') \n",
        "\n",
        "# 1. [0에서 9까지 + 영문자]{+@}\n",
        "# 2. [0에서 9까지 + 영문자].\n",
        "# 3. [영문자_ 1개 이상]\n",
        "\n",
        "# 정규표현식과 일치하는 부분을 모두 찾아주는 파이썬 코드입니다.\n",
        "import re\n",
        "result = re.findall(regex, search_target)\n",
        "print(\"\\n\".join(result))"
      ],
      "metadata": {
        "id": "NbGGY5EHbCrC"
      },
      "execution_count": null,
      "outputs": []
    },
    {
      "cell_type": "code",
      "source": [
        "# 캐릭터 클래스\n",
        "\n",
        "# 빈칸에 정규표현식을 적습니다.\n",
        "regex = re.compile('\\W') # 글자가 아닌것 \n",
        "regex = re.compile('\\D') # 숫자가 아닌것 \n",
        "regex = re.compile('\\S') # 공백이 아닌것 \n",
        "\n",
        "# 1. [0에서 9까지 + 영문자]{+@}\n",
        "# 2. [0에서 9까지 + 영문자].\n",
        "# 3. [영문자_ 1개 이상]\n",
        "\n",
        "# 정규표현식과 일치하는 부분을 모두 찾아주는 파이썬 코드입니다.\n",
        "import re\n",
        "result = re.findall(regex, search_target)\n",
        "print(\"\\n\".join(result))"
      ],
      "metadata": {
        "colab": {
          "base_uri": "https://localhost:8080/"
        },
        "id": "OQ9WCJOpbi_d",
        "outputId": "a56738f9-cc9b-4fa9-f363-366047412d8b"
      },
      "execution_count": null,
      "outputs": [
        {
          "output_type": "stream",
          "name": "stdout",
          "text": [
            "h\n",
            "e\n",
            "l\n",
            "l\n",
            "o\n",
            "w\n",
            "o\n",
            "r\n",
            "l\n",
            "d\n",
            "h\n",
            "e\n",
            "l\n",
            "l\n",
            "o\n",
            "w\n",
            "o\n",
            "r\n",
            "l\n",
            "d\n",
            "h\n",
            "e\n",
            "l\n",
            "l\n",
            "o\n",
            ",\n",
            "w\n",
            "o\n",
            "r\n",
            "l\n",
            "d\n",
            "H\n",
            "e\n",
            "l\n",
            "l\n",
            "o\n",
            "W\n",
            "o\n",
            "r\n",
            "l\n",
            "d\n",
            "h\n",
            "e\n",
            "l\n",
            "l\n",
            "o\n",
            "w\n",
            "o\n",
            "r\n",
            "l\n",
            "d\n",
            "h\n",
            "e\n",
            "l\n",
            "l\n",
            "o\n",
            "h\n",
            "e\n",
            "l\n",
            "l\n",
            "o\n",
            "h\n",
            "a\n",
            "l\n",
            "l\n",
            "o\n",
            "h\n",
            "o\n",
            "l\n",
            "l\n",
            "o\n",
            "h\n",
            "e\n",
            "a\n",
            "l\n",
            "l\n",
            "o\n",
            "y\n",
            "e\n",
            "l\n",
            "l\n",
            "o\n",
            "w\n",
            "M\n",
            "o\n",
            "n\n",
            "d\n",
            "a\n",
            "y\n",
            "T\n",
            "u\n",
            "e\n",
            "s\n",
            "d\n",
            "a\n",
            "y\n",
            "W\n",
            "e\n",
            "d\n",
            "n\n",
            "e\n",
            "s\n",
            "d\n",
            "a\n",
            "y\n",
            "T\n",
            "h\n",
            "u\n",
            "r\n",
            "s\n",
            "d\n",
            "a\n",
            "y\n",
            "F\n",
            "r\n",
            "i\n",
            "d\n",
            "a\n",
            "y\n",
            "S\n",
            "a\n",
            "t\n",
            "u\n",
            "r\n",
            "d\n",
            "a\n",
            "y\n",
            "S\n",
            "u\n",
            "n\n",
            "d\n",
            "a\n",
            "y\n",
            "a\n",
            "b\n",
            "c\n",
            "d\n",
            "e\n",
            "f\n",
            "g\n",
            "h\n",
            "i\n",
            "j\n",
            "k\n",
            "l\n",
            "m\n",
            "n\n",
            "o\n",
            "p\n",
            "q\n",
            "r\n",
            "s\n",
            "t\n",
            "u\n",
            "v\n",
            "w\n",
            "x\n",
            "y\n",
            "z\n",
            "A\n",
            "B\n",
            "C\n",
            "D\n",
            "E\n",
            "F\n",
            "G\n",
            "H\n",
            "I\n",
            "J\n",
            "K\n",
            "L\n",
            "M\n",
            "N\n",
            "O\n",
            "P\n",
            "Q\n",
            "R\n",
            "S\n",
            "T\n",
            "U\n",
            "V\n",
            "W\n",
            "X\n",
            "Y\n",
            "Z\n",
            "0\n",
            "1\n",
            "2\n",
            "3\n",
            "4\n",
            "5\n",
            "6\n",
            "7\n",
            "8\n",
            "9\n",
            "1\n",
            "0\n",
            "1\n",
            "1\n",
            "1\n",
            "2\n",
            "1\n",
            "3\n",
            "1\n",
            "4\n",
            "1\n",
            "5\n",
            "1\n",
            "6\n",
            "1\n",
            "7\n",
            "1\n",
            "8\n",
            "1\n",
            "9\n",
            "2\n",
            "0\n",
            "a\n",
            "a\n",
            "a\n",
            "b\n",
            "b\n",
            "c\n",
            "a\n",
            "a\n",
            "a\n",
            "b\n",
            "b\n",
            "c\n",
            "a\n",
            "b\n",
            "c\n",
            "a\n",
            "b\n",
            "c\n",
            "a\n",
            "a\n",
            "a\n",
            "b\n",
            "b\n",
            "c\n",
            "a\n",
            "a\n",
            "a\n",
            "b\n",
            "b\n",
            "c\n",
            "a\n",
            "b\n",
            "c\n",
            "a\n",
            "b\n",
            "c\n",
            "a\n",
            "a\n",
            "a\n",
            "1\n",
            "b\n",
            "b\n",
            "2\n",
            "c\n",
            "3\n",
            "a\n",
            "a\n",
            "a\n",
            "4\n",
            "b\n",
            "b\n",
            "5\n",
            "c\n",
            "6\n",
            "[\n",
            "1\n",
            "2\n",
            "3\n",
            "4\n",
            "5\n",
            "6\n",
            "]\n",
            "1\n",
            "2\n",
            "3\n",
            "[\n",
            "4\n",
            "5\n",
            "6\n",
            "]\n",
            "7\n",
            "8\n",
            "9\n",
            "a\n",
            "b\n",
            "c\n",
            "[\n",
            "d\n",
            "e\n",
            "f\n",
            "]\n",
            "g\n",
            "h\n",
            "i\n",
            "j\n",
            "0\n",
            "1\n",
            "0\n",
            "-\n",
            "9\n",
            "0\n",
            "9\n",
            "1\n",
            "-\n",
            "5\n",
            "4\n",
            "9\n",
            "1\n",
            "0\n",
            "1\n",
            "0\n",
            "-\n",
            "5\n",
            "0\n",
            "4\n",
            "3\n",
            "-\n",
            "2\n",
            "9\n",
            "0\n",
            "1\n",
            "0\n",
            "1\n",
            "0\n",
            "-\n",
            "5\n",
            "0\n",
            "5\n",
            "0\n",
            "-\n",
            "4\n",
            "0\n",
            "4\n",
            "0\n",
            "9\n",
            "0\n",
            "1\n",
            "0\n",
            "-\n",
            "4\n",
            "9\n",
            "4\n",
            "9\n",
            "2\n",
            "-\n",
            "3\n",
            "1\n",
            "3\n",
            "1\n",
            "0\n",
            "1\n",
            "0\n",
            "2\n",
            "9\n",
            "1\n",
            "3\n",
            "3\n",
            "1\n",
            "3\n",
            "2\n",
            "0\n",
            "1\n",
            "0\n",
            "1\n",
            "9\n",
            "1\n",
            "3\n",
            "3\n",
            "8\n",
            "2\n",
            "9\n",
            "0\n",
            "6\n",
            "4\n",
            "-\n",
            "7\n",
            "2\n",
            "1\n",
            "-\n",
            "3\n",
            "2\n",
            "1\n",
            "3\n",
            "0\n",
            "1\n",
            "0\n",
            ".\n",
            "1\n",
            "9\n",
            "1\n",
            "3\n",
            ".\n",
            "3\n",
            "8\n",
            "2\n",
            "9\n",
            "p\n",
            "a\n",
            "u\n",
            "l\n",
            "-\n",
            "k\n",
            "o\n",
            "r\n",
            "e\n",
            "a\n",
            "@\n",
            "n\n",
            "a\n",
            "v\n",
            "e\n",
            "r\n",
            ".\n",
            "c\n",
            "o\n",
            "m\n",
            "p\n",
            "a\n",
            "u\n",
            "l\n",
            "@\n",
            "n\n",
            "a\n",
            "v\n",
            "e\n",
            "r\n",
            ".\n",
            "c\n",
            "o\n",
            "m\n",
            "l\n",
            "e\n",
            "e\n",
            "h\n",
            "o\n",
            "j\n",
            "u\n",
            "n\n",
            "@\n",
            "g\n",
            "m\n",
            "a\n",
            "i\n",
            "l\n",
            ".\n",
            "c\n",
            "o\n",
            "m\n",
            "h\n",
            "o\n",
            "j\n",
            "u\n",
            "n\n",
            ".\n",
            "l\n",
            "e\n",
            "e\n",
            "@\n",
            "g\n",
            "m\n",
            "a\n",
            "i\n",
            "l\n",
            ".\n",
            "c\n",
            "o\n",
            "m\n",
            "t\n",
            "e\n",
            "s\n",
            "t\n",
            ".\n",
            "t\n",
            "e\n",
            "s\n",
            "t\n",
            "@\n",
            "g\n",
            "o\n",
            ".\n",
            "g\n",
            "o\n",
            ".\n",
            "g\n",
            "o\n",
            "h\n",
            "t\n",
            "t\n",
            "p\n",
            "s\n",
            ":\n",
            "/\n",
            "/\n",
            "g\n",
            "i\n",
            "t\n",
            "h\n",
            "u\n",
            "b\n",
            ".\n",
            "c\n",
            "o\n",
            "m\n",
            "/\n",
            "L\n",
            "i\n",
            "v\n",
            "e\n",
            "C\n",
            "o\n",
            "r\n",
            "o\n",
            "n\n",
            "a\n",
            "D\n",
            "e\n",
            "t\n",
            "e\n",
            "c\n",
            "t\n",
            "o\n",
            "r\n",
            "/\n",
            "l\n",
            "i\n",
            "v\n",
            "e\n",
            "c\n",
            "o\n",
            "d\n",
            "g\n",
            "i\n",
            "t\n",
            "h\n",
            "u\n",
            "b\n",
            ".\n",
            "c\n",
            "o\n",
            "m\n",
            "/\n",
            "L\n",
            "i\n",
            "v\n",
            "e\n",
            "C\n",
            "o\n",
            "r\n",
            "o\n",
            "n\n",
            "a\n",
            "D\n",
            "e\n",
            "t\n",
            "e\n",
            "c\n",
            "t\n",
            "o\n",
            "r\n",
            "/\n",
            "l\n",
            "i\n",
            "v\n",
            "e\n",
            "c\n",
            "o\n",
            "d\n",
            "h\n",
            "t\n",
            "t\n",
            "p\n",
            "s\n",
            ":\n",
            "/\n",
            "/\n",
            "g\n",
            "i\n",
            "t\n",
            "h\n",
            "u\n",
            "b\n",
            ".\n",
            "c\n",
            "o\n",
            "m\n",
            "/\n",
            "L\n",
            "i\n",
            "v\n",
            "e\n",
            "C\n",
            "o\n",
            "r\n",
            "o\n",
            "n\n",
            "a\n",
            "D\n",
            "e\n",
            "t\n",
            "e\n",
            "c\n",
            "t\n",
            "o\n",
            "r\n",
            "I\n",
            "n\n",
            "e\n",
            "v\n",
            "e\n",
            "r\n",
            "d\n",
            "r\n",
            "e\n",
            "a\n",
            "m\n",
            "e\n",
            "d\n",
            "a\n",
            "b\n",
            "o\n",
            "u\n",
            "t\n",
            "s\n",
            "u\n",
            "c\n",
            "c\n",
            "e\n",
            "s\n",
            "s\n",
            ",\n",
            "I\n",
            "w\n",
            "o\n",
            "r\n",
            "k\n",
            "e\n",
            "d\n",
            "f\n",
            "o\n",
            "r\n",
            "i\n",
            "t\n",
            ".\n",
            "D\n",
            "o\n",
            "n\n",
            "o\n",
            "t\n",
            "b\n",
            "e\n",
            "a\n",
            "f\n",
            "r\n",
            "a\n",
            "i\n",
            "d\n",
            "t\n",
            "o\n",
            "g\n",
            "i\n",
            "v\n",
            "e\n",
            "u\n",
            "p\n",
            "t\n",
            "h\n",
            "e\n",
            "g\n",
            "o\n",
            "o\n",
            "d\n",
            "t\n",
            "o\n",
            "g\n",
            "o\n",
            "f\n",
            "o\n",
            "r\n",
            "t\n",
            "h\n",
            "e\n",
            "g\n",
            "r\n",
            "e\n",
            "a\n",
            "t\n",
            ".\n",
            "h\n",
            "e\n",
            "l\n",
            "l\n",
            "o\n",
            "(\n",
            "h\n",
            "e\n",
            "l\n",
            "l\n",
            "o\n",
            "w\n",
            "o\n",
            "r\n",
            "l\n",
            "d\n",
            ")\n",
            "h\n",
            "e\n",
            "l\n",
            "l\n",
            "o\n",
            "h\n",
            "e\n",
            "l\n",
            "l\n",
            "o\n",
            "\\\n",
            "h\n",
            "e\n",
            "l\n",
            "l\n",
            "o\n",
            "w\n",
            "o\n",
            "r\n",
            "l\n",
            "d\n",
            "/\n",
            "/\n",
            "h\n",
            "e\n",
            "l\n",
            "l\n",
            "o\n",
            "^\n",
            "^\n",
            ":\n",
            ")\n",
            "[\n",
            "(\n",
            "n\n",
            "a\n",
            "m\n",
            "e\n",
            ",\n",
            "l\n",
            "e\n",
            "e\n",
            "h\n",
            "o\n",
            "j\n",
            "u\n",
            "n\n",
            ")\n",
            ",\n",
            "(\n",
            "a\n",
            "g\n",
            "e\n",
            ",\n",
            "1\n",
            "0\n",
            ")\n",
            ",\n",
            "(\n",
            "h\n",
            "e\n",
            "i\n",
            "g\n",
            "h\n",
            "t\n",
            ",\n",
            "1\n",
            "8\n",
            "0\n",
            ")\n",
            ",\n",
            "(\n",
            "e\n",
            "m\n",
            "a\n",
            "i\n",
            "l\n",
            ",\n",
            "p\n",
            "a\n",
            "u\n",
            "l\n",
            "-\n",
            "l\n",
            "a\n",
            "b\n",
            "@\n",
            "n\n",
            "a\n",
            "v\n",
            "e\n",
            "r\n",
            ".\n",
            "c\n",
            "o\n",
            "m\n",
            ")\n",
            "]\n",
            "{\n",
            "n\n",
            "a\n",
            "m\n",
            "e\n",
            ":\n",
            "l\n",
            "e\n",
            "e\n",
            "h\n",
            "o\n",
            "j\n",
            "u\n",
            "n\n",
            ",\n",
            "a\n",
            "g\n",
            "e\n",
            ":\n",
            "1\n",
            "0\n",
            ",\n",
            "h\n",
            "e\n",
            "i\n",
            "g\n",
            "h\n",
            "t\n",
            ":\n",
            "1\n",
            "8\n",
            "0\n",
            ",\n",
            "e\n",
            "m\n",
            "a\n",
            "i\n",
            "l\n",
            ":\n",
            "p\n",
            "a\n",
            "u\n",
            "l\n",
            "-\n",
            "l\n",
            "a\n",
            "b\n",
            "@\n",
            "n\n",
            "a\n",
            "v\n",
            "e\n",
            "r\n",
            ".\n",
            "c\n",
            "o\n",
            "m\n",
            "}\n",
            "가\n",
            "나\n",
            "다\n",
            "라\n",
            "마\n",
            "바\n",
            "사\n",
            "아\n",
            "자\n",
            "차\n",
            "카\n",
            "타\n",
            "파\n",
            "하\n",
            "ㄱ\n",
            "ㄴ\n",
            "ㄷ\n",
            "ㄹ\n",
            "ㅁ\n",
            "ㅂ\n",
            "ㅅ\n",
            "ㅇ\n",
            "ㅈ\n",
            "ㅊ\n",
            "ㅋ\n",
            "ㅌ\n",
            "ㅍ\n",
            "ㅎ\n",
            "안\n",
            "녕\n",
            "_\n",
            "하\n",
            "세\n",
            "요\n",
            "안\n",
            "녕\n",
            "-\n",
            "하\n",
            "세\n",
            "요\n",
            "수\n",
            "사\n",
            "수\n",
            "박\n",
            "수\n",
            "상\n",
            "동\n",
            "해\n",
            "물\n",
            "과\n",
            "백\n",
            "두\n",
            "산\n",
            "이\n",
            "마\n",
            "르\n",
            "고\n",
            "닳\n",
            "도\n",
            "록\n",
            "하\n",
            "느\n",
            "님\n",
            "이\n",
            "보\n",
            "호\n",
            "하\n",
            "사\n",
            "우\n",
            "리\n",
            "나\n",
            "라\n",
            "만\n",
            "세\n"
          ]
        }
      ]
    },
    {
      "cell_type": "code",
      "source": [
        "# 이스케이프 문자\n",
        "\n",
        "# 이스케이프 문자\n",
        "\n",
        "# 빈칸에 정규표현식을 적습니다.\n",
        "regex = re.compile('\\[.*]') #대괄호([]) 안에 감싸여진 문자열 0~N개\n",
        "\n",
        "# 정규표현식과 일치하는 부분을 모두 찾아주는 파이썬 코드입니다.\n",
        "import re\n",
        "result = re.findall(regex, search_target)\n",
        "print(\"\\n\".join(result))"
      ],
      "metadata": {
        "colab": {
          "base_uri": "https://localhost:8080/"
        },
        "id": "EVPYBa5_brDZ",
        "outputId": "c6241228-ac09-4262-ce0f-d2c8d285e045"
      },
      "execution_count": null,
      "outputs": [
        {
          "output_type": "stream",
          "name": "stdout",
          "text": [
            "[123456]\n",
            "[456]\n",
            "[def]\n",
            "[(name, leehojun), (age, 10), (height, 180), (email, paul-lab@naver.com)]\n"
          ]
        }
      ]
    },
    {
      "cell_type": "code",
      "source": [
        "# 이스케이프 문자\n",
        "\n",
        "# 빈칸에 정규표현식을 적습니다.\n",
        "regex = re.compile('-.*-') #\b이스케이프 문자를 사용할 필요가 없는 경우\n",
        "# - 이스케이스 문자를 사용할 필요 없음\n",
        "\n",
        "# 정규표현식과 일치하는 부분을 모두 찾아주는 파이썬 코드입니다.\n",
        "import re\n",
        "result = re.findall(regex, search_target)\n",
        "print(\"\\n\".join(result))"
      ],
      "metadata": {
        "colab": {
          "base_uri": "https://localhost:8080/"
        },
        "id": "PLzwNNy9dSy9",
        "outputId": "14e34e9e-5765-4f00-9cc1-2862c29fb4aa"
      },
      "execution_count": null,
      "outputs": [
        {
          "output_type": "stream",
          "name": "stdout",
          "text": [
            "-9091-\n",
            "-5043-\n",
            "-5050-\n",
            "-49492-\n",
            "-721-\n"
          ]
        }
      ]
    },
    {
      "cell_type": "code",
      "source": [
        "# 이스케이프 문자\n",
        "\n",
        "# 빈칸에 정규표현식을 적습니다.\n",
        "regex = re.compile('\\^\\^') #이스케이프 문자가 필요한 경우\n",
        "\n",
        "# 정규표현식과 일치하는 부분을 모두 찾아주는 파이썬 코드입니다.\n",
        "import re\n",
        "result = re.findall(regex, search_target)\n",
        "print(\"\\n\".join(result))"
      ],
      "metadata": {
        "colab": {
          "base_uri": "https://localhost:8080/"
        },
        "id": "Kv2Tn_ANdu7M",
        "outputId": "84035702-5f5c-4db2-ebf2-c7a58707ae6b"
      },
      "execution_count": null,
      "outputs": [
        {
          "output_type": "stream",
          "name": "stdout",
          "text": [
            "^^\n"
          ]
        }
      ]
    },
    {
      "cell_type": "code",
      "source": [
        "# 이스케이프 문자\n",
        "\n",
        "# 빈칸에 정규표현식을 적습니다.\n",
        "regex = re.compile(':\\)') #이스케이프 문자가 필요한 경우\n",
        "\n",
        "# 정규표현식과 일치하는 부분을 모두 찾아주는 파이썬 코드입니다.\n",
        "import re\n",
        "result = re.findall(regex, search_target)\n",
        "print(\"\\n\".join(result))"
      ],
      "metadata": {
        "colab": {
          "base_uri": "https://localhost:8080/"
        },
        "id": "GFSTRvPzd9WW",
        "outputId": "2982bf8a-b44d-4fd6-9c64-0f698d004c81"
      },
      "execution_count": null,
      "outputs": [
        {
          "output_type": "stream",
          "name": "stdout",
          "text": [
            ":)\n"
          ]
        }
      ]
    },
    {
      "cell_type": "markdown",
      "source": [
        "# 정규표현식 실습하기"
      ],
      "metadata": {
        "id": "DCRuV8VQed8B"
      }
    },
    {
      "cell_type": "code",
      "source": [
        "# 여러분들이 논문을 쓸때 나중에 참고자료에 대한 인용구를 많이 활용하게 될것입니다.\n",
        "# 이를 쉽게 모으고 싶을때.. 있지 않으신가요?\n",
        "# 논문 보기\n",
        "\n",
        "import re\n",
        "\n",
        "example = '앞서 논문은 이러한 연구를 진행하였습니다(홍길동, 2019). 하지만 그런 것들을 개량하여 다음 논문이 나오게 되었고(임꺽정, 2020), 마지막으로 두가지를 모두 결합한 새로운 연구가 개발되었습니다.(심청이, 2021)'"
      ],
      "metadata": {
        "id": "5l2YVLzzeGg5"
      },
      "execution_count": null,
      "outputs": []
    },
    {
      "cell_type": "code",
      "source": [
        "print(example)"
      ],
      "metadata": {
        "colab": {
          "base_uri": "https://localhost:8080/"
        },
        "id": "loTUEgeRfWqH",
        "outputId": "2e9949d2-8145-4595-8881-98b61e70ba52"
      },
      "execution_count": null,
      "outputs": [
        {
          "output_type": "stream",
          "name": "stdout",
          "text": [
            "앞서 논문은 이러한 연구를 진행하였습니다(홍길동, 2019). 하지만 그런 것들을 개량하여 다음 논문이 나오게 되었고(임꺽정, 2020), 마지막으로 두가지를 모두 결합한 새로운 연구가 개발되었습니다.(심청이, 2021)\n"
          ]
        }
      ]
    },
    {
      "cell_type": "code",
      "source": [
        "# 여기서 인용구만 빼고 싶으면 다음과 같이 사용하면 됩니다.\n",
        "\n",
        "result = re.findall(r'\\([A-Za-z가-힣]+, \\d+\\)',example)"
      ],
      "metadata": {
        "id": "DqZ3GWdxfX_K"
      },
      "execution_count": null,
      "outputs": []
    },
    {
      "cell_type": "code",
      "source": [
        "print(result)"
      ],
      "metadata": {
        "colab": {
          "base_uri": "https://localhost:8080/"
        },
        "id": "dBlAgYBygp5l",
        "outputId": "017c1d23-a5db-44c6-86c4-a239bff23605"
      },
      "execution_count": null,
      "outputs": [
        {
          "output_type": "stream",
          "name": "stdout",
          "text": [
            "['(홍길동, 2019)', '(임꺽정, 2020)', '(심청이, 2021)']\n"
          ]
        }
      ]
    },
    {
      "cell_type": "markdown",
      "source": [
        "[문자열 규칙에 r을 붙이는 이유]\n",
        "\n",
        "정규표현식에서 문자열을 사용할 때는 앞에 r을 붙이는 것을 추천\n",
        "만약 문자열이 \\문자가 있다면 파이썬은 그 다음 문자를 그대로 인식하지 않고, 컴퓨터에 명령하기 위한 명령어로 인식 \n",
        "\n",
        "그렇기 때문에 \\와 함께 사용하는 문자를 이스케이프문자라고 합니다.\n",
        "\n",
        "이스케이프 문자를 사용하고 싶지 않다면 \\앞에 \\를 하나 더 붙여서 \\를 일반문자로 인식시키면되고\n",
        "\n",
        "만약에 그렇게 하기 어렵다면 r을 붙이는 방법이 있다. r을 붙이면 그 뒤에 나오는 문자열에 들어 있는 문자를 모두 일반 문자로 인식합니다."
      ],
      "metadata": {
        "id": "5Q38p6dJg_H8"
      }
    },
    {
      "cell_type": "code",
      "source": [
        "# 정규표현식에서 .는 모든 문자를 의미하죠? \n",
        "# 그래서 필요한 문자 외에 다른 문자들도 집어삼켜버립니다.\n",
        "\n",
        "# 만약에 이런글을 썼다고 해보죠\n",
        "import re\n",
        "example = '저희 첫째아들은 2020년에 태어났구요. 저희 둘째 아들은 23년에 태어났는데 셋째는 26년에 가질 예정이에요'\n",
        "\n",
        "re.findall(r'\\d.+년', example)"
      ],
      "metadata": {
        "colab": {
          "base_uri": "https://localhost:8080/"
        },
        "id": "zlupedAgg9nf",
        "outputId": "59107704-26b8-4d69-db70-93dca7c8d2e9"
      },
      "execution_count": null,
      "outputs": [
        {
          "output_type": "execute_result",
          "data": {
            "text/plain": [
              "['2020년에 태어났구요. 저희 둘째 아들은 23년에 태어났는데 셋째는 26년']"
            ]
          },
          "metadata": {},
          "execution_count": 165
        }
      ]
    },
    {
      "cell_type": "code",
      "source": [
        "# 정규표현식에서 .는 모든 문자를 의미하죠? \n",
        "# 그래서 필요한 문자 외에 다른 문자들도 집어삼켜버립니다.\n",
        "\n",
        "# 만약에 이런글을 썼다고 해보죠\n",
        "import re\n",
        "example = '저희 첫째아들은 2020년에 태어났구요. 저희 둘째 아들은 23년에 태어났는데 셋째는 26년에 가질 예정이에요'\n",
        "\n",
        "re.findall(r'\\d.+?년', example)"
      ],
      "metadata": {
        "colab": {
          "base_uri": "https://localhost:8080/"
        },
        "id": "2X7mU6Wvh7N9",
        "outputId": "dedce905-aca6-4a3c-ee45-8ad57950f428"
      },
      "execution_count": null,
      "outputs": [
        {
          "output_type": "execute_result",
          "data": {
            "text/plain": [
              "['2020년', '23년', '26년']"
            ]
          },
          "metadata": {},
          "execution_count": 166
        }
      ]
    },
    {
      "cell_type": "code",
      "source": [
        "# 정규표현식에서 .는 모든 문자를 의미하죠? \n",
        "# 그래서 필요한 문자 외에 다른 문자들도 집어삼켜버립니다.\n",
        "\n",
        "# 만약에 이런글을 썼다고 해보죠\n",
        "import re\n",
        "example = '저희 첫째아들은 2020년에 태어났구요. 저희 둘째 아들은 23년에 태어났는데 셋째는 26년에 가질 예정이에요'\n",
        "\n",
        "re.findall(r'\\d+.년', example)"
      ],
      "metadata": {
        "colab": {
          "base_uri": "https://localhost:8080/"
        },
        "id": "6maEBXaDiNNP",
        "outputId": "3c01d358-1922-44b8-e643-2a3964034f07"
      },
      "execution_count": null,
      "outputs": [
        {
          "output_type": "execute_result",
          "data": {
            "text/plain": [
              "['2020년', '23년', '26년']"
            ]
          },
          "metadata": {},
          "execution_count": 167
        }
      ]
    },
    {
      "cell_type": "code",
      "source": [
        "# split\n",
        "\n",
        "sentense = '나는 집에 갔습니다. 그리고 밥은 먹었어요. 또 청소를 했어요. 그리고 잠을 잤어요.'\n",
        "re.split(r'[.]', sentense)"
      ],
      "metadata": {
        "colab": {
          "base_uri": "https://localhost:8080/"
        },
        "id": "lOIzm9EeiU0U",
        "outputId": "2e21187b-6023-4638-c71f-f71643bc9164"
      },
      "execution_count": null,
      "outputs": [
        {
          "output_type": "execute_result",
          "data": {
            "text/plain": [
              "['나는 집에 갔습니다', ' 그리고 밥은 먹었어요', ' 또 청소를 했어요', ' 그리고 잠을 잤어요', '']"
            ]
          },
          "metadata": {},
          "execution_count": 168
        }
      ]
    },
    {
      "cell_type": "code",
      "source": [
        "# 이런 파일이 있을수 있어요\n",
        "# , ; \n",
        "\n",
        "data = 'a:3;b:4;c:5'\n",
        "for i in re.split(r';', data):\n",
        "  print(i)"
      ],
      "metadata": {
        "colab": {
          "base_uri": "https://localhost:8080/"
        },
        "id": "NhjgcCeIivpR",
        "outputId": "132461ca-8612-4bc3-ec41-55d305f734d7"
      },
      "execution_count": null,
      "outputs": [
        {
          "output_type": "stream",
          "name": "stdout",
          "text": [
            "a:3\n",
            "b:4\n",
            "c:5\n"
          ]
        }
      ]
    },
    {
      "cell_type": "code",
      "source": [
        "# 이런 파일이 있을수 있어요\n",
        "data = 'a:3;b:4;c:5'\n",
        "for i in r';re.split(', data):\n",
        "  print(re.split(r':', i))\n"
      ],
      "metadata": {
        "colab": {
          "base_uri": "https://localhost:8080/",
          "height": 132
        },
        "id": "y1I6ifHCi8Db",
        "outputId": "31a0e998-1519-4bbd-c531-3b45ef0c5f4c"
      },
      "execution_count": null,
      "outputs": [
        {
          "output_type": "error",
          "ename": "SyntaxError",
          "evalue": "ignored",
          "traceback": [
            "\u001b[0;36m  File \u001b[0;32m\"<ipython-input-177-955dfd253637>\"\u001b[0;36m, line \u001b[0;32m3\u001b[0m\n\u001b[0;31m    for i in r';re.split(', data):\u001b[0m\n\u001b[0m                                ^\u001b[0m\n\u001b[0;31mSyntaxError\u001b[0m\u001b[0;31m:\u001b[0m unmatched ')'\n"
          ]
        }
      ]
    },
    {
      "cell_type": "code",
      "source": [
        "sentence = '나는 동물 키우는것을 좋아합니다. 그 중 강아지를 키우는데 이름은 꽃님이에요. 날씨가 화창한 날이면 꽃님이와 산책가고 싶어져요'"
      ],
      "metadata": {
        "id": "aIkVYSX2jDtr"
      },
      "execution_count": null,
      "outputs": []
    },
    {
      "cell_type": "code",
      "source": [
        "print(sentence)"
      ],
      "metadata": {
        "colab": {
          "base_uri": "https://localhost:8080/"
        },
        "id": "yEA3cdp1jOnT",
        "outputId": "589f779c-acd3-4303-8ebc-b9eec4413198"
      },
      "execution_count": null,
      "outputs": [
        {
          "output_type": "stream",
          "name": "stdout",
          "text": [
            "나는 동물 키우는것을 좋아합니다. 그 중 강아지를 키우는데 이름은 꽃님이에요. 날씨가 화창한 날이면 꽃님이와 산책가고 싶어져요\n"
          ]
        }
      ]
    },
    {
      "cell_type": "code",
      "source": [
        "re.sub(r'꽃님이', '또리', sentence)"
      ],
      "metadata": {
        "colab": {
          "base_uri": "https://localhost:8080/",
          "height": 53
        },
        "id": "Q4ZGMzY4jQOr",
        "outputId": "cc70b564-6555-4562-bb2c-bca63db456a4"
      },
      "execution_count": null,
      "outputs": [
        {
          "output_type": "execute_result",
          "data": {
            "text/plain": [
              "'나는 동물 키우는것을 좋아합니다. 그 중 강아지를 키우는데 이름은 또리에요. 날씨가 화창한 날이면 또리와 산책가고 싶어져요'"
            ],
            "application/vnd.google.colaboratory.intrinsic+json": {
              "type": "string"
            }
          },
          "metadata": {},
          "execution_count": 173
        }
      ]
    },
    {
      "cell_type": "code",
      "source": [
        "# 만약에 다음과 같이 공백이 있으면 어떻게 처리하면 좋을까요 공백만 다 제거해도 좋을거같아요\n",
        "sentence = '\\n\\n 나는 동물 키우는것을 좋아합니다. \\n\\n 그 중 강아지를 키우는데 이름은 꽃님이에요. \\n\\n날씨가 화창한 날이면 꽃님이와 산책가고 싶어져요 \\n\\n'"
      ],
      "metadata": {
        "id": "uhqvo-TWjZX-"
      },
      "execution_count": null,
      "outputs": []
    },
    {
      "cell_type": "code",
      "source": [
        "print(sentence)"
      ],
      "metadata": {
        "colab": {
          "base_uri": "https://localhost:8080/"
        },
        "id": "G7gQyRtbjega",
        "outputId": "e0b08383-e9be-46aa-8c9b-4c54e8e3bc61"
      },
      "execution_count": null,
      "outputs": [
        {
          "output_type": "stream",
          "name": "stdout",
          "text": [
            "\n",
            "\n",
            " 나는 동물 키우는것을 좋아합니다. \n",
            "\n",
            " 그 중 강아지를 키우는데 이름은 꽃님이에요. \n",
            "\n",
            "날씨가 화창한 날이면 꽃님이와 산책가고 싶어져요 \n",
            "\n",
            "\n"
          ]
        }
      ]
    },
    {
      "cell_type": "code",
      "source": [
        "# 실제로 내가 띄워놓았던 공백을 제외하고는 모든 공백이 처리된것을 볼 수 있어요\n",
        "print(re.sub('\\n', '', sentence))"
      ],
      "metadata": {
        "colab": {
          "base_uri": "https://localhost:8080/"
        },
        "id": "NeSJQBKwjf_P",
        "outputId": "4a1a3b63-416f-4030-c3ed-dce7a97a682b"
      },
      "execution_count": null,
      "outputs": [
        {
          "output_type": "stream",
          "name": "stdout",
          "text": [
            " 나는 동물 키우는것을 좋아합니다.  그 중 강아지를 키우는데 이름은 꽃님이에요. 날씨가 화창한 날이면 꽃님이와 산책가고 싶어져요 \n"
          ]
        }
      ]
    },
    {
      "cell_type": "code",
      "source": [],
      "metadata": {
        "id": "SSRXX02KjjQ1"
      },
      "execution_count": null,
      "outputs": []
    }
  ]
}