{
  "nbformat": 4,
  "nbformat_minor": 0,
  "metadata": {
    "colab": {
      "provenance": []
    },
    "kernelspec": {
      "name": "python3",
      "display_name": "Python 3"
    },
    "language_info": {
      "name": "python"
    }
  },
  "cells": [
    {
      "cell_type": "markdown",
      "source": [
        "# 1. Numpy\n",
        "\n",
        "- 파이썬 라이브러리 중 하나 -> 과학 연산\n",
        "- 배열 -> 행렬 (선형대수)\n",
        "- 선형대수 , 푸리에 변환 -> 수학 함수"
      ],
      "metadata": {
        "id": "HOTj41Rf0SGT"
      }
    },
    {
      "cell_type": "code",
      "execution_count": 1,
      "metadata": {
        "id": "wVEs9cT9yt_d"
      },
      "outputs": [],
      "source": [
        "import numpy as np # numpy를 np이름으로 사용할 것이다"
      ]
    },
    {
      "cell_type": "code",
      "source": [
        "# 하나의 숫자값: 스칼라\n",
        "\n",
        "s = np.array(1)\n",
        "print(s)"
      ],
      "metadata": {
        "colab": {
          "base_uri": "https://localhost:8080/"
        },
        "id": "WrDKsrQa5Nmr",
        "outputId": "58f20b2d-4cd9-4342-e70c-bc177a1f4b44"
      },
      "execution_count": 15,
      "outputs": [
        {
          "output_type": "stream",
          "name": "stdout",
          "text": [
            "1\n"
          ]
        }
      ]
    },
    {
      "cell_type": "code",
      "source": [
        "# 1차원: 벡터\n",
        "a = np.array([1, 2, 3, 4]) # 1차원 배열 생성"
      ],
      "metadata": {
        "id": "urDcCu7C14WC"
      },
      "execution_count": 2,
      "outputs": []
    },
    {
      "cell_type": "code",
      "source": [
        "print(a) # 리스트와 달리 ,로 구분되지 않음. 1차원 배열"
      ],
      "metadata": {
        "colab": {
          "base_uri": "https://localhost:8080/"
        },
        "id": "lwYsxxpV2cRA",
        "outputId": "8692a997-c264-42ba-f5c9-66954e50cfdd"
      },
      "execution_count": 3,
      "outputs": [
        {
          "output_type": "stream",
          "name": "stdout",
          "text": [
            "[1 2 3 4]\n"
          ]
        }
      ]
    },
    {
      "cell_type": "code",
      "source": [
        "l = [1, 2, 3, 4]\n",
        "print(l)"
      ],
      "metadata": {
        "colab": {
          "base_uri": "https://localhost:8080/"
        },
        "id": "EU19cjcn2dxO",
        "outputId": "dff73fa6-d536-414b-a2dc-de275136b7c9"
      },
      "execution_count": 4,
      "outputs": [
        {
          "output_type": "stream",
          "name": "stdout",
          "text": [
            "[1, 2, 3, 4]\n"
          ]
        }
      ]
    },
    {
      "cell_type": "code",
      "source": [
        "print(a.shape)"
      ],
      "metadata": {
        "colab": {
          "base_uri": "https://localhost:8080/"
        },
        "id": "rhEmcRcE2jZF",
        "outputId": "414c2598-0652-457f-b976-7cc1d951b02d"
      },
      "execution_count": 5,
      "outputs": [
        {
          "output_type": "stream",
          "name": "stdout",
          "text": [
            "(4,)\n"
          ]
        }
      ]
    },
    {
      "cell_type": "code",
      "source": [
        "print(a.ndim) # 배열의 차원"
      ],
      "metadata": {
        "colab": {
          "base_uri": "https://localhost:8080/"
        },
        "id": "-QilWluc2tFR",
        "outputId": "933c2eca-3bdb-46ec-966d-7045dcb6e6a4"
      },
      "execution_count": 6,
      "outputs": [
        {
          "output_type": "stream",
          "name": "stdout",
          "text": [
            "1\n"
          ]
        }
      ]
    },
    {
      "cell_type": "code",
      "source": [
        "print(a.dtype) # 배열의 데이터 타입"
      ],
      "metadata": {
        "colab": {
          "base_uri": "https://localhost:8080/"
        },
        "id": "HAXjUDky3EuR",
        "outputId": "9251a6de-f740-4758-f71a-99d254f4c2ec"
      },
      "execution_count": 7,
      "outputs": [
        {
          "output_type": "stream",
          "name": "stdout",
          "text": [
            "int64\n"
          ]
        }
      ]
    },
    {
      "cell_type": "code",
      "source": [
        "print(a.itemsize) # 각 요소의 바이트 단위 크기"
      ],
      "metadata": {
        "colab": {
          "base_uri": "https://localhost:8080/"
        },
        "id": "3cc8JYs_3PTK",
        "outputId": "08e30ed2-0aa9-4284-a1c3-35d6dcb66984"
      },
      "execution_count": 8,
      "outputs": [
        {
          "output_type": "stream",
          "name": "stdout",
          "text": [
            "8\n"
          ]
        }
      ]
    },
    {
      "cell_type": "code",
      "source": [
        "# 2차원: 행렬(Matrix)\n",
        "b = np.array([[1, 2], [2, 4]])  # 2차원은 2개의 꺽새\n",
        "\n",
        "print(b)"
      ],
      "metadata": {
        "colab": {
          "base_uri": "https://localhost:8080/"
        },
        "id": "bIfknQVQ3WXc",
        "outputId": "90fbba17-4f8a-4b60-a3e6-5f67de65fab6"
      },
      "execution_count": 11,
      "outputs": [
        {
          "output_type": "stream",
          "name": "stdout",
          "text": [
            "[[1 2]\n",
            " [2 4]]\n"
          ]
        }
      ]
    },
    {
      "cell_type": "code",
      "source": [
        "print(b)\n",
        "print(b.ndim)\n",
        "print(b.dtype)\n",
        "print(b.itemsize)\n",
        "print(b.nbytes)"
      ],
      "metadata": {
        "colab": {
          "base_uri": "https://localhost:8080/"
        },
        "id": "wOYhtOam3rCA",
        "outputId": "6cf5e50a-d425-4455-bcfd-9d9a6d684b30"
      },
      "execution_count": 12,
      "outputs": [
        {
          "output_type": "stream",
          "name": "stdout",
          "text": [
            "[[1 2]\n",
            " [2 4]]\n",
            "2\n",
            "int64\n",
            "8\n",
            "32\n"
          ]
        }
      ]
    },
    {
      "cell_type": "code",
      "source": [
        "# 3차원: 텐서(Tensor)\n",
        "\n",
        "c = np.array([[[1, 2], [3, 4]], [[5, 6], [7,8]]])\n",
        "\n",
        "print(c)\n",
        "print(c.ndim)\n",
        "print(c.dtype)\n",
        "print(c.itemsize)\n",
        "print(c.nbytes)\n"
      ],
      "metadata": {
        "colab": {
          "base_uri": "https://localhost:8080/"
        },
        "id": "Mn1PS8T74Xnj",
        "outputId": "84c493e9-62a5-4ea5-fe13-f698d462078a"
      },
      "execution_count": 14,
      "outputs": [
        {
          "output_type": "stream",
          "name": "stdout",
          "text": [
            "[[[1 2]\n",
            "  [3 4]]\n",
            "\n",
            " [[5 6]\n",
            "  [7 8]]]\n",
            "3\n",
            "int64\n",
            "8\n",
            "64\n"
          ]
        }
      ]
    },
    {
      "cell_type": "code",
      "source": [
        "# for문을 이용해서 배열 생성\n",
        "\n",
        "f = np.array([i for i in range(0,10,2)]) # (start,end,step)\n",
        "print(f)"
      ],
      "metadata": {
        "colab": {
          "base_uri": "https://localhost:8080/"
        },
        "id": "pTM4-1Kb5f0k",
        "outputId": "395925bb-b68a-484b-f7e2-7af30f2b4b37"
      },
      "execution_count": 17,
      "outputs": [
        {
          "output_type": "stream",
          "name": "stdout",
          "text": [
            "[0 2 4 6 8]\n"
          ]
        }
      ]
    },
    {
      "cell_type": "code",
      "source": [
        "print(f)\n",
        "print(f.ndim)\n",
        "print(f.dtype)\n",
        "print(f.itemsize)\n",
        "print(f.nbytes)"
      ],
      "metadata": {
        "colab": {
          "base_uri": "https://localhost:8080/"
        },
        "id": "opVeEdDK6bve",
        "outputId": "a4935f50-a3df-49e3-8b68-4fd3c37ba7cd"
      },
      "execution_count": 18,
      "outputs": [
        {
          "output_type": "stream",
          "name": "stdout",
          "text": [
            "[0 2 4 6 8]\n",
            "1\n",
            "int64\n",
            "8\n",
            "40\n"
          ]
        }
      ]
    },
    {
      "cell_type": "markdown",
      "source": [
        "## 데이터 타입\n",
        "\n",
        "1. 숫자형\n",
        "\n",
        "2. 문자형\n",
        "\n",
        "3. 논리형"
      ],
      "metadata": {
        "id": "0C0Wft2K-e84"
      }
    },
    {
      "cell_type": "markdown",
      "source": [
        "### 숫자형\n",
        "\n",
        "- 부호가 있는 정수 (Signed integer)\n",
        "- 부호가 없는 정수 (Unsigned integer)\n",
        "- 실수 (floating point)\n",
        "- 복소수 (complex) "
      ],
      "metadata": {
        "id": "RY90mLk_-l-7"
      }
    },
    {
      "cell_type": "code",
      "source": [
        "# int (8bit, 16bit, 32bit, 64bit)\n",
        "\n",
        "data = [1.1, 2, 3]\n",
        "\n",
        "i = np.array(data, dtype = np.int32)\n",
        "print(i)"
      ],
      "metadata": {
        "colab": {
          "base_uri": "https://localhost:8080/"
        },
        "id": "hqF_y7Kq6yQx",
        "outputId": "c4e19d14-36e9-43b1-e4d9-97bb65630c23"
      },
      "execution_count": 19,
      "outputs": [
        {
          "output_type": "stream",
          "name": "stdout",
          "text": [
            "[1 2 3]\n"
          ]
        }
      ]
    },
    {
      "cell_type": "code",
      "source": [
        "print(i.dtype)"
      ],
      "metadata": {
        "colab": {
          "base_uri": "https://localhost:8080/"
        },
        "id": "UAKZe4bj_jW5",
        "outputId": "c54ba6b6-7bdc-4462-f9a7-28dedeb13854"
      },
      "execution_count": 20,
      "outputs": [
        {
          "output_type": "stream",
          "name": "stdout",
          "text": [
            "int32\n"
          ]
        }
      ]
    },
    {
      "cell_type": "code",
      "source": [
        "data2 = [-1, 2, 3]\n",
        "\n",
        "ui = np.array(data2, dtype=np.uint32) # -1이 uint32의 범위를 넘어서서 이상한 결과가 나옴\n",
        "print(ui)"
      ],
      "metadata": {
        "colab": {
          "base_uri": "https://localhost:8080/"
        },
        "id": "BzKQ7Kup_lGW",
        "outputId": "2d9671f2-14c8-480d-dec3-06220781ad64"
      },
      "execution_count": 24,
      "outputs": [
        {
          "output_type": "stream",
          "name": "stdout",
          "text": [
            "[4294967295          2          3]\n"
          ]
        }
      ]
    },
    {
      "cell_type": "code",
      "source": [
        "f = np.array(data, dtype=np.float64)\n",
        "\n",
        "print(f)"
      ],
      "metadata": {
        "colab": {
          "base_uri": "https://localhost:8080/"
        },
        "id": "0yVvdQ_ZAEm9",
        "outputId": "056643cd-8a03-49a5-ebd0-c24e8f58b08b"
      },
      "execution_count": 25,
      "outputs": [
        {
          "output_type": "stream",
          "name": "stdout",
          "text": [
            "[1.1 2.  3. ]\n"
          ]
        }
      ]
    },
    {
      "cell_type": "code",
      "source": [
        "c = np.array([1 + 2j, 3 + 4j, 5 + 6j], dtype=np.complex64)"
      ],
      "metadata": {
        "id": "DYonOgjkBdZS"
      },
      "execution_count": 27,
      "outputs": []
    },
    {
      "cell_type": "code",
      "source": [
        "print(c.real) # 실수\n",
        "print(c.imag) # 허수"
      ],
      "metadata": {
        "colab": {
          "base_uri": "https://localhost:8080/"
        },
        "id": "GPWipVF6BveF",
        "outputId": "3cb70d25-1161-4fc5-9622-9f3c698d80df"
      },
      "execution_count": 28,
      "outputs": [
        {
          "output_type": "stream",
          "name": "stdout",
          "text": [
            "[1. 3. 5.]\n",
            "[2. 4. 6.]\n"
          ]
        }
      ]
    },
    {
      "cell_type": "markdown",
      "source": [
        "### 문자형\n",
        "\n",
        "- string_\n",
        "- unicod_"
      ],
      "metadata": {
        "id": "zZYx2LVtCOGM"
      }
    },
    {
      "cell_type": "code",
      "source": [
        "data = [1, 2, 3]\n",
        "\n",
        "s = np.string_(data)\n",
        "print(s)"
      ],
      "metadata": {
        "colab": {
          "base_uri": "https://localhost:8080/"
        },
        "id": "PF7yvTJiCTn7",
        "outputId": "168a3ed3-2cbf-4c15-a52f-1ba87721132b"
      },
      "execution_count": 29,
      "outputs": [
        {
          "output_type": "stream",
          "name": "stdout",
          "text": [
            "b'\\x01\\x02\\x03'\n"
          ]
        }
      ]
    },
    {
      "cell_type": "code",
      "source": [
        "print(s.dtype) # s3: string 3"
      ],
      "metadata": {
        "colab": {
          "base_uri": "https://localhost:8080/"
        },
        "id": "GmztZuZeCYV-",
        "outputId": "7cf2ac2c-55ca-4760-cec9-7b1993138734"
      },
      "execution_count": 30,
      "outputs": [
        {
          "output_type": "stream",
          "name": "stdout",
          "text": [
            "|S3\n"
          ]
        }
      ]
    },
    {
      "cell_type": "code",
      "source": [
        "data3 = [1, 2, 3, 4, 5]\n",
        "\n",
        "# string_\n",
        "s2 = np.string_(data3) # s2 = np.array(data3, dtype='S') 와 같은 표현\n",
        "\n",
        "# print, 그 자체, 데이터 타입\n",
        "print(s2)\n",
        "print(s2.dtype)"
      ],
      "metadata": {
        "colab": {
          "base_uri": "https://localhost:8080/"
        },
        "id": "NnqIEGZwCre9",
        "outputId": "63d1157b-771b-4734-ce45-20e4fab8f5fb"
      },
      "execution_count": 34,
      "outputs": [
        {
          "output_type": "stream",
          "name": "stdout",
          "text": [
            "b'\\x01\\x02\\x03\\x04\\x05'\n",
            "|S5\n"
          ]
        }
      ]
    },
    {
      "cell_type": "code",
      "source": [
        "u = np.array(data3, dtype='U') # unicode\n",
        "\n",
        "print(u)\n",
        "print(u.dtype)"
      ],
      "metadata": {
        "colab": {
          "base_uri": "https://localhost:8080/"
        },
        "id": "AHgxlM3uDXui",
        "outputId": "bed3f545-df35-42bd-9ddb-2713e5d25684"
      },
      "execution_count": 41,
      "outputs": [
        {
          "output_type": "stream",
          "name": "stdout",
          "text": [
            "['1' '2' '3' '4' '5']\n",
            "<U1\n"
          ]
        }
      ]
    },
    {
      "cell_type": "code",
      "source": [
        "data4 = [11, 22, 33, 44, 55]\n",
        "\n",
        "u2 = np.array(data4, dtype='U')\n",
        "print(u2.dtype)\n"
      ],
      "metadata": {
        "colab": {
          "base_uri": "https://localhost:8080/"
        },
        "id": "5kNSqNYmD6MH",
        "outputId": "6b7ee5bc-8034-4656-d873-974a8fa395b4"
      },
      "execution_count": 37,
      "outputs": [
        {
          "output_type": "stream",
          "name": "stdout",
          "text": [
            "<U2\n"
          ]
        }
      ]
    },
    {
      "cell_type": "markdown",
      "source": [
        "### 논리형 (boolean)\n",
        "\n",
        "- True(1), False(0)\n",
        "- 비트 연산 사용\n"
      ],
      "metadata": {
        "id": "_NwIOIvoEDQW"
      }
    },
    {
      "cell_type": "code",
      "source": [
        "l1 = np.array([True, False, True])\n",
        "l2 = np.array([False, True, False])\n",
        "\n",
        "print(l1.dtype)\n",
        "print(l2.dtype)"
      ],
      "metadata": {
        "colab": {
          "base_uri": "https://localhost:8080/"
        },
        "id": "_z9GvUaUEdla",
        "outputId": "27ebd82b-3c47-4eac-983b-28ec2d22d158"
      },
      "execution_count": 38,
      "outputs": [
        {
          "output_type": "stream",
          "name": "stdout",
          "text": [
            "bool\n",
            "bool\n"
          ]
        }
      ]
    },
    {
      "cell_type": "code",
      "source": [
        "and_ = np.logical_and(l1, l2)\n",
        "print(and_)"
      ],
      "metadata": {
        "colab": {
          "base_uri": "https://localhost:8080/"
        },
        "id": "WSj16xapErjb",
        "outputId": "d5298828-2921-4ac5-9b3e-2c719da151bd"
      },
      "execution_count": 40,
      "outputs": [
        {
          "output_type": "stream",
          "name": "stdout",
          "text": [
            "[False False False]\n"
          ]
        }
      ]
    },
    {
      "cell_type": "markdown",
      "source": [
        "## 데이터 형 변환 (Cast, Casting 형 변환)\n",
        "\n",
        "- 데이터들끼리 형태를 맞춰준다\n",
        "- 예시) 이미지 데이터 -> uint 형으로 불러옴 -> 분석할때는 float형\n"
      ],
      "metadata": {
        "id": "oOOEzuSLHmwm"
      }
    },
    {
      "cell_type": "code",
      "source": [
        "data = [1.1, 2, 3]\n",
        "\n",
        "a = np.float64(data) # np.데이터타입\n",
        "print(a)\n",
        "print(a.dtype)"
      ],
      "metadata": {
        "colab": {
          "base_uri": "https://localhost:8080/"
        },
        "id": "JC-l6P0dN0bW",
        "outputId": "d40859a0-d1bb-464d-bce8-e1a737f35144"
      },
      "execution_count": 42,
      "outputs": [
        {
          "output_type": "stream",
          "name": "stdout",
          "text": [
            "[1.1 2.  3. ]\n",
            "float64\n"
          ]
        }
      ]
    },
    {
      "cell_type": "code",
      "source": [
        "a = a.astype(np.int64)\n",
        "\n",
        "print(a)\n",
        "print(a.dtype)"
      ],
      "metadata": {
        "colab": {
          "base_uri": "https://localhost:8080/"
        },
        "id": "pGktmJSBN9bV",
        "outputId": "55a3a342-fa86-4292-bbd0-bfff288a50e9"
      },
      "execution_count": 45,
      "outputs": [
        {
          "output_type": "stream",
          "name": "stdout",
          "text": [
            "[1 2 3]\n",
            "int64\n"
          ]
        }
      ]
    },
    {
      "cell_type": "code",
      "source": [
        "b = np.uint16(0)\n",
        "\n",
        "print(b)\n",
        "print(b.dtype)"
      ],
      "metadata": {
        "colab": {
          "base_uri": "https://localhost:8080/"
        },
        "id": "CHuiOPHSOXov",
        "outputId": "9b021dce-0c56-4637-d634-5b89fccceb4d"
      },
      "execution_count": 47,
      "outputs": [
        {
          "output_type": "stream",
          "name": "stdout",
          "text": [
            "0\n",
            "uint16\n"
          ]
        }
      ]
    },
    {
      "cell_type": "code",
      "source": [
        "b = b - 1 # uint형이던 b를 int형으로 자동 변환\n",
        "print(b)"
      ],
      "metadata": {
        "colab": {
          "base_uri": "https://localhost:8080/"
        },
        "id": "0Nf-5m9xOxRK",
        "outputId": "a3452c62-98c8-4d25-eee5-1a3676b83800"
      },
      "execution_count": 50,
      "outputs": [
        {
          "output_type": "stream",
          "name": "stdout",
          "text": [
            "-3\n"
          ]
        }
      ]
    },
    {
      "cell_type": "code",
      "source": [
        "c = np.uint16(-1) # uint16 (0 ~ 65535)\n",
        "print(c)"
      ],
      "metadata": {
        "colab": {
          "base_uri": "https://localhost:8080/"
        },
        "id": "2figcdGnPl7O",
        "outputId": "b70436a2-0d0c-48d1-c425-538c8cb804b2"
      },
      "execution_count": 55,
      "outputs": [
        {
          "output_type": "stream",
          "name": "stdout",
          "text": [
            "65535\n"
          ]
        }
      ]
    },
    {
      "cell_type": "markdown",
      "source": [
        "## 산술연산"
      ],
      "metadata": {
        "id": "pTNDxW-NQgj7"
      }
    },
    {
      "cell_type": "code",
      "source": [
        "import time\n",
        "\n",
        "data = [[1, 2, 3], [4, 5, 6]]\n",
        "data2 = [[1, 1, 1], [2, 2, 2]]\n",
        "\n",
        "start_time = time.time()\n",
        "\n",
        "sum = 0\n",
        "for i in range(len(data)): # range(2)\n",
        "  for j in range(len(data[0])): #range(3)\n",
        "     sum += data[i][j]\n",
        "     print(i,j)\n",
        "\n",
        "print(sum)\n"
      ],
      "metadata": {
        "colab": {
          "base_uri": "https://localhost:8080/"
        },
        "id": "BfoNI5btPpbQ",
        "outputId": "3d2da73c-99c5-48a4-b033-1ba9bfa829fc"
      },
      "execution_count": 68,
      "outputs": [
        {
          "output_type": "stream",
          "name": "stdout",
          "text": [
            "0 0\n",
            "0 1\n",
            "0 2\n",
            "1 0\n",
            "1 1\n",
            "1 2\n",
            "21\n"
          ]
        }
      ]
    },
    {
      "cell_type": "code",
      "source": [
        "data = [[1, 2, 3], [4, 5, 6]]\n",
        "data2 = [[1, 1, 1], [2, 2, 2]]\n",
        "\n",
        "print(len(data))\n",
        "print(len(data2))\n",
        "print(len(data[0]))"
      ],
      "metadata": {
        "colab": {
          "base_uri": "https://localhost:8080/"
        },
        "id": "1NNv5GnWRg6i",
        "outputId": "25fd7324-fbc8-42b1-f707-5eb3a9ef0889"
      },
      "execution_count": 60,
      "outputs": [
        {
          "output_type": "stream",
          "name": "stdout",
          "text": [
            "2\n",
            "2\n",
            "3\n"
          ]
        }
      ]
    },
    {
      "cell_type": "code",
      "source": [
        "a = np.array([1, 2, 3])\n",
        "b = np.array([4, 5, 6])\n",
        "\n",
        "# 덧셈\n",
        "sum = a + b\n",
        "print(sum)\n",
        "\n",
        "# 뺄셈\n",
        "min = a - b\n",
        "print(min)\n",
        "# 곱셈\n",
        "mul = a * b\n",
        "print(mul)\n",
        "# 나눗셈\n",
        "div = a / b\n",
        "print(div)"
      ],
      "metadata": {
        "colab": {
          "base_uri": "https://localhost:8080/"
        },
        "id": "cTQ3TwGcUYfM",
        "outputId": "b8132687-b157-4591-a2d6-cd65e1846f4a"
      },
      "execution_count": 70,
      "outputs": [
        {
          "output_type": "stream",
          "name": "stdout",
          "text": [
            "[5 7 9]\n",
            "[-3 -3 -3]\n",
            "[ 4 10 18]\n",
            "[0.25 0.4  0.5 ]\n"
          ]
        }
      ]
    },
    {
      "cell_type": "code",
      "source": [
        "a = np.array([1, 2, 3])\n",
        "b = np.array([4, 5, 6])\n"
      ],
      "metadata": {
        "colab": {
          "base_uri": "https://localhost:8080/"
        },
        "id": "PlHxp0CnVPlx",
        "outputId": "e26d85fc-09a2-4946-c29a-f96a6db4e04b"
      },
      "execution_count": 71,
      "outputs": [
        {
          "output_type": "stream",
          "name": "stdout",
          "text": [
            "[ 2.71828183  7.3890561  20.08553692]\n"
          ]
        }
      ]
    },
    {
      "cell_type": "code",
      "source": [
        "# 지수함수\n",
        "aa = np.exp(a) # e^a\n",
        "print(aa)"
      ],
      "metadata": {
        "id": "FJP65LCnVstO"
      },
      "execution_count": null,
      "outputs": []
    },
    {
      "cell_type": "code",
      "source": [
        "# 자연로그\n",
        "bb = np.log(b)\n",
        "print(bb)"
      ],
      "metadata": {
        "colab": {
          "base_uri": "https://localhost:8080/"
        },
        "id": "PU6xPUD0VtQP",
        "outputId": "3c12ce8f-25bf-425d-f43b-46fd0534fc3e"
      },
      "execution_count": 72,
      "outputs": [
        {
          "output_type": "stream",
          "name": "stdout",
          "text": [
            "[1.38629436 1.60943791 1.79175947]\n"
          ]
        }
      ]
    },
    {
      "cell_type": "code",
      "source": [
        "# 밑이 n인 로그\n",
        "cc = np.log2(b) # 밑이 2인 로그\n",
        "print(cc)"
      ],
      "metadata": {
        "colab": {
          "base_uri": "https://localhost:8080/"
        },
        "id": "65Do3nNAV5ri",
        "outputId": "565844d4-94a9-45b2-9565-a936b4ebc5f7"
      },
      "execution_count": 73,
      "outputs": [
        {
          "output_type": "stream",
          "name": "stdout",
          "text": [
            "[2.         2.32192809 2.5849625 ]\n"
          ]
        }
      ]
    },
    {
      "cell_type": "code",
      "source": [
        "# 삼각함수\n",
        "\n",
        "d = np.array([0, np.pi/2, np.pi])\n",
        "\n",
        "sin_ = np.sin(d)\n",
        "\n",
        "cos_ = np.cos(d)\n",
        "\n",
        "tan_ = np.tan(d)\n",
        "\n",
        "print(sin_)\n",
        "print(cos_)\n",
        "print(tan_)"
      ],
      "metadata": {
        "colab": {
          "base_uri": "https://localhost:8080/"
        },
        "id": "gG4MoB9qWIzB",
        "outputId": "b27bd08d-0334-4960-b478-143020f9cc33"
      },
      "execution_count": 74,
      "outputs": [
        {
          "output_type": "stream",
          "name": "stdout",
          "text": [
            "[0.0000000e+00 1.0000000e+00 1.2246468e-16]\n",
            "[ 1.000000e+00  6.123234e-17 -1.000000e+00]\n",
            "[ 0.00000000e+00  1.63312394e+16 -1.22464680e-16]\n"
          ]
        }
      ]
    },
    {
      "cell_type": "markdown",
      "source": [
        "## 배열의 연결과 분할"
      ],
      "metadata": {
        "id": "YAn3ockhqOPr"
      }
    },
    {
      "cell_type": "code",
      "source": [
        "print('a' + 'b')"
      ],
      "metadata": {
        "colab": {
          "base_uri": "https://localhost:8080/"
        },
        "id": "18y7wktPqRjQ",
        "outputId": "cf7784dc-b8eb-4154-863b-6bbce14979ca"
      },
      "execution_count": 75,
      "outputs": [
        {
          "output_type": "stream",
          "name": "stdout",
          "text": [
            "ab\n"
          ]
        }
      ]
    },
    {
      "cell_type": "code",
      "source": [
        "x = [1, 2, 3]\n",
        "y = [4, 5, 6]"
      ],
      "metadata": {
        "id": "keGKSQ26qUmA"
      },
      "execution_count": 76,
      "outputs": []
    },
    {
      "cell_type": "code",
      "source": [
        "concat = np.concatenate([x,y])\n",
        "print(concat)"
      ],
      "metadata": {
        "colab": {
          "base_uri": "https://localhost:8080/"
        },
        "id": "KNOUeWtFqkow",
        "outputId": "cd2df80c-5d9e-49c7-ba24-e2cb29f11919"
      },
      "execution_count": 78,
      "outputs": [
        {
          "output_type": "stream",
          "name": "stdout",
          "text": [
            "[1 2 3 4 5 6]\n"
          ]
        }
      ]
    },
    {
      "cell_type": "code",
      "source": [
        "x2 = [[1, 2], [3, 4]] # 2 x 2\n",
        "y2 = [[4, 5], [6, 7]] # 2 x 2\n",
        "\n",
        "concat2 = np.concatenate([x2,y2], axis=1) # 열 방향\n",
        "concat3 = np.concatenate([x2,y2], axis=0) # 행 방향\n",
        "print(concat2)\n",
        "print(concat3)"
      ],
      "metadata": {
        "colab": {
          "base_uri": "https://localhost:8080/"
        },
        "id": "HTzFq4jfqs6q",
        "outputId": "808d14d8-c606-4a36-a107-fb8d35f609b0"
      },
      "execution_count": 85,
      "outputs": [
        {
          "output_type": "stream",
          "name": "stdout",
          "text": [
            "[[1 2 4 5]\n",
            " [3 4 6 7]]\n",
            "[[1 2]\n",
            " [3 4]\n",
            " [4 5]\n",
            " [6 7]]\n"
          ]
        }
      ]
    },
    {
      "cell_type": "code",
      "source": [
        "arr = np.arange(10)\n",
        "print(arr)"
      ],
      "metadata": {
        "colab": {
          "base_uri": "https://localhost:8080/"
        },
        "id": "mpG9cD32svL3",
        "outputId": "2080c9bd-7fc5-409d-d230-bd7427710341"
      },
      "execution_count": 88,
      "outputs": [
        {
          "output_type": "stream",
          "name": "stdout",
          "text": [
            "[0 1 2 3 4 5 6 7 8 9]\n"
          ]
        }
      ]
    },
    {
      "cell_type": "code",
      "source": [
        "arr.reshape(2, 5)"
      ],
      "metadata": {
        "colab": {
          "base_uri": "https://localhost:8080/"
        },
        "id": "xsi_EUY5q-Eq",
        "outputId": "128fbaf1-9770-43cc-e18c-d4cfcc2f54cc"
      },
      "execution_count": 90,
      "outputs": [
        {
          "output_type": "execute_result",
          "data": {
            "text/plain": [
              "array([[0, 1, 2, 3, 4],\n",
              "       [5, 6, 7, 8, 9]])"
            ]
          },
          "metadata": {},
          "execution_count": 90
        }
      ]
    },
    {
      "cell_type": "code",
      "source": [
        "x2 = [[1, 2], [3, 4]] # 2 x 2\n",
        "y2 = [[4, 5], [6, 7]] # 2 x 2\n",
        "\n",
        "# hstack - 수평\n",
        "\n",
        "h = np.hstack([x2, y2]) # 수평 열 방향\n",
        "print(h)\n"
      ],
      "metadata": {
        "colab": {
          "base_uri": "https://localhost:8080/"
        },
        "id": "jPWKR-1HuE-t",
        "outputId": "40d76993-4e38-47e0-e828-95c537ee59f1"
      },
      "execution_count": 92,
      "outputs": [
        {
          "output_type": "stream",
          "name": "stdout",
          "text": [
            "[[1 2 4 5]\n",
            " [3 4 6 7]]\n"
          ]
        }
      ]
    },
    {
      "cell_type": "code",
      "source": [
        "# vstack - 수직(vertical)\n",
        "\n",
        "v = np.vstack([x2,y2]) # 수직 행 방향\n",
        "print(v)"
      ],
      "metadata": {
        "colab": {
          "base_uri": "https://localhost:8080/"
        },
        "id": "TN5wXRZMuXAR",
        "outputId": "0c555882-74ba-4546-d5ff-fe7f41b72753"
      },
      "execution_count": 93,
      "outputs": [
        {
          "output_type": "stream",
          "name": "stdout",
          "text": [
            "[[1 2]\n",
            " [3 4]\n",
            " [4 5]\n",
            " [6 7]]\n"
          ]
        }
      ]
    },
    {
      "cell_type": "code",
      "source": [
        "# 분할\n",
        "x2 = np.array([[1, 2], [3, 4], [5, 6]])\n",
        "\n",
        "# hsplit\n",
        "h2 = np.hsplit(x2, 2)\n",
        "print(h2)"
      ],
      "metadata": {
        "colab": {
          "base_uri": "https://localhost:8080/"
        },
        "id": "eMpbPsPovwee",
        "outputId": "82d90f45-e49a-49a9-8fed-c98f19739a8b"
      },
      "execution_count": 95,
      "outputs": [
        {
          "output_type": "stream",
          "name": "stdout",
          "text": [
            "[array([[1],\n",
            "       [3],\n",
            "       [5]]), array([[2],\n",
            "       [4],\n",
            "       [6]])]\n"
          ]
        }
      ]
    },
    {
      "cell_type": "code",
      "source": [
        "# vsplit\n",
        "x2 = np.array([[1, 2], [3, 4], [5, 6]])\n",
        "\n",
        "v2 = np.vsplit(x2, 3)\n",
        "print(v2)"
      ],
      "metadata": {
        "colab": {
          "base_uri": "https://localhost:8080/"
        },
        "id": "1y12bIc_xU71",
        "outputId": "5e38b972-9a34-4133-e75e-96e8c218f319"
      },
      "execution_count": 99,
      "outputs": [
        {
          "output_type": "stream",
          "name": "stdout",
          "text": [
            "[array([[1, 2]]), array([[3, 4]]), array([[5, 6]])]\n"
          ]
        }
      ]
    },
    {
      "cell_type": "markdown",
      "source": [
        "## 다양한 배열 만들기"
      ],
      "metadata": {
        "id": "sCvQaU4l2pQp"
      }
    },
    {
      "cell_type": "code",
      "source": [
        "zero = np.zeros([3, 4])"
      ],
      "metadata": {
        "id": "TMVdQJ_Q2sLD"
      },
      "execution_count": 100,
      "outputs": []
    },
    {
      "cell_type": "code",
      "source": [
        "print(zero)"
      ],
      "metadata": {
        "colab": {
          "base_uri": "https://localhost:8080/"
        },
        "id": "f51daFyG2x3v",
        "outputId": "9ee172bc-5cb2-48c5-ab7c-906a68861071"
      },
      "execution_count": 101,
      "outputs": [
        {
          "output_type": "stream",
          "name": "stdout",
          "text": [
            "[[0. 0. 0. 0.]\n",
            " [0. 0. 0. 0.]\n",
            " [0. 0. 0. 0.]]\n"
          ]
        }
      ]
    },
    {
      "cell_type": "code",
      "source": [
        "one = np.ones([3, 4])\n",
        "print(one)"
      ],
      "metadata": {
        "colab": {
          "base_uri": "https://localhost:8080/"
        },
        "id": "RlMrk0LI2zts",
        "outputId": "d2b267f9-788f-496b-deb8-f5f6c7bcb2c4"
      },
      "execution_count": 102,
      "outputs": [
        {
          "output_type": "stream",
          "name": "stdout",
          "text": [
            "[[1. 1. 1. 1.]\n",
            " [1. 1. 1. 1.]\n",
            " [1. 1. 1. 1.]]\n"
          ]
        }
      ]
    },
    {
      "cell_type": "code",
      "source": [
        "# 대각행렬\n",
        "eye = np.eye(3)\n",
        "print(eye) "
      ],
      "metadata": {
        "colab": {
          "base_uri": "https://localhost:8080/"
        },
        "id": "D0ZzT_4W3CLM",
        "outputId": "6b10328c-f0a3-4063-9117-db6e8a140fc5"
      },
      "execution_count": 103,
      "outputs": [
        {
          "output_type": "stream",
          "name": "stdout",
          "text": [
            "[[1. 0. 0.]\n",
            " [0. 1. 0.]\n",
            " [0. 0. 1.]]\n"
          ]
        }
      ]
    },
    {
      "cell_type": "markdown",
      "source": [
        "## Numpy 제공 함수\n",
        "\n",
        "범용함수"
      ],
      "metadata": {
        "id": "qqIQOIs_4V2j"
      }
    },
    {
      "cell_type": "code",
      "source": [
        "arr1 = np.array([-1, -2, -3, -4])\n",
        "abs_arr = np.abs(arr1) # array의 절댓값 함수\n",
        "\n",
        "print(abs_arr)"
      ],
      "metadata": {
        "colab": {
          "base_uri": "https://localhost:8080/"
        },
        "id": "R0Y_mYtJ4avL",
        "outputId": "b4029921-7eb8-408a-946c-ffbc12ca95e8"
      },
      "execution_count": 104,
      "outputs": [
        {
          "output_type": "stream",
          "name": "stdout",
          "text": [
            "[1 2 3 4]\n"
          ]
        }
      ]
    },
    {
      "cell_type": "code",
      "source": [
        "arr2 = np.array([1, 4, 9, 16])\n",
        "sqrt_arr = np.sqrt(arr2) # array의 제곱근 함수\n",
        "\n",
        "print(sqrt_arr)"
      ],
      "metadata": {
        "colab": {
          "base_uri": "https://localhost:8080/"
        },
        "id": "OdqPwCcJ5KZa",
        "outputId": "f261c665-e9f7-49d4-971e-8d40f27a8cff"
      },
      "execution_count": 106,
      "outputs": [
        {
          "output_type": "stream",
          "name": "stdout",
          "text": [
            "[1. 2. 3. 4.]\n"
          ]
        }
      ]
    },
    {
      "cell_type": "markdown",
      "source": [
        "## 집계함수"
      ],
      "metadata": {
        "id": "LT4Z_YQH5rJG"
      }
    },
    {
      "cell_type": "code",
      "source": [
        "a = np.array([1, 2, 3, 4, 5])\n",
        "a_mean = np.mean(a) # 배열의 평균값을 구해주는 함수\n",
        "\n",
        "print(a_mean)"
      ],
      "metadata": {
        "colab": {
          "base_uri": "https://localhost:8080/"
        },
        "id": "tINYsc_Z5S4Z",
        "outputId": "f41f7a27-963a-48bd-e248-d61b7acd81d0"
      },
      "execution_count": 108,
      "outputs": [
        {
          "output_type": "stream",
          "name": "stdout",
          "text": [
            "3.0\n"
          ]
        }
      ]
    },
    {
      "cell_type": "code",
      "source": [
        "b = np.array([1, 3, 5, 7, 9])\n",
        "b_median = np.median(b) # 배열의 중앙값을 구해주는 함수\n",
        "\n",
        "print(b_median)"
      ],
      "metadata": {
        "colab": {
          "base_uri": "https://localhost:8080/"
        },
        "id": "ytde7cg-5ziu",
        "outputId": "ced12d90-ac49-44f8-b088-8a2efbf779e0"
      },
      "execution_count": 111,
      "outputs": [
        {
          "output_type": "stream",
          "name": "stdout",
          "text": [
            "5.0\n"
          ]
        }
      ]
    },
    {
      "cell_type": "code",
      "source": [
        "c = np.array([1, 2, 3, 4, 5])\n",
        "c_std = np.std(c) # 배열의 표준편차값을 구해주는 함수\n",
        "\n",
        "print(c_std)"
      ],
      "metadata": {
        "colab": {
          "base_uri": "https://localhost:8080/"
        },
        "id": "va2ep_Bw6Wnx",
        "outputId": "6a0d3854-3001-4bbf-d8b0-54e6a89e8a8d"
      },
      "execution_count": 112,
      "outputs": [
        {
          "output_type": "stream",
          "name": "stdout",
          "text": [
            "1.4142135623730951\n"
          ]
        }
      ]
    },
    {
      "cell_type": "code",
      "source": [
        "d = np.array([1, 2, 3, 4, 5])\n",
        "d_var = np.var(d) # 배열의 분산값을 구해주는 함수\n",
        "\n",
        "print(d_var) "
      ],
      "metadata": {
        "colab": {
          "base_uri": "https://localhost:8080/"
        },
        "id": "tRs1tbQV60XG",
        "outputId": "880f6900-164f-4e6c-cadd-699de605747d"
      },
      "execution_count": 114,
      "outputs": [
        {
          "output_type": "stream",
          "name": "stdout",
          "text": [
            "2.0\n"
          ]
        }
      ]
    },
    {
      "cell_type": "code",
      "source": [
        "d = np.array([1, 2, 3, 4, 5])\n",
        "d_sum = np.sum(d) # 배열의 합을 구해주는 함수\n",
        "\n",
        "print(d_sum) # 반환값: 숫자"
      ],
      "metadata": {
        "colab": {
          "base_uri": "https://localhost:8080/"
        },
        "id": "SkMrUaeJ7CQ3",
        "outputId": "81e807e7-1cba-4a18-f840-19626dce5655"
      },
      "execution_count": 115,
      "outputs": [
        {
          "output_type": "stream",
          "name": "stdout",
          "text": [
            "15\n"
          ]
        }
      ]
    },
    {
      "cell_type": "code",
      "source": [
        "d_cumsum = np.cumsum(d) # 배열의 누적합계를 구해주는 함수\n",
        "print(d_cumsum) # 반환값: 배열"
      ],
      "metadata": {
        "colab": {
          "base_uri": "https://localhost:8080/"
        },
        "id": "htgTKE0a7Ijg",
        "outputId": "717ee160-562b-4325-df30-29ecd7111fef"
      },
      "execution_count": 116,
      "outputs": [
        {
          "output_type": "stream",
          "name": "stdout",
          "text": [
            "[ 1  3  6 10 15]\n"
          ]
        }
      ]
    },
    {
      "cell_type": "code",
      "source": [
        "min = np.argmin(d) # 배열 중 가장 최솟값의 인덱싱을 알려주는 함수\n",
        "print(min) # 반환값: 인덱스 값"
      ],
      "metadata": {
        "colab": {
          "base_uri": "https://localhost:8080/"
        },
        "id": "UGte0XvK7NVT",
        "outputId": "725aae20-e9d3-4346-fe85-827b8a9b855e"
      },
      "execution_count": 117,
      "outputs": [
        {
          "output_type": "stream",
          "name": "stdout",
          "text": [
            "0\n"
          ]
        }
      ]
    },
    {
      "cell_type": "code",
      "source": [
        "max = np.argmax(d) # 배열 중 가장 최댓값의 인덱싱을 알려주는 함수\n",
        "print(max) # 반환값: 인덱스 값"
      ],
      "metadata": {
        "colab": {
          "base_uri": "https://localhost:8080/"
        },
        "id": "WRy9M0jc8i1Q",
        "outputId": "643d0258-75ca-4dcf-b9f7-f7f46f339a33"
      },
      "execution_count": 118,
      "outputs": [
        {
          "output_type": "stream",
          "name": "stdout",
          "text": [
            "4\n"
          ]
        }
      ]
    },
    {
      "cell_type": "code",
      "source": [
        "a = np.array([0, 0, 0, 1])\n",
        "\n",
        "a_true = np.any(a) # 배열 안에 하나라도 true가 있는지 확인하는 함수\n",
        "print(a_true)"
      ],
      "metadata": {
        "colab": {
          "base_uri": "https://localhost:8080/"
        },
        "id": "OBfr0z_d8vAm",
        "outputId": "359ed375-d487-4042-911d-f9cee18eb788"
      },
      "execution_count": 119,
      "outputs": [
        {
          "output_type": "stream",
          "name": "stdout",
          "text": [
            "True\n"
          ]
        }
      ]
    },
    {
      "cell_type": "code",
      "source": [
        "a_all = np.all(a) # 배열 안에 값이 모두 true여야 true로 반환하는 함수\n",
        "print(a_all)"
      ],
      "metadata": {
        "colab": {
          "base_uri": "https://localhost:8080/"
        },
        "id": "rBBSkaoG9gnE",
        "outputId": "23b29e51-590d-4c2e-fe2c-7ea54c972b89"
      },
      "execution_count": 120,
      "outputs": [
        {
          "output_type": "stream",
          "name": "stdout",
          "text": [
            "False\n"
          ]
        }
      ]
    },
    {
      "cell_type": "code",
      "source": [
        "# NaN (0이 아닌 비어있다, 없다 라는 뜻. 계산은 0처럼 함)\n",
        "\n",
        "a = np.array([1, 2, np.nan, 4])\n",
        "a_nsum = np.nansum(a)\n",
        "\n",
        "print(a_nsum)"
      ],
      "metadata": {
        "colab": {
          "base_uri": "https://localhost:8080/"
        },
        "id": "b11vKevo-Gz0",
        "outputId": "3271785f-8e60-4b75-f3db-08441bc5fe65"
      },
      "execution_count": 121,
      "outputs": [
        {
          "output_type": "stream",
          "name": "stdout",
          "text": [
            "7.0\n"
          ]
        }
      ]
    },
    {
      "cell_type": "code",
      "source": [
        "a_sum = np.sum(a)\n",
        "print(a_sum)"
      ],
      "metadata": {
        "colab": {
          "base_uri": "https://localhost:8080/"
        },
        "id": "3d-kvy3D-aOv",
        "outputId": "c9c40192-1de9-4067-ece2-eed4bf3886a7"
      },
      "execution_count": 123,
      "outputs": [
        {
          "output_type": "stream",
          "name": "stdout",
          "text": [
            "nan\n"
          ]
        }
      ]
    },
    {
      "cell_type": "code",
      "source": [
        "d = np.array([1, 2, 3, 4, 5])\n",
        "\n",
        "condition = np.where(d < 3) # 조건에 맞는 값만 출력\n",
        "print(condition) # 반환값: 튜플(인덱싱)"
      ],
      "metadata": {
        "colab": {
          "base_uri": "https://localhost:8080/"
        },
        "id": "TGF99jHh_qRP",
        "outputId": "989b091a-43eb-4f03-bce4-b382543cbb31"
      },
      "execution_count": 125,
      "outputs": [
        {
          "output_type": "stream",
          "name": "stdout",
          "text": [
            "(array([0, 1]),)\n"
          ]
        }
      ]
    },
    {
      "cell_type": "code",
      "source": [
        "d = np.array([1, 2, 3, 4, 5])\n",
        "\n",
        "condition = np.where(d < 3, d, 0) # 조건에 맞는 값은 d를 넣고 아닌 같은 0을 넣어주세요\n",
        "print(condition)"
      ],
      "metadata": {
        "colab": {
          "base_uri": "https://localhost:8080/"
        },
        "id": "4zhMO7S3_9pd",
        "outputId": "09ea3842-b146-4a80-c4d7-83946df9cc21"
      },
      "execution_count": 126,
      "outputs": [
        {
          "output_type": "stream",
          "name": "stdout",
          "text": [
            "[1 2 0 0 0]\n"
          ]
        }
      ]
    },
    {
      "cell_type": "markdown",
      "source": [
        "### Boolean Indexing\n",
        "\n",
        "조건에 따른 요소들을 판별해서 새로운 배열을 만든다."
      ],
      "metadata": {
        "id": "WAh7VGi3FSiP"
      }
    },
    {
      "cell_type": "code",
      "source": [
        "a = np.array([1, 2, 3, 4, 5, 6, 7, 8, 9, 10]) # 원본 데이터\n",
        "\n",
        "# 원본 데이터는 되도록이면 건들이면 안 된다.\n",
        "# 원본 데이터는 오염되면 안 된다.\n",
        "# 복사본을 만들어서 사용해야 됨."
      ],
      "metadata": {
        "id": "CCHuB8PmFRUE"
      },
      "execution_count": null,
      "outputs": []
    },
    {
      "cell_type": "code",
      "source": [
        "even_a = a[a % 2 == 0]\n",
        "print(even_a)\n",
        "print(a) # 원본 데이터는 그대로"
      ],
      "metadata": {
        "colab": {
          "base_uri": "https://localhost:8080/"
        },
        "id": "lMfMSQw9GZ0W",
        "outputId": "5925ea85-b81e-4bfd-8e8b-5fd80075bf63"
      },
      "execution_count": 131,
      "outputs": [
        {
          "output_type": "stream",
          "name": "stdout",
          "text": [
            "[ 2  4  6  8 10]\n",
            "[ 1  2  3  4  5  6  7  8  9 10]\n"
          ]
        }
      ]
    },
    {
      "cell_type": "markdown",
      "source": [
        "### Broadcast (브로드캐스트)\n",
        "\n",
        "- 크기가 다른 배열 간의 연산도 가능하게 해주 \n",
        "- ex) 1차원, 2차원"
      ],
      "metadata": {
        "id": "QtK8IvSaINOt"
      }
    },
    {
      "cell_type": "code",
      "source": [
        "a = np.array([1, 2, 3])\n",
        "b = np.array([4, 5, 6])\n",
        "\n",
        "c = a + b\n",
        "print(c)"
      ],
      "metadata": {
        "colab": {
          "base_uri": "https://localhost:8080/"
        },
        "id": "GVausefNIawj",
        "outputId": "5c71e91a-ef18-46f8-dce7-9c2e61dd4248"
      },
      "execution_count": 132,
      "outputs": [
        {
          "output_type": "stream",
          "name": "stdout",
          "text": [
            "[5 7 9]\n"
          ]
        }
      ]
    },
    {
      "cell_type": "code",
      "source": [
        "d = np.array([[1], [2], [3]]) # 2차원 행렬\n",
        "e = np.array([4, 5, 6]) # 1차원 벡터 \n",
        "\n",
        "f = d + e\n",
        "print(f) # d와 e의 차원이 다르지만 결과 값이 나온다\n",
        "# e = np.array([[4, 5, 6]]) 으로 수정하여 연산함"
      ],
      "metadata": {
        "colab": {
          "base_uri": "https://localhost:8080/"
        },
        "id": "8wH9l7sAIl4x",
        "outputId": "d6df332c-c141-4514-d987-b2603c930335"
      },
      "execution_count": 133,
      "outputs": [
        {
          "output_type": "stream",
          "name": "stdout",
          "text": [
            "[[5 6 7]\n",
            " [6 7 8]\n",
            " [7 8 9]]\n"
          ]
        }
      ]
    },
    {
      "cell_type": "markdown",
      "source": [
        "- 두 배열의 차원수가 다를 경우, 더 작은 차원의 배열에 큰 차원의 배열이 맞을 때까지 1을 추가한다.\n",
        "\n",
        "- 두 배열의 차원 수가 같을 경우에도, 크기가 1인 차원이 있다면 다른 배열의 크기와 일치하도록 복제된다.\n",
        "\n",
        "- 두 배열의 차원 수가 같을 경우에도, 모든 차원의 크기가 같거나 크기가 1이라면 모양이 같은 두 배열의 요소 간 연산을 한다."
      ],
      "metadata": {
        "id": "HaoV7e9HKCEw"
      }
    }
  ]
}