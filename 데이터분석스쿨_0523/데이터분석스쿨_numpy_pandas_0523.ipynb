{
  "nbformat": 4,
  "nbformat_minor": 0,
  "metadata": {
    "colab": {
      "provenance": []
    },
    "kernelspec": {
      "name": "python3",
      "display_name": "Python 3"
    },
    "language_info": {
      "name": "python"
    }
  },
  "cells": [
    {
      "cell_type": "markdown",
      "source": [
        "## 난수 생성 함수\n",
        "\n",
        "random"
      ],
      "metadata": {
        "id": "-wyK_ibJB5VV"
      }
    },
    {
      "cell_type": "code",
      "execution_count": null,
      "metadata": {
        "id": "Y1uvqRvT7MoL"
      },
      "outputs": [],
      "source": [
        "import numpy as np"
      ]
    },
    {
      "cell_type": "code",
      "source": [
        "a = np.random.rand(2, 2)   # 0 ~ 1 사이에 값 랜덤\n",
        "print(a)"
      ],
      "metadata": {
        "colab": {
          "base_uri": "https://localhost:8080/"
        },
        "id": "XdkdhncXCYIM",
        "outputId": "243a6290-6a19-4f34-d3aa-12d13b484cc6"
      },
      "execution_count": null,
      "outputs": [
        {
          "output_type": "stream",
          "name": "stdout",
          "text": [
            "[[0.36377426 0.44541229]\n",
            " [0.17048902 0.10574289]]\n"
          ]
        }
      ]
    },
    {
      "cell_type": "code",
      "source": [
        "b = np.random.randn(2, 2) # 평균이 0, 분산이 1 : 표준 정규 분포\n",
        "print(b)"
      ],
      "metadata": {
        "colab": {
          "base_uri": "https://localhost:8080/"
        },
        "id": "RAfjVmmlCkWm",
        "outputId": "8b8d6cf9-6324-4546-df70-2360672fdd91"
      },
      "execution_count": null,
      "outputs": [
        {
          "output_type": "stream",
          "name": "stdout",
          "text": [
            "[[ 0.08849669 -1.56478463]\n",
            " [-1.13246312 -1.00713343]]\n"
          ]
        }
      ]
    },
    {
      "cell_type": "code",
      "source": [
        "c = np.random.randint(0, 10, size=5) # 랜덤한 정수값 (최솟값, 최댓값, 크기)\n",
        "print(c)"
      ],
      "metadata": {
        "colab": {
          "base_uri": "https://localhost:8080/"
        },
        "id": "ddUqgmxNDXDU",
        "outputId": "07ee54e9-b636-4c88-b977-ec1100a5c90a"
      },
      "execution_count": null,
      "outputs": [
        {
          "output_type": "stream",
          "name": "stdout",
          "text": [
            "[9 1 1 8 9]\n"
          ]
        }
      ]
    },
    {
      "cell_type": "code",
      "source": [
        "c2 = np.random.randint(0, 10, size=(2,2)) # 행렬로 지정할 수도 있음\n",
        "print(c2)"
      ],
      "metadata": {
        "colab": {
          "base_uri": "https://localhost:8080/"
        },
        "id": "SdVHLNXZDoYM",
        "outputId": "6c4e65f2-03fd-4f4d-979c-eec44572deb2"
      },
      "execution_count": null,
      "outputs": [
        {
          "output_type": "stream",
          "name": "stdout",
          "text": [
            "[[0 4]\n",
            " [2 0]]\n"
          ]
        }
      ]
    },
    {
      "cell_type": "code",
      "source": [
        "d = np.arange(10) # 0 ~ 9까지 값을 생성\n",
        "np.random.shuffle(d) # d 값을 무작위로 섞어줌. 복사본 생성 x , 원본 값이 변한다.\n",
        "print(d)"
      ],
      "metadata": {
        "colab": {
          "base_uri": "https://localhost:8080/"
        },
        "id": "m5vvwybEDvvK",
        "outputId": "6be66ad0-7dd5-4e25-a1a0-3b0a4c1ba7eb"
      },
      "execution_count": null,
      "outputs": [
        {
          "output_type": "stream",
          "name": "stdout",
          "text": [
            "[4 0 9 7 2 6 1 8 5 3]\n"
          ]
        }
      ]
    },
    {
      "cell_type": "code",
      "source": [
        "choice = np.random.choice(d, 5) # d에서 중복을 허용하여 5번 뽑는다\n",
        "print(choice)"
      ],
      "metadata": {
        "colab": {
          "base_uri": "https://localhost:8080/"
        },
        "id": "HLV1_FUSIJsH",
        "outputId": "542275db-eb8f-459f-9716-e9bc3363c179"
      },
      "execution_count": null,
      "outputs": [
        {
          "output_type": "stream",
          "name": "stdout",
          "text": [
            "[1 4 5 5 6]\n"
          ]
        }
      ]
    },
    {
      "cell_type": "code",
      "source": [
        "choice = np.random.choice(d, 5, replace=False) # 중복을 허용하지 않는다.\n",
        "print(choice)"
      ],
      "metadata": {
        "colab": {
          "base_uri": "https://localhost:8080/"
        },
        "id": "ntXjFpzFJLSQ",
        "outputId": "7371ce5b-a2ea-4d02-d6bd-60f2ba8e30a8"
      },
      "execution_count": null,
      "outputs": [
        {
          "output_type": "stream",
          "name": "stdout",
          "text": [
            "[7 9 8 1 4]\n"
          ]
        }
      ]
    },
    {
      "cell_type": "code",
      "source": [
        "choice = np.random.choice(d, 5, p=[0.1, 0, 0.3 , 0.2, 0.1, 0.1, 0.1, 0 ,0, 0.1]) # p값의 전체 합이 1이 되도록 해야한다.\n",
        "print(choice)"
      ],
      "metadata": {
        "colab": {
          "base_uri": "https://localhost:8080/"
        },
        "id": "GMJIf1ggJbJW",
        "outputId": "5acdd510-b871-4282-ef88-8df848d923fd"
      },
      "execution_count": null,
      "outputs": [
        {
          "output_type": "stream",
          "name": "stdout",
          "text": [
            "[1 9 9 1 9]\n"
          ]
        }
      ]
    },
    {
      "cell_type": "code",
      "source": [
        "# permutation 순열\n",
        "a = np.arange(10)\n",
        "a_p = np.random.permutation(a)\n",
        "print(a_p)\n",
        "print(a)"
      ],
      "metadata": {
        "colab": {
          "base_uri": "https://localhost:8080/"
        },
        "id": "7YWyctpXLEJA",
        "outputId": "a4eb1771-8103-4e61-e1a9-eb5cbb8f1f64"
      },
      "execution_count": null,
      "outputs": [
        {
          "output_type": "stream",
          "name": "stdout",
          "text": [
            "[0 1 4 8 7 9 2 5 3 6]\n",
            "[0 1 2 3 4 5 6 7 8 9]\n"
          ]
        }
      ]
    },
    {
      "cell_type": "code",
      "source": [
        "# 정규분포를 따르는 난수 생성\n",
        "# a = np.random.normal('평균', '표준편차', '갯수')\n",
        "a = np.random.normal(0, 1, 3) # 표준 정규분포\n",
        "print(a)"
      ],
      "metadata": {
        "colab": {
          "base_uri": "https://localhost:8080/"
        },
        "id": "o9poyCvYMlTO",
        "outputId": "e9ef3a6a-e2ba-4d51-87b4-c8fdc195ee69"
      },
      "execution_count": null,
      "outputs": [
        {
          "output_type": "stream",
          "name": "stdout",
          "text": [
            "[-0.30316056  0.95891576  1.52629811]\n"
          ]
        }
      ]
    },
    {
      "cell_type": "markdown",
      "source": [
        "# Pandas\n",
        "\n",
        "- 데이터 자체를 분석, 파악\n",
        "- 표\n",
        "- 데이터 다루는 데 초점\n",
        "- 정렬, 필터링, 그룹화, 집계"
      ],
      "metadata": {
        "id": "4DKS6OdTZBad"
      }
    },
    {
      "cell_type": "markdown",
      "source": [
        "- 데이터 로딩 및 저장\n",
        "- 데이터 인덱싱 및 슬라이싱\n",
        "- 결측치 처리 (비어있는 값)\n",
        "- 데이터 변환\n",
        "---\n",
        "- 시계열 데이터 처리 (시계열: 시간의 흐름에따라 쌓인 데이터)\n",
        "- 데이터 시각화"
      ],
      "metadata": {
        "id": "0opjQytqZ5bO"
      }
    },
    {
      "cell_type": "markdown",
      "source": [
        "## 1. Series(시리즈)\n",
        "\n",
        "- 인덱스를 지정할 수 있음\n"
      ],
      "metadata": {
        "id": "oGF4aSY0bbQC"
      }
    },
    {
      "cell_type": "markdown",
      "source": [
        "### 인덱싱"
      ],
      "metadata": {
        "id": "0nWPeL8UzaX1"
      }
    },
    {
      "cell_type": "code",
      "source": [
        "import pandas as pd"
      ],
      "metadata": {
        "id": "PRvi205MbtfT"
      },
      "execution_count": 52,
      "outputs": []
    },
    {
      "cell_type": "code",
      "source": [
        "s = pd.Series([1, 2, 3, 4])  # 리스트\n",
        "print(s) # 인덱스와 값이 매핑됨"
      ],
      "metadata": {
        "colab": {
          "base_uri": "https://localhost:8080/"
        },
        "id": "MHCNSdcbb53z",
        "outputId": "ae7d097c-6847-4b9d-c5f4-859759a5cebf"
      },
      "execution_count": 54,
      "outputs": [
        {
          "output_type": "stream",
          "name": "stdout",
          "text": [
            "0    1\n",
            "1    2\n",
            "2    3\n",
            "3    4\n",
            "dtype: int64\n"
          ]
        }
      ]
    },
    {
      "cell_type": "code",
      "source": [
        "s2 = pd.Series({'a':1, 'b':2, 'c':3, 'd':4}) # 딕셔너리\n",
        "print(s2)"
      ],
      "metadata": {
        "colab": {
          "base_uri": "https://localhost:8080/"
        },
        "id": "9-rn0nJrb-26",
        "outputId": "3e64178d-0d23-4d95-b9e0-667056f98675"
      },
      "execution_count": 55,
      "outputs": [
        {
          "output_type": "stream",
          "name": "stdout",
          "text": [
            "a    1\n",
            "b    2\n",
            "c    3\n",
            "d    4\n",
            "dtype: int64\n"
          ]
        }
      ]
    },
    {
      "cell_type": "code",
      "source": [
        "s3 = pd.Series(5, index=[0, 1, 2]) # 스칼라\n",
        "print(s3)"
      ],
      "metadata": {
        "colab": {
          "base_uri": "https://localhost:8080/"
        },
        "id": "FNlvZnwAcsms",
        "outputId": "256f40df-c0ed-4af5-b5e9-f27481471eaf"
      },
      "execution_count": 57,
      "outputs": [
        {
          "output_type": "stream",
          "name": "stdout",
          "text": [
            "0    5\n",
            "1    5\n",
            "2    5\n",
            "dtype: int64\n"
          ]
        }
      ]
    },
    {
      "cell_type": "code",
      "source": [
        "data = [1, 2, 3, 4, 5]\n",
        "index = ['a', 'b', 'c', 'd', 'e']\n",
        "series = pd.Series(data, index=index) # 활용\n",
        "print(series)"
      ],
      "metadata": {
        "colab": {
          "base_uri": "https://localhost:8080/"
        },
        "id": "_usDIKqedPCb",
        "outputId": "7e6e10d3-a161-483b-aa95-1476856b6cfe"
      },
      "execution_count": 59,
      "outputs": [
        {
          "output_type": "stream",
          "name": "stdout",
          "text": [
            "a    1\n",
            "b    2\n",
            "c    3\n",
            "d    4\n",
            "e    5\n",
            "dtype: int64\n"
          ]
        }
      ]
    },
    {
      "cell_type": "code",
      "source": [
        "s = pd.Series(data)\n",
        "print(s)"
      ],
      "metadata": {
        "colab": {
          "base_uri": "https://localhost:8080/"
        },
        "id": "mz6b3e_fdjE6",
        "outputId": "55e1b2e3-fa24-42b8-f5a0-54cc3a052fa9"
      },
      "execution_count": 61,
      "outputs": [
        {
          "output_type": "stream",
          "name": "stdout",
          "text": [
            "0    1\n",
            "1    2\n",
            "2    3\n",
            "3    4\n",
            "4    5\n",
            "dtype: int64\n"
          ]
        }
      ]
    },
    {
      "cell_type": "markdown",
      "source": [
        "### 슬라이싱"
      ],
      "metadata": {
        "id": "-EVB6HxVzeOJ"
      }
    },
    {
      "cell_type": "code",
      "source": [
        "data = [1, 2, 3, 4, 5]\n",
        "series = pd.Series(data)\n",
        "print(series)"
      ],
      "metadata": {
        "colab": {
          "base_uri": "https://localhost:8080/"
        },
        "id": "acaKwlfLeCW9",
        "outputId": "50e7efb9-83b2-48a4-9c1a-4a1d5d650fd3"
      },
      "execution_count": 62,
      "outputs": [
        {
          "output_type": "stream",
          "name": "stdout",
          "text": [
            "0    1\n",
            "1    2\n",
            "2    3\n",
            "3    4\n",
            "4    5\n",
            "dtype: int64\n"
          ]
        }
      ]
    },
    {
      "cell_type": "code",
      "source": [
        "series[0]"
      ],
      "metadata": {
        "colab": {
          "base_uri": "https://localhost:8080/"
        },
        "id": "MmT6poMDzvBs",
        "outputId": "98f99092-1338-4695-9aee-dc062dcb34b8"
      },
      "execution_count": 63,
      "outputs": [
        {
          "output_type": "execute_result",
          "data": {
            "text/plain": [
              "1"
            ]
          },
          "metadata": {},
          "execution_count": 63
        }
      ]
    },
    {
      "cell_type": "code",
      "source": [
        "series[0:4] # series[:-1]과 같음"
      ],
      "metadata": {
        "colab": {
          "base_uri": "https://localhost:8080/"
        },
        "id": "PfoeR08Zz25l",
        "outputId": "809a5ec7-030c-4b63-d656-d2d9a0ac051a"
      },
      "execution_count": 65,
      "outputs": [
        {
          "output_type": "execute_result",
          "data": {
            "text/plain": [
              "0    1\n",
              "1    2\n",
              "2    3\n",
              "3    4\n",
              "dtype: int64"
            ]
          },
          "metadata": {},
          "execution_count": 65
        }
      ]
    },
    {
      "cell_type": "code",
      "source": [
        "series[::-1] # 뒤에서부터 출력"
      ],
      "metadata": {
        "colab": {
          "base_uri": "https://localhost:8080/"
        },
        "id": "X3Ya4Dvkz-Uq",
        "outputId": "20a24476-fac8-4585-f384-71fc82f52f91"
      },
      "execution_count": 68,
      "outputs": [
        {
          "output_type": "execute_result",
          "data": {
            "text/plain": [
              "4    5\n",
              "3    4\n",
              "2    3\n",
              "1    2\n",
              "0    1\n",
              "dtype: int64"
            ]
          },
          "metadata": {},
          "execution_count": 68
        }
      ]
    },
    {
      "cell_type": "code",
      "source": [
        "print(series) # 원본은 바뀌지 않음"
      ],
      "metadata": {
        "colab": {
          "base_uri": "https://localhost:8080/"
        },
        "id": "vdMKTM8e1RiM",
        "outputId": "eb6219d3-2ed9-4154-d2d7-9740097b9bf3"
      },
      "execution_count": 69,
      "outputs": [
        {
          "output_type": "stream",
          "name": "stdout",
          "text": [
            "0    1\n",
            "1    2\n",
            "2    3\n",
            "3    4\n",
            "4    5\n",
            "dtype: int64\n"
          ]
        }
      ]
    },
    {
      "cell_type": "markdown",
      "source": [
        "#### Boolean indexing"
      ],
      "metadata": {
        "id": "XePeamc11sjP"
      }
    },
    {
      "cell_type": "code",
      "source": [
        "print(series > 2)"
      ],
      "metadata": {
        "colab": {
          "base_uri": "https://localhost:8080/"
        },
        "id": "spUIIa-31XZQ",
        "outputId": "9407f96d-25a1-4fa4-e66d-8fe2c44da808"
      },
      "execution_count": 74,
      "outputs": [
        {
          "output_type": "stream",
          "name": "stdout",
          "text": [
            "0    False\n",
            "1    False\n",
            "2     True\n",
            "3     True\n",
            "4     True\n",
            "dtype: bool\n"
          ]
        }
      ]
    },
    {
      "cell_type": "code",
      "source": [
        "# 원하는 출력값 시리즈로 받기\n",
        "\n",
        "print(series[series > 2]) # a[a조건]"
      ],
      "metadata": {
        "colab": {
          "base_uri": "https://localhost:8080/"
        },
        "id": "967p5Gsi18n7",
        "outputId": "da02a18e-cfe4-450e-c752-c1af29a49bb3"
      },
      "execution_count": 75,
      "outputs": [
        {
          "output_type": "stream",
          "name": "stdout",
          "text": [
            "2    3\n",
            "3    4\n",
            "4    5\n",
            "dtype: int64\n"
          ]
        }
      ]
    },
    {
      "cell_type": "code",
      "source": [
        "# 5보다 작은 시리즈 만들기\n",
        "\n",
        "print(series[series < 5])"
      ],
      "metadata": {
        "colab": {
          "base_uri": "https://localhost:8080/"
        },
        "id": "EG0UxQiM2Rj5",
        "outputId": "22448fd8-84eb-46c4-94dc-35725f2c7c7a"
      },
      "execution_count": 77,
      "outputs": [
        {
          "output_type": "stream",
          "name": "stdout",
          "text": [
            "0    1\n",
            "1    2\n",
            "2    3\n",
            "3    4\n",
            "dtype: int64\n"
          ]
        }
      ]
    },
    {
      "cell_type": "markdown",
      "source": [
        "### Series 산술 연산"
      ],
      "metadata": {
        "id": "qAuFH2YW3XNn"
      }
    },
    {
      "cell_type": "code",
      "source": [
        "data = [1, 2, 3, 4, 5]\n",
        "series = pd.Series(data)"
      ],
      "metadata": {
        "id": "AlYkoEs13c_v"
      },
      "execution_count": 78,
      "outputs": []
    },
    {
      "cell_type": "code",
      "source": [
        "print(series + 100)\n",
        "print(series - 100) # 원본은 그대로"
      ],
      "metadata": {
        "colab": {
          "base_uri": "https://localhost:8080/"
        },
        "id": "gM628rY03eFn",
        "outputId": "e5deea06-3e0e-4ba2-c929-bc0fe7da98ac"
      },
      "execution_count": 83,
      "outputs": [
        {
          "output_type": "stream",
          "name": "stdout",
          "text": [
            "0    101\n",
            "1    102\n",
            "2    103\n",
            "3    104\n",
            "4    105\n",
            "dtype: int64\n",
            "0   -99\n",
            "1   -98\n",
            "2   -97\n",
            "3   -96\n",
            "4   -95\n",
            "dtype: int64\n"
          ]
        }
      ]
    },
    {
      "cell_type": "code",
      "source": [
        "# 곱하기: *\n",
        "print(series * 100)\n",
        "\n",
        "# 제곱: **\n",
        "print(series ** 2)\n",
        "\n",
        "# 나누기: /\n",
        "print(series / 2)\n",
        "\n",
        "# 나머지: %\n",
        "print(series % 2)\n",
        "\n",
        "# 몫: //\n",
        "print(series // 2)"
      ],
      "metadata": {
        "colab": {
          "base_uri": "https://localhost:8080/"
        },
        "id": "rB_xuhGA3fnT",
        "outputId": "40126e26-9bd6-4461-bf2c-1a2e78847b90"
      },
      "execution_count": 88,
      "outputs": [
        {
          "output_type": "stream",
          "name": "stdout",
          "text": [
            "0    100\n",
            "1    200\n",
            "2    300\n",
            "3    400\n",
            "4    500\n",
            "dtype: int64\n",
            "0     1\n",
            "1     4\n",
            "2     9\n",
            "3    16\n",
            "4    25\n",
            "dtype: int64\n",
            "0    0.5\n",
            "1    1.0\n",
            "2    1.5\n",
            "3    2.0\n",
            "4    2.5\n",
            "dtype: float64\n",
            "0    1\n",
            "1    0\n",
            "2    1\n",
            "3    0\n",
            "4    1\n",
            "dtype: int64\n",
            "0    0\n",
            "1    1\n",
            "2    1\n",
            "3    2\n",
            "4    2\n",
            "dtype: int64\n"
          ]
        }
      ]
    },
    {
      "cell_type": "markdown",
      "source": [
        "## Series 객체에 접근\n",
        "\n",
        "- keys :index를 가리킨다\n",
        "- values"
      ],
      "metadata": {
        "id": "xHi1kxsn52a3"
      }
    },
    {
      "cell_type": "code",
      "source": [
        "data = [1, 2, 3, 4, 5]\n",
        "series = pd.Series(data)"
      ],
      "metadata": {
        "id": "kVvwMd-76erk"
      },
      "execution_count": 90,
      "outputs": []
    },
    {
      "cell_type": "code",
      "source": [
        "print(series.keys) # keys는 인덱스 자체의 값이 아님"
      ],
      "metadata": {
        "colab": {
          "base_uri": "https://localhost:8080/"
        },
        "id": "x-jhZtX76vmH",
        "outputId": "5c47d2a0-949b-43a7-ac3e-2566e923db98"
      },
      "execution_count": 95,
      "outputs": [
        {
          "output_type": "stream",
          "name": "stdout",
          "text": [
            "<bound method Series.keys of 0    1\n",
            "1    2\n",
            "2    3\n",
            "3    4\n",
            "4    5\n",
            "dtype: int64>\n"
          ]
        }
      ]
    },
    {
      "cell_type": "code",
      "source": [
        "print(series.values)"
      ],
      "metadata": {
        "colab": {
          "base_uri": "https://localhost:8080/"
        },
        "id": "8hQ3cWGh6uBX",
        "outputId": "0096d5cf-e392-47de-99ea-22907d53e586"
      },
      "execution_count": 92,
      "outputs": [
        {
          "output_type": "stream",
          "name": "stdout",
          "text": [
            "[1 2 3 4 5]\n"
          ]
        }
      ]
    },
    {
      "cell_type": "code",
      "source": [
        "print(series.keys())\n",
        "print(series.index)\n",
        "print(series.values)"
      ],
      "metadata": {
        "colab": {
          "base_uri": "https://localhost:8080/"
        },
        "id": "fgjRYtX88Wf_",
        "outputId": "effee0ce-22a9-490e-b2ad-bdf67756f81e"
      },
      "execution_count": 101,
      "outputs": [
        {
          "output_type": "stream",
          "name": "stdout",
          "text": [
            "RangeIndex(start=0, stop=5, step=1)\n",
            "RangeIndex(start=0, stop=5, step=1)\n",
            "[1 2 3 4 5]\n"
          ]
        }
      ]
    },
    {
      "cell_type": "code",
      "source": [
        "s2 = pd.Series({'a':1, 'b':2, 'c':3, 'd':4})\n",
        "print(s2.keys)"
      ],
      "metadata": {
        "colab": {
          "base_uri": "https://localhost:8080/"
        },
        "id": "LX25955M6OAG",
        "outputId": "ddd17da3-ff27-46e6-8e8a-5d138714a3e9"
      },
      "execution_count": 93,
      "outputs": [
        {
          "output_type": "stream",
          "name": "stdout",
          "text": [
            "<bound method Series.keys of a    1\n",
            "b    2\n",
            "c    3\n",
            "d    4\n",
            "dtype: int64>\n"
          ]
        }
      ]
    },
    {
      "cell_type": "code",
      "source": [
        "s2.index"
      ],
      "metadata": {
        "colab": {
          "base_uri": "https://localhost:8080/"
        },
        "id": "INQ5GW7m7Svt",
        "outputId": "b0c3630c-974d-407d-9493-d9566e6d4210"
      },
      "execution_count": 94,
      "outputs": [
        {
          "output_type": "execute_result",
          "data": {
            "text/plain": [
              "Index(['a', 'b', 'c', 'd'], dtype='object')"
            ]
          },
          "metadata": {},
          "execution_count": 94
        }
      ]
    },
    {
      "cell_type": "code",
      "source": [
        "# items\n",
        "\n",
        "print(s2.items()) # zip: 순회가능하고 쌍으로 이루어져있다"
      ],
      "metadata": {
        "colab": {
          "base_uri": "https://localhost:8080/"
        },
        "id": "tSLa1bqq_ezx",
        "outputId": "d8592371-e38a-499c-e6a0-7a013299660f"
      },
      "execution_count": 97,
      "outputs": [
        {
          "output_type": "stream",
          "name": "stdout",
          "text": [
            "<zip object at 0x7f12e960c4c0>\n"
          ]
        }
      ]
    },
    {
      "cell_type": "code",
      "source": [
        "for index, value in s2.items():\n",
        "  print(f'인데스: {index}, 데이터: {value}')"
      ],
      "metadata": {
        "colab": {
          "base_uri": "https://localhost:8080/"
        },
        "id": "xQuBvBgK_h3g",
        "outputId": "8f0caa71-777d-4863-cac0-c28af677881f"
      },
      "execution_count": 99,
      "outputs": [
        {
          "output_type": "stream",
          "name": "stdout",
          "text": [
            "인데스: a, 데이터: 1\n",
            "인데스: b, 데이터: 2\n",
            "인데스: c, 데이터: 3\n",
            "인데스: d, 데이터: 4\n"
          ]
        }
      ]
    },
    {
      "cell_type": "code",
      "source": [
        "s = pd.Series([10, 20, 30, 40], index=['a', 'b', 'c', 'd'])"
      ],
      "metadata": {
        "id": "waNOx95jB6Uv"
      },
      "execution_count": 103,
      "outputs": []
    },
    {
      "cell_type": "code",
      "source": [
        "print(s)"
      ],
      "metadata": {
        "colab": {
          "base_uri": "https://localhost:8080/"
        },
        "id": "laVb4s3UCBhT",
        "outputId": "7f1e516f-a000-4b2b-f393-030e8d185368"
      },
      "execution_count": 104,
      "outputs": [
        {
          "output_type": "stream",
          "name": "stdout",
          "text": [
            "a    10\n",
            "b    20\n",
            "c    30\n",
            "d    40\n",
            "dtype: int64\n"
          ]
        }
      ]
    },
    {
      "cell_type": "code",
      "source": [
        "print(s.loc['b']) # loc:행에 접근\n",
        "print(s.loc['b':'d']) # b ~ d 의 데이터 추출"
      ],
      "metadata": {
        "colab": {
          "base_uri": "https://localhost:8080/"
        },
        "id": "12xa5PCnCCkc",
        "outputId": "a15331aa-33b8-414f-8243-ed0b5594620b"
      },
      "execution_count": 105,
      "outputs": [
        {
          "output_type": "stream",
          "name": "stdout",
          "text": [
            "20\n",
            "b    20\n",
            "c    30\n",
            "d    40\n",
            "dtype: int64\n"
          ]
        }
      ]
    },
    {
      "cell_type": "code",
      "source": [
        "print(s.iloc[1]) # iloc: (행에 기반한)열에 접근"
      ],
      "metadata": {
        "colab": {
          "base_uri": "https://localhost:8080/"
        },
        "id": "TnU__w4fCwc6",
        "outputId": "c95a23c5-d0e0-498b-b019-c6c62dcbb6bc"
      },
      "execution_count": 106,
      "outputs": [
        {
          "output_type": "stream",
          "name": "stdout",
          "text": [
            "20\n"
          ]
        }
      ]
    },
    {
      "cell_type": "code",
      "source": [
        "print(s.iloc[1:3])"
      ],
      "metadata": {
        "colab": {
          "base_uri": "https://localhost:8080/"
        },
        "id": "R65Ql7wVC2oY",
        "outputId": "2d79dc58-3acd-4e7d-dbf5-6969e43f8fca"
      },
      "execution_count": 107,
      "outputs": [
        {
          "output_type": "stream",
          "name": "stdout",
          "text": [
            "b    20\n",
            "c    30\n",
            "dtype: int64\n"
          ]
        }
      ]
    },
    {
      "cell_type": "code",
      "source": [
        "print(s)"
      ],
      "metadata": {
        "colab": {
          "base_uri": "https://localhost:8080/"
        },
        "id": "C5jF9Si8DeXL",
        "outputId": "548883c1-2102-4c18-e160-a079936afc3c"
      },
      "execution_count": 108,
      "outputs": [
        {
          "output_type": "stream",
          "name": "stdout",
          "text": [
            "a    10\n",
            "b    20\n",
            "c    30\n",
            "d    40\n",
            "dtype: int64\n"
          ]
        }
      ]
    },
    {
      "cell_type": "code",
      "source": [
        "print(s.at['a']) # at은 loc과 비슷, 하나의 값만 가져올 때"
      ],
      "metadata": {
        "colab": {
          "base_uri": "https://localhost:8080/"
        },
        "id": "_OwVMNBqDiAE",
        "outputId": "cfa4ce74-9903-4da9-e534-869b0b5ea2b5"
      },
      "execution_count": 113,
      "outputs": [
        {
          "output_type": "stream",
          "name": "stdout",
          "text": [
            "10\n"
          ]
        }
      ]
    },
    {
      "cell_type": "code",
      "source": [
        "print(s.iat[0])"
      ],
      "metadata": {
        "colab": {
          "base_uri": "https://localhost:8080/"
        },
        "id": "Bb1hJr5TDlx3",
        "outputId": "d2863ac9-d622-444d-9612-fd674c90fb32"
      },
      "execution_count": 110,
      "outputs": [
        {
          "output_type": "stream",
          "name": "stdout",
          "text": [
            "10\n"
          ]
        }
      ]
    },
    {
      "cell_type": "code",
      "source": [
        "print(s.get('e')) # 없는 값에 대한 처리 방법: error가 나지 않고 없다는 것을 알려줌\n",
        "print(s.get('e', default=-1)) # 값이 없을 때 -1을 반환함"
      ],
      "metadata": {
        "colab": {
          "base_uri": "https://localhost:8080/"
        },
        "id": "KvcxZkiiD3hz",
        "outputId": "0c073f4a-8838-482c-bd81-391c8f320e95"
      },
      "execution_count": 116,
      "outputs": [
        {
          "output_type": "stream",
          "name": "stdout",
          "text": [
            "None\n",
            "-1\n"
          ]
        }
      ]
    },
    {
      "cell_type": "markdown",
      "source": [
        "## 결측값 (NaN, None)\n",
        "\n",
        "- isna()\n",
        "- isnull()\n",
        "\n",
        "NaN(Not a Number) -> float\n",
        "\n",
        "None -> none"
      ],
      "metadata": {
        "id": "AWOM2d6OPyer"
      }
    },
    {
      "cell_type": "code",
      "source": [
        "data = [1, 2, 3, None]\n",
        "s = pd.Series(data)\n",
        "print(s.isna())\n",
        "print(s.isnull())"
      ],
      "metadata": {
        "colab": {
          "base_uri": "https://localhost:8080/"
        },
        "id": "ySiNHUmmP3p_",
        "outputId": "4c0ff7aa-bf60-4caf-f410-8fbcfc1524da"
      },
      "execution_count": 121,
      "outputs": [
        {
          "output_type": "stream",
          "name": "stdout",
          "text": [
            "0    False\n",
            "1    False\n",
            "2    False\n",
            "3     True\n",
            "dtype: bool\n",
            "0    False\n",
            "1    False\n",
            "2    False\n",
            "3     True\n",
            "dtype: bool\n"
          ]
        }
      ]
    },
    {
      "cell_type": "code",
      "source": [
        "print(s.isna().sum()) # True 값의 합(True는 비어있는 값, 1) -> 비어있는 것의 갯수\n",
        "print(s.isnull().sum()) # True 값의 합(True는 비어있는 값, 1) -> 비어있는 것의 갯수"
      ],
      "metadata": {
        "colab": {
          "base_uri": "https://localhost:8080/"
        },
        "id": "DCUzFMgRTThb",
        "outputId": "605a9134-5f34-4b93-8df4-0b3bc926d95a"
      },
      "execution_count": 122,
      "outputs": [
        {
          "output_type": "stream",
          "name": "stdout",
          "text": [
            "1\n",
            "1\n"
          ]
        }
      ]
    },
    {
      "cell_type": "code",
      "source": [
        "print(s.notnull().sum()) # 비어있지 않은 것의 갯수를 셈"
      ],
      "metadata": {
        "colab": {
          "base_uri": "https://localhost:8080/"
        },
        "id": "nPbnnYzWUCIO",
        "outputId": "eb34c529-84b0-4dac-8e11-03a72c990bff"
      },
      "execution_count": 123,
      "outputs": [
        {
          "output_type": "stream",
          "name": "stdout",
          "text": [
            "3\n"
          ]
        }
      ]
    },
    {
      "cell_type": "markdown",
      "source": [
        "결측치 제거"
      ],
      "metadata": {
        "id": "r0fgwUU2UPFI"
      }
    },
    {
      "cell_type": "code",
      "source": [
        "s.dropna() # 비어있는 값 빼기"
      ],
      "metadata": {
        "colab": {
          "base_uri": "https://localhost:8080/"
        },
        "id": "UWyqn5ZhUQm_",
        "outputId": "f5763756-6c19-4857-f014-6c1ce35a8825"
      },
      "execution_count": 124,
      "outputs": [
        {
          "output_type": "execute_result",
          "data": {
            "text/plain": [
              "0    1.0\n",
              "1    2.0\n",
              "2    3.0\n",
              "dtype: float64"
            ]
          },
          "metadata": {},
          "execution_count": 124
        }
      ]
    },
    {
      "cell_type": "markdown",
      "source": [
        "결측치를 0으로 치환"
      ],
      "metadata": {
        "id": "P13GJmA7Ud4d"
      }
    },
    {
      "cell_type": "code",
      "source": [
        "s.fillna(0) # 결측치를 ()괄호 안에 있는 값으로 치환"
      ],
      "metadata": {
        "colab": {
          "base_uri": "https://localhost:8080/"
        },
        "id": "S3TCLbTfUcSO",
        "outputId": "e5d8ac7f-c86d-405e-9473-39a2c5bea91e"
      },
      "execution_count": 129,
      "outputs": [
        {
          "output_type": "execute_result",
          "data": {
            "text/plain": [
              "0    1.0\n",
              "1    2.0\n",
              "2    3.0\n",
              "3    0.0\n",
              "dtype: float64"
            ]
          },
          "metadata": {},
          "execution_count": 129
        }
      ]
    },
    {
      "cell_type": "markdown",
      "source": [
        "## seires 함수"
      ],
      "metadata": {
        "id": "xiE4WJmvVrXp"
      }
    },
    {
      "cell_type": "code",
      "source": [
        "s = pd.Series([1, 3, 5, 7, 9])"
      ],
      "metadata": {
        "id": "taM4acldVu-X"
      },
      "execution_count": 131,
      "outputs": []
    },
    {
      "cell_type": "code",
      "source": [
        "s.count() # 원소의 수"
      ],
      "metadata": {
        "colab": {
          "base_uri": "https://localhost:8080/"
        },
        "id": "llzF8dImV6JT",
        "outputId": "6a58ee31-93ec-4829-f561-20711bc8c3ec"
      },
      "execution_count": 132,
      "outputs": [
        {
          "output_type": "execute_result",
          "data": {
            "text/plain": [
              "5"
            ]
          },
          "metadata": {},
          "execution_count": 132
        }
      ]
    },
    {
      "cell_type": "code",
      "source": [
        "s.min() # 최솟값"
      ],
      "metadata": {
        "colab": {
          "base_uri": "https://localhost:8080/"
        },
        "id": "Y-uPDSClV-bF",
        "outputId": "6a9df7bd-d1ff-4a8e-dda3-45b7ab2accd3"
      },
      "execution_count": 133,
      "outputs": [
        {
          "output_type": "execute_result",
          "data": {
            "text/plain": [
              "1"
            ]
          },
          "metadata": {},
          "execution_count": 133
        }
      ]
    },
    {
      "cell_type": "code",
      "source": [
        "s.max() # 최댓값"
      ],
      "metadata": {
        "colab": {
          "base_uri": "https://localhost:8080/"
        },
        "id": "AW3Qfl3-WNBn",
        "outputId": "65e1c751-0470-4c7d-e0f2-33afe06d49dd"
      },
      "execution_count": 134,
      "outputs": [
        {
          "output_type": "execute_result",
          "data": {
            "text/plain": [
              "9"
            ]
          },
          "metadata": {},
          "execution_count": 134
        }
      ]
    },
    {
      "cell_type": "code",
      "source": [
        "print(s.mean()) # 평균\n",
        "print(s.median()) # 중앙값\n",
        "print(s.std()) # 표준편차\n",
        "print(s.var()) # 분산"
      ],
      "metadata": {
        "colab": {
          "base_uri": "https://localhost:8080/"
        },
        "id": "5a9PA7r8WVmu",
        "outputId": "077fafaa-2e57-4c31-a7e5-84a253b7a63e"
      },
      "execution_count": 135,
      "outputs": [
        {
          "output_type": "stream",
          "name": "stdout",
          "text": [
            "5.0\n",
            "5.0\n",
            "3.1622776601683795\n",
            "10.0\n"
          ]
        }
      ]
    },
    {
      "cell_type": "code",
      "source": [
        "s.describe() # 기초 통계 내용"
      ],
      "metadata": {
        "colab": {
          "base_uri": "https://localhost:8080/"
        },
        "id": "044CzIOFWlCT",
        "outputId": "49408c51-8b35-4a9c-b8cb-ac5256ed0e26"
      },
      "execution_count": 136,
      "outputs": [
        {
          "output_type": "execute_result",
          "data": {
            "text/plain": [
              "count    5.000000\n",
              "mean     5.000000\n",
              "std      3.162278\n",
              "min      1.000000\n",
              "25%      3.000000\n",
              "50%      5.000000\n",
              "75%      7.000000\n",
              "max      9.000000\n",
              "dtype: float64"
            ]
          },
          "metadata": {},
          "execution_count": 136
        }
      ]
    }
  ]
}