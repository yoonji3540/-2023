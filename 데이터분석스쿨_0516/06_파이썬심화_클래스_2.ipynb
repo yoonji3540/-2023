{
  "nbformat": 4,
  "nbformat_minor": 0,
  "metadata": {
    "colab": {
      "provenance": []
    },
    "kernelspec": {
      "name": "python3",
      "display_name": "Python 3"
    },
    "language_info": {
      "name": "python"
    }
  },
  "cells": [
    {
      "cell_type": "markdown",
      "source": [
        "# 클래스 복습"
      ],
      "metadata": {
        "id": "ls36lmWDKb81"
      }
    },
    {
      "cell_type": "markdown",
      "source": [
        "- 우리의 모든 것을 객체화 시킬수 있음\n",
        "- 코드 재사용(개선, 사용, 유지보수가 용이) - 경제적이고, 역량 최소화\n",
        "\n",
        "붕어빵 기계 → 클래스"
      ],
      "metadata": {
        "id": "-Gq1AU0MKlbr"
      }
    },
    {
      "cell_type": "markdown",
      "source": [
        "## 1.1 객체와 인스턴스\n",
        "\n",
        "* 애견샵 클래스 운영 → 진돗개, 리트리버 등\n",
        "* 진돗개 =\n",
        "* 리트리버 = \n",
        "* 이렇게 반복이 계속되면 쉽지 않음\n",
        "* 클래스를 이용하면 애완견의 실체를 클래스화 하면 좋음"
      ],
      "metadata": {
        "id": "sQC3-rebKuYL"
      }
    },
    {
      "cell_type": "code",
      "source": [
        "# class Dog(object): \n",
        "class Dog:\n",
        "pass"
      ],
      "metadata": {
        "id": "D26nssfWKjQd"
      },
      "execution_count": null,
      "outputs": []
    },
    {
      "cell_type": "code",
      "source": [
        "#예제 1 - 틀을 만들자!!\n",
        "\n",
        "class Dog:\n",
        "  species = 'firstdog'\n",
        "\n",
        "  #초기화/인스턴스 속성\n",
        "\n",
        "  #메서드 = 함수\n",
        "  def __init__(self, name, age):\n",
        "    self.name = name\n",
        "    self.age = age\n",
        "\n",
        "# 클래스 정보\n",
        "print(Dog) \n",
        "\n",
        "# 인스턴스화 - 설계화가 된것 생성\n",
        "a = Dog(\"mikky\", 2)\n",
        "b = Dog(\"baby\", 3)"
      ],
      "metadata": {
        "colab": {
          "base_uri": "https://localhost:8080/"
        },
        "id": "Q7LOvDr_LBKs",
        "outputId": "5ce3330c-d10f-487d-d54d-c081ebef888b"
      },
      "execution_count": null,
      "outputs": [
        {
          "output_type": "stream",
          "name": "stdout",
          "text": [
            "<class '__main__.Dog'>\n"
          ]
        }
      ]
    },
    {
      "cell_type": "code",
      "source": [
        "# 클래스 변수 - 직접 접근 가능 / 공용으로 사용하는 것\n",
        "# 인스턴스 변수 - 객체마다 별도 존재\n",
        "\n",
        "# 인스턴스 속성 확인\n",
        "print(f'{a.name} is {a.age} and {b.name} is {b.age}')"
      ],
      "metadata": {
        "colab": {
          "base_uri": "https://localhost:8080/"
        },
        "id": "NjbykLWYLp7B",
        "outputId": "237049ea-d18a-413d-e902-cbf622dab1e5"
      },
      "execution_count": null,
      "outputs": [
        {
          "output_type": "stream",
          "name": "stdout",
          "text": [
            "mikky is 2 and baby is 3\n"
          ]
        }
      ]
    },
    {
      "cell_type": "code",
      "source": [
        "# 클래스 변수 - 직접 접근 가능\n",
        "if a.species == \"firstdog\":\n",
        "  print(f'{a.name} is a {a.species}')\n"
      ],
      "metadata": {
        "colab": {
          "base_uri": "https://localhost:8080/"
        },
        "id": "6SCmd_tGL_Nv",
        "outputId": "dac7d7c8-aefa-4c1b-b015-8ae2147a2f1f"
      },
      "execution_count": null,
      "outputs": [
        {
          "output_type": "stream",
          "name": "stdout",
          "text": [
            "mikky is a firstdog\n"
          ]
        }
      ]
    },
    {
      "cell_type": "code",
      "source": [
        "# 클래스 변수 - 직접 접근 가능\n",
        "if b.species == \"firstdog\":\n",
        "  print(f'{b.name} is a {b.species}')\n"
      ],
      "metadata": {
        "colab": {
          "base_uri": "https://localhost:8080/"
        },
        "id": "jNli7xemMLPE",
        "outputId": "be168c68-6156-483f-e3b3-f398abd13eea"
      },
      "execution_count": null,
      "outputs": [
        {
          "output_type": "stream",
          "name": "stdout",
          "text": [
            "baby is a firstdog\n"
          ]
        }
      ]
    },
    {
      "cell_type": "code",
      "source": [
        "# 이런 형태로도 접근 가능하다. 클래스로도 접근 / 인스턴스화로도 접근가능\n",
        "\n",
        "print(Dog.species)\n",
        "print(a.species)\n",
        "print(b.species)\n",
        "\n",
        "# 사실 이부분이 이해가 되면 클래스가 이해가 된것\n",
        "# 나만의 공간, 나만의 속성, 공유하는 공간, 공유하는 속성에 대해 이해가 되었기를.."
      ],
      "metadata": {
        "colab": {
          "base_uri": "https://localhost:8080/"
        },
        "id": "BzwbvVCQLWWZ",
        "outputId": "23b9a444-a226-444b-eed5-7faa3f7cdb2d"
      },
      "execution_count": null,
      "outputs": [
        {
          "output_type": "stream",
          "name": "stdout",
          "text": [
            "firstdog\n",
            "firstdog\n",
            "firstdog\n"
          ]
        }
      ]
    },
    {
      "cell_type": "code",
      "source": [
        "# 클래스 변수, 인스턴스 변수\n",
        "\n",
        "# Warehouse 클래스\n",
        "class Warehouse:\n",
        "  # 클래스 변수\n",
        "  stock_num = 0 #재고\n",
        "\n",
        "  # 클래스가 실행되면 자동으로 실행\n",
        "  def __init__(self, name):\n",
        "    #인스턴스 변수 # 추가\n",
        "    self.name = name\n",
        "    Warehouse.stock_num += 1\n",
        "\n",
        "  def __del__(self): #소멸\n",
        "    Warehouse.stock_num -= 1\n",
        "\n",
        "user1 = Warehouse('Lee')\n",
        "user2 = Warehouse('Kim')"
      ],
      "metadata": {
        "id": "JWnQWRvLMZcv"
      },
      "execution_count": null,
      "outputs": []
    },
    {
      "cell_type": "code",
      "source": [
        "print(user1.name)"
      ],
      "metadata": {
        "colab": {
          "base_uri": "https://localhost:8080/"
        },
        "id": "l7LvEWvfNXT0",
        "outputId": "35e3bf3d-24f7-4b8a-dae4-ef3bb0342da8"
      },
      "execution_count": null,
      "outputs": [
        {
          "output_type": "stream",
          "name": "stdout",
          "text": [
            "Lee\n"
          ]
        }
      ]
    },
    {
      "cell_type": "code",
      "source": [
        "print(user2.name)"
      ],
      "metadata": {
        "colab": {
          "base_uri": "https://localhost:8080/"
        },
        "id": "Wn2b3zL1NXRh",
        "outputId": "609489cc-7c7b-4bb2-b55f-c08d07660843"
      },
      "execution_count": null,
      "outputs": [
        {
          "output_type": "stream",
          "name": "stdout",
          "text": [
            "Kim\n"
          ]
        }
      ]
    },
    {
      "cell_type": "code",
      "source": [
        "print(Warehouse.__dict__)"
      ],
      "metadata": {
        "colab": {
          "base_uri": "https://localhost:8080/"
        },
        "id": "xz3_9mLsNXPD",
        "outputId": "185ac025-cc54-4aae-c64d-0335e5dc829d"
      },
      "execution_count": null,
      "outputs": [
        {
          "output_type": "stream",
          "name": "stdout",
          "text": [
            "{'__module__': '__main__', 'stock_num': 2, '__init__': <function Warehouse.__init__ at 0x7f5ab99aa7a0>, '__del__': <function Warehouse.__del__ at 0x7f5ab99aa710>, '__dict__': <attribute '__dict__' of 'Warehouse' objects>, '__weakref__': <attribute '__weakref__' of 'Warehouse' objects>, '__doc__': None}\n"
          ]
        }
      ]
    },
    {
      "cell_type": "code",
      "source": [
        "print(Warehouse.stock_num)"
      ],
      "metadata": {
        "colab": {
          "base_uri": "https://localhost:8080/"
        },
        "id": "NUrF351KNKti",
        "outputId": "6f0b9ba0-bd7b-454f-cc83-ff1c483a98b1"
      },
      "execution_count": null,
      "outputs": [
        {
          "output_type": "stream",
          "name": "stdout",
          "text": [
            "2\n"
          ]
        }
      ]
    },
    {
      "cell_type": "code",
      "source": [
        "del user1"
      ],
      "metadata": {
        "id": "uhU74xThNN4O"
      },
      "execution_count": null,
      "outputs": []
    },
    {
      "cell_type": "code",
      "source": [
        "print(Warehouse.__dict__)"
      ],
      "metadata": {
        "colab": {
          "base_uri": "https://localhost:8080/"
        },
        "id": "mzllsoACNwFw",
        "outputId": "d0365011-3203-4529-ea6b-f635aaf36fc6"
      },
      "execution_count": null,
      "outputs": [
        {
          "output_type": "stream",
          "name": "stdout",
          "text": [
            "{'__module__': '__main__', 'stock_num': 1, '__init__': <function Warehouse.__init__ at 0x7f5ab99aa7a0>, '__del__': <function Warehouse.__del__ at 0x7f5ab99aa710>, '__dict__': <attribute '__dict__' of 'Warehouse' objects>, '__weakref__': <attribute '__weakref__' of 'Warehouse' objects>, '__doc__': None}\n"
          ]
        }
      ]
    },
    {
      "cell_type": "code",
      "source": [
        "print(Warehouse.stock_num)"
      ],
      "metadata": {
        "colab": {
          "base_uri": "https://localhost:8080/"
        },
        "id": "AQQwqKKWNyPl",
        "outputId": "594ca125-0267-4736-fa5c-c2168f7270bc"
      },
      "execution_count": null,
      "outputs": [
        {
          "output_type": "stream",
          "name": "stdout",
          "text": [
            "1\n"
          ]
        }
      ]
    },
    {
      "cell_type": "code",
      "source": [
        "#예제 3 - return의 사용과 self가 아닌 변수\n",
        "\n",
        "class Dog:\n",
        "  species = 'firstdog'\n",
        "\n",
        "  #초기화/인스턴스 속성\n",
        "\n",
        "  def __init__(self, name, age):\n",
        "    self.name = name\n",
        "    self.age = age\n",
        "\n",
        "  def info(self):\n",
        "    return f'{self.name}은 {self.age}살 이에요'\n",
        "\n",
        "  def speak(self, sound):\n",
        "    return f\"{self.name}은 {sound} 소리를 내요\""
      ],
      "metadata": {
        "id": "JjDxqBLFNzJn"
      },
      "execution_count": null,
      "outputs": []
    },
    {
      "cell_type": "code",
      "source": [
        "print(c.speak('왈왈'))"
      ],
      "metadata": {
        "colab": {
          "base_uri": "https://localhost:8080/"
        },
        "id": "nSHoC3QqOUbR",
        "outputId": "1da114bc-1130-4d8b-8223-0072586f16d8"
      },
      "execution_count": null,
      "outputs": [
        {
          "output_type": "stream",
          "name": "stdout",
          "text": [
            "July은 왈왈 소리를 내요\n"
          ]
        }
      ]
    },
    {
      "cell_type": "code",
      "source": [
        "#인스턴스 생성\n",
        "c = Dog('July', 4)\n",
        "d = Dog('Dorri', 10)"
      ],
      "metadata": {
        "id": "IjOMt0vRORJi"
      },
      "execution_count": null,
      "outputs": []
    },
    {
      "cell_type": "code",
      "source": [
        "#메서드 호출\n",
        "print(c.info())\n",
        "print(d.info())\n",
        "\n",
        "#메서드 호출\n",
        "print(c.speak('왈왈'))\n",
        "print(d.speak('멍멍'))"
      ],
      "metadata": {
        "id": "I1UCGKN2OJ7L"
      },
      "execution_count": null,
      "outputs": []
    },
    {
      "cell_type": "markdown",
      "source": [],
      "metadata": {
        "id": "OrMYxw_AOJnC"
      }
    },
    {
      "cell_type": "code",
      "source": [
        "# 예제 1.\n",
        "\n",
        "class FishCakeMaker:\n",
        "  def __init__(self, param): #클래스가 최초 생성될때 호출함\n",
        "    pass #self는 FishCakeMaker에 속한것\n",
        "\n",
        "fish = FishCakeMaker(\"붕어빵\") # 이렇게 선언한 순간에 생성자 __init__이 실행"
      ],
      "metadata": {
        "id": "FeJk29LHTUHr"
      },
      "execution_count": null,
      "outputs": []
    },
    {
      "cell_type": "code",
      "source": [
        "# 예제 2. 추가적인 정보\n",
        "\n",
        "class FishCakeMaker:\n",
        "\n",
        "  def __init__(self, param): #클래스가 최초 생성될때 호출됨\n",
        "    pass #self는 FishCakeMaker에 속한 것\n",
        "\n",
        "  def show_name(self): # 만약 self가 없으면 파이썬은 구별 할 수 없음\n",
        "    print('A')\n",
        "\n",
        "# 이러한 구문이 있을 경우\n",
        "def show_name():\n",
        "  print('A')\n",
        "\n",
        "# 바깥의 함수와 안에 있는 클래스 안에 메서드를 구별하기 힘들기 때문에 \n",
        "# 꼭 self를 붙여야 FishCakeMaker안에 있는 \n",
        "# show_name()이라는 것을 인식한다."
      ],
      "metadata": {
        "id": "uOLd8Pl1TbXN"
      },
      "execution_count": null,
      "outputs": []
    },
    {
      "cell_type": "code",
      "source": [
        "# 예제 3\n",
        "class FishCakeMaker:\n",
        "  def __init__(self, **kwargs):\n",
        "    \n",
        "    self.size = 10\n",
        "    self.flavor = \"팥\"\n",
        "    self.price = 1000\n",
        "\n",
        "    if \"size\" in kwargs:\n",
        "      self.size = kwargs.get(\"size\")\n",
        "    if \"flavor\" in kwargs:\n",
        "      self.flavor = kwargs.get(\"flavor\")\n",
        "    if \"price\" in kwargs:\n",
        "      self.price = kwargs.get(\"price\")\n",
        "\n",
        "  def show(self):\n",
        "    \n",
        "    print(f\"붕어빵 종류 {self.flavor}\")\n",
        "    print(f\"붕어빵 크기 {self.size}\")\n",
        "    print(f\"붕어빵 가격 {self.price}\")\n",
        "\n",
        "fish1 = FishCakeMaker()\n",
        "fish2 = FishCakeMaker(size = 20, price = 2000)\n",
        "fish3 = FishCakeMaker(size = 20, price = 3000, flavor = \"피자\")\n",
        "\n",
        "fish1.show()\n",
        "fish2.show()\n",
        "fish3.show()"
      ],
      "metadata": {
        "colab": {
          "base_uri": "https://localhost:8080/"
        },
        "id": "xJY8OZELTuyP",
        "outputId": "3b59f336-22e3-4b57-97a0-d094ad54e4d4"
      },
      "execution_count": null,
      "outputs": [
        {
          "output_type": "stream",
          "name": "stdout",
          "text": [
            "붕어빵 종류 팥\n",
            "붕어빵 크기 10\n",
            "붕어빵 가격 1000\n",
            "붕어빵 종류 팥\n",
            "붕어빵 크기 20\n",
            "붕어빵 가격 2000\n",
            "붕어빵 종류 피자\n",
            "붕어빵 크기 20\n",
            "붕어빵 가격 3000\n"
          ]
        }
      ]
    },
    {
      "cell_type": "code",
      "source": [
        "# 함수와 클래스의 코드 차이점"
      ],
      "metadata": {
        "id": "s7Av9Y2oUVaH"
      },
      "execution_count": null,
      "outputs": []
    },
    {
      "cell_type": "code",
      "source": [
        "def add(num1, num2):\n",
        "    return num1 + num2\n",
        "\n",
        "def subtract(num1, num2):\n",
        "    return num1 - num2\n",
        "\n",
        "def multiply(num1, num2):\n",
        "    return num1 * num2\n",
        "\n",
        "def divide(num1, num2):\n",
        "    if num2 != 0:\n",
        "        return num1 / num2\n",
        "    else:\n",
        "        print(\"0으로 나눌 수 없습니다.\")\n",
        "\n",
        "# 사용자로부터 두 개의 숫자 입력 받기\n",
        "number1 = float(input(\"첫 번째 숫자를 입력하세요: \"))\n",
        "number2 = float(input(\"두 번째 숫자를 입력하세요: \"))\n",
        "\n",
        "# 덧셈\n",
        "result = add(number1, number2)\n",
        "print(\"덧셈 결과:\", result)\n",
        "\n",
        "# 뺄셈\n",
        "result = subtract(number1, number2)\n",
        "print(\"뺄셈 결과:\", result)\n",
        "\n",
        "# 곱셈\n",
        "result = multiply(number1, number2)\n",
        "print(\"곱셈 결과:\", result)\n",
        "\n",
        "# 나눗셈\n",
        "divide(number1, number2)"
      ],
      "metadata": {
        "id": "TfqV-DnNT4gk"
      },
      "execution_count": null,
      "outputs": []
    },
    {
      "cell_type": "code",
      "source": [
        "#아래에 요구사항에 맞는 파이썬 클래스 예제를 제시합니다:\n",
        "\n",
        "class Operation:\n",
        "    def __init__(self, num1, num2):\n",
        "        self.num1 = num1\n",
        "        self.num2 = num2\n",
        "\n",
        "    def add(self):\n",
        "        return self.num1 + self.num2\n",
        "\n",
        "    def subtract(self):\n",
        "        return self.num1 - self.num2\n",
        "\n",
        "    def multiply(self):\n",
        "        return self.num1 * self.num2\n",
        "\n",
        "    def divide(self):\n",
        "        if self.num2 != 0:\n",
        "            return self.num1 / self.num2\n",
        "        else:\n",
        "            print(\"0으로 나눌 수 없습니다.\")\n",
        "\n",
        "# 사용자로부터 두 개의 숫자 입력 받기\n",
        "number1 = float(input(\"첫 번째 숫자를 입력하세요: \"))\n",
        "number2 = float(input(\"두 번째 숫자를 입력하세요: \"))\n",
        "\n",
        "# Operation 클래스의 인스턴스 생성\n",
        "operation = Operation(number1, number2)\n",
        "\n",
        "# 덧셈 결과 출력\n",
        "add_result = operation.add()\n",
        "print(\"덧셈 결과:\", add_result)\n",
        "\n",
        "# 뺄셈 결과 출력\n",
        "subtract_result = operation.subtract()\n",
        "print(\"뺄셈 결과:\", subtract_result)\n",
        "\n",
        "# 곱셈 결과 출력\n",
        "multiply_result = operation.multiply()\n",
        "print(\"곱셈 결과:\", multiply_result)\n",
        "\n",
        "# 나눗셈 결과 출력\n",
        "operation.divide()\n"
      ],
      "metadata": {
        "id": "m6fEaUBsUgOV"
      },
      "execution_count": null,
      "outputs": []
    },
    {
      "cell_type": "code",
      "source": [],
      "metadata": {
        "id": "7WjJ9jkFVkri"
      },
      "execution_count": null,
      "outputs": []
    }
  ]
}