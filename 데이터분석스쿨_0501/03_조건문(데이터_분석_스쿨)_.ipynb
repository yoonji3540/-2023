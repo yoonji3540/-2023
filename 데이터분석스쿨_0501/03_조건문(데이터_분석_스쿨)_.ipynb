{
  "nbformat": 4,
  "nbformat_minor": 0,
  "metadata": {
    "colab": {
      "provenance": []
    },
    "kernelspec": {
      "name": "python3",
      "display_name": "Python 3"
    },
    "language_info": {
      "name": "python"
    }
  },
  "cells": [
    {
      "cell_type": "markdown",
      "source": [
        "#1.1 조건문을 만들때 주의사항\n",
        "\n",
        "* 어떤 조건을 설정할것인가?\n",
        "* 어떤 예외가 발생할것인가?(테스트, 검증)\n",
        "* (조건문이 작성된 뒤에는) 최소 5~10번정도는 테스트 해봐라\n"
      ],
      "metadata": {
        "id": "wmKyC_bB-lBO"
      }
    },
    {
      "cell_type": "markdown",
      "source": [
        "#1.2 조건문 복습\n",
        "\n",
        "조건문은 다음과 같이 복습하려고 합니다.\n",
        "\n",
        "1. 단일 조건문\n",
        "2. If - else 조건문\n",
        "3. If - elif - else 조건문\n",
        "4. 다중 중첩 조건문\n",
        "5. input과 함께 사용하는 조건문\n",
        "\n",
        "[기억해야할것]\n",
        "\n",
        "1. if 뒤에는 참과 거짓을 판단하는 조건이 와야함\n",
        "2. 조건문이 끝나면 반드시 콜론으로 끝나야함\n",
        "3. if 다음 문장은 들여쓰기를 사용해야함\n",
        "4. if 조건에 부합하지 않으면 elif나 else를 사용한다. 보통 조건에 모두 부합하지 않을때 else를 사용한다.\n",
        "\n",
        "[연산자]\n",
        "\n",
        "* x < x가 작다\n",
        "* x > x가 크다\n",
        "* x == y 같다\n",
        "* x != y 다르다\n",
        "* x >= y 크거나 같다\n",
        "* x <= y 작거나 같다\n",
        "\n",
        "[논리연산자]\n",
        "2개이상의 조건을 사용하고 싶을때 사용\n",
        "\n",
        "* and\n",
        "* or\n",
        "* not"
      ],
      "metadata": {
        "id": "gHe1gyN7-1qB"
      }
    },
    {
      "cell_type": "code",
      "source": [
        "# if문 예제\n",
        "\n",
        "x = 2\n",
        "if x > 1 and x < 10:  # 2가지 조건이 모두 충족할 경우\n",
        "  print('True')"
      ],
      "metadata": {
        "colab": {
          "base_uri": "https://localhost:8080/"
        },
        "id": "Hu3nGQkQ-wB_",
        "outputId": "ae8b90dc-6ef6-498d-d047-a0a136738c70"
      },
      "execution_count": null,
      "outputs": [
        {
          "output_type": "stream",
          "name": "stdout",
          "text": [
            "True\n"
          ]
        }
      ]
    },
    {
      "cell_type": "code",
      "source": [
        "if True:\n",
        "  print('True')"
      ],
      "metadata": {
        "id": "iUWDmHQz_aJ2",
        "outputId": "4941d073-d536-476c-9444-ba8e26d838dd",
        "colab": {
          "base_uri": "https://localhost:8080/"
        }
      },
      "execution_count": 6,
      "outputs": [
        {
          "output_type": "stream",
          "name": "stdout",
          "text": [
            "True\n"
          ]
        }
      ]
    },
    {
      "cell_type": "code",
      "source": [
        "if True:\n",
        "    print('hello') \n",
        "print('one')\n",
        "\n",
        "if False:\n",
        "    print('world')\n",
        "print('two')"
      ],
      "metadata": {
        "id": "vySdVAj5_qTi",
        "outputId": "48814ff6-dd0a-49f4-956c-e4bd6d506f25",
        "colab": {
          "base_uri": "https://localhost:8080/"
        }
      },
      "execution_count": 5,
      "outputs": [
        {
          "output_type": "stream",
          "name": "stdout",
          "text": [
            "hello\n",
            "one\n",
            "two\n"
          ]
        }
      ]
    }
  ]
}