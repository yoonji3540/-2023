{
  "nbformat": 4,
  "nbformat_minor": 0,
  "metadata": {
    "colab": {
      "provenance": []
    },
    "kernelspec": {
      "name": "python3",
      "display_name": "Python 3"
    },
    "language_info": {
      "name": "python"
    }
  },
  "cells": [
    {
      "cell_type": "code",
      "execution_count": null,
      "metadata": {
        "colab": {
          "base_uri": "https://localhost:8080/"
        },
        "id": "F3D_Rg9RfNFt",
        "outputId": "c3866906-f8dc-422d-e4d7-7ff6063551a9"
      },
      "outputs": [
        {
          "output_type": "stream",
          "name": "stdout",
          "text": [
            "<class 'list'>\n"
          ]
        }
      ],
      "source": [
        "# 1차원 리스트\n",
        "\n",
        "a = [100000, 2, 1, 3]\n",
        "print(type(a))"
      ]
    },
    {
      "cell_type": "code",
      "source": [
        "b = list('leehojun')"
      ],
      "metadata": {
        "id": "0DMxfIC3f4ma"
      },
      "execution_count": null,
      "outputs": []
    },
    {
      "cell_type": "code",
      "source": [
        "print(type(b))"
      ],
      "metadata": {
        "colab": {
          "base_uri": "https://localhost:8080/"
        },
        "id": "xo39kcQKf-RU",
        "outputId": "94b30ec4-6889-4fe1-da44-925b08466d5c"
      },
      "execution_count": null,
      "outputs": [
        {
          "output_type": "stream",
          "name": "stdout",
          "text": [
            "<class 'list'>\n"
          ]
        }
      ]
    },
    {
      "cell_type": "code",
      "source": [
        "c = [[2]]"
      ],
      "metadata": {
        "id": "ampqz2JzgAw3"
      },
      "execution_count": null,
      "outputs": []
    },
    {
      "cell_type": "code",
      "source": [
        "a = [[1, 2, 3],\n",
        "     [11, 22, 33],\n",
        "     ['leehojun', 20, 30]\n",
        "    ]"
      ],
      "metadata": {
        "id": "f3VJ3ydogL5_"
      },
      "execution_count": null,
      "outputs": []
    },
    {
      "cell_type": "code",
      "source": [
        "print(a)"
      ],
      "metadata": {
        "colab": {
          "base_uri": "https://localhost:8080/"
        },
        "id": "Y6oR2UDagMZR",
        "outputId": "61295dac-614b-431b-cbc9-cf4868696021"
      },
      "execution_count": null,
      "outputs": [
        {
          "output_type": "stream",
          "name": "stdout",
          "text": [
            "[[1, 2, 3], [11, 22, 33], [10, 20, 30]]\n"
          ]
        }
      ]
    },
    {
      "cell_type": "code",
      "source": [
        "a[0]"
      ],
      "metadata": {
        "colab": {
          "base_uri": "https://localhost:8080/"
        },
        "id": "ukxuzo2FgiV6",
        "outputId": "67098b4c-4d8f-4f99-f15c-f8d5c7967755"
      },
      "execution_count": null,
      "outputs": [
        {
          "output_type": "execute_result",
          "data": {
            "text/plain": [
              "[1, 2, 3]"
            ]
          },
          "metadata": {},
          "execution_count": 11
        }
      ]
    },
    {
      "cell_type": "code",
      "source": [
        "a[0][0]"
      ],
      "metadata": {
        "colab": {
          "base_uri": "https://localhost:8080/"
        },
        "id": "czQxyhikgsOx",
        "outputId": "6c25d5f4-ccc0-44ef-96dd-44bfbd8a0b5b"
      },
      "execution_count": null,
      "outputs": [
        {
          "output_type": "execute_result",
          "data": {
            "text/plain": [
              "1"
            ]
          },
          "metadata": {},
          "execution_count": 12
        }
      ]
    },
    {
      "cell_type": "code",
      "source": [
        "a[2][0][:3]"
      ],
      "metadata": {
        "colab": {
          "base_uri": "https://localhost:8080/",
          "height": 36
        },
        "id": "X33eYOq3g08T",
        "outputId": "13e67fb9-37d7-4e93-ab97-23243cfa484d"
      },
      "execution_count": null,
      "outputs": [
        {
          "output_type": "execute_result",
          "data": {
            "text/plain": [
              "'lee'"
            ],
            "application/vnd.google.colaboratory.intrinsic+json": {
              "type": "string"
            }
          },
          "metadata": {},
          "execution_count": 17
        }
      ]
    },
    {
      "cell_type": "markdown",
      "source": [
        "#1.1 리스트 복습"
      ],
      "metadata": {
        "id": "o-Dogi6FhiXV"
      }
    },
    {
      "cell_type": "code",
      "source": [
        "#1.1.1 리스트 생성\n",
        "\n",
        "List_01 = []\n",
        "print(f\"첫번째 리스트 예제의 값은 : {List_01}\")\n",
        "\n",
        "List_02 = list()\n",
        "print(f\"두번째 리스트 예제의 값은 : {List_02}\")"
      ],
      "metadata": {
        "colab": {
          "base_uri": "https://localhost:8080/"
        },
        "id": "lqCc5gbkg6Wb",
        "outputId": "39f6a169-d62b-45b5-e40a-60f6d1b8c283"
      },
      "execution_count": null,
      "outputs": [
        {
          "output_type": "stream",
          "name": "stdout",
          "text": [
            "첫번째 리스트 예제의 값은 : []\n",
            "두번째 리스트 예제의 값은 : []\n"
          ]
        }
      ]
    },
    {
      "cell_type": "code",
      "source": [
        "# 1.1.2 리스트 생성 - 여러 형태의 리스트\n",
        "\n",
        "# 단일 자료형 리스트\n",
        "List_03 = [10, 55, 20, 75]\n",
        "print(\"세번째 리스트 예제의 값은 : \" , List_03)\n",
        "\n",
        "# 복합 자료형 리스트(문자, 숫자)\n",
        "List_04 = [1000, 10000,'Lion', 'Weniv', 'Coding']\n",
        "print(\"네번째 리스트 예제의 값은 : \" , List_04)\n",
        "\n",
        "# 복합 리스트 - 리스트 안에 리스트\n",
        "List_05 = [1000, 10000, ['Lion', 'Weniv', 'Coding']]\n",
        "print(\"다섯번째 리스트 예제의 값은 : \" , List_05)\n",
        "\n",
        "# 복합 자료형 리스트(3가지 이상)\n",
        "List_06 = [54.42, 'not', 3, 4, False, 3.14159]\n",
        "print(\"여섯번째 리스트 예제의 값은 : \" , List_06)"
      ],
      "metadata": {
        "colab": {
          "base_uri": "https://localhost:8080/"
        },
        "id": "Xm-y3B17hm_I",
        "outputId": "d4f9b317-9bcc-4c19-c383-1751a4d8d2eb"
      },
      "execution_count": null,
      "outputs": [
        {
          "output_type": "stream",
          "name": "stdout",
          "text": [
            "세번째 리스트 예제의 값은 :  [10, 55, 20, 75]\n",
            "네번째 리스트 예제의 값은 :  [1000, 10000, 'Lion', 'Weniv', 'Coding']\n",
            "다섯번째 리스트 예제의 값은 :  [1000, 10000, ['Lion', 'Weniv', 'Coding']]\n",
            "여섯번째 리스트 예제의 값은 :  [54.42, 'not', 3, 4, False, 3.14159]\n"
          ]
        }
      ]
    },
    {
      "cell_type": "code",
      "source": [
        "# 1.1.3 리스트 생성 - 이차원 리스트\n",
        "\n",
        "kor = [10, 20, 30]\n",
        "math = [30, 40, 50]\n",
        "eng = [60, 70, 80]\n",
        "\n",
        "score_all = [kor, math, eng]\n",
        "\n",
        "print(score_all)"
      ],
      "metadata": {
        "id": "zWIKSfqWh0P1"
      },
      "execution_count": null,
      "outputs": []
    },
    {
      "cell_type": "code",
      "source": [
        "# 1.1.4 리스트 생성 - range\n",
        "\n",
        "a = list(range(10))\n",
        "print(a)"
      ],
      "metadata": {
        "colab": {
          "base_uri": "https://localhost:8080/"
        },
        "id": "CplqxetciFA5",
        "outputId": "472fbca4-91bf-4fa7-a7ce-e2427ecc6068"
      },
      "execution_count": null,
      "outputs": [
        {
          "output_type": "stream",
          "name": "stdout",
          "text": [
            "[0, 1, 2, 3, 4, 5, 6, 7, 8, 9]\n"
          ]
        }
      ]
    },
    {
      "cell_type": "markdown",
      "source": [
        "### 1.1.2 리스트 인덱싱/슬라이싱\n",
        "\n",
        "리스트 인덱싱과 슬라이싱은 간단하지만 사용하다보면 헷갈릴 경우가 많습니다. 보통 데이터의 구조가 2차원 이상의 구조이고, 데이터를 정제하다보면 헷갈릴 경우가 많기 때문에 복습해보면서 잘 알아둡시다!\n",
        "\n",
        "* 리스트 인덱싱 - 휴대폰 단축번호를 생각하면 쉬움 - 1번은 어머니  2번은 아버지 3번은 선생님\n",
        "* 리스트 슬라이싱 - 휴대폰 그룹을 생각하면 쉬움 - 어머니,아버지는 가족 선생님,친구1은 학교"
      ],
      "metadata": {
        "id": "-9gB-2oSiZ7T"
      }
    },
    {
      "cell_type": "code",
      "source": [
        "# 리스트 인덱싱 예제\n",
        "\n",
        "# 휴대폰 번호 순서\n",
        "Phone_num = ['어머니', '아버지', '선생님','친구1']\n",
        "\n",
        "# 리스트 인덱싱\n",
        "print(Phone_num[0])\n",
        "print(Phone_num[2])\n",
        "\n",
        "# 리스트 슬라이싱\n",
        "# 리스트 슬라이싱때 맨 마지막 숫자 +1 주의\n",
        "family = Phone_num[0:2]\n",
        "school = Phone_num[2:4]\n",
        "\n",
        "print(family)\n",
        "print(school)"
      ],
      "metadata": {
        "colab": {
          "base_uri": "https://localhost:8080/"
        },
        "id": "9HWWRFA3iS-E",
        "outputId": "5d64206c-70bb-40d7-c043-c020baf1b134"
      },
      "execution_count": null,
      "outputs": [
        {
          "output_type": "stream",
          "name": "stdout",
          "text": [
            "어머니\n",
            "선생님\n",
            "['어머니', '아버지']\n",
            "['선생님', '친구1']\n"
          ]
        }
      ]
    },
    {
      "cell_type": "code",
      "source": [
        "score_all = [kor, math, eng]\n",
        "\n",
        "print(score_all)"
      ],
      "metadata": {
        "id": "OtVOHxvniri7"
      },
      "execution_count": null,
      "outputs": []
    },
    {
      "cell_type": "code",
      "source": [
        "# 2차원 리스트 인덱싱/슬라이싱\n",
        "\n",
        "# 1.1.3 리스트 생성 - 이차원 리스트\n",
        "\n",
        "kor = [10, 20, 30]\n",
        "math = [30, 40, 50]\n",
        "eng = [60, 70, 80]\n",
        "\n",
        "score_all = [kor, math, eng]\n",
        "\n",
        "print(score_all)\n",
        "\n",
        "print(score_all[0][1]) # 국어 점수 / 2번째 학생\n",
        "print(score_all[1][2]) # 수학 점수 / 3번째 학생"
      ],
      "metadata": {
        "colab": {
          "base_uri": "https://localhost:8080/"
        },
        "id": "WGMgyvLei-Lg",
        "outputId": "c286beea-ad91-405f-c29d-0fb4472ffed3"
      },
      "execution_count": null,
      "outputs": [
        {
          "output_type": "stream",
          "name": "stdout",
          "text": [
            "20\n",
            "50\n"
          ]
        }
      ]
    },
    {
      "cell_type": "code",
      "source": [
        "# 리스트 갱신하기\n",
        "\n",
        "# 휴대폰 번호 순서\n",
        "Phone_num = ['어머니', '아버지', '선생님','친구1']\n",
        "\n",
        "Phone_num[3] = '이모'\n",
        "\n",
        "print(Phone_num)"
      ],
      "metadata": {
        "colab": {
          "base_uri": "https://localhost:8080/"
        },
        "id": "LYYYTKQFjPYZ",
        "outputId": "4cd1c183-7886-42bf-b6e0-ed0413ea95ad"
      },
      "execution_count": null,
      "outputs": [
        {
          "output_type": "stream",
          "name": "stdout",
          "text": [
            "['어머니', '아버지', '선생님', '이모']\n"
          ]
        }
      ]
    },
    {
      "cell_type": "code",
      "source": [
        "# 결측값을 대체\n",
        "\n",
        "# 숫자열\n",
        "['어머니', '아버지', '선생님', '', '.', '.']\n",
        "\n",
        "# 문자열\n",
        "['어머니', '아버지', '선생님', '', '', '']"
      ],
      "metadata": {
        "id": "_O8bGlE3j5A4"
      },
      "execution_count": null,
      "outputs": []
    },
    {
      "cell_type": "code",
      "source": [
        "# 리스트 갯수 파악하기\n",
        "\n",
        "len(Phone_num)"
      ],
      "metadata": {
        "colab": {
          "base_uri": "https://localhost:8080/"
        },
        "id": "UbwXhMwNkTZZ",
        "outputId": "021fa46d-c524-498a-9da0-ae6e7d25c44d"
      },
      "execution_count": null,
      "outputs": [
        {
          "output_type": "execute_result",
          "data": {
            "text/plain": [
              "4"
            ]
          },
          "metadata": {},
          "execution_count": 26
        }
      ]
    },
    {
      "cell_type": "markdown",
      "source": [
        "#1.1.3 리스트 함수\n",
        "\n",
        "주로 사용하는 리스트 함수에 대해 복습해봅시다.\n",
        "\n",
        "[데이터 추가 함수]\n",
        "* append() 리스트 맨 마지막에 인덱스 추가\n",
        "* extend() 기존 리스트에 새로운 리스트를 합침\n",
        "* insert() 특정 위치에 값을 추가\n",
        "\n",
        "[데이터 제거 함수]\n",
        "* pop() 리스트 끝에서 부터 하나씩 꺼내어 반환한 뒤 삭제\n",
        "* remove() 리스트에 있는 특정값을 제거\n",
        "* del - 특정 인덱스 위치에 있는 값을 제거\n",
        "* clear() 리스트 안에 있는 원소를 다 비우는 함수\n",
        "\n",
        "[데이터 정렬 함수]\n",
        "* sort() 오름차순으로 정렬(내림차순의 경우 reverse = True)\n",
        "* reverse() 값의 순서를 거꾸로 뒤집어서 사용\n",
        "\n",
        "[데이터 중복 확인]\n",
        "* count(\"특정값\") 특정값이 몇개나 중복으로 있는지 체크 가능\n",
        "\n",
        "[데이터 위치 확인]\n",
        "* index()"
      ],
      "metadata": {
        "id": "RPuqkIrvkfKj"
      }
    },
    {
      "cell_type": "code",
      "source": [
        "# 리스트 함수 실습\n",
        "l = [1, 2, 3]\n",
        "dir(l) # dir을 통해 사용할 수 있는 함수(메서드) 확인 가능"
      ],
      "metadata": {
        "colab": {
          "base_uri": "https://localhost:8080/"
        },
        "id": "StzSHnuUkaZV",
        "outputId": "e1d98ae7-d641-4c8b-d526-31636e3046fb"
      },
      "execution_count": null,
      "outputs": [
        {
          "output_type": "execute_result",
          "data": {
            "text/plain": [
              "['__add__',\n",
              " '__class__',\n",
              " '__class_getitem__',\n",
              " '__contains__',\n",
              " '__delattr__',\n",
              " '__delitem__',\n",
              " '__dir__',\n",
              " '__doc__',\n",
              " '__eq__',\n",
              " '__format__',\n",
              " '__ge__',\n",
              " '__getattribute__',\n",
              " '__getitem__',\n",
              " '__gt__',\n",
              " '__hash__',\n",
              " '__iadd__',\n",
              " '__imul__',\n",
              " '__init__',\n",
              " '__init_subclass__',\n",
              " '__iter__',\n",
              " '__le__',\n",
              " '__len__',\n",
              " '__lt__',\n",
              " '__mul__',\n",
              " '__ne__',\n",
              " '__new__',\n",
              " '__reduce__',\n",
              " '__reduce_ex__',\n",
              " '__repr__',\n",
              " '__reversed__',\n",
              " '__rmul__',\n",
              " '__setattr__',\n",
              " '__setitem__',\n",
              " '__sizeof__',\n",
              " '__str__',\n",
              " '__subclasshook__',\n",
              " 'append',\n",
              " 'clear',\n",
              " 'copy',\n",
              " 'count',\n",
              " 'extend',\n",
              " 'index',\n",
              " 'insert',\n",
              " 'pop',\n",
              " 'remove',\n",
              " 'reverse',\n",
              " 'sort']"
            ]
          },
          "metadata": {},
          "execution_count": 27
        }
      ]
    },
    {
      "cell_type": "code",
      "source": [
        "# 버스 승객 탑승 \n",
        "\n",
        "# 리스트 함수를 사용해서 실습할 것\n",
        "# 상황 1. 버스에 버스기사 아저씨가 탑승해서 운행가능 \n",
        "\n",
        "bus = []\n",
        "print(bus)\n"
      ],
      "metadata": {
        "colab": {
          "base_uri": "https://localhost:8080/"
        },
        "id": "ORrM2-2cknNJ",
        "outputId": "354b474a-042f-43bd-fcdf-cc2a04a44475"
      },
      "execution_count": null,
      "outputs": [
        {
          "output_type": "stream",
          "name": "stdout",
          "text": [
            "[]\n"
          ]
        }
      ]
    },
    {
      "cell_type": "code",
      "source": [
        "# 상황 1. 버스기사 아저씨가 탑승을 하려면\n",
        "bus.append('버스기사아저씨')\n",
        "print(f'버스에는 누가 타고 있을까요? {bus}가 타고 있어요')"
      ],
      "metadata": {
        "colab": {
          "base_uri": "https://localhost:8080/"
        },
        "id": "4b_8PRzck3Xq",
        "outputId": "32c8e2fa-4cbe-4adb-9916-d47b538cb112"
      },
      "execution_count": null,
      "outputs": [
        {
          "output_type": "stream",
          "name": "stdout",
          "text": [
            "버스에는 누가 타고 있을까요? ['버스기사아저씨']가 타고 있어요\n"
          ]
        }
      ]
    },
    {
      "cell_type": "code",
      "source": [
        "# 상황 2. 버스에 철수가 탑승을 했다.\n",
        "bus.append('철수')\n",
        "print(f'버스에는 누가 타고 있을까요? {bus}가 타고 있어요')"
      ],
      "metadata": {
        "colab": {
          "base_uri": "https://localhost:8080/"
        },
        "id": "qzSX1gTrlE3s",
        "outputId": "230718fd-ee4d-4676-a856-a20d1aeafb41"
      },
      "execution_count": null,
      "outputs": [
        {
          "output_type": "stream",
          "name": "stdout",
          "text": [
            "버스에는 누가 타고 있을까요? ['버스기사아저씨', '철수']가 타고 있어요\n"
          ]
        }
      ]
    },
    {
      "cell_type": "code",
      "source": [
        "# 상황 3. 선생님이 아이 3명을 데리고 탑승했어요.\n",
        "kinder = ['선생님','아이1','아이2','아이3']\n",
        "bus.extend(kinder)\n",
        "\n",
        "print(f'버스에는 누가 타고 있을까요? {bus}가 타고 있어요')\n",
        "print(f'몇명이나 타고 있을까요? {len(bus)}명이 타고 있어요')"
      ],
      "metadata": {
        "colab": {
          "base_uri": "https://localhost:8080/"
        },
        "id": "47XWcyHFlb_D",
        "outputId": "842d6926-2e93-42c2-bb41-3fdfd69a2d7d"
      },
      "execution_count": null,
      "outputs": [
        {
          "output_type": "stream",
          "name": "stdout",
          "text": [
            "버스에는 누가 타고 있을까요? ['버스기사아저씨', '철수', '선생님', '아이1', '아이2', '아이3']가 타고 있어요\n",
            "몇명이나 타고 있을까요? 6명이 타고 있어요\n"
          ]
        }
      ]
    },
    {
      "cell_type": "code",
      "source": [
        "# 상황 4. 노인 한분이 탑승하셨어요\n",
        "# insert()\n",
        "\n",
        "bus.insert(1, '노인')"
      ],
      "metadata": {
        "id": "EcrVqnGPltbI"
      },
      "execution_count": null,
      "outputs": []
    },
    {
      "cell_type": "code",
      "source": [
        "print(f'버스에는 누가 타고 있을까요? {bus}가 타고 있어요')\n",
        "print(f'몇명이나 타고 있을까요? {len(bus)}명이 타고 있어요')"
      ],
      "metadata": {
        "colab": {
          "base_uri": "https://localhost:8080/"
        },
        "id": "fs8n8uejmCY4",
        "outputId": "70b153d3-522b-49e0-8425-1071b336dda2"
      },
      "execution_count": null,
      "outputs": [
        {
          "output_type": "stream",
          "name": "stdout",
          "text": [
            "버스에는 누가 타고 있을까요? ['버스기사아저씨', '노인', '철수', '선생님', '아이1', '아이2', '아이3']가 타고 있어요\n",
            "몇명이나 타고 있을까요? 7명이 타고 있어요\n"
          ]
        }
      ]
    },
    {
      "cell_type": "code",
      "source": [
        "# 아이의 위치 확인\n",
        "kid1 = bus.index('아이1')\n",
        "print(kid1)"
      ],
      "metadata": {
        "colab": {
          "base_uri": "https://localhost:8080/"
        },
        "id": "sdaSRojymDug",
        "outputId": "f28c023a-e56b-46e0-ac19-74259a4cac3a"
      },
      "execution_count": null,
      "outputs": [
        {
          "output_type": "stream",
          "name": "stdout",
          "text": [
            "4\n"
          ]
        }
      ]
    },
    {
      "cell_type": "code",
      "source": [
        "bus"
      ],
      "metadata": {
        "colab": {
          "base_uri": "https://localhost:8080/"
        },
        "id": "Xh5xGYTwmi6x",
        "outputId": "cfb7b8f5-4b85-46ba-a036-ac862c4e66e5"
      },
      "execution_count": null,
      "outputs": [
        {
          "output_type": "execute_result",
          "data": {
            "text/plain": [
              "['버스기사아저씨', '철수', '선생님', '아이1', '아이2', '아이3']"
            ]
          },
          "metadata": {},
          "execution_count": 50
        }
      ]
    },
    {
      "cell_type": "code",
      "source": [
        "# 노인분이 내리고자 할때\n",
        "bus.remove('철수')\n",
        "\n",
        "print(f'버스에는 누가 타고 있을까요? {bus}가 타고 있어요')\n",
        "print(f'몇명이나 타고 있을까요? {len(bus)}명이 타고 있어요')"
      ],
      "metadata": {
        "colab": {
          "base_uri": "https://localhost:8080/"
        },
        "id": "UcEpVC8AmP00",
        "outputId": "042af374-cd6e-4f04-855b-6571bbbb84bf"
      },
      "execution_count": null,
      "outputs": [
        {
          "output_type": "stream",
          "name": "stdout",
          "text": [
            "버스에는 누가 타고 있을까요? ['버스기사아저씨', '선생님', '아이1', '아이2', '아이3']가 타고 있어요\n",
            "몇명이나 타고 있을까요? 5명이 타고 있어요\n"
          ]
        }
      ]
    },
    {
      "cell_type": "code",
      "source": [
        "# 상황 6. 선생님이 아이들을 한명 한명 인원 체크를 하며 내리려고 하고 있어요.\n",
        "# 인원체크 후에 선생님이 마지막으로 내릴거에요\n",
        "\n",
        "bus.pop()"
      ],
      "metadata": {
        "colab": {
          "base_uri": "https://localhost:8080/",
          "height": 36
        },
        "id": "CifEK2ZWmbpR",
        "outputId": "0d8c4ad6-46cf-44fe-d417-31811d11015f"
      },
      "execution_count": null,
      "outputs": [
        {
          "output_type": "execute_result",
          "data": {
            "text/plain": [
              "'아이3'"
            ],
            "application/vnd.google.colaboratory.intrinsic+json": {
              "type": "string"
            }
          },
          "metadata": {},
          "execution_count": 52
        }
      ]
    },
    {
      "cell_type": "code",
      "source": [
        "print(f'버스에는 누가 타고 있을까요? {bus}가 타고 있어요')\n"
      ],
      "metadata": {
        "colab": {
          "base_uri": "https://localhost:8080/"
        },
        "id": "zC_CBJhwmyFv",
        "outputId": "4421991e-56e6-4052-e0ea-1f606d749946"
      },
      "execution_count": null,
      "outputs": [
        {
          "output_type": "stream",
          "name": "stdout",
          "text": [
            "버스에는 누가 타고 있을까요? ['버스기사아저씨', '선생님', '아이1', '아이2']가 타고 있어요\n"
          ]
        }
      ]
    },
    {
      "cell_type": "code",
      "source": [
        "bus.pop()"
      ],
      "metadata": {
        "colab": {
          "base_uri": "https://localhost:8080/",
          "height": 36
        },
        "id": "1N1sAjv7m0un",
        "outputId": "0da6ecfa-d520-427b-996a-cbf5b0286ac5"
      },
      "execution_count": null,
      "outputs": [
        {
          "output_type": "execute_result",
          "data": {
            "text/plain": [
              "'아이2'"
            ],
            "application/vnd.google.colaboratory.intrinsic+json": {
              "type": "string"
            }
          },
          "metadata": {},
          "execution_count": 54
        }
      ]
    },
    {
      "cell_type": "code",
      "source": [
        "print(f'버스에는 누가 타고 있을까요? {bus}가 타고 있어요')\n"
      ],
      "metadata": {
        "colab": {
          "base_uri": "https://localhost:8080/"
        },
        "id": "Wa44SVvLm6Fm",
        "outputId": "8a98a6a2-75c3-4cc3-cc6c-a7a97bc235e6"
      },
      "execution_count": null,
      "outputs": [
        {
          "output_type": "stream",
          "name": "stdout",
          "text": [
            "버스에는 누가 타고 있을까요? ['버스기사아저씨', '선생님', '아이1']가 타고 있어요\n"
          ]
        }
      ]
    },
    {
      "cell_type": "code",
      "source": [
        "bus.pop()\n",
        "print(f'버스에는 누가 타고 있을까요? {bus}가 타고 있어요')\n"
      ],
      "metadata": {
        "colab": {
          "base_uri": "https://localhost:8080/"
        },
        "id": "Q-4gwEa0m7Vu",
        "outputId": "f87b2640-806e-476b-ee5c-40488a35081d"
      },
      "execution_count": null,
      "outputs": [
        {
          "output_type": "stream",
          "name": "stdout",
          "text": [
            "버스에는 누가 타고 있을까요? ['버스기사아저씨']가 타고 있어요\n"
          ]
        }
      ]
    },
    {
      "cell_type": "code",
      "source": [
        "bus.clear()"
      ],
      "metadata": {
        "id": "2upVzbdMm-JN"
      },
      "execution_count": null,
      "outputs": []
    },
    {
      "cell_type": "code",
      "source": [
        "bus"
      ],
      "metadata": {
        "colab": {
          "base_uri": "https://localhost:8080/"
        },
        "id": "Pdo_WpdBnDsH",
        "outputId": "7846e103-4ad9-4a58-994f-ad8860ac5492"
      },
      "execution_count": null,
      "outputs": [
        {
          "output_type": "execute_result",
          "data": {
            "text/plain": [
              "[]"
            ]
          },
          "metadata": {},
          "execution_count": 59
        }
      ]
    },
    {
      "cell_type": "markdown",
      "source": [
        "###1.1.4 리스트 연산\n",
        "\n",
        "[리스트 연산]\n",
        "\n",
        "* 리스트 덧셈\n",
        "* 리스트 곱셉\n",
        "* in 연산"
      ],
      "metadata": {
        "id": "jrXQOqXFnOuY"
      }
    },
    {
      "cell_type": "code",
      "source": [
        "# 리스트 덧셈\n",
        "\n",
        "company1 = ['멋쟁이사자처럼']\n",
        "company2 = ['위니브']\n",
        "company3 = ['테킷']"
      ],
      "metadata": {
        "id": "an79LcyqnERu"
      },
      "execution_count": null,
      "outputs": []
    },
    {
      "cell_type": "code",
      "source": [
        "company_all =[company1 + company2 + company3]"
      ],
      "metadata": {
        "id": "gr29AnQMnZ6b"
      },
      "execution_count": null,
      "outputs": []
    },
    {
      "cell_type": "code",
      "source": [
        "print(company_all)"
      ],
      "metadata": {
        "colab": {
          "base_uri": "https://localhost:8080/"
        },
        "id": "8V6PQa_gngHy",
        "outputId": "da7c2335-4823-49d3-fa6b-6ff70cca64bf"
      },
      "execution_count": null,
      "outputs": [
        {
          "output_type": "stream",
          "name": "stdout",
          "text": [
            "[['멋쟁이사자처럼', '위니브', '테킷']]\n"
          ]
        }
      ]
    },
    {
      "cell_type": "code",
      "source": [
        "company_all_01 = company1 + company2 + company3"
      ],
      "metadata": {
        "id": "GGdACyqhnhMM"
      },
      "execution_count": null,
      "outputs": []
    },
    {
      "cell_type": "code",
      "source": [
        "print(company_all_01)"
      ],
      "metadata": {
        "colab": {
          "base_uri": "https://localhost:8080/"
        },
        "id": "_Dz-HGM2nnDJ",
        "outputId": "e2a0f131-0418-466d-8676-289ebc5a1684"
      },
      "execution_count": null,
      "outputs": [
        {
          "output_type": "stream",
          "name": "stdout",
          "text": [
            "['멋쟁이사자처럼', '위니브', '테킷']\n"
          ]
        }
      ]
    },
    {
      "cell_type": "code",
      "source": [
        "# 리스트 곱셈\n",
        "\n",
        "company1 * 3"
      ],
      "metadata": {
        "colab": {
          "base_uri": "https://localhost:8080/"
        },
        "id": "fRIWk_senoIA",
        "outputId": "b22539cf-30a4-403d-dca0-675a1517319b"
      },
      "execution_count": null,
      "outputs": [
        {
          "output_type": "execute_result",
          "data": {
            "text/plain": [
              "['멋쟁이사자처럼', '멋쟁이사자처럼', '멋쟁이사자처럼']"
            ]
          },
          "metadata": {},
          "execution_count": 66
        }
      ]
    },
    {
      "cell_type": "code",
      "source": [
        "# 리스트내의 요소 찾기\n",
        "'멋쟁이사자처럼' in company_all_01"
      ],
      "metadata": {
        "colab": {
          "base_uri": "https://localhost:8080/"
        },
        "id": "-nbgsfz3nyfc",
        "outputId": "e557e60f-23d8-4654-8f89-69acce9487f9"
      },
      "execution_count": null,
      "outputs": [
        {
          "output_type": "execute_result",
          "data": {
            "text/plain": [
              "True"
            ]
          },
          "metadata": {},
          "execution_count": 70
        }
      ]
    },
    {
      "cell_type": "code",
      "source": [
        "# 연습문제 1. 정수 5개를 Input으로 리스트형태로 입력받아서 \n",
        "# 평균을 내보기\n",
        "list_example = []\n",
        "\n",
        "list_example.append(int(input(\"정수를 입력하세요\")))\n",
        "list_example.append(int(input(\"정수를 입력하세요\")))\n",
        "list_example.append(int(input(\"정수를 입력하세요\")))\n",
        "list_example.append(int(input(\"정수를 입력하세요\")))\n",
        "list_example.append(int(input(\"정수를 입력하세요\")))\n",
        "\n",
        "print(list_example)\n",
        "\n",
        "avg = ((list_example[0]\n",
        "       + list_example[1]\n",
        "       + list_example[2]\n",
        "       + list_example[3]\n",
        "       + list_example[4]) / len(list_example)) #5 \n",
        "print(f'5개의 값의 평균은 {avg}입니다')"
      ],
      "metadata": {
        "colab": {
          "base_uri": "https://localhost:8080/"
        },
        "id": "UTFA2iv6n89K",
        "outputId": "226faebd-30ba-4584-fbed-e9b4a5df1c52"
      },
      "execution_count": null,
      "outputs": [
        {
          "output_type": "stream",
          "name": "stdout",
          "text": [
            "정수를 입력하세요10\n",
            "정수를 입력하세요20\n",
            "정수를 입력하세요30\n",
            "정수를 입력하세요0\n",
            "정수를 입력하세요40\n",
            "[10, 20, 30, 0, 40]\n",
            "5개의 값의 평균은 68.0입니다\n"
          ]
        }
      ]
    },
    {
      "cell_type": "markdown",
      "source": [
        "### 1.1.5 패킹과 언패킹\n",
        "\n",
        "패킹과 언패킹은 일반적으로도 사용하지만 나중에 한번 더 언급하기로 하고 일단 개념에 대해 복습해보자"
      ],
      "metadata": {
        "id": "x-V07sxntNvH"
      }
    },
    {
      "cell_type": "code",
      "source": [
        "# 패킹\n",
        "t = [1, 2, 3]"
      ],
      "metadata": {
        "id": "F8ZDDV5WsUWY"
      },
      "execution_count": null,
      "outputs": []
    },
    {
      "cell_type": "code",
      "source": [
        "# 언패킹\n",
        "a, b, c = t"
      ],
      "metadata": {
        "id": "KxHupkAlteVW"
      },
      "execution_count": null,
      "outputs": []
    },
    {
      "cell_type": "code",
      "source": [
        "print(t)"
      ],
      "metadata": {
        "colab": {
          "base_uri": "https://localhost:8080/"
        },
        "id": "cZwToEu5toaI",
        "outputId": "e212853d-e7e1-46cd-a823-192a78637602"
      },
      "execution_count": null,
      "outputs": [
        {
          "output_type": "stream",
          "name": "stdout",
          "text": [
            "[1, 2, 3]\n"
          ]
        }
      ]
    },
    {
      "cell_type": "code",
      "source": [
        "print(a)\n",
        "print(b)\n",
        "print(c)"
      ],
      "metadata": {
        "colab": {
          "base_uri": "https://localhost:8080/"
        },
        "id": "y2NSvke9tqLv",
        "outputId": "89718be7-6659-42aa-cf19-537288819041"
      },
      "execution_count": null,
      "outputs": [
        {
          "output_type": "stream",
          "name": "stdout",
          "text": [
            "1\n",
            "2\n",
            "3\n"
          ]
        }
      ]
    },
    {
      "cell_type": "markdown",
      "source": [
        "# 1.1.6 리스트 컴프리 핸션"
      ],
      "metadata": {
        "id": "CeiS0SRCt20v"
      }
    },
    {
      "cell_type": "code",
      "source": [
        "# 기본 리스트에 값 채워넣기\n",
        "\n",
        "li = []\n",
        "\n",
        "for i in range(5):\n",
        "  li.append(i)\n",
        "\n",
        "print(li)"
      ],
      "metadata": {
        "colab": {
          "base_uri": "https://localhost:8080/"
        },
        "id": "so5TN8dSt2eN",
        "outputId": "89cf3ea2-e8c5-4f78-d2ef-5198980b2db6"
      },
      "execution_count": null,
      "outputs": [
        {
          "output_type": "stream",
          "name": "stdout",
          "text": [
            "[0, 1, 2, 3, 4]\n"
          ]
        }
      ]
    },
    {
      "cell_type": "code",
      "source": [
        "[i for i in range(5)]"
      ],
      "metadata": {
        "colab": {
          "base_uri": "https://localhost:8080/"
        },
        "id": "gjnWF35Wtsoj",
        "outputId": "c3dcfba0-abb4-43d8-e680-813967a66000"
      },
      "execution_count": null,
      "outputs": [
        {
          "output_type": "execute_result",
          "data": {
            "text/plain": [
              "[0, 1, 2, 3, 4]"
            ]
          },
          "metadata": {},
          "execution_count": 82
        }
      ]
    },
    {
      "cell_type": "code",
      "source": [
        "# 1) 수식 적용\n",
        "\n",
        "[i*10 for i in range(5)]"
      ],
      "metadata": {
        "colab": {
          "base_uri": "https://localhost:8080/"
        },
        "id": "j48xhgNSuaKx",
        "outputId": "3b4d862c-bce3-455f-e01f-ed4519c8823c"
      },
      "execution_count": null,
      "outputs": [
        {
          "output_type": "execute_result",
          "data": {
            "text/plain": [
              "[0, 10, 20, 30, 40]"
            ]
          },
          "metadata": {},
          "execution_count": 83
        }
      ]
    },
    {
      "cell_type": "code",
      "source": [
        "# 2) 조건문 적용\n",
        "[i for i in range(5) if i % 2 == 0]"
      ],
      "metadata": {
        "colab": {
          "base_uri": "https://localhost:8080/"
        },
        "id": "h4d6RIxBu1lF",
        "outputId": "d0da9355-6911-4891-981d-cbf6064c45bc"
      },
      "execution_count": null,
      "outputs": [
        {
          "output_type": "execute_result",
          "data": {
            "text/plain": [
              "[0, 2, 4]"
            ]
          },
          "metadata": {},
          "execution_count": 84
        }
      ]
    },
    {
      "cell_type": "markdown",
      "source": [
        "#1.1.7 다양한 방식의 리스트 출력"
      ],
      "metadata": {
        "id": "nY1fcu1_vNEH"
      }
    },
    {
      "cell_type": "code",
      "source": [
        "# enumerate()함수\n",
        "# 데이터 법이 많이 개정, \n",
        "\n",
        "for i, v in enumerate(['가위','바위','보']):\n",
        "  print(i, v)"
      ],
      "metadata": {
        "colab": {
          "base_uri": "https://localhost:8080/"
        },
        "id": "LnfgJnfTu_YG",
        "outputId": "d469608f-39ae-4e43-ff2c-404cff295dfd"
      },
      "execution_count": null,
      "outputs": [
        {
          "output_type": "stream",
          "name": "stdout",
          "text": [
            "0 가위\n",
            "1 바위\n",
            "2 보\n"
          ]
        }
      ]
    },
    {
      "cell_type": "code",
      "source": [
        "for i in ['가위','바위','보']:\n",
        "  print(i)"
      ],
      "metadata": {
        "colab": {
          "base_uri": "https://localhost:8080/"
        },
        "id": "CyG8XB8OvZZJ",
        "outputId": "2051addb-3d43-4eea-b02a-0b6e8f04e826"
      },
      "execution_count": null,
      "outputs": [
        {
          "output_type": "stream",
          "name": "stdout",
          "text": [
            "가위\n",
            "바위\n",
            "보\n"
          ]
        }
      ]
    },
    {
      "cell_type": "code",
      "source": [
        "# zip 함수\n",
        "\n",
        "alist = ['가위','바위','보']\n",
        "blist = ['바위','가위','보']\n",
        "\n",
        "for a, b in zip(alist, blist):\n",
        "  print(a,b)"
      ],
      "metadata": {
        "colab": {
          "base_uri": "https://localhost:8080/"
        },
        "id": "berA9YjOvdMq",
        "outputId": "b260d227-62da-4a7b-c155-0d28f9807d56"
      },
      "execution_count": null,
      "outputs": [
        {
          "output_type": "stream",
          "name": "stdout",
          "text": [
            "가위 바위\n",
            "바위 가위\n",
            "보 보\n"
          ]
        }
      ]
    },
    {
      "cell_type": "code",
      "source": [
        "for x, y in zip(range(10), range(10)):\n",
        "  print(x, y)"
      ],
      "metadata": {
        "colab": {
          "base_uri": "https://localhost:8080/"
        },
        "id": "z4DwwJYLwHqM",
        "outputId": "f65ea999-206d-49f1-bb8e-107477ba1285"
      },
      "execution_count": null,
      "outputs": [
        {
          "output_type": "stream",
          "name": "stdout",
          "text": [
            "0 0\n",
            "1 1\n",
            "2 2\n",
            "3 3\n",
            "4 4\n",
            "5 5\n",
            "6 6\n",
            "7 7\n",
            "8 8\n",
            "9 9\n"
          ]
        }
      ]
    },
    {
      "cell_type": "code",
      "source": [
        "dict_num = { x:y for x, y in zip(range(10),range(10))}\n",
        "{0: 0, 1: 1, 2: 2, 3: 3, 4: 4, 5: 5, 6: 6, 7: 7, 8: 8, 9: 9}"
      ],
      "metadata": {
        "colab": {
          "base_uri": "https://localhost:8080/"
        },
        "id": "VoemsSQLwVoh",
        "outputId": "8ff95469-2127-435d-b3f5-1588bd005ec9"
      },
      "execution_count": null,
      "outputs": [
        {
          "output_type": "execute_result",
          "data": {
            "text/plain": [
              "{0: 0, 1: 1, 2: 2, 3: 3, 4: 4, 5: 5, 6: 6, 7: 7, 8: 8, 9: 9}"
            ]
          },
          "metadata": {},
          "execution_count": 90
        }
      ]
    },
    {
      "cell_type": "code",
      "source": [
        "#enumerate & zip 함수\n",
        "\n",
        "alist = ['가위', '바위', '보']\n",
        "blist = ['보', '가위', '바위']\n",
        "for i, (a, b) in enumerate((zip(alist, blist))):\n",
        "  print(i, a, b)"
      ],
      "metadata": {
        "colab": {
          "base_uri": "https://localhost:8080/"
        },
        "id": "9cAnV41xwfoN",
        "outputId": "373bb505-1bfa-42dc-9bff-7a3875d7a358"
      },
      "execution_count": null,
      "outputs": [
        {
          "output_type": "stream",
          "name": "stdout",
          "text": [
            "0 가위 보\n",
            "1 바위 가위\n",
            "2 보 바위\n"
          ]
        }
      ]
    },
    {
      "cell_type": "markdown",
      "source": [
        "# 2.1. 튜플"
      ],
      "metadata": {
        "id": "02FWz31XwxFD"
      }
    },
    {
      "cell_type": "code",
      "source": [
        "# 튜플 생성 예제\n",
        "\n",
        "tuple_sample = ()"
      ],
      "metadata": {
        "id": "O_8_sSg7wkQb"
      },
      "execution_count": null,
      "outputs": []
    },
    {
      "cell_type": "code",
      "source": [
        "type(tuple_sample)"
      ],
      "metadata": {
        "colab": {
          "base_uri": "https://localhost:8080/"
        },
        "id": "qPJfC7VFxCDL",
        "outputId": "39773374-1ca3-48cd-d671-7e5754df5478"
      },
      "execution_count": null,
      "outputs": [
        {
          "output_type": "execute_result",
          "data": {
            "text/plain": [
              "tuple"
            ]
          },
          "metadata": {},
          "execution_count": 93
        }
      ]
    },
    {
      "cell_type": "code",
      "source": [
        "# 튜플 생성 예제\n",
        "cust_all = (\"뉴진스\",\"블랙핑크\",\"아이즈원\")\n",
        "print(cust_all)"
      ],
      "metadata": {
        "colab": {
          "base_uri": "https://localhost:8080/"
        },
        "id": "M-30Wx1TxBge",
        "outputId": "1680df90-cd0d-4e65-8474-b3b4eb89a1f3"
      },
      "execution_count": null,
      "outputs": [
        {
          "output_type": "stream",
          "name": "stdout",
          "text": [
            "('뉴진스', '블랙핑크', '아이즈원')\n"
          ]
        }
      ]
    },
    {
      "cell_type": "code",
      "source": [
        "cust_all_2 = (\"뉴진스\",)\n",
        "print(cust_all_2)"
      ],
      "metadata": {
        "colab": {
          "base_uri": "https://localhost:8080/"
        },
        "id": "mgzI_X6CxKgQ",
        "outputId": "0da8f53f-6146-40d9-c5e7-730f2e75c302"
      },
      "execution_count": null,
      "outputs": [
        {
          "output_type": "stream",
          "name": "stdout",
          "text": [
            "('뉴진스',)\n"
          ]
        }
      ]
    },
    {
      "cell_type": "code",
      "source": [
        "len(cust_all)"
      ],
      "metadata": {
        "colab": {
          "base_uri": "https://localhost:8080/"
        },
        "id": "ZTNxB8oUxUdW",
        "outputId": "86b97f4d-efbd-4564-9d6c-57330940749f"
      },
      "execution_count": null,
      "outputs": [
        {
          "output_type": "execute_result",
          "data": {
            "text/plain": [
              "3"
            ]
          },
          "metadata": {},
          "execution_count": 97
        }
      ]
    },
    {
      "cell_type": "code",
      "source": [
        "cust_all[1] = \"SG워너비\""
      ],
      "metadata": {
        "colab": {
          "base_uri": "https://localhost:8080/",
          "height": 207
        },
        "id": "btshPpLOxYPa",
        "outputId": "658fed28-ab9c-4b3b-9a03-a0d1db4f0916"
      },
      "execution_count": null,
      "outputs": [
        {
          "output_type": "error",
          "ename": "TypeError",
          "evalue": "ignored",
          "traceback": [
            "\u001b[0;31m---------------------------------------------------------------------------\u001b[0m",
            "\u001b[0;31mTypeError\u001b[0m                                 Traceback (most recent call last)",
            "\u001b[0;32m<ipython-input-98-e00271bd67af>\u001b[0m in \u001b[0;36m<cell line: 1>\u001b[0;34m()\u001b[0m\n\u001b[0;32m----> 1\u001b[0;31m \u001b[0mcust_all\u001b[0m\u001b[0;34m[\u001b[0m\u001b[0;36m1\u001b[0m\u001b[0;34m]\u001b[0m \u001b[0;34m=\u001b[0m \u001b[0;34m\"SG워너비\"\u001b[0m\u001b[0;34m\u001b[0m\u001b[0;34m\u001b[0m\u001b[0m\n\u001b[0m",
            "\u001b[0;31mTypeError\u001b[0m: 'tuple' object does not support item assignment"
          ]
        }
      ]
    },
    {
      "cell_type": "code",
      "source": [
        "# 튜플 인덱싱\n",
        "print(cust_all[0])"
      ],
      "metadata": {
        "colab": {
          "base_uri": "https://localhost:8080/"
        },
        "id": "V_9P4RCixfGX",
        "outputId": "da95ecdb-47c1-447a-d57e-6e6cd6e6e5ed"
      },
      "execution_count": null,
      "outputs": [
        {
          "output_type": "stream",
          "name": "stdout",
          "text": [
            "뉴진스\n"
          ]
        }
      ]
    },
    {
      "cell_type": "code",
      "source": [
        "print(cust_all[0:2])"
      ],
      "metadata": {
        "colab": {
          "base_uri": "https://localhost:8080/"
        },
        "id": "NitQGNzSxmot",
        "outputId": "2353e7a5-b6ba-4550-90d9-c05a2cff92b2"
      },
      "execution_count": null,
      "outputs": [
        {
          "output_type": "stream",
          "name": "stdout",
          "text": [
            "('뉴진스', '블랙핑크')\n"
          ]
        }
      ]
    },
    {
      "cell_type": "markdown",
      "source": [],
      "metadata": {
        "id": "uQBhWKn3xsXS"
      }
    },
    {
      "cell_type": "code",
      "source": [
        "# 튜플 함수\n",
        "\n",
        "b = (5, 2, 1, 2, 4)\n",
        "print(b)\n",
        "print(b.count(2))"
      ],
      "metadata": {
        "colab": {
          "base_uri": "https://localhost:8080/"
        },
        "id": "_LHD_qGQxpbR",
        "outputId": "e0e4ebf6-cf8d-43ac-ad8e-76dac01a45cc"
      },
      "execution_count": null,
      "outputs": [
        {
          "output_type": "stream",
          "name": "stdout",
          "text": [
            "(5, 2, 1, 2, 4)\n",
            "2\n"
          ]
        }
      ]
    },
    {
      "cell_type": "code",
      "source": [
        "# 튜플 연산\n",
        "\n",
        "c = (6,7,8,9,10)\n",
        "\n",
        "print('b + c', b + c)\n",
        "print('c * 3', c * 3)"
      ],
      "metadata": {
        "colab": {
          "base_uri": "https://localhost:8080/"
        },
        "id": "iuVMAvnjx2C3",
        "outputId": "2263e347-574f-4059-b45f-b7066d21ef61"
      },
      "execution_count": null,
      "outputs": [
        {
          "output_type": "stream",
          "name": "stdout",
          "text": [
            "b + c (5, 2, 1, 2, 4, 6, 7, 8, 9, 10)\n",
            "c * 3 (6, 7, 8, 9, 10, 6, 7, 8, 9, 10, 6, 7, 8, 9, 10)\n"
          ]
        }
      ]
    },
    {
      "cell_type": "code",
      "source": [
        "t = ('a','b','c','d')"
      ],
      "metadata": {
        "id": "SEQcs80myUjv"
      },
      "execution_count": null,
      "outputs": []
    },
    {
      "cell_type": "code",
      "source": [
        "(x1, x2, x3, x4) = t"
      ],
      "metadata": {
        "id": "3slBJwi4yeOt"
      },
      "execution_count": null,
      "outputs": []
    },
    {
      "cell_type": "code",
      "source": [
        "print(t, type(t))"
      ],
      "metadata": {
        "colab": {
          "base_uri": "https://localhost:8080/"
        },
        "id": "rtxGmwTryhJu",
        "outputId": "06e75040-35da-4c66-ab58-51fe5182ecb8"
      },
      "execution_count": null,
      "outputs": [
        {
          "output_type": "stream",
          "name": "stdout",
          "text": [
            "('a', 'b', 'c', 'd') <class 'tuple'>\n"
          ]
        }
      ]
    },
    {
      "cell_type": "code",
      "source": [
        "print(x1, type(x1))\n",
        "print(x2, type(x2))\n",
        "print(x3, type(x3))\n",
        "print(x4, type(x4))"
      ],
      "metadata": {
        "colab": {
          "base_uri": "https://localhost:8080/"
        },
        "id": "98IhKeJoyiuF",
        "outputId": "7c373ddb-246b-4401-b6a6-a19cd7fadfb6"
      },
      "execution_count": null,
      "outputs": [
        {
          "output_type": "stream",
          "name": "stdout",
          "text": [
            "a <class 'str'>\n",
            "b <class 'str'>\n",
            "c <class 'str'>\n",
            "d <class 'str'>\n"
          ]
        }
      ]
    },
    {
      "cell_type": "code",
      "source": [
        "t2 = 1,2,3"
      ],
      "metadata": {
        "id": "w6K2LiIVyqs5"
      },
      "execution_count": null,
      "outputs": []
    },
    {
      "cell_type": "code",
      "source": [
        "print(t2, type(t2))"
      ],
      "metadata": {
        "colab": {
          "base_uri": "https://localhost:8080/"
        },
        "id": "ED6aQlAIy0YM",
        "outputId": "04b4b751-63b4-483e-e135-b86a4cd5aab2"
      },
      "execution_count": null,
      "outputs": [
        {
          "output_type": "stream",
          "name": "stdout",
          "text": [
            "(1, 2, 3) <class 'tuple'>\n"
          ]
        }
      ]
    },
    {
      "cell_type": "markdown",
      "source": [
        "3.1 딕셔너리"
      ],
      "metadata": {
        "id": "JfxRCo0ey943"
      }
    },
    {
      "cell_type": "code",
      "source": [
        "# 김진환 : 데이터 분석"
      ],
      "metadata": {
        "id": "98p-Yf6Dy1s7"
      },
      "execution_count": null,
      "outputs": []
    },
    {
      "cell_type": "code",
      "source": [
        "# 딕셔너리 기초\n",
        "\n",
        "x = {}\n",
        "y = dict()\n",
        "\n",
        "print(x, type(x))\n",
        "print(y, type(y))"
      ],
      "metadata": {
        "colab": {
          "base_uri": "https://localhost:8080/"
        },
        "id": "v_AQXGb7zMnZ",
        "outputId": "e210540d-e103-4185-c933-51c03a4af5a8"
      },
      "execution_count": null,
      "outputs": [
        {
          "output_type": "stream",
          "name": "stdout",
          "text": [
            "{} <class 'dict'>\n",
            "{} <class 'dict'>\n"
          ]
        }
      ]
    },
    {
      "cell_type": "code",
      "source": [
        "a = {'name' : 'Kim', \"phone\" : '01080782069'}"
      ],
      "metadata": {
        "id": "2e0dHEAnzVTd"
      },
      "execution_count": null,
      "outputs": []
    },
    {
      "cell_type": "code",
      "source": [
        "print(a, type(a))"
      ],
      "metadata": {
        "colab": {
          "base_uri": "https://localhost:8080/"
        },
        "id": "2UXjGM-0zgH1",
        "outputId": "d1ff8ecd-db0f-4a34-ecd1-b5ee1b332cf4"
      },
      "execution_count": null,
      "outputs": [
        {
          "output_type": "stream",
          "name": "stdout",
          "text": [
            "{'name': 'Kim', 'phone': '01080782069'} <class 'dict'>\n"
          ]
        }
      ]
    },
    {
      "cell_type": "code",
      "source": [
        "b = {0: 'Hello Python'}\n",
        "c = {'arr' : [1,2,3,4]}\n",
        "d = {\n",
        "    'Name' : 'Nicename',\n",
        "    'City' : 'Seoul',\n",
        "    'Age'  : 33,\n",
        "    'Grade' : 'A',\n",
        "    'Status' : True\n",
        "}"
      ],
      "metadata": {
        "id": "oHdoPj8hzba8"
      },
      "execution_count": null,
      "outputs": []
    },
    {
      "cell_type": "code",
      "source": [
        "# 딕셔너리에 값 추가\n",
        "\n",
        "a = {'name' : 'Kim', \"phone\" : '01080782069'}\n",
        "\n",
        "a['address'] = 'Seoul'\n",
        "\n",
        "print(a)"
      ],
      "metadata": {
        "colab": {
          "base_uri": "https://localhost:8080/"
        },
        "id": "rMxm2nwwztir",
        "outputId": "e61564b9-b80e-4524-d8f3-04ce9f9d63c0"
      },
      "execution_count": null,
      "outputs": [
        {
          "output_type": "stream",
          "name": "stdout",
          "text": [
            "{'name': 'Kim', 'phone': '01080782069', 'address': 'Seoul'}\n"
          ]
        }
      ]
    },
    {
      "cell_type": "code",
      "source": [
        "# 딕셔너리의 개수\n",
        "print(a, len(a))"
      ],
      "metadata": {
        "colab": {
          "base_uri": "https://localhost:8080/"
        },
        "id": "NJnPcSkKz6-m",
        "outputId": "5006b6ae-cf7a-4a90-b434-10f636c861ea"
      },
      "execution_count": null,
      "outputs": [
        {
          "output_type": "stream",
          "name": "stdout",
          "text": [
            "{'name': 'Kim', 'phone': '01080782069', 'address': 'Seoul'} 3\n"
          ]
        }
      ]
    },
    {
      "cell_type": "markdown",
      "source": [
        "### 3.1.2 딕셔너리 함수"
      ],
      "metadata": {
        "id": "jes3xOgS0GKv"
      }
    },
    {
      "cell_type": "code",
      "source": [
        "# Key 값만 가져오는\n",
        "print(f'key 값은 {a.keys()} 입니다')\n",
        "\n",
        "# Value 값만 가져오는\n",
        "print(f'value 값은 {a.values()} 입니다')\n",
        "\n",
        "# 전체 다 가져오는 함수\n",
        "print(f'value 값은 {a.items()} 입니다')"
      ],
      "metadata": {
        "colab": {
          "base_uri": "https://localhost:8080/"
        },
        "id": "aXA64wNh0MRV",
        "outputId": "ba0f96d1-67e6-4563-b3ac-5303a27c62dd"
      },
      "execution_count": null,
      "outputs": [
        {
          "output_type": "stream",
          "name": "stdout",
          "text": [
            "key 값은 dict_keys(['name', 'phone', 'address']) 입니다\n",
            "value 값은 dict_values(['Kim', '01080782069', 'Seoul']) 입니다\n",
            "value 값은 dict_items([('name', 'Kim'), ('phone', '01080782069'), ('address', 'Seoul')]) 입니다\n"
          ]
        }
      ]
    },
    {
      "cell_type": "code",
      "source": [
        "'name' in a.keys()"
      ],
      "metadata": {
        "colab": {
          "base_uri": "https://localhost:8080/"
        },
        "id": "JWf5xgy90MOy",
        "outputId": "ce9a52d2-ab0e-4058-c11c-7e24a087db1d"
      },
      "execution_count": null,
      "outputs": [
        {
          "output_type": "execute_result",
          "data": {
            "text/plain": [
              "True"
            ]
          },
          "metadata": {},
          "execution_count": 124
        }
      ]
    },
    {
      "cell_type": "code",
      "source": [
        "'Kim' in a.values()"
      ],
      "metadata": {
        "colab": {
          "base_uri": "https://localhost:8080/"
        },
        "id": "1eMgjkYT0MM5",
        "outputId": "da462fac-c668-4403-8e3f-659cb0c3112a"
      },
      "execution_count": null,
      "outputs": [
        {
          "output_type": "execute_result",
          "data": {
            "text/plain": [
              "True"
            ]
          },
          "metadata": {},
          "execution_count": 126
        }
      ]
    },
    {
      "cell_type": "code",
      "source": [
        "# 값 삭제\n",
        "del a[\"name\"]\n",
        "print(a)"
      ],
      "metadata": {
        "colab": {
          "base_uri": "https://localhost:8080/"
        },
        "id": "jwxz2JIe04Lx",
        "outputId": "3a2853d8-79f0-4d51-d71f-8be27d424cf3"
      },
      "execution_count": null,
      "outputs": [
        {
          "output_type": "stream",
          "name": "stdout",
          "text": [
            "{'phone': '01080782069', 'address': 'Seoul'}\n"
          ]
        }
      ]
    },
    {
      "cell_type": "markdown",
      "source": [
        "# 4. 세트(set)"
      ],
      "metadata": {
        "id": "2bSySUqJ1CHf"
      }
    },
    {
      "cell_type": "code",
      "source": [
        "# 세트 사용\n",
        "\n",
        "empty_set = set()"
      ],
      "metadata": {
        "id": "qZKe81421Qgj"
      },
      "execution_count": null,
      "outputs": []
    },
    {
      "cell_type": "code",
      "source": [
        "print(empty_set, type(empty_set))"
      ],
      "metadata": {
        "colab": {
          "base_uri": "https://localhost:8080/"
        },
        "id": "IPYjsPDT1Q-t",
        "outputId": "007ef632-a520-4ee9-ba3b-634174b803c5"
      },
      "execution_count": null,
      "outputs": [
        {
          "output_type": "stream",
          "name": "stdout",
          "text": [
            "set() <class 'set'>\n"
          ]
        }
      ]
    },
    {
      "cell_type": "code",
      "source": [
        "# 세트에 값 추가\n",
        "python_set = set(['판다스','넘파이'])\n",
        "print(python_set)"
      ],
      "metadata": {
        "colab": {
          "base_uri": "https://localhost:8080/"
        },
        "id": "3wp-OSMY1Q7u",
        "outputId": "fd35f112-d40e-40d9-fe1d-4770e1cbd80f"
      },
      "execution_count": null,
      "outputs": [
        {
          "output_type": "stream",
          "name": "stdout",
          "text": [
            "{'판다스', '넘파이'}\n"
          ]
        }
      ]
    },
    {
      "cell_type": "code",
      "source": [
        "test_set = set('python')\n",
        "print(test_set)"
      ],
      "metadata": {
        "colab": {
          "base_uri": "https://localhost:8080/"
        },
        "id": "FUusuE6S1rLU",
        "outputId": "066e0c06-0fb2-436a-af3b-d03ceaff2665"
      },
      "execution_count": null,
      "outputs": [
        {
          "output_type": "stream",
          "name": "stdout",
          "text": [
            "{'o', 't', 'y', 'p', 'n', 'h'}\n"
          ]
        }
      ]
    },
    {
      "cell_type": "code",
      "source": [
        "# 세트 생성\n",
        "\n",
        "Set_1 = {1,2,3}\n",
        "print(Set_1)\n",
        "\n",
        "# 요소 추가\n",
        "Set_1.add(4)\n",
        "print(Set_1)\n",
        "\n",
        "# 여러자료 추가\n",
        "Set_1.update([5,6,7,8,9,10])\n",
        "print(Set_1)\n",
        "\n",
        "# 요소 제거 - 특정 순서\n",
        "Set_1.remove(1)\n",
        "print(Set_1)\n",
        "\n",
        "# 요소 제거 - 특정 값 삭제\n",
        "Set_1.discard(10)\n",
        "print(Set_1)\n"
      ],
      "metadata": {
        "colab": {
          "base_uri": "https://localhost:8080/"
        },
        "id": "gmKEl1v612e8",
        "outputId": "6a17ce55-b5fa-45d9-8c85-65c4b0cdb15d"
      },
      "execution_count": null,
      "outputs": [
        {
          "output_type": "stream",
          "name": "stdout",
          "text": [
            "{1, 2, 3}\n",
            "{1, 2, 3, 4}\n",
            "{1, 2, 3, 4, 5, 6, 7, 8, 9, 10}\n",
            "{2, 3, 4, 5, 6, 7, 8, 9, 10}\n",
            "{2, 3, 4, 5, 6, 7, 8, 9}\n"
          ]
        }
      ]
    },
    {
      "cell_type": "code",
      "source": [
        "# 세트 연산\n",
        "\n",
        "s1 = set(['파이썬', 'SAS', 'R', 'SQL'])\n",
        "s2 = set(['파이썬', '파이토치', '텐서플로', 'SQL'])\n",
        "\n",
        "print(s1.union(s2))"
      ],
      "metadata": {
        "colab": {
          "base_uri": "https://localhost:8080/"
        },
        "id": "faaI849b2OOp",
        "outputId": "321ba634-8fc7-4284-cbe7-e1c5d5703b0e"
      },
      "execution_count": null,
      "outputs": [
        {
          "output_type": "stream",
          "name": "stdout",
          "text": [
            "{'파이썬', '파이토치', 'R', 'SQL', '텐서플로', 'SAS'}\n"
          ]
        }
      ]
    },
    {
      "cell_type": "code",
      "source": [
        "print(s1.intersection(s2))"
      ],
      "metadata": {
        "colab": {
          "base_uri": "https://localhost:8080/"
        },
        "id": "1bBr3zu32grL",
        "outputId": "5879c6a5-f7fa-4f21-a1d4-f0dacb53d55e"
      },
      "execution_count": null,
      "outputs": [
        {
          "output_type": "stream",
          "name": "stdout",
          "text": [
            "{'SQL', '파이썬'}\n"
          ]
        }
      ]
    },
    {
      "cell_type": "code",
      "source": [
        "print(s1.difference(s2))"
      ],
      "metadata": {
        "colab": {
          "base_uri": "https://localhost:8080/"
        },
        "id": "RkAA4lnW2nGW",
        "outputId": "f992ae6a-afdb-477d-ea36-ee3d520f060d"
      },
      "execution_count": null,
      "outputs": [
        {
          "output_type": "stream",
          "name": "stdout",
          "text": [
            "{'R', 'SAS'}\n"
          ]
        }
      ]
    },
    {
      "cell_type": "code",
      "source": [
        "# Set -> LIST\n",
        "\n",
        "s1 = set([\"파이썬\", \"SAS\", \"R\", \"SQL\"])\n",
        "\n",
        "s1_list = list(s1)\n",
        "\n",
        "print(s1, type(s1))\n",
        "print(s1_list,type(s1_list))"
      ],
      "metadata": {
        "colab": {
          "base_uri": "https://localhost:8080/"
        },
        "id": "0d3HOpB12vqT",
        "outputId": "c8ee9063-c986-4a46-b644-346a9b79a0a8"
      },
      "execution_count": null,
      "outputs": [
        {
          "output_type": "stream",
          "name": "stdout",
          "text": [
            "{'R', 'SQL', '파이썬', 'SAS'} <class 'set'>\n",
            "['R', 'SQL', '파이썬', 'SAS'] <class 'list'>\n"
          ]
        }
      ]
    },
    {
      "cell_type": "code",
      "source": [
        "s1_list_tuple = tuple(s1_list)\n",
        "print(s1_list_tuple, type(s1_list_tuple))"
      ],
      "metadata": {
        "colab": {
          "base_uri": "https://localhost:8080/"
        },
        "id": "QHAtBcib22lw",
        "outputId": "27bac6d6-e844-4215-bfad-7f1d03d69771"
      },
      "execution_count": null,
      "outputs": [
        {
          "output_type": "stream",
          "name": "stdout",
          "text": [
            "('R', 'SQL', '파이썬', 'SAS') <class 'tuple'>\n"
          ]
        }
      ]
    },
    {
      "cell_type": "code",
      "source": [
        "s1_list_tuple_set = set(s1_list_tuple)\n",
        "print(s1_list_tuple_set, type(s1_list_tuple_set))"
      ],
      "metadata": {
        "colab": {
          "base_uri": "https://localhost:8080/"
        },
        "id": "8fPF8A5r2-QJ",
        "outputId": "81bca4c6-a8ea-4258-b0d3-c86525945f93"
      },
      "execution_count": null,
      "outputs": [
        {
          "output_type": "stream",
          "name": "stdout",
          "text": [
            "{'R', 'SQL', '파이썬', 'SAS'} <class 'set'>\n"
          ]
        }
      ]
    },
    {
      "cell_type": "code",
      "source": [
        "a = {'리스트' : ['순서 O','중복 O', '수정 O', '삭제 O' 'list(), []', 'ex1 = [1,2,3]'],\n",
        "     '튜플' : ['순서 O', '중복 O', '수정 X', '삭제 X' '()', 'ex2 = (1,2,3)'],\n",
        "     '딕셔너리' : ['순서 x', '(키)중복 x', '수정 O', '삭제 O' \"dict([]), { : }}\", \"ex3 = {1 : ex]\"],\n",
        "     '세트' : ['순서 x', '중복 x', '수정 O', '삭제 O' \"set(), {}\", \"ex4 = {1,2,3}\"]}\n",
        "\n",
        "print(a.items())\n",
        "\n",
        "print(a['리스트'])\n",
        "print(a['튜플'])\n",
        "print(a['딕셔너리'])\n",
        "print(a['세트'])"
      ],
      "metadata": {
        "id": "QEwHvdL15jL7",
        "outputId": "bc2b3373-847b-4445-99e8-aca3cfde350f",
        "colab": {
          "base_uri": "https://localhost:8080/"
        }
      },
      "execution_count": null,
      "outputs": [
        {
          "output_type": "stream",
          "name": "stdout",
          "text": [
            "dict_items([('리스트', ['순서 O', '중복 O', '수정 O', '삭제 Olist(), []', 'ex1 = [1,2,3]']), ('튜플', ['순서 O', '중복 O', '수정 X', '삭제 X()', 'ex2 = (1,2,3)']), ('딕셔너리', ['순서 x', '(키)중복 x', '수정 O', '삭제 Odict([]), { : }}', 'ex3 = {1 : ex]']), ('세트', ['순서 x', '중복 x', '수정 O', '삭제 Oset(), {}', 'ex4 = {1,2,3}'])])\n",
            "['순서 O', '중복 O', '수정 O', '삭제 Olist(), []', 'ex1 = [1,2,3]']\n",
            "['순서 O', '중복 O', '수정 X', '삭제 X()', 'ex2 = (1,2,3)']\n",
            "['순서 x', '(키)중복 x', '수정 O', '삭제 Odict([]), { : }}', 'ex3 = {1 : ex]']\n",
            "['순서 x', '중복 x', '수정 O', '삭제 Oset(), {}', 'ex4 = {1,2,3}']\n"
          ]
        }
      ]
    },
    {
      "cell_type": "markdown",
      "source": [],
      "metadata": {
        "id": "0JTD1KaC5iR1"
      }
    },
    {
      "cell_type": "markdown",
      "source": [],
      "metadata": {
        "id": "Y0P9GjNB2Nr9"
      }
    },
    {
      "cell_type": "markdown",
      "source": [],
      "metadata": {
        "id": "lQr7pOpZztOJ"
      }
    }
  ]
}