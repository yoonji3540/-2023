{
  "nbformat": 4,
  "nbformat_minor": 0,
  "metadata": {
    "colab": {
      "provenance": []
    },
    "kernelspec": {
      "name": "python3",
      "display_name": "Python 3"
    },
    "language_info": {
      "name": "python"
    }
  },
  "cells": [
    {
      "cell_type": "markdown",
      "source": [
        "#1. 파일\n",
        "\n",
        "* 파일은 컴퓨터를 실행할때 가장 기본이 되는 단위.\n",
        "* 보통 프로그램실행할때 파일 실행한다.\n",
        "* 그 중의 우리는 CSV, Excel, Txt, .py 파일"
      ],
      "metadata": {
        "id": "aMXguOBNw6I2"
      }
    },
    {
      "cell_type": "code",
      "source": [
        "# 1. 파일 읽기 예제\n",
        "\n",
        "#f = open(\"파일명\" , \"파일 열기 모드\")\n",
        "#f.close()\n",
        "\n",
        "# 파일 여는 모드는 읽기, 쓰기, 추가 등등이 있음\n",
        "# 읽기모드 -> r / 쓰기 w / 추가 a\n",
        "\n",
        "f = open('song_new.txt', 'w')"
      ],
      "metadata": {
        "id": "WafbLrGPxA0d"
      },
      "execution_count": null,
      "outputs": []
    },
    {
      "cell_type": "code",
      "source": [
        "f.write('''\n",
        "이윽고 내가 한눈에 너를 알아봤을 때\n",
        "모든 건 분명 달라지고 있었어\n",
        "내 세상은 널 알기 전과 후로 나뉘어\n",
        "니가 숨 쉬면 따스한 바람이 불어와\n",
        "니가 웃으면 눈부신 햇살이 비춰\n",
        "거기 있어줘서 그게 너라서\n",
        "가끔 내 어깨에 가만히 기대주어서\n",
        "나는 있잖아 정말 빈틈없이 행복해\n",
        "너를 따라서 시간은 흐르고 멈춰\n",
        "물끄러미 너를 들여다 보곤 해\n",
        "그것 말고는 아무것도 할 수 없어서\n",
        "너의 모든 순간 그게 나였으면 좋겠다\n",
        "생각만 해도 가슴이 차올라 나는 온통 너로\n",
        "보고 있으면 왠지 꿈처럼 아득한 것\n",
        "몇 광년 동안 날 향해 날아온 별빛 또 지금의 너\n",
        "*거기 있어줘서 그게 너라서\n",
        "가끔 나에게 조용하게 안겨주어서\n",
        "나는 있잖아 정말 남김없이 고마워\n",
        "너를 따라서 시간은 흐르고 멈춰\n",
        "물끄러미 너를 들여다보곤 해\n",
        "너를 보는 게 나에게는 사랑이니까\n",
        "너의 모든 순간 그게 나였으면 좋겠다...\n",
        "''')"
      ],
      "metadata": {
        "colab": {
          "base_uri": "https://localhost:8080/"
        },
        "id": "Wv-9FqrEx9Di",
        "outputId": "51b41321-ed82-4bf7-ae83-bea06f67279c"
      },
      "execution_count": null,
      "outputs": [
        {
          "output_type": "execute_result",
          "data": {
            "text/plain": [
              "429"
            ]
          },
          "metadata": {},
          "execution_count": 9
        }
      ]
    },
    {
      "cell_type": "code",
      "source": [
        "f.close()"
      ],
      "metadata": {
        "id": "q7soeOfdyfXd"
      },
      "execution_count": null,
      "outputs": []
    },
    {
      "cell_type": "code",
      "source": [
        "f = open('song_new.txt', 'r')\n",
        "contents = f.read()\n",
        "print(contents)\n",
        "f.close()\n",
        "\n",
        "# 1행에서 open()함수 다음에 파일명 다음에 읽기 모드 r을 입력해서 파일에 대한 값을 f에 저장\n",
        "# 2행에서 f를 이용해서 Read()함수를 실행하면 해당 파일의 텍스트들이 contents에 할당이 되고\n",
        "Print()"
      ],
      "metadata": {
        "colab": {
          "base_uri": "https://localhost:8080/"
        },
        "id": "6YDwBJ0WzHIz",
        "outputId": "d686abf8-7594-48df-9888-1e5f8697fc95"
      },
      "execution_count": null,
      "outputs": [
        {
          "output_type": "stream",
          "name": "stdout",
          "text": [
            "\n",
            "이윽고 내가 한눈에 너를 알아봤을 때\n",
            "모든 건 분명 달라지고 있었어\n",
            "내 세상은 널 알기 전과 후로 나뉘어\n",
            "니가 숨 쉬면 따스한 바람이 불어와\n",
            "니가 웃으면 눈부신 햇살이 비춰\n",
            "거기 있어줘서 그게 너라서\n",
            "가끔 내 어깨에 가만히 기대주어서\n",
            "나는 있잖아 정말 빈틈없이 행복해\n",
            "너를 따라서 시간은 흐르고 멈춰\n",
            "물끄러미 너를 들여다 보곤 해\n",
            "그것 말고는 아무것도 할 수 없어서\n",
            "너의 모든 순간 그게 나였으면 좋겠다\n",
            "생각만 해도 가슴이 차올라 나는 온통 너로\n",
            "보고 있으면 왠지 꿈처럼 아득한 것\n",
            "몇 광년 동안 날 향해 날아온 별빛 또 지금의 너\n",
            "*거기 있어줘서 그게 너라서\n",
            "가끔 나에게 조용하게 안겨주어서\n",
            "나는 있잖아 정말 남김없이 고마워\n",
            "너를 따라서 시간은 흐르고 멈춰\n",
            "물끄러미 너를 들여다보곤 해\n",
            "너를 보는 게 나에게는 사랑이니까\n",
            "너의 모든 순간 그게 나였으면 좋겠다...\n",
            "\n",
            "이윽고 내가 한눈에 너를 알아봤을 때\n",
            "모든 건 분명 달라지고 있었어\n",
            "내 세상은 널 알기 전과 후로 나뉘어\n",
            "니가 숨 쉬면 따스한 바람이 불어와\n",
            "니가 웃으면 눈부신 햇살이 비춰\n",
            "거기 있어줘서 그게 너라서\n",
            "가끔 내 어깨에 가만히 기대주어서\n",
            "나는 있잖아 정말 빈틈없이 행복해\n",
            "너를 따라서 시간은 흐르고 멈춰\n",
            "물끄러미 너를 들여다 보곤 해\n",
            "그것 말고는 아무것도 할 수 없어서\n",
            "너의 모든 순간 그게 나였으면 좋겠다\n",
            "생각만 해도 가슴이 차올라 나는 온통 너로\n",
            "보고 있으면 왠지 꿈처럼 아득한 것\n",
            "몇 광년 동안 날 향해 날아온 별빛 또 지금의 너\n",
            "*거기 있어줘서 그게 너라서\n",
            "가끔 나에게 조용하게 안겨주어서\n",
            "나는 있잖아 정말 남김없이 고마워\n",
            "너를 따라서 시간은 흐르고 멈춰\n",
            "물끄러미 너를 들여다보곤 해\n",
            "너를 보는 게 나에게는 사랑이니까\n",
            "너의 모든 순간 그게 나였으면 좋겠다...\n",
            "\n"
          ]
        }
      ]
    },
    {
      "cell_type": "code",
      "source": [
        "# with문\n",
        "\n",
        "# with을 활용해서 Open()함수를 대체할 수 있다.\n",
        "## with문은 들여쓰기를 잘해야한다. 함수 if\n",
        "# 결론적으로 close()문을 안쓰는 편리함이 있고,\n",
        "\n",
        "with open('song.txt', 'r') as my_song_list:\n",
        "  content = my_song_list.read()\n",
        "  print(content)"
      ],
      "metadata": {
        "colab": {
          "base_uri": "https://localhost:8080/"
        },
        "id": "A4kht2xVzUX2",
        "outputId": "a224f8c8-4c78-4e47-c23a-5c2c391dfc7f"
      },
      "execution_count": null,
      "outputs": [
        {
          "output_type": "stream",
          "name": "stdout",
          "text": [
            "\n",
            "이윽고 내가 한눈에 너를 알아봤을 때\n",
            "모든 건 분명 달라지고 있었어\n",
            "내 세상은 널 알기 전과 후로 나뉘어\n",
            "니가 숨 쉬면 따스한 바람이 불어와\n",
            "니가 웃으면 눈부신 햇살이 비춰\n",
            "거기 있어줘서 그게 너라서\n",
            "가끔 내 어깨에 가만히 기대주어서\n",
            "나는 있잖아 정말 빈틈없이 행복해\n",
            "너를 따라서 시간은 흐르고 멈춰\n",
            "물끄러미 너를 들여다 보곤 해\n",
            "그것 말고는 아무것도 할 수 없어서\n",
            "너의 모든 순간 그게 나였으면 좋겠다\n",
            "생각만 해도 가슴이 차올라 나는 온통 너로\n",
            "보고 있으면 왠지 꿈처럼 아득한 것\n",
            "몇 광년 동안 날 향해 날아온 별빛 또 지금의 너\n",
            "*거기 있어줘서 그게 너라서\n",
            "가끔 나에게 조용하게 안겨주어서\n",
            "나는 있잖아 정말 남김없이 고마워\n",
            "너를 따라서 시간은 흐르고 멈춰\n",
            "물끄러미 너를 들여다보곤 해\n",
            "너를 보는 게 나에게는 사랑이니까\n",
            "너의 모든 순간 그게 나였으면 좋겠다... 펼쳐보기\n",
            "\n"
          ]
        }
      ]
    },
    {
      "cell_type": "code",
      "source": [
        "# 한줄로 읽어오는 방법\n",
        "# 파일 전체의 텍스트를 문자열로 반환하는 read()대신에 readlines()함수를 사용하면 \n",
        "# 한줄의 기준은 \\n\n",
        "\n",
        "with open('song.txt', 'r') as my_song_list:\n",
        "  content_list = my_song_list.readlines()\n",
        "  print(content_list)"
      ],
      "metadata": {
        "colab": {
          "base_uri": "https://localhost:8080/"
        },
        "id": "-BYMVRJ30BiB",
        "outputId": "94447f0a-f13e-4939-d47e-e11a179b2cc3"
      },
      "execution_count": null,
      "outputs": [
        {
          "output_type": "stream",
          "name": "stdout",
          "text": [
            "['\\n', '이윽고 내가 한눈에 너를 알아봤을 때\\n', '모든 건 분명 달라지고 있었어\\n', '내 세상은 널 알기 전과 후로 나뉘어\\n', '니가 숨 쉬면 따스한 바람이 불어와\\n', '니가 웃으면 눈부신 햇살이 비춰\\n', '거기 있어줘서 그게 너라서\\n', '가끔 내 어깨에 가만히 기대주어서\\n', '나는 있잖아 정말 빈틈없이 행복해\\n', '너를 따라서 시간은 흐르고 멈춰\\n', '물끄러미 너를 들여다 보곤 해\\n', '그것 말고는 아무것도 할 수 없어서\\n', '너의 모든 순간 그게 나였으면 좋겠다\\n', '생각만 해도 가슴이 차올라 나는 온통 너로\\n', '보고 있으면 왠지 꿈처럼 아득한 것\\n', '몇 광년 동안 날 향해 날아온 별빛 또 지금의 너\\n', '*거기 있어줘서 그게 너라서\\n', '가끔 나에게 조용하게 안겨주어서\\n', '나는 있잖아 정말 남김없이 고마워\\n', '너를 따라서 시간은 흐르고 멈춰\\n', '물끄러미 너를 들여다보곤 해\\n', '너를 보는 게 나에게는 사랑이니까\\n', '너의 모든 순간 그게 나였으면 좋겠다... 펼쳐보기\\n']\n"
          ]
        }
      ]
    },
    {
      "cell_type": "code",
      "source": [
        "content_list[2]"
      ],
      "metadata": {
        "colab": {
          "base_uri": "https://localhost:8080/",
          "height": 36
        },
        "id": "UkcdfCaA0nvV",
        "outputId": "8d15fbce-fde3-40cd-d995-4a5d7d342427"
      },
      "execution_count": null,
      "outputs": [
        {
          "output_type": "execute_result",
          "data": {
            "text/plain": [
              "'모든 건 분명 달라지고 있었어\\n'"
            ],
            "application/vnd.google.colaboratory.intrinsic+json": {
              "type": "string"
            }
          },
          "metadata": {},
          "execution_count": 17
        }
      ]
    },
    {
      "cell_type": "code",
      "source": [
        "with open('song.txt', 'r') as my_song_list:\n",
        "  i = 0\n",
        "  while True:\n",
        "    line = my_song_list.readline()\n",
        "    if not line:\n",
        "      break\n",
        "    print(line.replace(\"\\n\", \"\"))\n",
        "    i = i + 1"
      ],
      "metadata": {
        "colab": {
          "base_uri": "https://localhost:8080/"
        },
        "id": "D8NpnnHu0wrc",
        "outputId": "7554d452-c3a6-4f75-9ebc-4c1d7009bbf9"
      },
      "execution_count": null,
      "outputs": [
        {
          "output_type": "stream",
          "name": "stdout",
          "text": [
            "\n",
            "이윽고 내가 한눈에 너를 알아봤을 때\n",
            "모든 건 분명 달라지고 있었어\n",
            "내 세상은 널 알기 전과 후로 나뉘어\n",
            "니가 숨 쉬면 따스한 바람이 불어와\n",
            "니가 웃으면 눈부신 햇살이 비춰\n",
            "거기 있어줘서 그게 너라서\n",
            "가끔 내 어깨에 가만히 기대주어서\n",
            "나는 있잖아 정말 빈틈없이 행복해\n",
            "너를 따라서 시간은 흐르고 멈춰\n",
            "물끄러미 너를 들여다 보곤 해\n",
            "그것 말고는 아무것도 할 수 없어서\n",
            "너의 모든 순간 그게 나였으면 좋겠다\n",
            "생각만 해도 가슴이 차올라 나는 온통 너로\n",
            "보고 있으면 왠지 꿈처럼 아득한 것\n",
            "몇 광년 동안 날 향해 날아온 별빛 또 지금의 너\n",
            "*거기 있어줘서 그게 너라서\n",
            "가끔 나에게 조용하게 안겨주어서\n",
            "나는 있잖아 정말 남김없이 고마워\n",
            "너를 따라서 시간은 흐르고 멈춰\n",
            "물끄러미 너를 들여다보곤 해\n",
            "너를 보는 게 나에게는 사랑이니까\n",
            "너의 모든 순간 그게 나였으면 좋겠다... 펼쳐보기\n"
          ]
        }
      ]
    },
    {
      "cell_type": "code",
      "source": [
        "song_list_new = []\n",
        "\n",
        "with open('song.txt', 'r') as my_song_list:\n",
        "  i = 0\n",
        "  while True:\n",
        "    line = my_song_list.readline()\n",
        "    if not line:\n",
        "      break\n",
        "    song_list_new.append(line.replace(\"\\n\", \"\"))\n",
        "    i = i + 1"
      ],
      "metadata": {
        "id": "EWjMlpw11KKA"
      },
      "execution_count": null,
      "outputs": []
    },
    {
      "cell_type": "code",
      "source": [
        "song_list_new"
      ],
      "metadata": {
        "colab": {
          "base_uri": "https://localhost:8080/"
        },
        "id": "UxvvYqKN1Z83",
        "outputId": "c96340e0-01f0-40be-ad11-ba846527040e"
      },
      "execution_count": null,
      "outputs": [
        {
          "output_type": "execute_result",
          "data": {
            "text/plain": [
              "['',\n",
              " '이윽고 내가 한눈에 너를 알아봤을 때',\n",
              " '모든 건 분명 달라지고 있었어',\n",
              " '내 세상은 널 알기 전과 후로 나뉘어',\n",
              " '니가 숨 쉬면 따스한 바람이 불어와',\n",
              " '니가 웃으면 눈부신 햇살이 비춰',\n",
              " '거기 있어줘서 그게 너라서',\n",
              " '가끔 내 어깨에 가만히 기대주어서',\n",
              " '나는 있잖아 정말 빈틈없이 행복해',\n",
              " '너를 따라서 시간은 흐르고 멈춰',\n",
              " '물끄러미 너를 들여다 보곤 해',\n",
              " '그것 말고는 아무것도 할 수 없어서',\n",
              " '너의 모든 순간 그게 나였으면 좋겠다',\n",
              " '생각만 해도 가슴이 차올라 나는 온통 너로',\n",
              " '보고 있으면 왠지 꿈처럼 아득한 것',\n",
              " '몇 광년 동안 날 향해 날아온 별빛 또 지금의 너',\n",
              " '*거기 있어줘서 그게 너라서',\n",
              " '가끔 나에게 조용하게 안겨주어서',\n",
              " '나는 있잖아 정말 남김없이 고마워',\n",
              " '너를 따라서 시간은 흐르고 멈춰',\n",
              " '물끄러미 너를 들여다보곤 해',\n",
              " '너를 보는 게 나에게는 사랑이니까',\n",
              " '너의 모든 순간 그게 나였으면 좋겠다... 펼쳐보기']"
            ]
          },
          "metadata": {},
          "execution_count": 20
        }
      ]
    },
    {
      "cell_type": "code",
      "source": [
        "with open('song.txt','r') as my_song_list:\n",
        "  contents = my_song_list.read()\n",
        "  word_list = contents.split(\" \")\n",
        "  line_list = contents.split(\"\\n\")\n",
        "\n",
        "print(f\"총 글자수는 {len(contents)}입니다.\")\n",
        "print(f\"총 단어수는 {len(word_list)}입니다.\")\n",
        "print(f\"총 줄수는 {len(line_list)}입니다.\")"
      ],
      "metadata": {
        "colab": {
          "base_uri": "https://localhost:8080/"
        },
        "id": "hNVecos91a4T",
        "outputId": "ef4041f7-9627-445b-8a5e-c850ba289a61"
      },
      "execution_count": null,
      "outputs": [
        {
          "output_type": "stream",
          "name": "stdout",
          "text": [
            "총 글자수는 434입니다.\n",
            "총 단어수는 101입니다.\n",
            "총 줄수는 24입니다.\n"
          ]
        }
      ]
    },
    {
      "cell_type": "code",
      "source": [
        "### 파일쓰기\n",
        "\n",
        "# 앞서 파일쓰기 중에서 인코딩 utf-8 / cp949 / euc-kr \n",
        "\n",
        "# 인코딩 실습\n",
        "\n",
        "f = open(\"count_list.txt\", 'w', encoding = 'utf8')"
      ],
      "metadata": {
        "id": "Jf6ye0XK2DqU"
      },
      "execution_count": null,
      "outputs": []
    },
    {
      "cell_type": "code",
      "source": [
        "for i in range(1, 11):\n",
        "  data = f'{i}번째입니다.'\n",
        "  f.write(data)\n",
        "f.close()\n"
      ],
      "metadata": {
        "id": "33ovjeOv2-wp"
      },
      "execution_count": null,
      "outputs": []
    },
    {
      "cell_type": "code",
      "source": [
        "with open('count_list_new.txt', 'w', encoding = 'utf8') as f:\n",
        "  for i in range(1,11):\n",
        "    data = f'{i}번째입니다.'\n",
        "    f.write(data)"
      ],
      "metadata": {
        "id": "-SSz8hIY3Ivv"
      },
      "execution_count": null,
      "outputs": []
    },
    {
      "cell_type": "code",
      "source": [
        "# Pickle 모듈\n",
        "\n",
        "파이썬 프로그램을 실행할때마다 변수 객체를 메모리에 저장하고, \n",
        "컴퓨터를 껐다가 켜면 모두 날라가죠\n",
        "\n",
        "파이썬은 pickle모듈을 제공합니다.\n",
        "\n",
        "메모리에 로딩된 객체들을 연속적으로 사용할 수 있게 \n",
        "\n",
        "예를 들어 데이터, 클래스, 함수, 프로그램 \n",
        "향후 대기업, 관련 빅데이터 플랫폼 활용 "
      ],
      "metadata": {
        "id": "h9_YVB6c3e47"
      },
      "execution_count": null,
      "outputs": []
    },
    {
      "cell_type": "code",
      "source": [
        "# pickle 모듈을 사용하려면 import 저장하고자하는 객체를 넘기면됩니다.\n",
        "\n",
        "# 파일 열때 r 파일쓸때 w\n",
        "# pickle에서는 파일을 열때 rb 파일을 쓸때 wb \n",
        "\n",
        "import pickle "
      ],
      "metadata": {
        "id": "7AbmCHaE4v7y"
      },
      "execution_count": null,
      "outputs": []
    },
    {
      "cell_type": "code",
      "source": [
        "f = open('list.pickle' , 'wb')\n",
        "test = [1,2,3,4,5]\n",
        "pickle.dump(test, f)\n",
        "f.close()"
      ],
      "metadata": {
        "id": "UR8LzsF25BVQ"
      },
      "execution_count": null,
      "outputs": []
    },
    {
      "cell_type": "code",
      "source": [
        "f = open('list.pickle', 'rb')\n",
        "test_pickle = pickle.load(f)\n",
        "print(test_pickle)"
      ],
      "metadata": {
        "colab": {
          "base_uri": "https://localhost:8080/"
        },
        "id": "5QXTRIYR5NBa",
        "outputId": "8c1d0581-48cd-4206-a5fe-d29e8cf81177"
      },
      "execution_count": null,
      "outputs": [
        {
          "output_type": "stream",
          "name": "stdout",
          "text": [
            "[1, 2, 3, 4, 5]\n"
          ]
        }
      ]
    },
    {
      "cell_type": "code",
      "source": [
        "# pickle은 클래스도 저장가능하다.\n",
        "\n",
        "class Multiply(object):\n",
        "  def __init__(self, multi):\n",
        "    self.multi = 5\n",
        "  def multiply(self, number):\n",
        "    return number * self.multi\n",
        "\n",
        "multi_test = Multiply(5)\n",
        "multi_test.multiply(10)"
      ],
      "metadata": {
        "colab": {
          "base_uri": "https://localhost:8080/"
        },
        "id": "35PigR7q5uYq",
        "outputId": "56e462f2-a946-4300-d40f-6d2b12a688c5"
      },
      "execution_count": null,
      "outputs": [
        {
          "output_type": "execute_result",
          "data": {
            "text/plain": [
              "50"
            ]
          },
          "metadata": {},
          "execution_count": 30
        }
      ]
    },
    {
      "cell_type": "code",
      "source": [
        "f = open('multiply_object.pickle', 'wb')\n",
        "pickle.dump(multi_test, f)\n",
        "f.close()"
      ],
      "metadata": {
        "id": "lKJnNaN7-oPC"
      },
      "execution_count": null,
      "outputs": []
    },
    {
      "cell_type": "code",
      "source": [
        "f = open('multiply_object.pickle', 'rb')\n",
        "multi_test = pickle.load(f)"
      ],
      "metadata": {
        "id": "QNPpUT3m_DQD"
      },
      "execution_count": null,
      "outputs": []
    },
    {
      "cell_type": "code",
      "source": [
        "multi_test.multiply(10)"
      ],
      "metadata": {
        "colab": {
          "base_uri": "https://localhost:8080/"
        },
        "id": "4sGZaxSY_QDN",
        "outputId": "c69c5ce6-81c7-4cf9-ca29-3cd1170b53ca"
      },
      "execution_count": null,
      "outputs": [
        {
          "output_type": "execute_result",
          "data": {
            "text/plain": [
              "50"
            ]
          },
          "metadata": {},
          "execution_count": 32
        }
      ]
    },
    {
      "cell_type": "markdown",
      "source": [
        "# CSV 데이터\n",
        "\n",
        "* 데이터 분석의 대부분은 통계프로그램이 아니라 엑셀 작업을 주로 해요\n",
        "* 그만큼 우리는 스트레드시트 데이터를 많이보게되고\n",
        "* Excel 잘 다뤄도 -> 데이터분석 잘한다."
      ],
      "metadata": {
        "id": "6ooQezj9_ZAY"
      }
    },
    {
      "cell_type": "markdown",
      "source": [
        "* CSV 쉼표로 나누진 데이터인데\n",
        "* 1,2,3,4,5 -> test.csv / txt\n",
        "* .xlsx -> .csv\n",
        "* 읽기에도 좋고, 용량도 excel파일보다 작고, 콤마로 구분되어서 사용하기 편하거나 전처리하기 좋다.\n",
        "* Python -> excel -> python"
      ],
      "metadata": {
        "id": "jWoWFX7oAIoW"
      }
    },
    {
      "cell_type": "code",
      "source": [
        "import csv\n",
        "import os #경로 지정"
      ],
      "metadata": {
        "id": "oWIu7dis_Q95"
      },
      "execution_count": null,
      "outputs": []
    },
    {
      "cell_type": "code",
      "source": [
        "# 경로 지정\n",
        "\n",
        "os.chdir('/content/sample_data')"
      ],
      "metadata": {
        "id": "ZYHHdKCeAuOH"
      },
      "execution_count": null,
      "outputs": []
    },
    {
      "cell_type": "code",
      "source": [
        "# open\n",
        "\n",
        "f = open('test.csv', 'r', encoding = 'utf-8')"
      ],
      "metadata": {
        "id": "pQigXpEdC82E"
      },
      "execution_count": null,
      "outputs": []
    },
    {
      "cell_type": "code",
      "source": [
        "new = csv.reader(f)\n",
        "new"
      ],
      "metadata": {
        "colab": {
          "base_uri": "https://localhost:8080/"
        },
        "id": "0xQ6W0nfBZtu",
        "outputId": "0de2a40a-c5a4-4cc9-ae30-060a095baaab"
      },
      "execution_count": null,
      "outputs": [
        {
          "output_type": "execute_result",
          "data": {
            "text/plain": [
              "<_csv.reader at 0x7fdc0d12ff40>"
            ]
          },
          "metadata": {},
          "execution_count": 6
        }
      ]
    },
    {
      "cell_type": "code",
      "source": [
        "print(new)"
      ],
      "metadata": {
        "colab": {
          "base_uri": "https://localhost:8080/"
        },
        "id": "UvOsuGInDYEy",
        "outputId": "4e12742d-c579-4701-9b83-b465dab10a53"
      },
      "execution_count": null,
      "outputs": [
        {
          "output_type": "stream",
          "name": "stdout",
          "text": [
            "<_csv.reader object at 0x7f537e20f610>\n"
          ]
        }
      ]
    },
    {
      "cell_type": "code",
      "source": [
        "# csv파일 출력하기\n",
        "\n",
        "a_list = []\n",
        "for i in new:\n",
        "  print(i)\n",
        "  a_list.append(i)"
      ],
      "metadata": {
        "colab": {
          "base_uri": "https://localhost:8080/"
        },
        "id": "xokJsw3ZDSmL",
        "outputId": "fbf90b7d-c0f7-4cab-8030-25dd7dde1388"
      },
      "execution_count": null,
      "outputs": [
        {
          "output_type": "stream",
          "name": "stdout",
          "text": [
            "['국어', '영어', '수학', '', '', '', '']\n",
            "['50', '80', '90', '', '', '', '']\n"
          ]
        }
      ]
    },
    {
      "cell_type": "code",
      "source": [
        "# 함수화 하기\n",
        "\n",
        "def opencsv(filename):\n",
        "  f = open(filename, 'r')\n",
        "  reader = csv.reader(f)\n",
        "  output = []\n",
        "  for i in reader:\n",
        "    output.append(i)\n",
        "  return output"
      ],
      "metadata": {
        "id": "_7s0MH7oDwkS"
      },
      "execution_count": null,
      "outputs": []
    },
    {
      "cell_type": "code",
      "source": [
        "opencsv('test.csv')"
      ],
      "metadata": {
        "colab": {
          "base_uri": "https://localhost:8080/"
        },
        "id": "_pLeu2-iEqQh",
        "outputId": "99fb7d4a-2dea-40fc-f18f-df047a7e6649"
      },
      "execution_count": null,
      "outputs": [
        {
          "output_type": "execute_result",
          "data": {
            "text/plain": [
              "[['국어', '영어', '수학', '', '', '', ''], ['50', '80', '90', '', '', '', '']]"
            ]
          },
          "metadata": {},
          "execution_count": 11
        }
      ]
    },
    {
      "cell_type": "code",
      "source": [
        "# 새로운 데이터 읽기 예제\n",
        "\n",
        "a = [['구', '전체', '내국인', '외국인'], \n",
        "     ['관악구','519864','502089','17775'], \n",
        "     ['강남구','547602','542498','5104'], \n",
        "     ['송파구','686181', '679247', '6934'], \n",
        "     ['강동구','428547','424235','4312']]"
      ],
      "metadata": {
        "id": "t1fnd1vZEtaw"
      },
      "execution_count": null,
      "outputs": []
    },
    {
      "cell_type": "code",
      "source": [
        "a"
      ],
      "metadata": {
        "colab": {
          "base_uri": "https://localhost:8080/"
        },
        "id": "8fl75KPiFPHg",
        "outputId": "29fea5d0-e30d-44bd-cc0e-25976ba35872"
      },
      "execution_count": null,
      "outputs": [
        {
          "output_type": "execute_result",
          "data": {
            "text/plain": [
              "[['구', '전체', '내국인', '외국인'],\n",
              " ['관악구', '519864', '502089', '17775'],\n",
              " ['강남구', '547602', '542498', '5104'],\n",
              " ['송파구', '686181', '679247', '6934'],\n",
              " ['강동구', '428547', '424235', '4312']]"
            ]
          },
          "metadata": {},
          "execution_count": 13
        }
      ]
    },
    {
      "cell_type": "code",
      "source": [
        "f = open('abc.csv', 'w', newline = '')"
      ],
      "metadata": {
        "id": "mzPWUVXWFP7S"
      },
      "execution_count": null,
      "outputs": []
    },
    {
      "cell_type": "code",
      "source": [
        "new_csv = csv.writer(f, delimiter = ',')"
      ],
      "metadata": {
        "id": "1WmUCW9gFXD7"
      },
      "execution_count": null,
      "outputs": []
    },
    {
      "cell_type": "code",
      "source": [
        "new_csv.writerows(a) #a자료를 csv파일에 넣기\n",
        "f.close()"
      ],
      "metadata": {
        "id": "CnhGBelfFewE"
      },
      "execution_count": null,
      "outputs": []
    },
    {
      "cell_type": "code",
      "source": [
        "# 새로운 데이터 쓰기 예제\n",
        "\n",
        "b = [['구', '전체', '내국인', '외국인'], \n",
        "     ['관악구','519864','502089','17775'], \n",
        "     ['강남구','547602','542498','5104'], \n",
        "     ['송파구','686181', '679247', '6934'], \n",
        "     ['강동구','428547','424235','4312']]"
      ],
      "metadata": {
        "id": "DE-SyInfFmeZ"
      },
      "execution_count": null,
      "outputs": []
    },
    {
      "cell_type": "code",
      "source": [
        "# 함수화 하기\n",
        "\n",
        "def writecsv(filename, list):\n",
        "  with open(filename, 'w', newline = '') as f:\n",
        "    a = csv.writer(f, delimiter = ',')\n",
        "    a.writerows(list)"
      ],
      "metadata": {
        "id": "3KUV_7_5GBcl"
      },
      "execution_count": null,
      "outputs": []
    },
    {
      "cell_type": "code",
      "source": [
        "writecsv('new_abc.csv', b)"
      ],
      "metadata": {
        "id": "ocLIH7MZGPbU"
      },
      "execution_count": null,
      "outputs": []
    },
    {
      "cell_type": "code",
      "source": [],
      "metadata": {
        "id": "RCnTsXL7GWqI"
      },
      "execution_count": null,
      "outputs": []
    }
  ]
}