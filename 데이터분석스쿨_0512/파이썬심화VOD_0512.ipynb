{
  "nbformat": 4,
  "nbformat_minor": 0,
  "metadata": {
    "colab": {
      "provenance": []
    },
    "kernelspec": {
      "name": "python3",
      "display_name": "Python 3"
    },
    "language_info": {
      "name": "python"
    }
  },
  "cells": [
    {
      "cell_type": "markdown",
      "source": [
        "# 실시간 검색 순위를 크롤링하는 코드"
      ],
      "metadata": {
        "id": "49RnCEIB3sxv"
      }
    },
    {
      "cell_type": "code",
      "execution_count": 2,
      "metadata": {
        "colab": {
          "base_uri": "https://localhost:8080/"
        },
        "id": "-6aZEDpyQN2e",
        "outputId": "c7afc659-0d9f-4b9f-b597-65d542838727"
      },
      "outputs": [
        {
          "output_type": "stream",
          "name": "stdout",
          "text": [
            "2023년 05월 12일의 실시간 검색어 순위입니다.\n",
            "\n"
          ]
        }
      ],
      "source": [
        "# 다음 사이트의 실시간 검색어 순위를 크롤링하는 코드\n",
        "from bs4 import BeautifulSoup\n",
        "import requests\n",
        "from datetime import datetime\n",
        "\n",
        "url = \"http://www.daum.net/\"\n",
        "response = requests.get(url)\n",
        "soup = BeautifulSoup(response.content, 'html.parser', from_encoding='euc-kr')\n",
        "rank = 1\n",
        "\n",
        "results = soup.findAll('a','link_favorsch')\n",
        "\n",
        "search_rank_file = open(\"rankresult.txt\",\"w\")\n",
        "\n",
        "print(datetime.today().strftime(\"%Y년 %m월 %d일의 실시간 검색어 순위입니다.\\n\"))\n",
        "\n",
        "for result in results:\n",
        "    search_rank_file.write(str(rank)+\"위:\"+result.get_text()+\"\\n\")\n",
        "    print(rank,\"위 : \",result.get_text(),\"\\n\")\n",
        "    rank += 1\n"
      ]
    },
    {
      "cell_type": "code",
      "source": [
        "# 네이버 사이트의 급상승 검색어 순위를 크롤링하는 코드\n",
        "from bs4 import BeautifulSoup\n",
        "import requests\n",
        "from datetime import datetime\n",
        "\n",
        "headers = {'User-Agent':'Mozilla/5.0 (Windows NT 6.3; Win64; x64) AppleWebKit/537.36 (KHTML, like Gecko) Chrome/63.0.3239.132 Safari/537.36'}\n",
        "url = \"https://datalab.naver.com/keyword/realtimeList.naver?age=20s\"\n",
        "response = requests.get(url,headers=headers)\n",
        "soup = BeautifulSoup(response.text, 'html.parser')\n",
        "rank = 1\n",
        "# span - item_title\n",
        "results = soup.findAll('span','item_title')\n",
        "\n",
        "# print(response.text)\n",
        "\n",
        "search_rank_file = open(\"rankresult.txt\",\"a\")\n",
        "\n",
        "print(datetime.today().strftime(\"%Y년 %m월 %d일의 실시간 검색어 순위입니다.\\n\"))\n",
        "\n",
        "for result in results:\n",
        "    search_rank_file.write(str(rank)+\"위:\"+result.get_text()+\"\\n\")\n",
        "    print(rank,\"위 : \",result.get_text(),\"\\n\")\n",
        "    rank += 1"
      ],
      "metadata": {
        "colab": {
          "base_uri": "https://localhost:8080/"
        },
        "id": "uBqT3Y6oSL5M",
        "outputId": "8b97b8f0-0a91-4737-c8f6-640866676b9c"
      },
      "execution_count": 14,
      "outputs": [
        {
          "output_type": "stream",
          "name": "stdout",
          "text": [
            "2023년 05월 12일의 실시간 검색어 순위입니다.\n",
            "\n"
          ]
        }
      ]
    },
    {
      "cell_type": "markdown",
      "source": [
        "# 도시별 날씨 정보를 알려주는 프로그래밍"
      ],
      "metadata": {
        "id": "704kTXBxYPzb"
      }
    },
    {
      "cell_type": "code",
      "source": [
        "import requests\n",
        "import json\n",
        "\n",
        "city = \"Seoul\"\n",
        "apikey = \"bd0944a5c27cd244d8ddd36c3c97987c\"\n",
        "lang = \"kr\"\n",
        "\n",
        "api = f\"##########\" # 자신이 발급받은 api번호 입력\n",
        "\n",
        "\n",
        "result = requests.get(api)\n",
        "data = json.loads(result.text)\n",
        "\n",
        "print(data[\"name\"],\"의 날씨입니다.\")\n",
        "print(\"날씨는 \",data[\"weather\"][0][\"description\"],\"입니다.\")\n",
        "print(\"현재 온도는 \",data[\"main\"][\"temp\"],\"입니다.\")\n",
        "print(\"하지만 체감 온도는 \",data[\"main\"][\"feels_like\"],\"입니다.\")\n",
        "print(\"최저 기온은 \",data[\"main\"][\"temp_min\"],\"입니다.\")\n",
        "print(\"최고 기온은 \",data[\"main\"][\"temp_max\"],\"입니다.\")\n",
        "print(\"습도는 \",data[\"main\"][\"humidity\"],\"입니다.\")\n",
        "print(\"기압은 \",data[\"main\"][\"pressure\"],\"입니다.\")\n",
        "print(\"풍향은 \",data[\"wind\"][\"deg\"],\"입니다.\")\n",
        "print(\"풍속은 \",data[\"wind\"][\"speed\"],\"입니다.\")"
      ],
      "metadata": {
        "colab": {
          "base_uri": "https://localhost:8080/"
        },
        "id": "wSx3d9oJYXiZ",
        "outputId": "75d1e488-40b5-4b84-d556-207757e1d580"
      },
      "execution_count": 19,
      "outputs": [
        {
          "output_type": "stream",
          "name": "stdout",
          "text": [
            "Seoul 의 날씨입니다.\n",
            "날씨는  온흐림 입니다.\n",
            "현재 온도는  24.19 입니다.\n",
            "하지만 체감 온도는  23.47 입니다.\n",
            "최저 기온은  19.69 입니다.\n",
            "최고 기온은  25.66 입니다.\n",
            "습도는  31 입니다.\n",
            "기압은  1016 입니다.\n",
            "풍향은  360 입니다.\n",
            "풍속은  1.03 입니다.\n"
          ]
        }
      ]
    },
    {
      "cell_type": "code",
      "source": [
        "city = \"Seoul\"\n",
        "apikey = \"######\"\n",
        "api = \"http://api.openweathermap.org/data/2.5/weather?q={city name}&appid={your api key}\""
      ],
      "metadata": {
        "id": "5VbJvU1_bLG1"
      },
      "execution_count": null,
      "outputs": []
    },
    {
      "cell_type": "code",
      "source": [
        "import requests\n",
        "\n",
        "city = \"Seoul\"\n",
        "apikey = \"################################\"\n",
        "api = f\"http://api.openweathermap.org/data/2.5/weather?q={city}&appid={apikey}\"\n",
        "\n",
        "result = requests.get(api)\n",
        "print(result.text)\n",
        "\n",
        "print(type(result.text))\n",
        "\n",
        "# 정보를 예쁘게 정리하는 방법\n",
        "# json 이용"
      ],
      "metadata": {
        "id": "IAwkUfacoZSB"
      },
      "execution_count": null,
      "outputs": []
    },
    {
      "cell_type": "code",
      "source": [
        "import requests\n",
        "import json\n",
        "\n",
        "import requests\n",
        "\n",
        "city = \"Seoul\"\n",
        "apikey = \"################################\"\n",
        "api = f\"http://api.openweathermap.org/data/2.5/weather?q={city}&appid={apikey}\"\n",
        "\n",
        "result = requests.get(api)\n",
        "print(result.text)\n",
        "\n",
        "data = json.loads(result.text) # result 를 json type으로 변경\n",
        "\n",
        "print(type(result.text))"
      ],
      "metadata": {
        "id": "g50Gb56poOhz"
      },
      "execution_count": null,
      "outputs": []
    },
    {
      "cell_type": "code",
      "source": [
        "import requests\n",
        "import json\n",
        "\n",
        "city = \"Seoul\"\n",
        "apikey = \"################################\"\n",
        "api = f\"http://api.openweathermap.org/data/2.5/weather?q={city}&appid={apikey}\"\n",
        "\n",
        "result = requests.get(api)\n",
        "print(result.text)\n",
        "\n",
        "data = json.loads(result.text)\n",
        "\n",
        "print(data[\"name\"],\"의 날씨입니다.\")\n",
        "print(\"날씨는 \",data[\"weather\"][0][\"description\"],\"입니다.\")\n",
        "print(\"현재 온도는 \",data[\"main\"][\"temp\"],\"입니다.\")\n",
        "print(\"하지만 체감 온도는 \",data[\"main\"][\"feels_like\"],\"입니다.\")\n",
        "# 최저 기온 : main - temp_min\n",
        "print(\"최저 기온은 \",data[\"main\"][\"temp_min\"],\"입니다.\")\n",
        "# 최고 기온 : main - temp_max\n",
        "print(\"최고 기온은 \",data[\"main\"][\"temp_max\"],\"입니다.\")\n",
        "# 습도 : main - humidity\n",
        "print(\"습도는 \",data[\"main\"][\"humidity\"],\"입니다.\")\n",
        "# 기압 : main - pressure\n",
        "print(\"기압은 \",data[\"main\"][\"pressure\"],\"입니다.\")\n",
        "# 풍향 : wind - deg\n",
        "print(\"풍향은 \",data[\"wind\"][\"deg\"],\"입니다.\")\n",
        "# 풍속 : wind - speed\n",
        "print(\"풍속은 \",data[\"wind\"][\"speed\"],\"입니다.\")"
      ],
      "metadata": {
        "id": "Dtuf0mFut0Fq"
      },
      "execution_count": null,
      "outputs": []
    },
    {
      "cell_type": "code",
      "source": [
        "# api 값 변경\n",
        "\n",
        "import requests\n",
        "import json\n",
        "\n",
        "city = \"Seoul\"\n",
        "apikey = \"################################\"\n",
        "lang = \"kr\"\n",
        "# units - metric\n",
        "api = f\"\"\"http://api.openweathermap.org/data/2.5/\\\n",
        "weather?q={city}&appid={apikey}&lang={lang}&units=metric\"\"\"\n",
        "\n",
        "result = requests.get(api)\n",
        "# print(result.text)\n",
        "\n",
        "data = json.loads(result.text)\n",
        "\n",
        "# 지역 : name\n",
        "print(data[\"name\"],\"의 날씨입니다.\")\n",
        "# 자세한 날씨 : weather - description\n",
        "print(\"날씨는 \",data[\"weather\"][0][\"description\"],\"입니다.\")\n",
        "# 현재 온도 : main - temp\n",
        "print(\"현재 온도는 \",data[\"main\"][\"temp\"],\"입니다.\")\n",
        "# 체감 온도 : main - feels_like\n",
        "print(\"하지만 체감 온도는 \",data[\"main\"][\"feels_like\"],\"입니다.\")\n",
        "# 최저 기온 : main - temp_min\n",
        "print(\"최저 기온은 \",data[\"main\"][\"temp_min\"],\"입니다.\")\n",
        "# 최고 기온 : main - temp_max\n",
        "print(\"최고 기온은 \",data[\"main\"][\"temp_max\"],\"입니다.\")\n",
        "# 습도 : main - humidity\n",
        "print(\"습도는 \",data[\"main\"][\"humidity\"],\"입니다.\")\n",
        "# 기압 : main - pressure\n",
        "print(\"기압은 \",data[\"main\"][\"pressure\"],\"입니다.\")\n",
        "# 풍향 : wind - deg\n",
        "print(\"풍향은 \",data[\"wind\"][\"deg\"],\"입니다.\")\n",
        "# 풍속 : wind - speed\n",
        "print(\"풍속은 \",data[\"wind\"][\"speed\"],\"입니다.\")"
      ],
      "metadata": {
        "id": "_k_Jd-JgxqsD"
      },
      "execution_count": null,
      "outputs": []
    },
    {
      "cell_type": "markdown",
      "source": [
        "# 번역기 만드는 프로그램"
      ],
      "metadata": {
        "id": "e8KLZexPx3xp"
      }
    },
    {
      "cell_type": "code",
      "source": [
        "# googletrans : 언어 감지 및 번역을 도와줌\n",
        "\n",
        "from googletrans import Translator\n",
        "\n",
        "print(Translator)"
      ],
      "metadata": {
        "colab": {
          "base_uri": "https://localhost:8080/",
          "height": 390
        },
        "id": "RfYAIwcNx7Tn",
        "outputId": "c85a03ab-4b01-43f2-e30b-cac38dbf8dbe"
      },
      "execution_count": 6,
      "outputs": [
        {
          "output_type": "error",
          "ename": "ModuleNotFoundError",
          "evalue": "ignored",
          "traceback": [
            "\u001b[0;31m---------------------------------------------------------------------------\u001b[0m",
            "\u001b[0;31mModuleNotFoundError\u001b[0m                       Traceback (most recent call last)",
            "\u001b[0;32m<ipython-input-6-a958c1c3a61c>\u001b[0m in \u001b[0;36m<cell line: 3>\u001b[0;34m()\u001b[0m\n\u001b[1;32m      1\u001b[0m \u001b[0;31m# googletrans : 언어 감지 및 번역을 도와줌\u001b[0m\u001b[0;34m\u001b[0m\u001b[0;34m\u001b[0m\u001b[0m\n\u001b[1;32m      2\u001b[0m \u001b[0;34m\u001b[0m\u001b[0m\n\u001b[0;32m----> 3\u001b[0;31m \u001b[0;32mfrom\u001b[0m \u001b[0mgoogletrans\u001b[0m \u001b[0;32mimport\u001b[0m \u001b[0mTranslator\u001b[0m\u001b[0;34m\u001b[0m\u001b[0;34m\u001b[0m\u001b[0m\n\u001b[0m\u001b[1;32m      4\u001b[0m \u001b[0;34m\u001b[0m\u001b[0m\n\u001b[1;32m      5\u001b[0m \u001b[0mprint\u001b[0m\u001b[0;34m(\u001b[0m\u001b[0mTranslator\u001b[0m\u001b[0;34m)\u001b[0m\u001b[0;34m\u001b[0m\u001b[0;34m\u001b[0m\u001b[0m\n",
            "\u001b[0;31mModuleNotFoundError\u001b[0m: No module named 'googletrans'",
            "",
            "\u001b[0;31m---------------------------------------------------------------------------\u001b[0;32m\nNOTE: If your import is failing due to a missing package, you can\nmanually install dependencies using either !pip or !apt.\n\nTo view examples of installing some common dependencies, click the\n\"Open Examples\" button below.\n\u001b[0;31m---------------------------------------------------------------------------\u001b[0m\n"
          ],
          "errorDetails": {
            "actions": [
              {
                "action": "open_url",
                "actionText": "Open Examples",
                "url": "/notebooks/snippets/importing_libraries.ipynb"
              }
            ]
          }
        }
      ]
    },
    {
      "cell_type": "code",
      "source": [
        "# 어느 나라 언어인지 탐지해주는 코드\n",
        "\n",
        "from googletrans import Translator\n",
        "\n",
        "translator = Translator()\n",
        "\n",
        "# sentence = \"안녕하세요 코드라이언입니다.\"\n",
        "sentence = input(\"언어를 감지할 문장을 입력해주세요 : \")\n",
        "detected = translator.detect(sentence)\n",
        "\n",
        "print(detected.lang)"
      ],
      "metadata": {
        "id": "f2Y1Owq20btb"
      },
      "execution_count": null,
      "outputs": []
    },
    {
      "cell_type": "code",
      "source": [
        "from googletrans import Translator\n",
        "\n",
        "translator = Translator()\n",
        "\n",
        "sentence = \"안녕하세요 코드라이언입니다.\"\n",
        "# sentence = input(\"언어를 감지할 문장을 입력해주세요 : \")\n",
        "\n",
        "# translate에는 언어 감지가 포함되어있음\n",
        "# translator.translate(번역할것, 번역할 언어)\n",
        "\n",
        "result = translator.translate(sentence,'en')\n",
        "detected = translator.detect(sentence)\n"
      ],
      "metadata": {
        "id": "BxczQbyi19IY"
      },
      "execution_count": null,
      "outputs": []
    },
    {
      "cell_type": "code",
      "source": [
        "# 깔끔하게 다듬기\n",
        "\n",
        "from googletrans import Translator\n",
        "\n",
        "translator = Translator()\n",
        "\n",
        "sentence = \"안녕하세요 코드라이언입니다.\"\n",
        "# sentence = input(\"언어를 감지할 문장을 입력해주세요 : \")\n",
        "\n",
        "result = translator.translate(sentence,'en')\n",
        "detected = translator.detect(sentence)\n",
        "\n",
        "print(\"===========출 력 결 과===========\")\n",
        "print(detected.lang,\":\",sentence)\n",
        "print(result.dest,\":\",result.text)\n",
        "print(\"=================================\")"
      ],
      "metadata": {
        "id": "4kZCjhdy2qDe"
      },
      "execution_count": null,
      "outputs": []
    },
    {
      "cell_type": "code",
      "source": [
        "# 입력을 받아 번역하는 코드\n",
        "\n",
        "translator = Translator()\n",
        "\n",
        "# sentence = \"안녕하세요 코드라이언입니다.\"\n",
        "sentence = input(\"번역을 원하는 문장을 입력해주세요 : \")\n",
        "dest = input(\"어떤 언어로 번역을 원하시나요?\")\n",
        "\n",
        "result = translator.translate(sentence,)\n",
        "detected = translator.detect(sentence)\n",
        "\n",
        "print(\"===========출 력 결 과===========\")\n",
        "print(detected.lang,\":\",sentence)\n",
        "print(result.dest,\":\",result.text)\n",
        "print(\"=================================\")"
      ],
      "metadata": {
        "id": "GwQ6qyVS3OTH"
      },
      "execution_count": null,
      "outputs": []
    },
    {
      "cell_type": "markdown",
      "source": [
        "# 메일 보내는 코드"
      ],
      "metadata": {
        "id": "HQspWXNj3lkH"
      }
    },
    {
      "cell_type": "code",
      "source": [
        "# smtp : 메일을 보내도록 하는 방식\n",
        "# smtp 서버에 연결\n",
        "import smtplib\n",
        "\n",
        "SMTP_SERVER = \"smtp.gmail.com\"\n",
        "SMTP_PORT = 465  # 구글의 고유 코드번호\n",
        "\n",
        "smtp = smtplib.SMTP_SSL(SMTP_SERVER,SMTP_PORT)\n",
        "# 보안이 걸려있을 경우 SMTP가 아닌 SMTP_SSL 사용해야됨\n",
        "print(smtp)"
      ],
      "metadata": {
        "id": "molB2l7v3oYQ"
      },
      "execution_count": null,
      "outputs": []
    },
    {
      "cell_type": "code",
      "source": [
        "# 로그인\n",
        "\n",
        "import smtplib\n",
        "\n",
        "SMTP_SERVER = \"smtp.gmail.com\"\n",
        "SMTP_PORT = 465\n",
        "\n",
        "smtp = smtplib.SMTP_SSL(SMTP_SERVER,SMTP_PORT)\n",
        "print(smtp.login(\"###@gmail.com\",\"######\")) # (자신의 구글 아이디, 패스워드)\n"
      ],
      "metadata": {
        "id": "KFl9MOXK-FaA"
      },
      "execution_count": null,
      "outputs": []
    },
    {
      "cell_type": "code",
      "source": [
        "# MIME : 우리의 메세지 SMTP가 알아들을 수 있도록 하는 것\n",
        "\n",
        "import smtplib\n",
        "from email.message import EmailMessage\n",
        "\n",
        "SMTP_SERVER = \"smtp.gmail.com\"\n",
        "SMTP_PORT = 465\n",
        "\n",
        "message = EmailMessage()\n",
        "message.set_content(\"코드라이언 수업중입니다.\")\n",
        "\n",
        "message[\"Subject\"] = \"이것은 제목입니다.\"\n",
        "message[\"From\"] = \"###@gmail.com\"\n",
        "message[\"To\"] = \"###@gmail.com\"\n",
        "\n",
        "smtp = smtplib.SMTP_SSL(SMTP_SERVER,SMTP_PORT)\n",
        "smtp.login(\"###@gmail.com\",\"######\")\n",
        "smtp.send_message(message)\n",
        "smtp.quit()"
      ],
      "metadata": {
        "id": "KJ4JCYNu-yZ_"
      },
      "execution_count": null,
      "outputs": []
    },
    {
      "cell_type": "code",
      "source": [
        "# 메일에 사진 첨부하기\n",
        "\n",
        "import smtplib\n",
        "from email.message import EmailMessage\n",
        "import imghdr\n",
        "\n",
        "SMTP_SERVER = \"smtp.gmail.com\"\n",
        "SMTP_PORT = 465\n",
        "\n",
        "message = EmailMessage()\n",
        "message.set_content(\"코드라이언 수업중입니다.\")\n",
        "\n",
        "message[\"Subject\"] = \"이것은 제목입니다.\"\n",
        "message[\"From\"] = \"###@gmail.com\"\n",
        "message[\"To\"] = \"###@gmail.com\"\n",
        "\n",
        "with open(\"codelion.png\",\"rb\") as image:\n",
        "    image_file = image.read()\n",
        "\n",
        "image_type = imghdr.what('codelion',image_file)\n",
        "message.add_attachment(image_file,maintype='image',subtype=image_type)\n",
        "\n",
        "smtp = smtplib.SMTP_SSL(SMTP_SERVER,SMTP_PORT)\n",
        "smtp.login(\"###@gmail.com\",\"######\")\n",
        "smtp.send_message(message)\n",
        "smtp.quit()"
      ],
      "metadata": {
        "id": "741ALWg3B1AW"
      },
      "execution_count": null,
      "outputs": []
    },
    {
      "cell_type": "code",
      "source": [
        "# 이메일 주소의 유효성 검사하기\n",
        "# 정규표현식 이용\n",
        "\n",
        "import smtplib\n",
        "from email.message import EmailMessage\n",
        "import imghdr\n",
        "import re\n",
        "\n",
        "SMTP_SERVER = \"smtp.gmail.com\"\n",
        "SMTP_PORT = 465\n",
        "\n",
        "def sendEmail(addr):\n",
        "    reg = \"^[a-zA-Z0-9.+_-]+@[a-zA-Z0-9]+\\.[a-zA-Z]{2,3}$\"\n",
        "    if bool(re.match(reg,addr)):\n",
        "        smtp.send_message(message)\n",
        "        print(\"정상적으로 메일이 발송되었습니다.\")\n",
        "    else:\n",
        "        print(\"유효한 이메일 주소가 아닙니다.\")\n",
        "\n",
        "message = EmailMessage()\n",
        "message.set_content(\"코드라이언 수업중입니다.\")\n",
        "\n",
        "message[\"Subject\"] = \"이것은 제목입니다.\"\n",
        "message[\"From\"] = \"###@gmail.com\"\n",
        "message[\"To\"] = \"###@gmail.com\"\n",
        "\n",
        "with open(\"codelion.png\",\"rb\") as image:\n",
        "    image_file = image.read()\n",
        "\n",
        "image_type = imghdr.what('codelion',image_file)\n",
        "message.add_attachment(image_file,maintype='image',subtype=image_type)\n",
        "\n",
        "smtp = smtplib.SMTP_SSL(SMTP_SERVER,SMTP_PORT)\n",
        "smtp.login(\"###@gmail.com\",\"######\")\n",
        "# 메일을 보내는 sendEmail 함수를 호출해서 실행해보기\n",
        "sendEmail(\"###gmailcom\")\n",
        "smtp.quit()"
      ],
      "metadata": {
        "id": "EvCOY-LUEEE9"
      },
      "execution_count": null,
      "outputs": []
    }
  ]
}