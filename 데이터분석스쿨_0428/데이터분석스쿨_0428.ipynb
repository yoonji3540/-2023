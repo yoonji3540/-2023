{
  "nbformat": 4,
  "nbformat_minor": 0,
  "metadata": {
    "colab": {
      "provenance": []
    },
    "kernelspec": {
      "name": "python3",
      "display_name": "Python 3"
    },
    "language_info": {
      "name": "python"
    }
  },
  "cells": [
    {
      "cell_type": "markdown",
      "source": [
        "## 함수\n",
        "\n"
      ],
      "metadata": {
        "id": "fSGSPUQVUwNr"
      }
    },
    {
      "cell_type": "code",
      "source": [
        "def 부지매입():\n",
        "    pass\n",
        "\n",
        "def 설계도면작성():\n",
        "    pass\n",
        "\n",
        "def 인력모집():\n",
        "    pass\n",
        "\n",
        "def 벽돌쌓기():\n",
        "    pass\n",
        "\n",
        "def 지붕올리기():\n",
        "    pass\n",
        "\n",
        "부지매입()\n",
        "설계도면작성()\n",
        "인력모집()\n",
        "벽돌쌓기()\n",
        "지붕올리기()"
      ],
      "metadata": {
        "id": "ePYqv87iU58s"
      },
      "execution_count": null,
      "outputs": []
    },
    {
      "cell_type": "code",
      "source": [
        "# 파선아실 (파라미터는 선언할 때 아규먼트는 실행할 때)\n",
        "\n",
        "def function(x, y):\n",
        "    z = x + y\n",
        "    return z  # return은 생략 가능\n",
        "print(f'function(5, 7) = {function(5, 7)}')"
      ],
      "metadata": {
        "colab": {
          "base_uri": "https://localhost:8080/"
        },
        "id": "ctzL373fVPGo",
        "outputId": "284b008e-9fad-4544-eb71-a06ed93de3c6"
      },
      "execution_count": null,
      "outputs": [
        {
          "output_type": "stream",
          "name": "stdout",
          "text": [
            "function(5, 7) = 12\n"
          ]
        }
      ]
    },
    {
      "cell_type": "code",
      "source": [
        "def function(x,y): #Input\n",
        "    z = x + y      #Function\n",
        "    print(z)       #Output?\n",
        "print(\"function(5,7) = \", function(5,7))"
      ],
      "metadata": {
        "colab": {
          "base_uri": "https://localhost:8080/"
        },
        "id": "MkmlxYx7Z5-7",
        "outputId": "01bdf0f6-6964-45c0-c1bd-01dad4007ac1"
      },
      "execution_count": null,
      "outputs": [
        {
          "output_type": "stream",
          "name": "stdout",
          "text": [
            "12\n",
            "function(5,7) =  None\n"
          ]
        }
      ]
    },
    {
      "cell_type": "code",
      "source": [
        "def function(x, y):\n",
        "    print('hello')\n",
        "    print('hello')\n",
        "    print('hello')\n",
        "    print('hello')\n",
        "    return x + y\n",
        "\n",
        "x = function(1, 1)\n",
        "print(x + x)"
      ],
      "metadata": {
        "colab": {
          "base_uri": "https://localhost:8080/"
        },
        "id": "hpSGXuZOYVli",
        "outputId": "a4d9d8b9-88ca-42a1-8425-c18ede8258ce"
      },
      "execution_count": null,
      "outputs": [
        {
          "output_type": "stream",
          "name": "stdout",
          "text": [
            "hello\n",
            "hello\n",
            "hello\n",
            "hello\n",
            "4\n"
          ]
        }
      ]
    },
    {
      "cell_type": "code",
      "source": [
        "def function1(x):\n",
        "    print('world1')\n",
        "    print('world2')\n",
        "    print('world3')\n",
        "    return x + x\n",
        "\n",
        "def function2(x, y):\n",
        "    print('hello1')\n",
        "    print('hello2')\n",
        "    z = function1(10)\n",
        "    return x + y + z\n",
        "\n",
        "a = function1(1)\n",
        "b = function2(3, 4)\n",
        "print(a, b)"
      ],
      "metadata": {
        "colab": {
          "base_uri": "https://localhost:8080/"
        },
        "id": "tRBz2xPHgQsg",
        "outputId": "66410bf7-3d31-4a13-9804-538388613e0c"
      },
      "execution_count": null,
      "outputs": [
        {
          "output_type": "stream",
          "name": "stdout",
          "text": [
            "world1\n",
            "world2\n",
            "world3\n",
            "hello1\n",
            "hello2\n",
            "world1\n",
            "world2\n",
            "world3\n",
            "2 27\n"
          ]
        }
      ]
    },
    {
      "cell_type": "code",
      "source": [
        "# 함수 안에 있는 변수나 함수는 함수가 끝나면 휘발됩니다. \n",
        "# 메모리에서 사라져요.\n",
        "def f2(x, y):\n",
        "    def f1(x):\n",
        "        print('world1')\n",
        "        return x + x\n",
        "    print('hello1')\n",
        "    z = f1(10)\n",
        "    return x + y + z\n",
        "\n",
        "# a = f1(1) # 함수 안에 있는 함수는 밖에서 호출할 수 있지 않습니다.\n",
        "b = f2(3, 4)\n",
        "print(b)\n",
        "\n",
        "# print(z) # 함수가 끝났기 때문에 x, y, z에 접근할 수 없습니다."
      ],
      "metadata": {
        "colab": {
          "base_uri": "https://localhost:8080/"
        },
        "id": "ccJTVtQAiHsB",
        "outputId": "3c460348-8868-40b7-d674-9f92b2a239f5"
      },
      "execution_count": null,
      "outputs": [
        {
          "output_type": "stream",
          "name": "stdout",
          "text": [
            "hello1\n",
            "world1\n",
            "27\n"
          ]
        }
      ]
    },
    {
      "cell_type": "code",
      "source": [
        "# 1\n",
        "x = 100\n",
        "def plusX(x):\n",
        "    x = x + 100\n",
        "    return x\n",
        "\n",
        "print(plusX(10))"
      ],
      "metadata": {
        "colab": {
          "base_uri": "https://localhost:8080/"
        },
        "id": "tPxlCbt8n186",
        "outputId": "959303be-3e24-44e7-9a97-48016efa87c0"
      },
      "execution_count": 9,
      "outputs": [
        {
          "output_type": "stream",
          "name": "stdout",
          "text": [
            "110\n"
          ]
        }
      ]
    },
    {
      "cell_type": "code",
      "source": [
        "# 2\n",
        "x = 100\n",
        "def plusX(z):\n",
        "    z = z + x\n",
        "    return z\n",
        "\n",
        "print(plusX(10))"
      ],
      "metadata": {
        "colab": {
          "base_uri": "https://localhost:8080/"
        },
        "id": "RBm_KpCun4gm",
        "outputId": "38e232a1-127b-4049-9ee7-1ce766023861"
      },
      "execution_count": 10,
      "outputs": [
        {
          "output_type": "stream",
          "name": "stdout",
          "text": [
            "110\n"
          ]
        }
      ]
    },
    {
      "cell_type": "code",
      "source": [
        "# 3\n",
        "# 문제가 생기는 코드\n",
        "x = 100\n",
        "def plusX(z):\n",
        "    x = z + x\n",
        "    return z\n",
        "\n",
        "print(plusX(10))"
      ],
      "metadata": {
        "colab": {
          "base_uri": "https://localhost:8080/",
          "height": 336
        },
        "id": "jImvSxEVn6IT",
        "outputId": "ce6f22df-948f-40ac-af1a-c569921a05bf"
      },
      "execution_count": 11,
      "outputs": [
        {
          "output_type": "error",
          "ename": "UnboundLocalError",
          "evalue": "ignored",
          "traceback": [
            "\u001b[0;31m---------------------------------------------------------------------------\u001b[0m",
            "\u001b[0;31mUnboundLocalError\u001b[0m                         Traceback (most recent call last)",
            "\u001b[0;32m<ipython-input-11-b0ee77f1b37d>\u001b[0m in \u001b[0;36m<cell line: 8>\u001b[0;34m()\u001b[0m\n\u001b[1;32m      6\u001b[0m     \u001b[0;32mreturn\u001b[0m \u001b[0mz\u001b[0m\u001b[0;34m\u001b[0m\u001b[0;34m\u001b[0m\u001b[0m\n\u001b[1;32m      7\u001b[0m \u001b[0;34m\u001b[0m\u001b[0m\n\u001b[0;32m----> 8\u001b[0;31m \u001b[0mprint\u001b[0m\u001b[0;34m(\u001b[0m\u001b[0mplusX\u001b[0m\u001b[0;34m(\u001b[0m\u001b[0;36m10\u001b[0m\u001b[0;34m)\u001b[0m\u001b[0;34m)\u001b[0m\u001b[0;34m\u001b[0m\u001b[0;34m\u001b[0m\u001b[0m\n\u001b[0m",
            "\u001b[0;32m<ipython-input-11-b0ee77f1b37d>\u001b[0m in \u001b[0;36mplusX\u001b[0;34m(z)\u001b[0m\n\u001b[1;32m      3\u001b[0m \u001b[0mx\u001b[0m \u001b[0;34m=\u001b[0m \u001b[0;36m100\u001b[0m\u001b[0;34m\u001b[0m\u001b[0;34m\u001b[0m\u001b[0m\n\u001b[1;32m      4\u001b[0m \u001b[0;32mdef\u001b[0m \u001b[0mplusX\u001b[0m\u001b[0;34m(\u001b[0m\u001b[0mz\u001b[0m\u001b[0;34m)\u001b[0m\u001b[0;34m:\u001b[0m\u001b[0;34m\u001b[0m\u001b[0;34m\u001b[0m\u001b[0m\n\u001b[0;32m----> 5\u001b[0;31m     \u001b[0mx\u001b[0m \u001b[0;34m=\u001b[0m \u001b[0mz\u001b[0m \u001b[0;34m+\u001b[0m \u001b[0mx\u001b[0m\u001b[0;34m\u001b[0m\u001b[0;34m\u001b[0m\u001b[0m\n\u001b[0m\u001b[1;32m      6\u001b[0m     \u001b[0;32mreturn\u001b[0m \u001b[0mz\u001b[0m\u001b[0;34m\u001b[0m\u001b[0;34m\u001b[0m\u001b[0m\n\u001b[1;32m      7\u001b[0m \u001b[0;34m\u001b[0m\u001b[0m\n",
            "\u001b[0;31mUnboundLocalError\u001b[0m: local variable 'x' referenced before assignment"
          ]
        }
      ]
    },
    {
      "cell_type": "code",
      "source": [
        "# 4\n",
        "# 문제가 생기지 않는 코드\n",
        "x = 100\n",
        "def plusX(z):\n",
        "    global x # 권하지 않습니다.\n",
        "    x = z + x\n",
        "    return z\n",
        "\n",
        "print(plusX(10))\n",
        "x"
      ],
      "metadata": {
        "colab": {
          "base_uri": "https://localhost:8080/"
        },
        "id": "Y63SDel3n8vY",
        "outputId": "9a5df579-5e59-4ad3-f0b9-3920a19f8720"
      },
      "execution_count": 12,
      "outputs": [
        {
          "output_type": "stream",
          "name": "stdout",
          "text": [
            "10\n"
          ]
        },
        {
          "output_type": "execute_result",
          "data": {
            "text/plain": [
              "110"
            ]
          },
          "metadata": {},
          "execution_count": 12
        }
      ]
    },
    {
      "cell_type": "code",
      "source": [
        "# 5\n",
        "x = 100\n",
        "def plusX(x):\n",
        "    return x + 10\n",
        "\n",
        "x = plusX(x)"
      ],
      "metadata": {
        "id": "Mmt_yl94n_Xb"
      },
      "execution_count": 13,
      "outputs": []
    },
    {
      "cell_type": "code",
      "source": [
        "x = 100\n",
        "def plusX(z):\n",
        "  # v가 x를 가리키게 되었기 때문에 수정할 수 있는 권한이 들어오지 않았을까?\n",
        "  # No\n",
        "  v = x\n",
        "  x = z + x\n",
        "  return z\n",
        "\n",
        "plusX(10)"
      ],
      "metadata": {
        "id": "ljkJS6H6qDg-"
      },
      "execution_count": null,
      "outputs": []
    },
    {
      "cell_type": "markdown",
      "source": [
        "## 재귀함수"
      ],
      "metadata": {
        "id": "p5dln-Jsq8tm"
      }
    },
    {
      "cell_type": "code",
      "source": [
        "#  효율도 매우 좋지 않습니다. 다만 메모라이징 기법을 사용하면 좋긴합니다.\n",
        "#  대부분의 코드는 for로 대체할 수 있습니다.\n",
        "#  다이나믹 프로그래밍 등 필수적으로 사용되는 곳이 있습니다."
      ],
      "metadata": {
        "id": "qw7jMqd7rA0W"
      },
      "execution_count": null,
      "outputs": []
    },
    {
      "cell_type": "code",
      "source": [
        "def factorial(n):\n",
        "    if n == 1:\n",
        "        return n\n",
        "    return n * factorial(n-1)\n",
        "\n",
        "factorial(5)\n",
        "\n",
        "#                 return 값\n",
        "# factorial(5) == 5 * factorial(4) == 5 * 24\n",
        "# factorial(4) == 4 * factorial(3) == 4 * 6\n",
        "# factorial(3) == 3 * factorial(2) == 3 * 2\n",
        "# factorial(2) == 2 * factorial(1) == 2 * 1\n",
        "# factorial(1) == 1"
      ],
      "metadata": {
        "colab": {
          "base_uri": "https://localhost:8080/"
        },
        "id": "6sc_vSTGtqH0",
        "outputId": "6e17b4ad-78e3-4ea2-c9fa-4093630cf79a"
      },
      "execution_count": 14,
      "outputs": [
        {
          "output_type": "execute_result",
          "data": {
            "text/plain": [
              "120"
            ]
          },
          "metadata": {},
          "execution_count": 14
        }
      ]
    },
    {
      "cell_type": "code",
      "source": [
        "result = 1\n",
        "for i in range(1, 6):\n",
        "    result *= i\n",
        "\n",
        "result"
      ],
      "metadata": {
        "colab": {
          "base_uri": "https://localhost:8080/"
        },
        "id": "HbAWUhLNt2Ym",
        "outputId": "7806b36a-4fa3-4ef1-d9cc-588b01d5f630"
      },
      "execution_count": 15,
      "outputs": [
        {
          "output_type": "execute_result",
          "data": {
            "text/plain": [
              "120"
            ]
          },
          "metadata": {},
          "execution_count": 15
        }
      ]
    },
    {
      "cell_type": "code",
      "source": [
        "def string_reverse(s):\n",
        "    if len(s) == 1:\n",
        "        return s\n",
        "    return string_reverse(s[1:]) + s[0]\n",
        "\n",
        "string_reverse('hello')\n",
        "\n",
        "# string_reverse('hello') == string_reverse('ello') + 'h' == 'olle' + 'h' == 'olleh'\n",
        "# string_reverse('ello') == string_reverse('llo') + 'e' == 'oll' + 'e' == 'olle'\n",
        "# string_reverse('llo') == string_reverse('lo') + 'l' == 'ol' + 'l' == 'oll'\n",
        "# string_reverse('lo') == string_reverse('o') + 'l' == 'o' + 'l' == 'ol'\n",
        "# string_reverse('o') == 'o'"
      ],
      "metadata": {
        "colab": {
          "base_uri": "https://localhost:8080/",
          "height": 35
        },
        "id": "qLI8coa4DWEw",
        "outputId": "d2c24112-8af6-4014-ef70-4441f1a753b3"
      },
      "execution_count": 16,
      "outputs": [
        {
          "output_type": "execute_result",
          "data": {
            "text/plain": [
              "'olleh'"
            ],
            "application/vnd.google.colaboratory.intrinsic+json": {
              "type": "string"
            }
          },
          "metadata": {},
          "execution_count": 16
        }
      ]
    },
    {
      "cell_type": "code",
      "source": [
        "a = 'pithon'\n",
        "\n",
        "def 함수1():\n",
        "    def 함수2():\n",
        "        print('love')\n",
        "        \n",
        "    print('I')\n",
        "    함수2()\n",
        "    return \"python\"\n",
        "\t\n",
        "\n",
        "a = 함수1()\n",
        "print(a)"
      ],
      "metadata": {
        "colab": {
          "base_uri": "https://localhost:8080/"
        },
        "id": "AiwbXneeH_fd",
        "outputId": "34c42f97-b6a2-49a1-91b0-4c50c774543e"
      },
      "execution_count": 19,
      "outputs": [
        {
          "output_type": "stream",
          "name": "stdout",
          "text": [
            "I\n",
            "love\n",
            "python\n"
          ]
        }
      ]
    },
    {
      "cell_type": "code",
      "source": [
        "def plus(num1, num2):\n",
        "    return num1 + num2\n",
        "\n",
        "def minus(num1, num2):\n",
        "    return num1 - num2\n",
        "\n",
        "def multiply(num1, num2):\n",
        "    return num1 * num2\n",
        "\n",
        "def divide(num1, num2):\n",
        "    return num1 / num2\n",
        "\n",
        "print(f'plus : {plus(10, 5)}')\n",
        "print(f'minus : {minus(10, 5)}')\n",
        "print(f'multiply : {multiply(10, 5)}')\n",
        "print(f'divide : {divide(10, 5)}')"
      ],
      "metadata": {
        "colab": {
          "base_uri": "https://localhost:8080/"
        },
        "id": "Hd7Jsl7QGtEj",
        "outputId": "a371b4cd-0cd8-492d-a2c0-1b3ec52248c0"
      },
      "execution_count": 20,
      "outputs": [
        {
          "output_type": "stream",
          "name": "stdout",
          "text": [
            "plus : 15\n",
            "minus : 5\n",
            "multiply : 50\n",
            "divide : 2.0\n"
          ]
        }
      ]
    },
    {
      "cell_type": "code",
      "source": [
        "plus = lambda x, y: x + y\n",
        "minus = lambda x, y: x - y\n",
        "multiply = lambda x, y: x * y\n",
        "divide = lambda x, y: x / y\n",
        "\n",
        "print(f'plus : {plus(10, 5)}')\n",
        "print(f'minus : {minus(10, 5)}')\n",
        "print(f'multiply : {multiply(10, 5)}')\n",
        "print(f'divide : {divide(10, 5)}')"
      ],
      "metadata": {
        "colab": {
          "base_uri": "https://localhost:8080/"
        },
        "id": "BCjsluT6LyiK",
        "outputId": "016a64f7-943c-4188-d508-71573527aa5c"
      },
      "execution_count": 21,
      "outputs": [
        {
          "output_type": "stream",
          "name": "stdout",
          "text": [
            "plus : 15\n",
            "minus : 5\n",
            "multiply : 50\n",
            "divide : 2.0\n"
          ]
        }
      ]
    },
    {
      "cell_type": "code",
      "source": [
        "def plus(num1, num2):\n",
        "    try:\n",
        "        result = int(num1) + int(num2)\n",
        "        return result\n",
        "    except:\n",
        "        return '연산할 수 없습니다.'\n",
        "\n",
        "print(f'plus : {plus(10, 5)}')\n",
        "print(f'plus : {plus(\"10\", \"5\")}')\n",
        "print(f'plus : {plus(\"10\", 5)}')\n",
        "print(f'plus : {plus(10, \"5\")}')\n",
        "print(f'plus : {plus(\"abc\", 5)}')\n",
        "print(f'plus : {plus(10, \"abc\")}')"
      ],
      "metadata": {
        "id": "_QoJ-wBjLIm8"
      },
      "execution_count": null,
      "outputs": []
    },
    {
      "cell_type": "code",
      "source": [
        "float(\"inf\") > 1000000000000000000000 # float(\"inf\") : 양의 무한대"
      ],
      "metadata": {
        "id": "94PPyyLBLcGm"
      },
      "execution_count": null,
      "outputs": []
    },
    {
      "cell_type": "code",
      "source": [
        "# factory 함수\n",
        "# 클로저\n",
        "def factory(x):\n",
        "    def 승수(n):\n",
        "        return x ** n\n",
        "    return 승수\n",
        "\n",
        "제곱3 = factory(3)\n",
        "\n",
        "# 실제 제곱3는 아래와 같습니다.\n",
        "# def 승수(n):\n",
        "#     return 3 ** n\n",
        "\n",
        "제곱4 = factory(4)\n",
        "\n",
        "제곱3(2)\n",
        "제곱3(3)\n",
        "제곱4(2)\n",
        "제곱4(3)"
      ],
      "metadata": {
        "colab": {
          "base_uri": "https://localhost:8080/"
        },
        "id": "IHuwqBF2RCej",
        "outputId": "e81a6729-5e6b-4362-cf4c-6e27f8b98e80"
      },
      "execution_count": 24,
      "outputs": [
        {
          "output_type": "execute_result",
          "data": {
            "text/plain": [
              "64"
            ]
          },
          "metadata": {},
          "execution_count": 24
        }
      ]
    },
    {
      "cell_type": "markdown",
      "source": [
        "## 리스트\n",
        "\n",
        "* 순서가 있는 데이터입니다.\n",
        "* 값의 수정이 가능합니다.\n"
      ],
      "metadata": {
        "id": "y0tz1h0PSrix"
      }
    },
    {
      "cell_type": "code",
      "source": [
        "ㅣ = [10, 20, 30, 40]"
      ],
      "metadata": {
        "id": "ff8QmDQNTIzp"
      },
      "execution_count": 25,
      "outputs": []
    },
    {
      "cell_type": "code",
      "source": [
        "ㅣ[0]"
      ],
      "metadata": {
        "colab": {
          "base_uri": "https://localhost:8080/"
        },
        "id": "e1_y7XJ2TNdY",
        "outputId": "5051cd39-3a6f-46de-b4a4-d317eed109d3"
      },
      "execution_count": 26,
      "outputs": [
        {
          "output_type": "execute_result",
          "data": {
            "text/plain": [
              "10"
            ]
          },
          "metadata": {},
          "execution_count": 26
        }
      ]
    },
    {
      "cell_type": "code",
      "source": [
        "ㅣ[0] = 10000\n",
        "ㅣ  # mutable한 객체 (수정가능한 객체)  <-> immutable한 객체 (문자열)"
      ],
      "metadata": {
        "colab": {
          "base_uri": "https://localhost:8080/"
        },
        "id": "pO35q4S6TOrY",
        "outputId": "f715f334-fcef-4f52-e983-7556912c83cf"
      },
      "execution_count": 27,
      "outputs": [
        {
          "output_type": "execute_result",
          "data": {
            "text/plain": [
              "[10000, 20, 30, 40]"
            ]
          },
          "metadata": {},
          "execution_count": 27
        }
      ]
    },
    {
      "cell_type": "code",
      "source": [
        "data = [[1, 2, 3],\n",
        "        [4, 5, 6],\n",
        "        [7, 8, 9]]\n",
        "\n",
        "data"
      ],
      "metadata": {
        "colab": {
          "base_uri": "https://localhost:8080/"
        },
        "id": "S_BNe3HCTdJe",
        "outputId": "32392bf8-89af-4a1b-8b9a-1cb183c9d643"
      },
      "execution_count": 28,
      "outputs": [
        {
          "output_type": "execute_result",
          "data": {
            "text/plain": [
              "[[1, 2, 3], [4, 5, 6], [7, 8, 9]]"
            ]
          },
          "metadata": {},
          "execution_count": 28
        }
      ]
    },
    {
      "cell_type": "code",
      "source": [
        "for i in range(len(data)):\n",
        "    for j in range(len(data[1])):\n",
        "        data[i][j] *= 2\n",
        "\n",
        "data"
      ],
      "metadata": {
        "colab": {
          "base_uri": "https://localhost:8080/"
        },
        "id": "I36nnQKXUIUE",
        "outputId": "76680425-5019-4f2d-ec6b-4189a44e29a6"
      },
      "execution_count": 29,
      "outputs": [
        {
          "output_type": "execute_result",
          "data": {
            "text/plain": [
              "[[2, 4, 6], [8, 10, 12], [14, 16, 18]]"
            ]
          },
          "metadata": {},
          "execution_count": 29
        }
      ]
    },
    {
      "cell_type": "code",
      "source": [
        "data = [[1, 2, 3],\n",
        "        [4, 5, 6],\n",
        "        [7, 8, 9]]\n",
        "\n",
        "data[0][0] = data[0][0] * 2\n",
        "data[0][1] = data[0][1] * 2\n",
        "data[0][2] = data[0][2] * 2\n",
        "data[1][0] = data[1][0] * 2\n",
        "data[1][1] = data[1][1] * 2\n",
        "data[1][2] = data[1][2] * 2\n",
        "data[2][0] = data[2][0] * 2\n",
        "data[2][1] = data[2][1] * 2\n",
        "data[2][2] = data[2][2] * 2\n",
        "data"
      ],
      "metadata": {
        "colab": {
          "base_uri": "https://localhost:8080/"
        },
        "id": "7HcVffy8UKZy",
        "outputId": "45be92db-3aeb-4c84-93c7-d64399e2f7c4"
      },
      "execution_count": 34,
      "outputs": [
        {
          "output_type": "execute_result",
          "data": {
            "text/plain": [
              "[[2, 4, 6], [8, 10, 12], [14, 16, 18]]"
            ]
          },
          "metadata": {},
          "execution_count": 34
        }
      ]
    },
    {
      "cell_type": "code",
      "source": [
        "# data[start:stop:step]\n",
        "data = [10, 20, 30, 40, 50, 60, 70]\n",
        "data[1:-1]\n",
        "data[:] # 매우 중요!"
      ],
      "metadata": {
        "colab": {
          "base_uri": "https://localhost:8080/"
        },
        "id": "-B37OfDRWB-i",
        "outputId": "66099bbf-c289-4678-d586-4c96035c8091"
      },
      "execution_count": 36,
      "outputs": [
        {
          "output_type": "execute_result",
          "data": {
            "text/plain": [
              "[10, 20, 30, 40, 50, 60, 70]"
            ]
          },
          "metadata": {},
          "execution_count": 36
        }
      ]
    },
    {
      "cell_type": "code",
      "source": [
        "data = [10, 20, 30, 40, 50, 60, 70]\n",
        "data2 = data\n",
        "data2[0] = 100\n",
        "data2, data"
      ],
      "metadata": {
        "colab": {
          "base_uri": "https://localhost:8080/"
        },
        "id": "oTr9pTxGX6hm",
        "outputId": "e57640fd-83e1-4e30-e2cc-0235884beb8c"
      },
      "execution_count": 37,
      "outputs": [
        {
          "output_type": "execute_result",
          "data": {
            "text/plain": [
              "([100, 20, 30, 40, 50, 60, 70], [100, 20, 30, 40, 50, 60, 70])"
            ]
          },
          "metadata": {},
          "execution_count": 37
        }
      ]
    },
    {
      "cell_type": "code",
      "source": [
        "data = [10, 20, 30, 40, 50, 60, 70]\n",
        "data2 = data[:] # data가 변하지 않음\n",
        "data2[0] = 100\n",
        "data2, data"
      ],
      "metadata": {
        "colab": {
          "base_uri": "https://localhost:8080/"
        },
        "id": "szFCSWwBX7Ah",
        "outputId": "f9e295b8-57ea-4fd7-8db2-e46e57d6212e"
      },
      "execution_count": 38,
      "outputs": [
        {
          "output_type": "execute_result",
          "data": {
            "text/plain": [
              "([100, 20, 30, 40, 50, 60, 70], [10, 20, 30, 40, 50, 60, 70])"
            ]
          },
          "metadata": {},
          "execution_count": 38
        }
      ]
    },
    {
      "cell_type": "code",
      "source": [
        "l = [10, 20, 30, 40, 50]\n",
        "type(l), dir(l)"
      ],
      "metadata": {
        "colab": {
          "base_uri": "https://localhost:8080/"
        },
        "id": "GKq9LE_OZaLK",
        "outputId": "f9e12e5d-7c1a-4f16-825f-003b9700aa6d"
      },
      "execution_count": 39,
      "outputs": [
        {
          "output_type": "execute_result",
          "data": {
            "text/plain": [
              "(list,\n",
              " ['__add__',\n",
              "  '__class__',\n",
              "  '__class_getitem__',\n",
              "  '__contains__',\n",
              "  '__delattr__',\n",
              "  '__delitem__',\n",
              "  '__dir__',\n",
              "  '__doc__',\n",
              "  '__eq__',\n",
              "  '__format__',\n",
              "  '__ge__',\n",
              "  '__getattribute__',\n",
              "  '__getitem__',\n",
              "  '__gt__',\n",
              "  '__hash__',\n",
              "  '__iadd__',\n",
              "  '__imul__',\n",
              "  '__init__',\n",
              "  '__init_subclass__',\n",
              "  '__iter__',\n",
              "  '__le__',\n",
              "  '__len__',\n",
              "  '__lt__',\n",
              "  '__mul__',\n",
              "  '__ne__',\n",
              "  '__new__',\n",
              "  '__reduce__',\n",
              "  '__reduce_ex__',\n",
              "  '__repr__',\n",
              "  '__reversed__',\n",
              "  '__rmul__',\n",
              "  '__setattr__',\n",
              "  '__setitem__',\n",
              "  '__sizeof__',\n",
              "  '__str__',\n",
              "  '__subclasshook__',\n",
              "  'append',\n",
              "  'clear',\n",
              "  'copy',\n",
              "  'count',\n",
              "  'extend',\n",
              "  'index',\n",
              "  'insert',\n",
              "  'pop',\n",
              "  'remove',\n",
              "  'reverse',\n",
              "  'sort'])"
            ]
          },
          "metadata": {},
          "execution_count": 39
        }
      ]
    },
    {
      "cell_type": "code",
      "source": [
        "l = [10, 20, 30, 40]\n",
        "l.append(50)    # 맨 뒤에 추가\n",
        "l"
      ],
      "metadata": {
        "colab": {
          "base_uri": "https://localhost:8080/"
        },
        "id": "3u0I1yYWZhgW",
        "outputId": "04de8664-9054-49d3-8056-e63727b8efe2"
      },
      "execution_count": 41,
      "outputs": [
        {
          "output_type": "execute_result",
          "data": {
            "text/plain": [
              "[10, 20, 30, 40, 50]"
            ]
          },
          "metadata": {},
          "execution_count": 41
        }
      ]
    },
    {
      "cell_type": "code",
      "source": [
        "l = [10, 20, 30, 40]\n",
        "l.pop()    # 맨 뒤에 삭제\n",
        "l"
      ],
      "metadata": {
        "colab": {
          "base_uri": "https://localhost:8080/"
        },
        "id": "lnZ4aCQkZ1xC",
        "outputId": "8ea7d089-8bd0-4b8c-adc9-f1e66da19f54"
      },
      "execution_count": 43,
      "outputs": [
        {
          "output_type": "execute_result",
          "data": {
            "text/plain": [
              "[10, 20, 30]"
            ]
          },
          "metadata": {},
          "execution_count": 43
        }
      ]
    },
    {
      "cell_type": "code",
      "source": [
        "l = [10, 20, 30, 40]\n",
        "l.pop(0)    # 맨 앞에 삭제\n",
        "l"
      ],
      "metadata": {
        "colab": {
          "base_uri": "https://localhost:8080/"
        },
        "id": "Pl12FWzXaBpB",
        "outputId": "a0d353db-5fd3-4edd-8d54-eab699bd6d88"
      },
      "execution_count": 45,
      "outputs": [
        {
          "output_type": "execute_result",
          "data": {
            "text/plain": [
              "[20, 30, 40]"
            ]
          },
          "metadata": {},
          "execution_count": 45
        }
      ]
    },
    {
      "cell_type": "code",
      "source": [
        "l = [10, 20, 30, 40]\n",
        "l.clear()    # 삭제\n",
        "l"
      ],
      "metadata": {
        "colab": {
          "base_uri": "https://localhost:8080/"
        },
        "id": "lsnLWUT_aFug",
        "outputId": "e39f327f-8377-43c6-f1ef-1f03e0229b8d"
      },
      "execution_count": 47,
      "outputs": [
        {
          "output_type": "execute_result",
          "data": {
            "text/plain": [
              "[]"
            ]
          },
          "metadata": {},
          "execution_count": 47
        }
      ]
    },
    {
      "cell_type": "code",
      "source": [
        "l = [10, 20, 30, 40]\n",
        "data = l.copy()\n",
        "data[0] = 1000\n",
        "l, data"
      ],
      "metadata": {
        "colab": {
          "base_uri": "https://localhost:8080/"
        },
        "id": "grqVZBtoabiJ",
        "outputId": "a39e8233-0848-4991-fe59-b3a36bde15aa"
      },
      "execution_count": 48,
      "outputs": [
        {
          "output_type": "execute_result",
          "data": {
            "text/plain": [
              "([10, 20, 30, 40], [1000, 20, 30, 40])"
            ]
          },
          "metadata": {},
          "execution_count": 48
        }
      ]
    },
    {
      "cell_type": "code",
      "source": [
        "l = [10, 20, 30, 40]\n",
        "data = l\n",
        "data[0] = 1000\n",
        "l, data"
      ],
      "metadata": {
        "colab": {
          "base_uri": "https://localhost:8080/"
        },
        "id": "6CmDtzIdacDV",
        "outputId": "4d05f08f-50e6-4169-8583-80da17048128"
      },
      "execution_count": 50,
      "outputs": [
        {
          "output_type": "execute_result",
          "data": {
            "text/plain": [
              "([1000, 20, 30, 40], [1000, 20, 30, 40])"
            ]
          },
          "metadata": {},
          "execution_count": 50
        }
      ]
    },
    {
      "cell_type": "code",
      "source": [
        "l = [10, 20, 30, 40, 10, 10, 10]\n",
        "l.count(10)"
      ],
      "metadata": {
        "colab": {
          "base_uri": "https://localhost:8080/"
        },
        "id": "uIGkv7QCdiXf",
        "outputId": "045b37b1-f92c-4f57-933a-df53868f9f50"
      },
      "execution_count": 51,
      "outputs": [
        {
          "output_type": "execute_result",
          "data": {
            "text/plain": [
              "4"
            ]
          },
          "metadata": {},
          "execution_count": 51
        }
      ]
    },
    {
      "cell_type": "code",
      "source": [
        "l = [10, 20, 30, 40, 10, 10, 10]\n",
        "l.extend([1, 2, 3, 4, 5])\n",
        "l"
      ],
      "metadata": {
        "colab": {
          "base_uri": "https://localhost:8080/"
        },
        "id": "axHpzjMedqoj",
        "outputId": "d2c02167-0377-45af-fd7e-6e2eb6de481a"
      },
      "execution_count": 52,
      "outputs": [
        {
          "output_type": "execute_result",
          "data": {
            "text/plain": [
              "[10, 20, 30, 40, 10, 10, 10, 1, 2, 3, 4, 5]"
            ]
          },
          "metadata": {},
          "execution_count": 52
        }
      ]
    },
    {
      "cell_type": "code",
      "source": [
        "l = [10, 20, 30, 40, 10, 10, 10]\n",
        "l.append([1, 2, 3, 4, 5])\n",
        "l"
      ],
      "metadata": {
        "colab": {
          "base_uri": "https://localhost:8080/"
        },
        "id": "UzMkHl-HdyUr",
        "outputId": "b66f7713-2601-450b-c331-18fc0687e65f"
      },
      "execution_count": 53,
      "outputs": [
        {
          "output_type": "execute_result",
          "data": {
            "text/plain": [
              "[10, 20, 30, 40, 10, 10, 10, [1, 2, 3, 4, 5]]"
            ]
          },
          "metadata": {},
          "execution_count": 53
        }
      ]
    },
    {
      "cell_type": "code",
      "source": [
        "# 실무에서 많이 사용하는 코드입니다.\n",
        "# 어떤 값을 찾아내거나, 조건에 맞는 코드를 추출할 때 사용\n",
        "def 함수(x):\n",
        "    return x != 10\n",
        "\n",
        "l = [10, 20, 10000, 30, 40, 10, 10, 10]\n",
        "list(filter(함수, l))"
      ],
      "metadata": {
        "colab": {
          "base_uri": "https://localhost:8080/"
        },
        "id": "W58uJYW1ffh1",
        "outputId": "4b08b9a9-a84f-493c-890f-d174cb3a5009"
      },
      "execution_count": 54,
      "outputs": [
        {
          "output_type": "execute_result",
          "data": {
            "text/plain": [
              "[20, 10000, 30, 40]"
            ]
          },
          "metadata": {},
          "execution_count": 54
        }
      ]
    },
    {
      "cell_type": "code",
      "source": [
        "l = [10, 20, 10000, 30, 40, 10, 10, 10]\n",
        "list(filter(lambda x: x != 10, l))"
      ],
      "metadata": {
        "colab": {
          "base_uri": "https://localhost:8080/"
        },
        "id": "0IHzV8q8f4pd",
        "outputId": "f1c525ab-149a-4394-b2f3-fcdcf687d6ed"
      },
      "execution_count": 55,
      "outputs": [
        {
          "output_type": "execute_result",
          "data": {
            "text/plain": [
              "[20, 10000, 30, 40]"
            ]
          },
          "metadata": {},
          "execution_count": 55
        }
      ]
    },
    {
      "cell_type": "code",
      "source": [
        "l = [10, 20, 30, 10, 20, 30, 1, 2, 55, 11]\n",
        "l.reverse()    # l을 직접 만집니다.\n",
        "l"
      ],
      "metadata": {
        "colab": {
          "base_uri": "https://localhost:8080/"
        },
        "id": "SRDbDzlWhGe-",
        "outputId": "a98e731c-b3a4-4cbc-9246-a931b5148816"
      },
      "execution_count": 56,
      "outputs": [
        {
          "output_type": "execute_result",
          "data": {
            "text/plain": [
              "[11, 55, 2, 1, 30, 20, 10, 30, 20, 10]"
            ]
          },
          "metadata": {},
          "execution_count": 56
        }
      ]
    },
    {
      "cell_type": "code",
      "source": [
        "l = [10, 20, 30, 10, 20, 30, 1, 2, 55, 11]\n",
        "print(list(reversed(l))) # l을 직접 만지지 않습니다.\n",
        "print(l)"
      ],
      "metadata": {
        "colab": {
          "base_uri": "https://localhost:8080/"
        },
        "id": "BDVacU1lhVx8",
        "outputId": "866db579-773a-4345-d5c2-74420046a59a"
      },
      "execution_count": 58,
      "outputs": [
        {
          "output_type": "stream",
          "name": "stdout",
          "text": [
            "[11, 55, 2, 1, 30, 20, 10, 30, 20, 10]\n",
            "[10, 20, 30, 10, 20, 30, 1, 2, 55, 11]\n"
          ]
        }
      ]
    },
    {
      "cell_type": "code",
      "source": [
        "l = [10, 20, 30, 10, 20, 30, 1, 2, 55, 11]\n",
        "print(list(sorted(l))) # l을 직접 만지지 않습니다.\n",
        "print(l)"
      ],
      "metadata": {
        "colab": {
          "base_uri": "https://localhost:8080/"
        },
        "id": "adZ8oEdHiGpt",
        "outputId": "fa683ca2-b74e-482a-ec74-223c2105fed6"
      },
      "execution_count": 59,
      "outputs": [
        {
          "output_type": "stream",
          "name": "stdout",
          "text": [
            "[1, 2, 10, 10, 11, 20, 20, 30, 30, 55]\n",
            "[10, 20, 30, 10, 20, 30, 1, 2, 55, 11]\n"
          ]
        }
      ]
    },
    {
      "cell_type": "code",
      "source": [
        "l = [10, 20, 30, 10, 20, 30, 1, 2, 55, 11]\n",
        "print(list(sorted(l, reverse=True)))   #내림차순"
      ],
      "metadata": {
        "colab": {
          "base_uri": "https://localhost:8080/"
        },
        "id": "u-ZtxOkriQ4t",
        "outputId": "056d9d9b-d734-4a46-ab7d-0ae799cbc401"
      },
      "execution_count": 61,
      "outputs": [
        {
          "output_type": "stream",
          "name": "stdout",
          "text": [
            "[55, 30, 30, 20, 20, 11, 10, 10, 2, 1]\n"
          ]
        }
      ]
    },
    {
      "cell_type": "code",
      "source": [
        "l = [[1, 10, 'leehojun'], \n",
        "     [20, 30, 'hojun'], \n",
        "     [10, 20, 'weniv'], \n",
        "     [1, 2, 'likelion'], \n",
        "     [55, 11, 'sun']]\n",
        "\n",
        "# 1. 글자 수 대로 정렬해주세요.\n",
        "def 함수(x):\n",
        "    return len(x[2])\n",
        "\n",
        "print(list(sorted(l, key=함수)))\n",
        "\n",
        "# 2. 맨 앞에 위치한 숫자대로 정렬해주세요.\n",
        "\n",
        "print(list(sorted(l)))\n",
        "\n",
        "def 함수2(x):\n",
        "    return x[0]\n",
        "\n",
        "print(list(sorted(l, key=함수2)))\n",
        "\n",
        "# 3. 중앙에 위치한 값대로 정렬해주세요.\n",
        "def 함수3(x):\n",
        "    return x[1]\n",
        "\n",
        "print(list(sorted(l)))\n",
        "print(list(sorted(l, key=함수3)))\n"
      ],
      "metadata": {
        "colab": {
          "base_uri": "https://localhost:8080/"
        },
        "id": "8UywZM0YinYk",
        "outputId": "b777313b-bd05-43c1-e027-19ebc3b5e1ca"
      },
      "execution_count": 62,
      "outputs": [
        {
          "output_type": "stream",
          "name": "stdout",
          "text": [
            "[[55, 11, 'sun'], [20, 30, 'hojun'], [10, 20, 'weniv'], [1, 10, 'leehojun'], [1, 2, 'likelion']]\n",
            "[[1, 2, 'likelion'], [1, 10, 'leehojun'], [10, 20, 'weniv'], [20, 30, 'hojun'], [55, 11, 'sun']]\n",
            "[[1, 10, 'leehojun'], [1, 2, 'likelion'], [10, 20, 'weniv'], [20, 30, 'hojun'], [55, 11, 'sun']]\n",
            "[[1, 2, 'likelion'], [1, 10, 'leehojun'], [10, 20, 'weniv'], [20, 30, 'hojun'], [55, 11, 'sun']]\n",
            "[[1, 2, 'likelion'], [1, 10, 'leehojun'], [55, 11, 'sun'], [10, 20, 'weniv'], [20, 30, 'hojun']]\n"
          ]
        }
      ]
    }
  ]
}