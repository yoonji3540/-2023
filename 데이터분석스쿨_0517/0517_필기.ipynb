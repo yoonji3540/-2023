{
  "nbformat": 4,
  "nbformat_minor": 0,
  "metadata": {
    "colab": {
      "provenance": []
    },
    "kernelspec": {
      "name": "python3",
      "display_name": "Python 3"
    },
    "language_info": {
      "name": "python"
    }
  },
  "cells": [
    {
      "cell_type": "code",
      "execution_count": null,
      "metadata": {
        "id": "OXl9-u6UHU8c"
      },
      "outputs": [],
      "source": [
        "# 1. 내가 이용하고 있는 서비스(이름, 웹서비스, ChatGPT)는? 주로 사용하는 3가지\n",
        "# 나는 어떤 데이터를 제공하고, 그 데이터를 어떻게 활용할까?\n",
        "\n",
        "# 인스타그램\n",
        "# 유튜브\n",
        "# 카카오톡"
      ]
    },
    {
      "cell_type": "code",
      "source": [
        "# 데이터 분석 팀 리더라고 할 때\n",
        "# 어떤 질문으로 더 고도화 할 수 있을까?"
      ],
      "metadata": {
        "id": "_EMsR6hLQRov"
      },
      "execution_count": null,
      "outputs": []
    },
    {
      "cell_type": "code",
      "source": [
        "# 데이터를 가지고 어떻게 수익화(적자, 투자, 유료, 무료)를 실현하고 있고,\n",
        "# 뉴스 기사등을 통해 이들의 상황이 어떤지에 대해서 파악해보세요(여론, 반응)"
      ],
      "metadata": {
        "id": "OvfHOzAtRpL3"
      },
      "execution_count": null,
      "outputs": []
    },
    {
      "cell_type": "code",
      "source": [
        "# 1. 여러분들이 쿠팡/네이버 등에서 상품을 추천받았을 때의 기분은 어떠한지? 사고싶은지 어떤지?\n",
        "# 그렇게 추천받아서 사본적은 있는지? 왜 반응하고, 왜 반응하지 않는지? 개선 부분 추가\n",
        "\n",
        "# 2. 여러분들이 전화마케팅이나 문자서비스를 받았을때의 기분은 어떤지?\n",
        "# 응답하고 싶은지? 어떻게 하면 더 효율적으로 할 수 있을지? 개선 부분 추가"
      ],
      "metadata": {
        "id": "RgXOB8-Kd0ei"
      },
      "execution_count": null,
      "outputs": []
    },
    {
      "cell_type": "code",
      "source": [
        "# 고객은 어디있는가?\n",
        "# 여러분들은 단골손님에 가까운지? 아니면 1회성 손님인지?\n",
        "# 나와 비슷한 특성의 데이터를 가진 사람들을 찾으려면 어디에 가면 만날 수 있는지"
      ],
      "metadata": {
        "id": "OR64va1Z7iN4"
      },
      "execution_count": null,
      "outputs": []
    },
    {
      "cell_type": "code",
      "source": [
        "# 집값 예측 데이터가 있을 때 데이터를 활용하여 \n",
        "\n",
        "# 1. 어떻게 분석할 것인지? 예측 / 데시보드 / EDA / -> 분석에 도움이 될까? 실제 활용 가능할까?\n",
        "\n",
        "# 2. 왜 그렇게 분석하려 했는지?\n",
        "\n",
        "# 3. 결론을 어떻게 지을 것인지? 어떤 인사이트를 줄것인지?\n",
        "\n",
        "# 4. 더 필요한 데이터는 없는지? 추가하고 싶은 데이터는? 그 데이터의 용도는? "
      ],
      "metadata": {
        "id": "ZnhNbPiJJsT6"
      },
      "execution_count": null,
      "outputs": []
    }
  ]
}