{
  "nbformat": 4,
  "nbformat_minor": 0,
  "metadata": {
    "colab": {
      "provenance": []
    },
    "kernelspec": {
      "name": "python3",
      "display_name": "Python 3"
    },
    "language_info": {
      "name": "python"
    }
  },
  "cells": [
    {
      "cell_type": "markdown",
      "source": [
        "# 문자열 밀기"
      ],
      "metadata": {
        "id": "ynd8WUBGkynx"
      }
    },
    {
      "cell_type": "code",
      "execution_count": 4,
      "metadata": {
        "colab": {
          "base_uri": "https://localhost:8080/"
        },
        "id": "3qcb3Y5oh8s3",
        "outputId": "55a00e55-c849-4582-aaea-0e8b42ffd54b"
      },
      "outputs": [
        {
          "output_type": "execute_result",
          "data": {
            "text/plain": [
              "deque(['l', 'o', 'h', 'e', 'l'])"
            ]
          },
          "metadata": {},
          "execution_count": 4
        }
      ],
      "source": [
        "import collections\n",
        "\n",
        "test = collections.deque('hello')\n",
        "test.rotate(2)\n",
        "test"
      ]
    },
    {
      "cell_type": "code",
      "source": [
        "''.join(test)"
      ],
      "metadata": {
        "colab": {
          "base_uri": "https://localhost:8080/",
          "height": 35
        },
        "id": "CzEbWVJNikC0",
        "outputId": "f3fea727-c771-4d12-bc98-ed071bc76e03"
      },
      "execution_count": 5,
      "outputs": [
        {
          "output_type": "execute_result",
          "data": {
            "text/plain": [
              "'lohel'"
            ],
            "application/vnd.google.colaboratory.intrinsic+json": {
              "type": "string"
            }
          },
          "metadata": {},
          "execution_count": 5
        }
      ]
    },
    {
      "cell_type": "code",
      "source": [
        "import collections\n",
        "\n",
        "collections.Counter('aaaaaabbbcccccccddef')"
      ],
      "metadata": {
        "colab": {
          "base_uri": "https://localhost:8080/"
        },
        "id": "kB9jR4aIjgBS",
        "outputId": "a014ec92-5831-425a-ac07-456a36324fdc"
      },
      "execution_count": 6,
      "outputs": [
        {
          "output_type": "execute_result",
          "data": {
            "text/plain": [
              "Counter({'a': 6, 'b': 3, 'c': 7, 'd': 2, 'e': 1, 'f': 1})"
            ]
          },
          "metadata": {},
          "execution_count": 6
        }
      ]
    },
    {
      "cell_type": "code",
      "source": [
        "# 문자열 밀기\n",
        "\n",
        "import collections\n",
        "def solution(A,B):\n",
        "  if A == B:\n",
        "    return 0\n",
        "  비교  = collections.deque(A)\n",
        "  for i in range(len(A)):\n",
        "    비교.rotate(1)\n",
        "    if ''.join(비교) == B:\n",
        "      return i+1\n",
        "\n",
        "  return -1"
      ],
      "metadata": {
        "id": "hIf6o5JLjoEr"
      },
      "execution_count": 7,
      "outputs": []
    },
    {
      "cell_type": "code",
      "source": [
        "# 문자열 밀기\n",
        "\n",
        "def solution(A,B):\n",
        " return  (B * 2).find(A)\n",
        "\n",
        "#  find 함수는 찾는 것이 없으면 -1을 반환한다"
      ],
      "metadata": {
        "id": "okg0_OGDlR_u"
      },
      "execution_count": 8,
      "outputs": []
    },
    {
      "cell_type": "markdown",
      "source": [
        "# 머쓱이보다 키 큰 사람"
      ],
      "metadata": {
        "id": "wY6tShScm1Au"
      }
    },
    {
      "cell_type": "code",
      "source": [
        "# filter 사용하여 풀기\n",
        "\n",
        "def solution(array, height):\n",
        "    return len(list(filter(lambda x : x > height, array)))"
      ],
      "metadata": {
        "id": "FO2aS-L1nFaa"
      },
      "execution_count": 9,
      "outputs": []
    },
    {
      "cell_type": "code",
      "source": [
        "# 일반적인 풀이\n",
        "\n",
        "def solution(array, height):\n",
        "    count = 0\n",
        "    for i in array:\n",
        "        if i > height:\n",
        "            count += 1\n",
        "    return count"
      ],
      "metadata": {
        "id": "AjMs7U9vnepB"
      },
      "execution_count": null,
      "outputs": []
    },
    {
      "cell_type": "markdown",
      "source": [
        "# 저주의 숫자 3"
      ],
      "metadata": {
        "id": "R5cBEUjeoRKr"
      }
    },
    {
      "cell_type": "code",
      "source": [
        "def solution(n):\n",
        "  return filter(lambda x : '3' not in str(x),filter(lambda x : x % 3 != 0 ,range(101)))[n-1]"
      ],
      "metadata": {
        "id": "m2PmvmBRpT7t"
      },
      "execution_count": 11,
      "outputs": []
    },
    {
      "cell_type": "code",
      "source": [
        "a = filter(lambda x : x % 3 != 0, range(100))\n",
        "b = filter(lambda x : '3' not in str(x), a)\n",
        "c = list(b)"
      ],
      "metadata": {
        "id": "DN1blJecssY8"
      },
      "execution_count": 12,
      "outputs": []
    },
    {
      "cell_type": "code",
      "source": [
        "def solution(n):\n",
        "    result = []\n",
        "    for i in range(1000):\n",
        "        if i % 3 != 0 and '3' not in str(i):\n",
        "            result.append(i)\n",
        "    return result[n-1]"
      ],
      "metadata": {
        "id": "XDL1KLBatGvc"
      },
      "execution_count": 19,
      "outputs": []
    },
    {
      "cell_type": "markdown",
      "source": [
        "# 정규표현식 맛보기"
      ],
      "metadata": {
        "id": "pk6-YBY0wEES"
      }
    },
    {
      "cell_type": "code",
      "source": [
        "import re\n",
        "\n",
        "re.findall(r'[0-9]',r'1S2D*3T')\n",
        "\n",
        "#['10', '2', '3']을 출력하고 싶다면?\n",
        "re.findall(r'[0-9]|10',r'10S2D*3T') # 1이 이미 매핑 되어서 원하는 결과가 안나옴\n",
        "re.findall(r'(10|[0-9])([SDT])([*#]?)',r'10S2D*3T') # ?는 앞에 문자가 0개 혹은 1 개 있다는 뜻"
      ],
      "metadata": {
        "colab": {
          "base_uri": "https://localhost:8080/"
        },
        "id": "APJkoB0UwHHE",
        "outputId": "e6edb0e8-b43d-4ee5-f2ac-0626ea4a04d9"
      },
      "execution_count": 25,
      "outputs": [
        {
          "output_type": "execute_result",
          "data": {
            "text/plain": [
              "[('10', 'S', ''), ('2', 'D', '*'), ('3', 'T', '')]"
            ]
          },
          "metadata": {},
          "execution_count": 25
        }
      ]
    },
    {
      "cell_type": "code",
      "source": [
        "# 'a10b9r1ce33uab8wc918v2cv11v9'\n",
        "\n",
        "import re\n",
        "\n",
        "re.findall(r'([rev])(10|[0-9])', r'a10b9r1ce33uab8wc918v2cv11v9')"
      ],
      "metadata": {
        "colab": {
          "base_uri": "https://localhost:8080/"
        },
        "id": "rQdcWXi-zK4C",
        "outputId": "61758873-a0d5-494a-edc9-97f6057b9b2c"
      },
      "execution_count": 27,
      "outputs": [
        {
          "output_type": "execute_result",
          "data": {
            "text/plain": [
              "[('r', '1'), ('e', '3'), ('v', '2'), ('v', '1'), ('v', '9')]"
            ]
          },
          "metadata": {},
          "execution_count": 27
        }
      ]
    },
    {
      "cell_type": "markdown",
      "source": [
        "# 숨어있는 숫자의 덧셈 "
      ],
      "metadata": {
        "id": "vGHNYFVlzsPq"
      }
    },
    {
      "cell_type": "code",
      "source": [
        "import re\n",
        "\n",
        "re.findall(r'[0-9]', r'aAb1B2cC34oOp')\n",
        "re.sub(r'[^0-9]','', r'aAb1B2cC34oOp') # 0 - 9 까지 숫자가 아닌 것은 모두 제거하라\n"
      ],
      "metadata": {
        "colab": {
          "base_uri": "https://localhost:8080/",
          "height": 35
        },
        "id": "LPSGP3uf0H8A",
        "outputId": "52c8fc8a-23af-4b85-c82d-182677a84fe4"
      },
      "execution_count": 29,
      "outputs": [
        {
          "output_type": "execute_result",
          "data": {
            "text/plain": [
              "'1234'"
            ],
            "application/vnd.google.colaboratory.intrinsic+json": {
              "type": "string"
            }
          },
          "metadata": {},
          "execution_count": 29
        }
      ]
    },
    {
      "cell_type": "code",
      "source": [
        "def solution(my_string):\n",
        "    return sum(int(i) for i in re.sub('[^1-9]', '', my_string))"
      ],
      "metadata": {
        "id": "t09RkW_d1ArQ"
      },
      "execution_count": null,
      "outputs": []
    },
    {
      "cell_type": "markdown",
      "source": [
        "# 진료 순서 정하기\n"
      ],
      "metadata": {
        "id": "nFxGMA4j1pGw"
      }
    },
    {
      "cell_type": "code",
      "source": [
        "# [3, 76, 24] -> [3, 1, 2]\n",
        "# step1: [3, 76, 24]를 내림차순으로 정렬\n",
        "# step2: [76, 24, 3]을 얻어낸 상태에서 [3, 76, 24] 순회 돌기\n",
        "# step3: [3, 76, 24]를 순회 돌면서 [76, 24, 3]에서 몇 번째 있는지 찾아내기. 찾아내서 index에 +!\n",
        "# step4: +1한 데이터로 새로운 list만들기"
      ],
      "metadata": {
        "id": "R2dJhE9B1tGa"
      },
      "execution_count": null,
      "outputs": []
    },
    {
      "cell_type": "code",
      "source": [
        "# step1\n",
        "원본 = [3, 76, 24]\n",
        "a = sorted(원본, reverse=True)\n",
        "\n",
        "# step2\n",
        "[a.index(i) for i in 원본]\n",
        "[a.index(i)+1 for i in 원본]"
      ],
      "metadata": {
        "colab": {
          "base_uri": "https://localhost:8080/"
        },
        "id": "GjqCCuv-3I-N",
        "outputId": "93994ad7-6fe4-4593-90e7-ea0f2347127c"
      },
      "execution_count": 31,
      "outputs": [
        {
          "output_type": "execute_result",
          "data": {
            "text/plain": [
              "[3, 1, 2]"
            ]
          },
          "metadata": {},
          "execution_count": 31
        }
      ]
    },
    {
      "cell_type": "code",
      "source": [
        "def solution(emergency):\n",
        "    sorted_emergency = sorted(emergency, reverse = True)\n",
        "    answer = [sorted_emergency.index(i)+1 for i in emergency]\n",
        "    return answer"
      ],
      "metadata": {
        "id": "hWpGQs7XO_K1"
      },
      "execution_count": 34,
      "outputs": []
    },
    {
      "cell_type": "code",
      "source": [
        "def solution(emergency):\n",
        "    num_dict = {value: i+1 for i, value in enumerate(sorted(emergency, reverse=True))}\n",
        "    result = [num_dict[value] for value in emergency]\n",
        "    return result"
      ],
      "metadata": {
        "id": "QKU4T_MC3sjI"
      },
      "execution_count": 32,
      "outputs": []
    },
    {
      "cell_type": "code",
      "source": [],
      "metadata": {
        "id": "BBuYEBToO90p"
      },
      "execution_count": null,
      "outputs": []
    }
  ]
}