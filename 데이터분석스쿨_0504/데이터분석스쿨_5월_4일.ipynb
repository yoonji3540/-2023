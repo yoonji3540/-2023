{
  "nbformat": 4,
  "nbformat_minor": 0,
  "metadata": {
    "colab": {
      "provenance": []
    },
    "kernelspec": {
      "name": "python3",
      "display_name": "Python 3"
    },
    "language_info": {
      "name": "python"
    }
  },
  "cells": [
    {
      "cell_type": "code",
      "source": [
        "# 5월 4일\n",
        "# 파이썬 기초 복습\n",
        "# 연습문제 풀이"
      ],
      "metadata": {
        "id": "x_2JJM8YmER6"
      },
      "execution_count": null,
      "outputs": []
    },
    {
      "cell_type": "code",
      "execution_count": 2,
      "metadata": {
        "colab": {
          "base_uri": "https://localhost:8080/"
        },
        "id": "VTT8ity1fyXy",
        "outputId": "c68381c4-cca3-44f3-e4ff-162d9ada38d6"
      },
      "outputs": [
        {
          "output_type": "stream",
          "name": "stdout",
          "text": [
            "{'철수': 25, '영희': 27}\n"
          ]
        }
      ],
      "source": [
        "name = {\"길동\" : 20, \"철수\" : 25, \"영희\" : 27}\n",
        "del name[\"길동\"]\n",
        "print(name)"
      ]
    },
    {
      "cell_type": "code",
      "source": [
        "name = {\"길동\" : 20, \"철수\" : 25, \"영희\" : 27}\n",
        "name[\"철수\"] = 27\n",
        "print(name)"
      ],
      "metadata": {
        "colab": {
          "base_uri": "https://localhost:8080/"
        },
        "id": "8ACi6VY-gCQG",
        "outputId": "4fc99df7-2659-4ea8-9fea-d1455ee84736"
      },
      "execution_count": 3,
      "outputs": [
        {
          "output_type": "stream",
          "name": "stdout",
          "text": [
            "{'길동': 20, '철수': 27, '영희': 27}\n"
          ]
        }
      ]
    },
    {
      "cell_type": "code",
      "source": [
        "for i in range(9) :\n",
        "\tprint(i)"
      ],
      "metadata": {
        "colab": {
          "base_uri": "https://localhost:8080/"
        },
        "id": "WcNeRbXUgZOc",
        "outputId": "7ee157ac-ebc4-4463-a4ff-7a90c32e29fe"
      },
      "execution_count": 4,
      "outputs": [
        {
          "output_type": "stream",
          "name": "stdout",
          "text": [
            "0\n",
            "1\n",
            "2\n",
            "3\n",
            "4\n",
            "5\n",
            "6\n",
            "7\n",
            "8\n"
          ]
        }
      ]
    },
    {
      "cell_type": "code",
      "source": [
        "# *****\n",
        "# *****\n",
        "# *****\n",
        "# *****\n",
        "# ***** 의 출력이 나오게 하기\n",
        "\n",
        "for i in range(5):\n",
        "  print('*' * 5)\n"
      ],
      "metadata": {
        "colab": {
          "base_uri": "https://localhost:8080/"
        },
        "id": "Trh8GPd2mQkr",
        "outputId": "00ce78cd-616e-4295-aa46-9bf85f73de2f"
      },
      "execution_count": 7,
      "outputs": [
        {
          "output_type": "stream",
          "name": "stdout",
          "text": [
            "*****\n",
            "*****\n",
            "*****\n",
            "*****\n",
            "*****\n"
          ]
        }
      ]
    },
    {
      "cell_type": "code",
      "source": [
        "# *\n",
        "# **\n",
        "# ***\n",
        "# ****\n",
        "# ***** 의 출력이 나오게 하기\n",
        "\n",
        "for i in range(5):\n",
        "  print('*' * (i+1))"
      ],
      "metadata": {
        "colab": {
          "base_uri": "https://localhost:8080/"
        },
        "id": "yYtJ9BQ7m8Lq",
        "outputId": "99c67864-b61d-4c6a-8160-9b18902d16d9"
      },
      "execution_count": 8,
      "outputs": [
        {
          "output_type": "stream",
          "name": "stdout",
          "text": [
            "*\n",
            "**\n",
            "***\n",
            "****\n",
            "*****\n"
          ]
        }
      ]
    },
    {
      "cell_type": "code",
      "source": [
        "# 정수 x를 입력받을 때 내림 차순으로 결과가 출력되게 하기\n",
        "# 예시; x = 5\n",
        "# 5\n",
        "# 4\n",
        "# 3\n",
        "# 2\n",
        "# 1\n",
        "\n",
        "x = int(input('정수를 입력하세요'))\n",
        "for i in range(x,0,-1):\n",
        "  print(i)"
      ],
      "metadata": {
        "colab": {
          "base_uri": "https://localhost:8080/"
        },
        "id": "-9H8iQvBqBYS",
        "outputId": "a21d04db-290b-46a2-bb38-182d1d2b71f9"
      },
      "execution_count": 3,
      "outputs": [
        {
          "output_type": "stream",
          "name": "stdout",
          "text": [
            "정수를 입력하세요13\n",
            "13\n",
            "12\n",
            "11\n",
            "10\n",
            "9\n",
            "8\n",
            "7\n",
            "6\n",
            "5\n",
            "4\n",
            "3\n",
            "2\n",
            "1\n"
          ]
        }
      ]
    },
    {
      "cell_type": "code",
      "source": [
        "# x 이하의 정수를 출력하는데 10개씩 줄바꿈을 하여 출력되게 하기\n",
        "# 예시: x = 30\n",
        "# 1 2 3 4 5 6 7 8 9 10\n",
        "# 11 12 13 14 15 16 17 18 19 20\n",
        "# 21 22 23 24 25 26 27 29 29 30\n",
        "\n",
        "\n",
        "x = int(input('정수를 입력하여 주세요'))\n",
        "for i in range(x):\n",
        "   if i % 10 == 0:\n",
        "      print()\n",
        "   print(i+1, end=' ')\n",
        "   "
      ],
      "metadata": {
        "colab": {
          "base_uri": "https://localhost:8080/"
        },
        "id": "u0KuTBqVq0Vi",
        "outputId": "acb8d9db-0828-4153-bdde-ca9653a47346"
      },
      "execution_count": 9,
      "outputs": [
        {
          "output_type": "stream",
          "name": "stdout",
          "text": [
            "정수를 입력하여 주세요14\n",
            "\n",
            "1 2 3 4 5 6 7 8 9 10 \n",
            "11 12 13 14 "
          ]
        }
      ]
    }
  ]
}